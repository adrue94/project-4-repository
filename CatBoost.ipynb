{
 "cells": [
  {
   "cell_type": "code",
   "execution_count": 2,
   "metadata": {},
   "outputs": [],
   "source": [
    "import pandas as pd\n",
    "import numpy as np\n",
    "import seaborn as sns\n",
    "import matplotlib.pyplot as plt\n",
    "import os\n",
    "import joypy\n",
    "from pandas.plotting import table \n",
    "from scipy.stats import linregress\n",
    "from scipy.stats import describe\n",
    "from sklearn import datasets\n",
    "import statsmodels.api as sm\n",
    "from sklearn.metrics import precision_score, accuracy_score\n",
    "sns.set_theme(style=\"white\", rc={\"axes.facecolor\": (0, 0, 0, 0)})"
   ]
  },
  {
   "cell_type": "code",
   "execution_count": 3,
   "metadata": {},
   "outputs": [],
   "source": [
    "file = \"/Users/mdcummings/Desktop/Data Analysis/Boot Camp/Project 4/Project 4/Project 4/project-4-repository/Resources/Combined_Flights_2022.csv\""
   ]
  },
  {
   "cell_type": "code",
   "execution_count": 4,
   "metadata": {},
   "outputs": [],
   "source": [
    "df = pd.read_csv(file)\n"
   ]
  },
  {
   "cell_type": "code",
   "execution_count": 5,
   "metadata": {},
   "outputs": [
    {
     "data": {
      "text/plain": [
       "['FlightDate',\n",
       " 'Airline',\n",
       " 'Origin',\n",
       " 'Dest',\n",
       " 'Cancelled',\n",
       " 'Diverted',\n",
       " 'CRSDepTime',\n",
       " 'DepTime',\n",
       " 'DepDelayMinutes',\n",
       " 'DepDelay',\n",
       " 'ArrTime',\n",
       " 'ArrDelayMinutes',\n",
       " 'AirTime',\n",
       " 'CRSElapsedTime',\n",
       " 'ActualElapsedTime',\n",
       " 'Distance',\n",
       " 'Year',\n",
       " 'Quarter',\n",
       " 'Month',\n",
       " 'DayofMonth',\n",
       " 'DayOfWeek',\n",
       " 'Marketing_Airline_Network',\n",
       " 'Operated_or_Branded_Code_Share_Partners',\n",
       " 'DOT_ID_Marketing_Airline',\n",
       " 'IATA_Code_Marketing_Airline',\n",
       " 'Flight_Number_Marketing_Airline',\n",
       " 'Operating_Airline',\n",
       " 'DOT_ID_Operating_Airline',\n",
       " 'IATA_Code_Operating_Airline',\n",
       " 'Tail_Number',\n",
       " 'Flight_Number_Operating_Airline',\n",
       " 'OriginAirportID',\n",
       " 'OriginAirportSeqID',\n",
       " 'OriginCityMarketID',\n",
       " 'OriginCityName',\n",
       " 'OriginState',\n",
       " 'OriginStateFips',\n",
       " 'OriginStateName',\n",
       " 'OriginWac',\n",
       " 'DestAirportID',\n",
       " 'DestAirportSeqID',\n",
       " 'DestCityMarketID',\n",
       " 'DestCityName',\n",
       " 'DestState',\n",
       " 'DestStateFips',\n",
       " 'DestStateName',\n",
       " 'DestWac',\n",
       " 'DepDel15',\n",
       " 'DepartureDelayGroups',\n",
       " 'DepTimeBlk',\n",
       " 'TaxiOut',\n",
       " 'WheelsOff',\n",
       " 'WheelsOn',\n",
       " 'TaxiIn',\n",
       " 'CRSArrTime',\n",
       " 'ArrDelay',\n",
       " 'ArrDel15',\n",
       " 'ArrivalDelayGroups',\n",
       " 'ArrTimeBlk',\n",
       " 'DistanceGroup',\n",
       " 'DivAirportLandings']"
      ]
     },
     "execution_count": 5,
     "metadata": {},
     "output_type": "execute_result"
    }
   ],
   "source": [
    "list(df.head(10))"
   ]
  },
  {
   "cell_type": "code",
   "execution_count": 6,
   "metadata": {},
   "outputs": [
    {
     "data": {
      "text/html": [
       "<div>\n",
       "<style scoped>\n",
       "    .dataframe tbody tr th:only-of-type {\n",
       "        vertical-align: middle;\n",
       "    }\n",
       "\n",
       "    .dataframe tbody tr th {\n",
       "        vertical-align: top;\n",
       "    }\n",
       "\n",
       "    .dataframe thead th {\n",
       "        text-align: right;\n",
       "    }\n",
       "</style>\n",
       "<table border=\"1\" class=\"dataframe\">\n",
       "  <thead>\n",
       "    <tr style=\"text-align: right;\">\n",
       "      <th></th>\n",
       "      <th>FlightDate</th>\n",
       "      <th>Airline</th>\n",
       "      <th>Origin</th>\n",
       "      <th>Dest</th>\n",
       "      <th>Cancelled</th>\n",
       "      <th>Diverted</th>\n",
       "      <th>CRSDepTime</th>\n",
       "      <th>DepTime</th>\n",
       "      <th>DepDelayMinutes</th>\n",
       "      <th>DepDelay</th>\n",
       "      <th>...</th>\n",
       "      <th>WheelsOff</th>\n",
       "      <th>WheelsOn</th>\n",
       "      <th>TaxiIn</th>\n",
       "      <th>CRSArrTime</th>\n",
       "      <th>ArrDelay</th>\n",
       "      <th>ArrDel15</th>\n",
       "      <th>ArrivalDelayGroups</th>\n",
       "      <th>ArrTimeBlk</th>\n",
       "      <th>DistanceGroup</th>\n",
       "      <th>DivAirportLandings</th>\n",
       "    </tr>\n",
       "  </thead>\n",
       "  <tbody>\n",
       "    <tr>\n",
       "      <th>3352803</th>\n",
       "      <td>2022-01-01</td>\n",
       "      <td>SkyWest Airlines Inc.</td>\n",
       "      <td>DEN</td>\n",
       "      <td>LAX</td>\n",
       "      <td>False</td>\n",
       "      <td>False</td>\n",
       "      <td>600</td>\n",
       "      <td>852.0</td>\n",
       "      <td>172.0</td>\n",
       "      <td>172.0</td>\n",
       "      <td>...</td>\n",
       "      <td>942.0</td>\n",
       "      <td>1042.0</td>\n",
       "      <td>7.0</td>\n",
       "      <td>756</td>\n",
       "      <td>173.0</td>\n",
       "      <td>1.0</td>\n",
       "      <td>11.0</td>\n",
       "      <td>0700-0759</td>\n",
       "      <td>4</td>\n",
       "      <td>0</td>\n",
       "    </tr>\n",
       "    <tr>\n",
       "      <th>3084349</th>\n",
       "      <td>2022-01-01</td>\n",
       "      <td>Southwest Airlines Co.</td>\n",
       "      <td>BDL</td>\n",
       "      <td>BNA</td>\n",
       "      <td>False</td>\n",
       "      <td>False</td>\n",
       "      <td>1430</td>\n",
       "      <td>1428.0</td>\n",
       "      <td>0.0</td>\n",
       "      <td>-2.0</td>\n",
       "      <td>...</td>\n",
       "      <td>1438.0</td>\n",
       "      <td>1608.0</td>\n",
       "      <td>10.0</td>\n",
       "      <td>1610</td>\n",
       "      <td>8.0</td>\n",
       "      <td>0.0</td>\n",
       "      <td>0.0</td>\n",
       "      <td>1600-1659</td>\n",
       "      <td>4</td>\n",
       "      <td>0</td>\n",
       "    </tr>\n",
       "    <tr>\n",
       "      <th>3084350</th>\n",
       "      <td>2022-01-01</td>\n",
       "      <td>Southwest Airlines Co.</td>\n",
       "      <td>BDL</td>\n",
       "      <td>BWI</td>\n",
       "      <td>False</td>\n",
       "      <td>False</td>\n",
       "      <td>1235</td>\n",
       "      <td>1313.0</td>\n",
       "      <td>38.0</td>\n",
       "      <td>38.0</td>\n",
       "      <td>...</td>\n",
       "      <td>1324.0</td>\n",
       "      <td>1421.0</td>\n",
       "      <td>5.0</td>\n",
       "      <td>1350</td>\n",
       "      <td>36.0</td>\n",
       "      <td>1.0</td>\n",
       "      <td>2.0</td>\n",
       "      <td>1300-1359</td>\n",
       "      <td>2</td>\n",
       "      <td>0</td>\n",
       "    </tr>\n",
       "    <tr>\n",
       "      <th>3084351</th>\n",
       "      <td>2022-01-01</td>\n",
       "      <td>Southwest Airlines Co.</td>\n",
       "      <td>BDL</td>\n",
       "      <td>BWI</td>\n",
       "      <td>False</td>\n",
       "      <td>False</td>\n",
       "      <td>525</td>\n",
       "      <td>531.0</td>\n",
       "      <td>6.0</td>\n",
       "      <td>6.0</td>\n",
       "      <td>...</td>\n",
       "      <td>541.0</td>\n",
       "      <td>633.0</td>\n",
       "      <td>20.0</td>\n",
       "      <td>645</td>\n",
       "      <td>8.0</td>\n",
       "      <td>0.0</td>\n",
       "      <td>0.0</td>\n",
       "      <td>0600-0659</td>\n",
       "      <td>2</td>\n",
       "      <td>0</td>\n",
       "    </tr>\n",
       "    <tr>\n",
       "      <th>3084352</th>\n",
       "      <td>2022-01-01</td>\n",
       "      <td>Southwest Airlines Co.</td>\n",
       "      <td>BDL</td>\n",
       "      <td>BWI</td>\n",
       "      <td>True</td>\n",
       "      <td>False</td>\n",
       "      <td>1710</td>\n",
       "      <td>NaN</td>\n",
       "      <td>NaN</td>\n",
       "      <td>NaN</td>\n",
       "      <td>...</td>\n",
       "      <td>NaN</td>\n",
       "      <td>NaN</td>\n",
       "      <td>NaN</td>\n",
       "      <td>1830</td>\n",
       "      <td>NaN</td>\n",
       "      <td>NaN</td>\n",
       "      <td>NaN</td>\n",
       "      <td>1800-1859</td>\n",
       "      <td>2</td>\n",
       "      <td>0</td>\n",
       "    </tr>\n",
       "  </tbody>\n",
       "</table>\n",
       "<p>5 rows × 61 columns</p>\n",
       "</div>"
      ],
      "text/plain": [
       "         FlightDate                 Airline Origin Dest  Cancelled  Diverted  \\\n",
       "3352803  2022-01-01   SkyWest Airlines Inc.    DEN  LAX      False     False   \n",
       "3084349  2022-01-01  Southwest Airlines Co.    BDL  BNA      False     False   \n",
       "3084350  2022-01-01  Southwest Airlines Co.    BDL  BWI      False     False   \n",
       "3084351  2022-01-01  Southwest Airlines Co.    BDL  BWI      False     False   \n",
       "3084352  2022-01-01  Southwest Airlines Co.    BDL  BWI       True     False   \n",
       "\n",
       "         CRSDepTime  DepTime  DepDelayMinutes  DepDelay  ...  WheelsOff  \\\n",
       "3352803         600    852.0            172.0     172.0  ...      942.0   \n",
       "3084349        1430   1428.0              0.0      -2.0  ...     1438.0   \n",
       "3084350        1235   1313.0             38.0      38.0  ...     1324.0   \n",
       "3084351         525    531.0              6.0       6.0  ...      541.0   \n",
       "3084352        1710      NaN              NaN       NaN  ...        NaN   \n",
       "\n",
       "         WheelsOn  TaxiIn  CRSArrTime  ArrDelay  ArrDel15  ArrivalDelayGroups  \\\n",
       "3352803    1042.0     7.0         756     173.0       1.0                11.0   \n",
       "3084349    1608.0    10.0        1610       8.0       0.0                 0.0   \n",
       "3084350    1421.0     5.0        1350      36.0       1.0                 2.0   \n",
       "3084351     633.0    20.0         645       8.0       0.0                 0.0   \n",
       "3084352       NaN     NaN        1830       NaN       NaN                 NaN   \n",
       "\n",
       "         ArrTimeBlk  DistanceGroup  DivAirportLandings  \n",
       "3352803   0700-0759              4                   0  \n",
       "3084349   1600-1659              4                   0  \n",
       "3084350   1300-1359              2                   0  \n",
       "3084351   0600-0659              2                   0  \n",
       "3084352   1800-1859              2                   0  \n",
       "\n",
       "[5 rows x 61 columns]"
      ]
     },
     "execution_count": 6,
     "metadata": {},
     "output_type": "execute_result"
    }
   ],
   "source": [
    "#sort values by flight \n",
    "sorted_df = df.sort_values('FlightDate')\n",
    "sorted_df.head(5)"
   ]
  },
  {
   "cell_type": "code",
   "execution_count": 7,
   "metadata": {},
   "outputs": [
    {
     "data": {
      "text/plain": [
       "FlightDate             object\n",
       "Airline                object\n",
       "Origin                 object\n",
       "Dest                   object\n",
       "Cancelled                bool\n",
       "                       ...   \n",
       "ArrDel15              float64\n",
       "ArrivalDelayGroups    float64\n",
       "ArrTimeBlk             object\n",
       "DistanceGroup           int64\n",
       "DivAirportLandings      int64\n",
       "Length: 61, dtype: object"
      ]
     },
     "execution_count": 7,
     "metadata": {},
     "output_type": "execute_result"
    }
   ],
   "source": [
    "# Understand the data types in each column\n",
    "df.dtypes"
   ]
  },
  {
   "cell_type": "code",
   "execution_count": 8,
   "metadata": {},
   "outputs": [
    {
     "data": {
      "text/html": [
       "<div>\n",
       "<style scoped>\n",
       "    .dataframe tbody tr th:only-of-type {\n",
       "        vertical-align: middle;\n",
       "    }\n",
       "\n",
       "    .dataframe tbody tr th {\n",
       "        vertical-align: top;\n",
       "    }\n",
       "\n",
       "    .dataframe thead th {\n",
       "        text-align: right;\n",
       "    }\n",
       "</style>\n",
       "<table border=\"1\" class=\"dataframe\">\n",
       "  <thead>\n",
       "    <tr style=\"text-align: right;\">\n",
       "      <th></th>\n",
       "      <th>CRSDepTime</th>\n",
       "      <th>DepTime</th>\n",
       "      <th>DepDelayMinutes</th>\n",
       "      <th>DepDelay</th>\n",
       "      <th>ArrTime</th>\n",
       "      <th>ArrDelayMinutes</th>\n",
       "      <th>AirTime</th>\n",
       "      <th>CRSElapsedTime</th>\n",
       "      <th>ActualElapsedTime</th>\n",
       "      <th>Distance</th>\n",
       "      <th>...</th>\n",
       "      <th>TaxiOut</th>\n",
       "      <th>WheelsOff</th>\n",
       "      <th>WheelsOn</th>\n",
       "      <th>TaxiIn</th>\n",
       "      <th>CRSArrTime</th>\n",
       "      <th>ArrDelay</th>\n",
       "      <th>ArrDel15</th>\n",
       "      <th>ArrivalDelayGroups</th>\n",
       "      <th>DistanceGroup</th>\n",
       "      <th>DivAirportLandings</th>\n",
       "    </tr>\n",
       "  </thead>\n",
       "  <tbody>\n",
       "    <tr>\n",
       "      <th>count</th>\n",
       "      <td>4.078318e+06</td>\n",
       "      <td>3.957885e+06</td>\n",
       "      <td>3.957823e+06</td>\n",
       "      <td>3.957823e+06</td>\n",
       "      <td>3.954079e+06</td>\n",
       "      <td>3.944916e+06</td>\n",
       "      <td>3.944916e+06</td>\n",
       "      <td>4.078318e+06</td>\n",
       "      <td>3.944916e+06</td>\n",
       "      <td>4.078318e+06</td>\n",
       "      <td>...</td>\n",
       "      <td>3.955652e+06</td>\n",
       "      <td>3.955652e+06</td>\n",
       "      <td>3.954076e+06</td>\n",
       "      <td>3.954076e+06</td>\n",
       "      <td>4.078318e+06</td>\n",
       "      <td>3.944916e+06</td>\n",
       "      <td>3.944916e+06</td>\n",
       "      <td>3.944916e+06</td>\n",
       "      <td>4.078318e+06</td>\n",
       "      <td>4.078318e+06</td>\n",
       "    </tr>\n",
       "    <tr>\n",
       "      <th>mean</th>\n",
       "      <td>1.329587e+03</td>\n",
       "      <td>1.334374e+03</td>\n",
       "      <td>1.601494e+01</td>\n",
       "      <td>1.309049e+01</td>\n",
       "      <td>1.457886e+03</td>\n",
       "      <td>1.578307e+01</td>\n",
       "      <td>1.110075e+02</td>\n",
       "      <td>1.413211e+02</td>\n",
       "      <td>1.358624e+02</td>\n",
       "      <td>7.978657e+02</td>\n",
       "      <td>...</td>\n",
       "      <td>1.697375e+01</td>\n",
       "      <td>1.356576e+03</td>\n",
       "      <td>1.455073e+03</td>\n",
       "      <td>7.894387e+00</td>\n",
       "      <td>1.486058e+03</td>\n",
       "      <td>7.528486e+00</td>\n",
       "      <td>2.164715e-01</td>\n",
       "      <td>-6.256103e-02</td>\n",
       "      <td>3.663516e+00</td>\n",
       "      <td>3.685098e-03</td>\n",
       "    </tr>\n",
       "    <tr>\n",
       "      <th>std</th>\n",
       "      <td>4.904801e+02</td>\n",
       "      <td>5.056219e+02</td>\n",
       "      <td>5.231498e+01</td>\n",
       "      <td>5.332016e+01</td>\n",
       "      <td>5.431841e+02</td>\n",
       "      <td>5.198424e+01</td>\n",
       "      <td>6.996246e+01</td>\n",
       "      <td>7.179635e+01</td>\n",
       "      <td>7.185501e+01</td>\n",
       "      <td>5.914742e+02</td>\n",
       "      <td>...</td>\n",
       "      <td>9.495407e+00</td>\n",
       "      <td>5.075580e+02</td>\n",
       "      <td>5.378428e+02</td>\n",
       "      <td>6.663118e+00</td>\n",
       "      <td>5.185078e+02</td>\n",
       "      <td>5.524625e+01</td>\n",
       "      <td>4.118393e-01</td>\n",
       "      <td>2.487442e+00</td>\n",
       "      <td>2.320848e+00</td>\n",
       "      <td>1.141331e-01</td>\n",
       "    </tr>\n",
       "    <tr>\n",
       "      <th>min</th>\n",
       "      <td>1.000000e+00</td>\n",
       "      <td>1.000000e+00</td>\n",
       "      <td>0.000000e+00</td>\n",
       "      <td>-7.800000e+01</td>\n",
       "      <td>1.000000e+00</td>\n",
       "      <td>0.000000e+00</td>\n",
       "      <td>8.000000e+00</td>\n",
       "      <td>-4.800000e+01</td>\n",
       "      <td>1.400000e+01</td>\n",
       "      <td>3.100000e+01</td>\n",
       "      <td>...</td>\n",
       "      <td>1.000000e+00</td>\n",
       "      <td>1.000000e+00</td>\n",
       "      <td>1.000000e+00</td>\n",
       "      <td>1.000000e+00</td>\n",
       "      <td>1.000000e+00</td>\n",
       "      <td>-1.000000e+02</td>\n",
       "      <td>0.000000e+00</td>\n",
       "      <td>-2.000000e+00</td>\n",
       "      <td>1.000000e+00</td>\n",
       "      <td>0.000000e+00</td>\n",
       "    </tr>\n",
       "    <tr>\n",
       "      <th>25%</th>\n",
       "      <td>9.140000e+02</td>\n",
       "      <td>9.170000e+02</td>\n",
       "      <td>0.000000e+00</td>\n",
       "      <td>-5.000000e+00</td>\n",
       "      <td>1.046000e+03</td>\n",
       "      <td>0.000000e+00</td>\n",
       "      <td>6.000000e+01</td>\n",
       "      <td>8.900000e+01</td>\n",
       "      <td>8.300000e+01</td>\n",
       "      <td>3.680000e+02</td>\n",
       "      <td>...</td>\n",
       "      <td>1.100000e+01</td>\n",
       "      <td>9.320000e+02</td>\n",
       "      <td>1.044000e+03</td>\n",
       "      <td>4.000000e+00</td>\n",
       "      <td>1.103000e+03</td>\n",
       "      <td>-1.400000e+01</td>\n",
       "      <td>0.000000e+00</td>\n",
       "      <td>-1.000000e+00</td>\n",
       "      <td>2.000000e+00</td>\n",
       "      <td>0.000000e+00</td>\n",
       "    </tr>\n",
       "    <tr>\n",
       "      <th>50%</th>\n",
       "      <td>1.320000e+03</td>\n",
       "      <td>1.325000e+03</td>\n",
       "      <td>0.000000e+00</td>\n",
       "      <td>-2.000000e+00</td>\n",
       "      <td>1.500000e+03</td>\n",
       "      <td>0.000000e+00</td>\n",
       "      <td>9.400000e+01</td>\n",
       "      <td>1.240000e+02</td>\n",
       "      <td>1.190000e+02</td>\n",
       "      <td>6.430000e+02</td>\n",
       "      <td>...</td>\n",
       "      <td>1.500000e+01</td>\n",
       "      <td>1.338000e+03</td>\n",
       "      <td>1.456000e+03</td>\n",
       "      <td>6.000000e+00</td>\n",
       "      <td>1.513000e+03</td>\n",
       "      <td>-5.000000e+00</td>\n",
       "      <td>0.000000e+00</td>\n",
       "      <td>-1.000000e+00</td>\n",
       "      <td>3.000000e+00</td>\n",
       "      <td>0.000000e+00</td>\n",
       "    </tr>\n",
       "    <tr>\n",
       "      <th>75%</th>\n",
       "      <td>1.735000e+03</td>\n",
       "      <td>1.744000e+03</td>\n",
       "      <td>1.100000e+01</td>\n",
       "      <td>1.100000e+01</td>\n",
       "      <td>1.914000e+03</td>\n",
       "      <td>1.000000e+01</td>\n",
       "      <td>1.410000e+02</td>\n",
       "      <td>1.710000e+02</td>\n",
       "      <td>1.670000e+02</td>\n",
       "      <td>1.035000e+03</td>\n",
       "      <td>...</td>\n",
       "      <td>1.900000e+01</td>\n",
       "      <td>1.758000e+03</td>\n",
       "      <td>1.909000e+03</td>\n",
       "      <td>9.000000e+00</td>\n",
       "      <td>1.920000e+03</td>\n",
       "      <td>1.000000e+01</td>\n",
       "      <td>0.000000e+00</td>\n",
       "      <td>0.000000e+00</td>\n",
       "      <td>5.000000e+00</td>\n",
       "      <td>0.000000e+00</td>\n",
       "    </tr>\n",
       "    <tr>\n",
       "      <th>max</th>\n",
       "      <td>2.359000e+03</td>\n",
       "      <td>2.400000e+03</td>\n",
       "      <td>7.223000e+03</td>\n",
       "      <td>7.223000e+03</td>\n",
       "      <td>2.400000e+03</td>\n",
       "      <td>7.232000e+03</td>\n",
       "      <td>7.270000e+02</td>\n",
       "      <td>6.900000e+02</td>\n",
       "      <td>7.640000e+02</td>\n",
       "      <td>5.095000e+03</td>\n",
       "      <td>...</td>\n",
       "      <td>2.210000e+02</td>\n",
       "      <td>2.400000e+03</td>\n",
       "      <td>2.400000e+03</td>\n",
       "      <td>2.900000e+02</td>\n",
       "      <td>2.359000e+03</td>\n",
       "      <td>7.232000e+03</td>\n",
       "      <td>1.000000e+00</td>\n",
       "      <td>1.200000e+01</td>\n",
       "      <td>1.100000e+01</td>\n",
       "      <td>9.000000e+00</td>\n",
       "    </tr>\n",
       "  </tbody>\n",
       "</table>\n",
       "<p>8 rows × 41 columns</p>\n",
       "</div>"
      ],
      "text/plain": [
       "         CRSDepTime       DepTime  DepDelayMinutes      DepDelay  \\\n",
       "count  4.078318e+06  3.957885e+06     3.957823e+06  3.957823e+06   \n",
       "mean   1.329587e+03  1.334374e+03     1.601494e+01  1.309049e+01   \n",
       "std    4.904801e+02  5.056219e+02     5.231498e+01  5.332016e+01   \n",
       "min    1.000000e+00  1.000000e+00     0.000000e+00 -7.800000e+01   \n",
       "25%    9.140000e+02  9.170000e+02     0.000000e+00 -5.000000e+00   \n",
       "50%    1.320000e+03  1.325000e+03     0.000000e+00 -2.000000e+00   \n",
       "75%    1.735000e+03  1.744000e+03     1.100000e+01  1.100000e+01   \n",
       "max    2.359000e+03  2.400000e+03     7.223000e+03  7.223000e+03   \n",
       "\n",
       "            ArrTime  ArrDelayMinutes       AirTime  CRSElapsedTime  \\\n",
       "count  3.954079e+06     3.944916e+06  3.944916e+06    4.078318e+06   \n",
       "mean   1.457886e+03     1.578307e+01  1.110075e+02    1.413211e+02   \n",
       "std    5.431841e+02     5.198424e+01  6.996246e+01    7.179635e+01   \n",
       "min    1.000000e+00     0.000000e+00  8.000000e+00   -4.800000e+01   \n",
       "25%    1.046000e+03     0.000000e+00  6.000000e+01    8.900000e+01   \n",
       "50%    1.500000e+03     0.000000e+00  9.400000e+01    1.240000e+02   \n",
       "75%    1.914000e+03     1.000000e+01  1.410000e+02    1.710000e+02   \n",
       "max    2.400000e+03     7.232000e+03  7.270000e+02    6.900000e+02   \n",
       "\n",
       "       ActualElapsedTime      Distance  ...       TaxiOut     WheelsOff  \\\n",
       "count       3.944916e+06  4.078318e+06  ...  3.955652e+06  3.955652e+06   \n",
       "mean        1.358624e+02  7.978657e+02  ...  1.697375e+01  1.356576e+03   \n",
       "std         7.185501e+01  5.914742e+02  ...  9.495407e+00  5.075580e+02   \n",
       "min         1.400000e+01  3.100000e+01  ...  1.000000e+00  1.000000e+00   \n",
       "25%         8.300000e+01  3.680000e+02  ...  1.100000e+01  9.320000e+02   \n",
       "50%         1.190000e+02  6.430000e+02  ...  1.500000e+01  1.338000e+03   \n",
       "75%         1.670000e+02  1.035000e+03  ...  1.900000e+01  1.758000e+03   \n",
       "max         7.640000e+02  5.095000e+03  ...  2.210000e+02  2.400000e+03   \n",
       "\n",
       "           WheelsOn        TaxiIn    CRSArrTime      ArrDelay      ArrDel15  \\\n",
       "count  3.954076e+06  3.954076e+06  4.078318e+06  3.944916e+06  3.944916e+06   \n",
       "mean   1.455073e+03  7.894387e+00  1.486058e+03  7.528486e+00  2.164715e-01   \n",
       "std    5.378428e+02  6.663118e+00  5.185078e+02  5.524625e+01  4.118393e-01   \n",
       "min    1.000000e+00  1.000000e+00  1.000000e+00 -1.000000e+02  0.000000e+00   \n",
       "25%    1.044000e+03  4.000000e+00  1.103000e+03 -1.400000e+01  0.000000e+00   \n",
       "50%    1.456000e+03  6.000000e+00  1.513000e+03 -5.000000e+00  0.000000e+00   \n",
       "75%    1.909000e+03  9.000000e+00  1.920000e+03  1.000000e+01  0.000000e+00   \n",
       "max    2.400000e+03  2.900000e+02  2.359000e+03  7.232000e+03  1.000000e+00   \n",
       "\n",
       "       ArrivalDelayGroups  DistanceGroup  DivAirportLandings  \n",
       "count        3.944916e+06   4.078318e+06        4.078318e+06  \n",
       "mean        -6.256103e-02   3.663516e+00        3.685098e-03  \n",
       "std          2.487442e+00   2.320848e+00        1.141331e-01  \n",
       "min         -2.000000e+00   1.000000e+00        0.000000e+00  \n",
       "25%         -1.000000e+00   2.000000e+00        0.000000e+00  \n",
       "50%         -1.000000e+00   3.000000e+00        0.000000e+00  \n",
       "75%          0.000000e+00   5.000000e+00        0.000000e+00  \n",
       "max          1.200000e+01   1.100000e+01        9.000000e+00  \n",
       "\n",
       "[8 rows x 41 columns]"
      ]
     },
     "execution_count": 8,
     "metadata": {},
     "output_type": "execute_result"
    }
   ],
   "source": [
    "# Describe the data\n",
    "df.describe()\n"
   ]
  },
  {
   "cell_type": "code",
   "execution_count": 9,
   "metadata": {},
   "outputs": [
    {
     "data": {
      "text/html": [
       "<div>\n",
       "<style scoped>\n",
       "    .dataframe tbody tr th:only-of-type {\n",
       "        vertical-align: middle;\n",
       "    }\n",
       "\n",
       "    .dataframe tbody tr th {\n",
       "        vertical-align: top;\n",
       "    }\n",
       "\n",
       "    .dataframe thead th {\n",
       "        text-align: right;\n",
       "    }\n",
       "</style>\n",
       "<table border=\"1\" class=\"dataframe\">\n",
       "  <thead>\n",
       "    <tr style=\"text-align: right;\">\n",
       "      <th></th>\n",
       "      <th>Flight_Number_Operating_Airline</th>\n",
       "      <th>Month</th>\n",
       "      <th>DayofMonth</th>\n",
       "      <th>DayOfWeek</th>\n",
       "      <th>OriginAirportID</th>\n",
       "      <th>CRSDepTime</th>\n",
       "      <th>DepTime</th>\n",
       "      <th>DestAirportID</th>\n",
       "      <th>CRSArrTime</th>\n",
       "      <th>ArrTime</th>\n",
       "      <th>ArrDelayMinutes</th>\n",
       "      <th>DepDelayMinutes</th>\n",
       "      <th>Cancelled</th>\n",
       "    </tr>\n",
       "  </thead>\n",
       "  <tbody>\n",
       "    <tr>\n",
       "      <th>0</th>\n",
       "      <td>4301</td>\n",
       "      <td>4</td>\n",
       "      <td>4</td>\n",
       "      <td>1</td>\n",
       "      <td>11921</td>\n",
       "      <td>1133</td>\n",
       "      <td>1123.0</td>\n",
       "      <td>11292</td>\n",
       "      <td>1245</td>\n",
       "      <td>1228.0</td>\n",
       "      <td>0.0</td>\n",
       "      <td>0.0</td>\n",
       "      <td>False</td>\n",
       "    </tr>\n",
       "    <tr>\n",
       "      <th>1</th>\n",
       "      <td>4299</td>\n",
       "      <td>4</td>\n",
       "      <td>4</td>\n",
       "      <td>1</td>\n",
       "      <td>12206</td>\n",
       "      <td>732</td>\n",
       "      <td>728.0</td>\n",
       "      <td>12266</td>\n",
       "      <td>849</td>\n",
       "      <td>848.0</td>\n",
       "      <td>0.0</td>\n",
       "      <td>0.0</td>\n",
       "      <td>False</td>\n",
       "    </tr>\n",
       "    <tr>\n",
       "      <th>2</th>\n",
       "      <td>4298</td>\n",
       "      <td>4</td>\n",
       "      <td>4</td>\n",
       "      <td>1</td>\n",
       "      <td>11413</td>\n",
       "      <td>1529</td>\n",
       "      <td>1514.0</td>\n",
       "      <td>11292</td>\n",
       "      <td>1639</td>\n",
       "      <td>1636.0</td>\n",
       "      <td>0.0</td>\n",
       "      <td>0.0</td>\n",
       "      <td>False</td>\n",
       "    </tr>\n",
       "    <tr>\n",
       "      <th>3</th>\n",
       "      <td>4296</td>\n",
       "      <td>4</td>\n",
       "      <td>4</td>\n",
       "      <td>1</td>\n",
       "      <td>12266</td>\n",
       "      <td>1435</td>\n",
       "      <td>1430.0</td>\n",
       "      <td>11973</td>\n",
       "      <td>1605</td>\n",
       "      <td>1547.0</td>\n",
       "      <td>0.0</td>\n",
       "      <td>0.0</td>\n",
       "      <td>False</td>\n",
       "    </tr>\n",
       "    <tr>\n",
       "      <th>4</th>\n",
       "      <td>4295</td>\n",
       "      <td>4</td>\n",
       "      <td>4</td>\n",
       "      <td>1</td>\n",
       "      <td>11413</td>\n",
       "      <td>1135</td>\n",
       "      <td>1135.0</td>\n",
       "      <td>11292</td>\n",
       "      <td>1245</td>\n",
       "      <td>1251.0</td>\n",
       "      <td>6.0</td>\n",
       "      <td>0.0</td>\n",
       "      <td>False</td>\n",
       "    </tr>\n",
       "    <tr>\n",
       "      <th>5</th>\n",
       "      <td>4294</td>\n",
       "      <td>4</td>\n",
       "      <td>4</td>\n",
       "      <td>1</td>\n",
       "      <td>11292</td>\n",
       "      <td>955</td>\n",
       "      <td>952.0</td>\n",
       "      <td>15370</td>\n",
       "      <td>1240</td>\n",
       "      <td>1238.0</td>\n",
       "      <td>0.0</td>\n",
       "      <td>0.0</td>\n",
       "      <td>False</td>\n",
       "    </tr>\n",
       "    <tr>\n",
       "      <th>6</th>\n",
       "      <td>4293</td>\n",
       "      <td>4</td>\n",
       "      <td>4</td>\n",
       "      <td>1</td>\n",
       "      <td>12266</td>\n",
       "      <td>2139</td>\n",
       "      <td>2136.0</td>\n",
       "      <td>12915</td>\n",
       "      <td>2231</td>\n",
       "      <td>2218.0</td>\n",
       "      <td>0.0</td>\n",
       "      <td>0.0</td>\n",
       "      <td>False</td>\n",
       "    </tr>\n",
       "    <tr>\n",
       "      <th>7</th>\n",
       "      <td>4292</td>\n",
       "      <td>4</td>\n",
       "      <td>4</td>\n",
       "      <td>1</td>\n",
       "      <td>15412</td>\n",
       "      <td>1129</td>\n",
       "      <td>1117.0</td>\n",
       "      <td>12266</td>\n",
       "      <td>1306</td>\n",
       "      <td>1311.0</td>\n",
       "      <td>5.0</td>\n",
       "      <td>0.0</td>\n",
       "      <td>False</td>\n",
       "    </tr>\n",
       "    <tr>\n",
       "      <th>8</th>\n",
       "      <td>4291</td>\n",
       "      <td>4</td>\n",
       "      <td>4</td>\n",
       "      <td>1</td>\n",
       "      <td>12266</td>\n",
       "      <td>1424</td>\n",
       "      <td>1414.0</td>\n",
       "      <td>10185</td>\n",
       "      <td>1524</td>\n",
       "      <td>1513.0</td>\n",
       "      <td>0.0</td>\n",
       "      <td>0.0</td>\n",
       "      <td>False</td>\n",
       "    </tr>\n",
       "    <tr>\n",
       "      <th>9</th>\n",
       "      <td>4290</td>\n",
       "      <td>4</td>\n",
       "      <td>4</td>\n",
       "      <td>1</td>\n",
       "      <td>12266</td>\n",
       "      <td>954</td>\n",
       "      <td>947.0</td>\n",
       "      <td>13422</td>\n",
       "      <td>1121</td>\n",
       "      <td>1110.0</td>\n",
       "      <td>0.0</td>\n",
       "      <td>0.0</td>\n",
       "      <td>False</td>\n",
       "    </tr>\n",
       "  </tbody>\n",
       "</table>\n",
       "</div>"
      ],
      "text/plain": [
       "   Flight_Number_Operating_Airline  Month  DayofMonth  DayOfWeek  \\\n",
       "0                             4301      4           4          1   \n",
       "1                             4299      4           4          1   \n",
       "2                             4298      4           4          1   \n",
       "3                             4296      4           4          1   \n",
       "4                             4295      4           4          1   \n",
       "5                             4294      4           4          1   \n",
       "6                             4293      4           4          1   \n",
       "7                             4292      4           4          1   \n",
       "8                             4291      4           4          1   \n",
       "9                             4290      4           4          1   \n",
       "\n",
       "   OriginAirportID  CRSDepTime  DepTime  DestAirportID  CRSArrTime  ArrTime  \\\n",
       "0            11921        1133   1123.0          11292        1245   1228.0   \n",
       "1            12206         732    728.0          12266         849    848.0   \n",
       "2            11413        1529   1514.0          11292        1639   1636.0   \n",
       "3            12266        1435   1430.0          11973        1605   1547.0   \n",
       "4            11413        1135   1135.0          11292        1245   1251.0   \n",
       "5            11292         955    952.0          15370        1240   1238.0   \n",
       "6            12266        2139   2136.0          12915        2231   2218.0   \n",
       "7            15412        1129   1117.0          12266        1306   1311.0   \n",
       "8            12266        1424   1414.0          10185        1524   1513.0   \n",
       "9            12266         954    947.0          13422        1121   1110.0   \n",
       "\n",
       "   ArrDelayMinutes  DepDelayMinutes  Cancelled  \n",
       "0              0.0              0.0      False  \n",
       "1              0.0              0.0      False  \n",
       "2              0.0              0.0      False  \n",
       "3              0.0              0.0      False  \n",
       "4              6.0              0.0      False  \n",
       "5              0.0              0.0      False  \n",
       "6              0.0              0.0      False  \n",
       "7              5.0              0.0      False  \n",
       "8              0.0              0.0      False  \n",
       "9              0.0              0.0      False  "
      ]
     },
     "execution_count": 9,
     "metadata": {},
     "output_type": "execute_result"
    }
   ],
   "source": [
    "# Only proceed with the following columns\n",
    "essential_column_list = [\n",
    "    'Flight_Number_Operating_Airline',\t\n",
    "    'Month',\n",
    "    'DayofMonth',\n",
    "    'DayOfWeek',\n",
    "    'OriginAirportID',\n",
    "    'CRSDepTime',\n",
    "    'DepTime', \n",
    "    'DestAirportID',\n",
    "    'CRSArrTime',\n",
    "    'ArrTime',\n",
    "    'ArrDelayMinutes',\n",
    "    'DepDelayMinutes',\n",
    "    'Cancelled',\n",
    "    ]\n",
    "essential_df = df[essential_column_list]\n",
    "essential_df.head(10)"
   ]
  },
  {
   "cell_type": "code",
   "execution_count": 10,
   "metadata": {},
   "outputs": [
    {
     "name": "stderr",
     "output_type": "stream",
     "text": [
      "/var/folders/nr/jqfs4n8n3bvf1cmmq9_jmc5c0000gn/T/ipykernel_41329/2197377963.py:9: SettingWithCopyWarning: \n",
      "A value is trying to be set on a copy of a slice from a DataFrame.\n",
      "Try using .loc[row_indexer,col_indexer] = value instead\n",
      "\n",
      "See the caveats in the documentation: https://pandas.pydata.org/pandas-docs/stable/user_guide/indexing.html#returning-a-view-versus-a-copy\n",
      "  essential_df.loc[cancelled_condition, 'Status'] = status[0]\n"
     ]
    },
    {
     "data": {
      "text/html": [
       "<div>\n",
       "<style scoped>\n",
       "    .dataframe tbody tr th:only-of-type {\n",
       "        vertical-align: middle;\n",
       "    }\n",
       "\n",
       "    .dataframe tbody tr th {\n",
       "        vertical-align: top;\n",
       "    }\n",
       "\n",
       "    .dataframe thead th {\n",
       "        text-align: right;\n",
       "    }\n",
       "</style>\n",
       "<table border=\"1\" class=\"dataframe\">\n",
       "  <thead>\n",
       "    <tr style=\"text-align: right;\">\n",
       "      <th></th>\n",
       "      <th>Flight_Number_Operating_Airline</th>\n",
       "      <th>Month</th>\n",
       "      <th>DayofMonth</th>\n",
       "      <th>DayOfWeek</th>\n",
       "      <th>OriginAirportID</th>\n",
       "      <th>CRSDepTime</th>\n",
       "      <th>DepTime</th>\n",
       "      <th>DestAirportID</th>\n",
       "      <th>CRSArrTime</th>\n",
       "      <th>ArrTime</th>\n",
       "      <th>ArrDelayMinutes</th>\n",
       "      <th>DepDelayMinutes</th>\n",
       "      <th>Cancelled</th>\n",
       "      <th>Status</th>\n",
       "    </tr>\n",
       "  </thead>\n",
       "  <tbody>\n",
       "    <tr>\n",
       "      <th>0</th>\n",
       "      <td>4301</td>\n",
       "      <td>4</td>\n",
       "      <td>4</td>\n",
       "      <td>1</td>\n",
       "      <td>11921</td>\n",
       "      <td>1133</td>\n",
       "      <td>1123.0</td>\n",
       "      <td>11292</td>\n",
       "      <td>1245</td>\n",
       "      <td>1228.0</td>\n",
       "      <td>0.0</td>\n",
       "      <td>0.0</td>\n",
       "      <td>False</td>\n",
       "      <td>0</td>\n",
       "    </tr>\n",
       "    <tr>\n",
       "      <th>1</th>\n",
       "      <td>4299</td>\n",
       "      <td>4</td>\n",
       "      <td>4</td>\n",
       "      <td>1</td>\n",
       "      <td>12206</td>\n",
       "      <td>732</td>\n",
       "      <td>728.0</td>\n",
       "      <td>12266</td>\n",
       "      <td>849</td>\n",
       "      <td>848.0</td>\n",
       "      <td>0.0</td>\n",
       "      <td>0.0</td>\n",
       "      <td>False</td>\n",
       "      <td>0</td>\n",
       "    </tr>\n",
       "    <tr>\n",
       "      <th>2</th>\n",
       "      <td>4298</td>\n",
       "      <td>4</td>\n",
       "      <td>4</td>\n",
       "      <td>1</td>\n",
       "      <td>11413</td>\n",
       "      <td>1529</td>\n",
       "      <td>1514.0</td>\n",
       "      <td>11292</td>\n",
       "      <td>1639</td>\n",
       "      <td>1636.0</td>\n",
       "      <td>0.0</td>\n",
       "      <td>0.0</td>\n",
       "      <td>False</td>\n",
       "      <td>0</td>\n",
       "    </tr>\n",
       "    <tr>\n",
       "      <th>3</th>\n",
       "      <td>4296</td>\n",
       "      <td>4</td>\n",
       "      <td>4</td>\n",
       "      <td>1</td>\n",
       "      <td>12266</td>\n",
       "      <td>1435</td>\n",
       "      <td>1430.0</td>\n",
       "      <td>11973</td>\n",
       "      <td>1605</td>\n",
       "      <td>1547.0</td>\n",
       "      <td>0.0</td>\n",
       "      <td>0.0</td>\n",
       "      <td>False</td>\n",
       "      <td>0</td>\n",
       "    </tr>\n",
       "    <tr>\n",
       "      <th>4</th>\n",
       "      <td>4295</td>\n",
       "      <td>4</td>\n",
       "      <td>4</td>\n",
       "      <td>1</td>\n",
       "      <td>11413</td>\n",
       "      <td>1135</td>\n",
       "      <td>1135.0</td>\n",
       "      <td>11292</td>\n",
       "      <td>1245</td>\n",
       "      <td>1251.0</td>\n",
       "      <td>6.0</td>\n",
       "      <td>0.0</td>\n",
       "      <td>False</td>\n",
       "      <td>0</td>\n",
       "    </tr>\n",
       "  </tbody>\n",
       "</table>\n",
       "</div>"
      ],
      "text/plain": [
       "   Flight_Number_Operating_Airline  Month  DayofMonth  DayOfWeek  \\\n",
       "0                             4301      4           4          1   \n",
       "1                             4299      4           4          1   \n",
       "2                             4298      4           4          1   \n",
       "3                             4296      4           4          1   \n",
       "4                             4295      4           4          1   \n",
       "\n",
       "   OriginAirportID  CRSDepTime  DepTime  DestAirportID  CRSArrTime  ArrTime  \\\n",
       "0            11921        1133   1123.0          11292        1245   1228.0   \n",
       "1            12206         732    728.0          12266         849    848.0   \n",
       "2            11413        1529   1514.0          11292        1639   1636.0   \n",
       "3            12266        1435   1430.0          11973        1605   1547.0   \n",
       "4            11413        1135   1135.0          11292        1245   1251.0   \n",
       "\n",
       "   ArrDelayMinutes  DepDelayMinutes  Cancelled Status  \n",
       "0              0.0              0.0      False      0  \n",
       "1              0.0              0.0      False      0  \n",
       "2              0.0              0.0      False      0  \n",
       "3              0.0              0.0      False      0  \n",
       "4              6.0              0.0      False      0  "
      ]
     },
     "execution_count": 10,
     "metadata": {},
     "output_type": "execute_result"
    }
   ],
   "source": [
    "# creating a column showing \"2\" for cancelled, \"1\" for delayed, and \"0\" for on time flights\n",
    "cancelled_condition = essential_df['Cancelled'] == True\n",
    "delayed_condition = essential_df['DepDelayMinutes'] > 1\n",
    "ontime_condition = essential_df['DepDelayMinutes'] == 0\n",
    "\n",
    "status = [\"2\", \"1\", \"0\"]\n",
    "\n",
    "# Using .loc to assign values to the 'Status' column\n",
    "essential_df.loc[cancelled_condition, 'Status'] = status[0]\n",
    "essential_df.loc[delayed_condition, 'Status'] = status[1]\n",
    "essential_df.loc[ontime_condition, 'Status'] = status[2]\n",
    "    \n",
    "essential_df.head()"
   ]
  },
  {
   "cell_type": "code",
   "execution_count": 11,
   "metadata": {},
   "outputs": [],
   "source": [
    "# remove the Cancelled column\n",
    "df_clean = essential_df.drop(columns=['Cancelled'], axis=1)"
   ]
  },
  {
   "cell_type": "code",
   "execution_count": 12,
   "metadata": {},
   "outputs": [
    {
     "name": "stdout",
     "output_type": "stream",
     "text": [
      "Flight_Number_Operating_Airline      int64\n",
      "Month                                int64\n",
      "DayofMonth                           int64\n",
      "DayOfWeek                            int64\n",
      "OriginAirportID                      int64\n",
      "CRSDepTime                           int64\n",
      "DepTime                            float64\n",
      "DestAirportID                        int64\n",
      "CRSArrTime                           int64\n",
      "ArrTime                            float64\n",
      "ArrDelayMinutes                    float64\n",
      "DepDelayMinutes                    float64\n",
      "Status                             float64\n",
      "dtype: object\n"
     ]
    }
   ],
   "source": [
    "# Convert new Status column to float and display the datatypes for each column\n",
    "df_clean['Status'] = df_clean['Status'].astype(float)\n",
    "print(df_clean.dtypes)"
   ]
  },
  {
   "cell_type": "code",
   "execution_count": 13,
   "metadata": {},
   "outputs": [
    {
     "data": {
      "text/plain": [
       "772     1842\n",
       "418     1828\n",
       "770     1806\n",
       "573     1791\n",
       "61      1687\n",
       "        ... \n",
       "6692       1\n",
       "6958       1\n",
       "6407       1\n",
       "6672       1\n",
       "6490       1\n",
       "Name: Flight_Number_Operating_Airline, Length: 6793, dtype: int64"
      ]
     },
     "execution_count": 13,
     "metadata": {},
     "output_type": "execute_result"
    }
   ],
   "source": [
    "# Look at the value counts for binning\n",
    "flight_no_airline_count = df_clean['Flight_Number_Operating_Airline'].value_counts()\n",
    "flight_no_airline_count"
   ]
  },
  {
   "cell_type": "code",
   "execution_count": 20,
   "metadata": {},
   "outputs": [
    {
     "data": {
      "text/plain": [
       "772     1842\n",
       "418     1828\n",
       "770     1806\n",
       "573     1791\n",
       "61      1687\n",
       "679     1644\n",
       "2142    1642\n",
       "698     1634\n",
       "2127    1627\n",
       "340     1621\n",
       "841     1620\n",
       "62      1610\n",
       "1095    1597\n",
       "2051    1596\n",
       "676     1589\n",
       "2147    1587\n",
       "712     1585\n",
       "683     1577\n",
       "1244    1574\n",
       "1430    1573\n",
       "538     1571\n",
       "2338    1567\n",
       "2095    1566\n",
       "371     1561\n",
       "535     1558\n",
       "565     1558\n",
       "517     1554\n",
       "2120    1549\n",
       "2122    1549\n",
       "2135    1546\n",
       "639     1543\n",
       "2078    1542\n",
       "327     1535\n",
       "2339    1533\n",
       "2424    1528\n",
       "366     1525\n",
       "358     1525\n",
       "1254    1520\n",
       "352     1516\n",
       "778     1508\n",
       "334     1507\n",
       "1623    1506\n",
       "1101    1506\n",
       "1678    1505\n",
       "688     1502\n",
       "686     1495\n",
       "372     1494\n",
       "1199    1493\n",
       "2087    1492\n",
       "1418    1491\n",
       "Name: Flight_Number_Operating_Airline, dtype: int64"
      ]
     },
     "execution_count": 20,
     "metadata": {},
     "output_type": "execute_result"
    }
   ],
   "source": [
    "# You may find it helpful to look at Flight Numbers value counts > 750\n",
    "flight_no_over_1 = flight_no_airline_count[flight_no_airline_count> 750]\n",
    "flight_no_over_1.head(50)"
   ]
  },
  {
   "cell_type": "code",
   "execution_count": 21,
   "metadata": {},
   "outputs": [
    {
     "data": {
      "text/plain": [
       "0       2641392\n",
       "772        1842\n",
       "418        1828\n",
       "770        1806\n",
       "573        1791\n",
       "         ...   \n",
       "6681          1\n",
       "6759          1\n",
       "6676          1\n",
       "6682          1\n",
       "6490          1\n",
       "Name: Flight_Number_Operating_Airline, Length: 3934, dtype: int64"
      ]
     },
     "execution_count": 21,
     "metadata": {},
     "output_type": "execute_result"
    }
   ],
   "source": [
    "# Choose a cutoff value and create a list of classifications to be replaced\n",
    "# using the variable name `flight_no_to_replace`for value counts over 600 \n",
    "flight_no_to_replace = list(flight_no_over_1[flight_no_over_1 < 600].index)\n",
    "\n",
    "# Replace in dataframe\n",
    "for cls in flight_no_to_replace:\n",
    "    df_clean['Flight_Number_Operating_Airline'] = df_clean['Flight_Number_Operating_Airline'].replace(cls,\"0\")\n",
    "\n",
    "# Check to make sure binning was successful\n",
    "df_clean['Flight_Number_Operating_Airline'].value_counts()"
   ]
  },
  {
   "cell_type": "code",
   "execution_count": 22,
   "metadata": {},
   "outputs": [],
   "source": [
    "# Handle non-finite values by replacing them with a placeholder (e.g., 0)\n",
    "df_clean.replace([np.inf, -np.inf, np.nan], 0, inplace=True)"
   ]
  },
  {
   "cell_type": "code",
   "execution_count": 23,
   "metadata": {},
   "outputs": [
    {
     "data": {
      "text/plain": [
       "Flight_Number_Operating_Airline     object\n",
       "Month                                int64\n",
       "DayofMonth                           int64\n",
       "DayOfWeek                            int64\n",
       "OriginAirportID                      int64\n",
       "CRSDepTime                           int64\n",
       "DepTime                            float64\n",
       "DestAirportID                        int64\n",
       "CRSArrTime                           int64\n",
       "ArrTime                            float64\n",
       "ArrDelayMinutes                    float64\n",
       "DepDelayMinutes                    float64\n",
       "Status                             float64\n",
       "dtype: object"
      ]
     },
     "execution_count": 23,
     "metadata": {},
     "output_type": "execute_result"
    }
   ],
   "source": [
    "# Check the data types\n",
    "df_clean.dtypes"
   ]
  },
  {
   "cell_type": "code",
   "execution_count": 25,
   "metadata": {},
   "outputs": [],
   "source": [
    "# Convert categorical data to numeric with OneHotEncoder \n",
    "# Import the encoder\n",
    "# from sklearn.preprocessing import OneHotEncoder\n",
    "# # Create the encoder.\n",
    "# encoder = OneHotEncoder()\n",
    "# encoder.fit_transform(df_clean) \n",
    " "
   ]
  },
  {
   "cell_type": "code",
   "execution_count": 26,
   "metadata": {},
   "outputs": [
    {
     "data": {
      "text/html": [
       "<div>\n",
       "<style scoped>\n",
       "    .dataframe tbody tr th:only-of-type {\n",
       "        vertical-align: middle;\n",
       "    }\n",
       "\n",
       "    .dataframe tbody tr th {\n",
       "        vertical-align: top;\n",
       "    }\n",
       "\n",
       "    .dataframe thead th {\n",
       "        text-align: right;\n",
       "    }\n",
       "</style>\n",
       "<table border=\"1\" class=\"dataframe\">\n",
       "  <thead>\n",
       "    <tr style=\"text-align: right;\">\n",
       "      <th></th>\n",
       "      <th>Flight_Number_Operating_Airline</th>\n",
       "      <th>Month</th>\n",
       "      <th>DayofMonth</th>\n",
       "      <th>DayOfWeek</th>\n",
       "      <th>OriginAirportID</th>\n",
       "      <th>CRSDepTime</th>\n",
       "      <th>DepTime</th>\n",
       "      <th>DestAirportID</th>\n",
       "      <th>CRSArrTime</th>\n",
       "      <th>ArrTime</th>\n",
       "      <th>ArrDelayMinutes</th>\n",
       "      <th>DepDelayMinutes</th>\n",
       "      <th>Status</th>\n",
       "    </tr>\n",
       "  </thead>\n",
       "  <tbody>\n",
       "    <tr>\n",
       "      <th>0</th>\n",
       "      <td>4301</td>\n",
       "      <td>4</td>\n",
       "      <td>4</td>\n",
       "      <td>1</td>\n",
       "      <td>11921</td>\n",
       "      <td>1133</td>\n",
       "      <td>1123.0</td>\n",
       "      <td>11292</td>\n",
       "      <td>1245</td>\n",
       "      <td>1228.0</td>\n",
       "      <td>0.0</td>\n",
       "      <td>0.0</td>\n",
       "      <td>0.0</td>\n",
       "    </tr>\n",
       "    <tr>\n",
       "      <th>1</th>\n",
       "      <td>4299</td>\n",
       "      <td>4</td>\n",
       "      <td>4</td>\n",
       "      <td>1</td>\n",
       "      <td>12206</td>\n",
       "      <td>732</td>\n",
       "      <td>728.0</td>\n",
       "      <td>12266</td>\n",
       "      <td>849</td>\n",
       "      <td>848.0</td>\n",
       "      <td>0.0</td>\n",
       "      <td>0.0</td>\n",
       "      <td>0.0</td>\n",
       "    </tr>\n",
       "    <tr>\n",
       "      <th>2</th>\n",
       "      <td>4298</td>\n",
       "      <td>4</td>\n",
       "      <td>4</td>\n",
       "      <td>1</td>\n",
       "      <td>11413</td>\n",
       "      <td>1529</td>\n",
       "      <td>1514.0</td>\n",
       "      <td>11292</td>\n",
       "      <td>1639</td>\n",
       "      <td>1636.0</td>\n",
       "      <td>0.0</td>\n",
       "      <td>0.0</td>\n",
       "      <td>0.0</td>\n",
       "    </tr>\n",
       "    <tr>\n",
       "      <th>3</th>\n",
       "      <td>4296</td>\n",
       "      <td>4</td>\n",
       "      <td>4</td>\n",
       "      <td>1</td>\n",
       "      <td>12266</td>\n",
       "      <td>1435</td>\n",
       "      <td>1430.0</td>\n",
       "      <td>11973</td>\n",
       "      <td>1605</td>\n",
       "      <td>1547.0</td>\n",
       "      <td>0.0</td>\n",
       "      <td>0.0</td>\n",
       "      <td>0.0</td>\n",
       "    </tr>\n",
       "    <tr>\n",
       "      <th>4</th>\n",
       "      <td>4295</td>\n",
       "      <td>4</td>\n",
       "      <td>4</td>\n",
       "      <td>1</td>\n",
       "      <td>11413</td>\n",
       "      <td>1135</td>\n",
       "      <td>1135.0</td>\n",
       "      <td>11292</td>\n",
       "      <td>1245</td>\n",
       "      <td>1251.0</td>\n",
       "      <td>6.0</td>\n",
       "      <td>0.0</td>\n",
       "      <td>0.0</td>\n",
       "    </tr>\n",
       "  </tbody>\n",
       "</table>\n",
       "</div>"
      ],
      "text/plain": [
       "  Flight_Number_Operating_Airline  Month  DayofMonth  DayOfWeek  \\\n",
       "0                            4301      4           4          1   \n",
       "1                            4299      4           4          1   \n",
       "2                            4298      4           4          1   \n",
       "3                            4296      4           4          1   \n",
       "4                            4295      4           4          1   \n",
       "\n",
       "   OriginAirportID  CRSDepTime  DepTime  DestAirportID  CRSArrTime  ArrTime  \\\n",
       "0            11921        1133   1123.0          11292        1245   1228.0   \n",
       "1            12206         732    728.0          12266         849    848.0   \n",
       "2            11413        1529   1514.0          11292        1639   1636.0   \n",
       "3            12266        1435   1430.0          11973        1605   1547.0   \n",
       "4            11413        1135   1135.0          11292        1245   1251.0   \n",
       "\n",
       "   ArrDelayMinutes  DepDelayMinutes  Status  \n",
       "0              0.0              0.0     0.0  \n",
       "1              0.0              0.0     0.0  \n",
       "2              0.0              0.0     0.0  \n",
       "3              0.0              0.0     0.0  \n",
       "4              6.0              0.0     0.0  "
      ]
     },
     "execution_count": 26,
     "metadata": {},
     "output_type": "execute_result"
    }
   ],
   "source": [
    "df_clean.head(5)"
   ]
  },
  {
   "cell_type": "code",
   "execution_count": 27,
   "metadata": {},
   "outputs": [],
   "source": [
    "# Split our data into training and testing and establish features and target variable\n",
    "from sklearn.model_selection import train_test_split\n",
    "features = df_clean.drop('Status', axis=1)\n",
    "targets = df_clean['Status']\n",
    "\n",
    "X_train, X_test, y_train, y_test = train_test_split(features,\n",
    "                                                    targets,\n",
    "                                                    random_state=42,\n",
    "                                                    stratify=targets)"
   ]
  },
  {
   "cell_type": "code",
   "execution_count": 28,
   "metadata": {},
   "outputs": [],
   "source": [
    "# Create the StandardScaler instance\n",
    "from sklearn.preprocessing import StandardScaler\n",
    "\n",
    "scaler = StandardScaler()"
   ]
  },
  {
   "cell_type": "code",
   "execution_count": 29,
   "metadata": {},
   "outputs": [],
   "source": [
    "# Fit the Standard Scaler with the training data\n",
    "X_scaler = scaler.fit(X_train)"
   ]
  },
  {
   "cell_type": "code",
   "execution_count": 30,
   "metadata": {},
   "outputs": [],
   "source": [
    "# Scale the training data\n",
    "X_train_scaled = X_scaler.transform(X_train)\n",
    "X_test_scaled = X_scaler.transform(X_test)"
   ]
  },
  {
   "cell_type": "code",
   "execution_count": 31,
   "metadata": {},
   "outputs": [
    {
     "name": "stdout",
     "output_type": "stream",
     "text": [
      "0:\tlearn: 0.0954874\ttotal: 43.2s\tremaining: 2m 9s\n",
      "1:\tlearn: 0.0330165\ttotal: 47.4s\tremaining: 47.4s\n",
      "2:\tlearn: 0.0119587\ttotal: 47.6s\tremaining: 15.9s\n",
      "3:\tlearn: 0.0044349\ttotal: 47.9s\tremaining: 0us\n",
      "class =  [[0.]\n",
      " [0.]\n",
      " [0.]\n",
      " ...\n",
      " [1.]\n",
      " [1.]\n",
      " [0.]]\n",
      "proba =  [[0.99578963 0.00213125 0.00207912]\n",
      " [0.99578963 0.00213125 0.00207912]\n",
      " [0.99578963 0.00213125 0.00207912]\n",
      " ...\n",
      " [0.00213642 0.99572715 0.00213642]\n",
      " [0.00213642 0.99572715 0.00213642]\n",
      " [0.99578963 0.00213125 0.00207912]]\n"
     ]
    }
   ],
   "source": [
    "# Utilize CatBoost Classifier to initialize, train and make predictions\n",
    "# initialize data\n",
    "from catboost import CatBoostClassifier, Pool\n",
    "train_data = df_clean.drop(columns=['Status'])\n",
    "\n",
    "train_labels = df_clean['Status']\n",
    "\n",
    "test_data = catboost_pool = Pool(train_data, \n",
    "                                 train_labels)\n",
    "\n",
    "model = CatBoostClassifier(iterations=4,\n",
    "                           depth=2,\n",
    "                           learning_rate=1,\n",
    "                           loss_function='MultiClass',\n",
    "                           verbose=True)\n",
    "# train the model\n",
    "model.fit(train_data, train_labels)\n",
    "# make the prediction using the resulting model\n",
    "preds_class = model.predict(test_data)\n",
    "preds_proba = model.predict_proba(test_data)\n",
    "print(\"class = \", preds_class)\n",
    "print(\"proba = \", preds_proba)"
   ]
  },
  {
   "cell_type": "code",
   "execution_count": 33,
   "metadata": {},
   "outputs": [],
   "source": [
    "# fit the data\n",
    "catboost_train_data = Pool(X_train,y_train)\n",
    "\n",
    "cb_model = CatBoostClassifier()\n",
    "\n"
   ]
  },
  {
   "cell_type": "code",
   "execution_count": 34,
   "metadata": {},
   "outputs": [
    {
     "data": {
      "application/vnd.jupyter.widget-view+json": {
       "model_id": "1a4aefd9fe9c4cc98869f2cc16f7efde",
       "version_major": 2,
       "version_minor": 0
      },
      "text/plain": [
       "MetricVisualizer(layout=Layout(align_self='stretch', height='500px'))"
      ]
     },
     "metadata": {},
     "output_type": "display_data"
    },
    {
     "name": "stdout",
     "output_type": "stream",
     "text": [
      "Learning rate set to 0.119148\n",
      "0:\tlearn: 0.8750549\ttotal: 2m 15s\tremaining: 1d 13h 36m 4s\n",
      "1:\tlearn: 0.7184496\ttotal: 3m 12s\tremaining: 1d 2h 43m 15s\n",
      "2:\tlearn: 0.6007183\ttotal: 3m 13s\tremaining: 17h 49m 7s\n",
      "3:\tlearn: 0.5084505\ttotal: 3m 13s\tremaining: 13h 22m 13s\n",
      "4:\tlearn: 0.4341404\ttotal: 3m 13s\tremaining: 10h 41m 54s\n",
      "5:\tlearn: 0.3731684\ttotal: 3m 13s\tremaining: 8h 55m\n",
      "6:\tlearn: 0.3224288\ttotal: 3m 13s\tremaining: 7h 38m 38s\n",
      "7:\tlearn: 0.2797458\ttotal: 3m 14s\tremaining: 6h 41m 24s\n",
      "8:\tlearn: 0.2435289\ttotal: 3m 14s\tremaining: 5h 56m 56s\n",
      "9:\tlearn: 0.2126063\ttotal: 3m 14s\tremaining: 5h 21m 19s\n",
      "10:\tlearn: 0.1860389\ttotal: 3m 14s\tremaining: 4h 52m 6s\n",
      "11:\tlearn: 0.1631148\ttotal: 3m 15s\tremaining: 4h 27m 49s\n",
      "12:\tlearn: 0.1432381\ttotal: 3m 15s\tremaining: 4h 7m 15s\n",
      "13:\tlearn: 0.1259616\ttotal: 3m 15s\tremaining: 3h 49m 39s\n",
      "14:\tlearn: 0.1109029\ttotal: 3m 15s\tremaining: 3h 34m 22s\n",
      "15:\tlearn: 0.0977576\ttotal: 3m 16s\tremaining: 3h 21m\n",
      "16:\tlearn: 0.0862396\ttotal: 3m 16s\tremaining: 3h 9m 15s\n",
      "17:\tlearn: 0.0761391\ttotal: 3m 17s\tremaining: 2h 59m 14s\n",
      "18:\tlearn: 0.0672794\ttotal: 3m 21s\tremaining: 2h 53m 15s\n",
      "19:\tlearn: 0.0594773\ttotal: 5m 5s\tremaining: 4h 9m 25s\n",
      "20:\tlearn: 0.0526102\ttotal: 5m 5s\tremaining: 3h 57m 34s\n",
      "21:\tlearn: 0.0465588\ttotal: 5m 5s\tremaining: 3h 46m 42s\n",
      "22:\tlearn: 0.0412214\ttotal: 5m 6s\tremaining: 3h 36m 48s\n",
      "23:\tlearn: 0.0365099\ttotal: 5m 6s\tremaining: 3h 27m 42s\n",
      "24:\tlearn: 0.0323491\ttotal: 5m 6s\tremaining: 3h 19m 20s\n",
      "25:\tlearn: 0.0286695\ttotal: 5m 6s\tremaining: 3h 11m 36s\n",
      "26:\tlearn: 0.0254177\ttotal: 5m 7s\tremaining: 3h 4m 28s\n",
      "27:\tlearn: 0.0225431\ttotal: 5m 7s\tremaining: 2h 57m 50s\n",
      "28:\tlearn: 0.0199977\ttotal: 5m 7s\tremaining: 2h 51m 39s\n",
      "29:\tlearn: 0.0177434\ttotal: 5m 7s\tremaining: 2h 45m 53s\n",
      "30:\tlearn: 0.0157425\ttotal: 5m 8s\tremaining: 2h 40m 30s\n",
      "31:\tlearn: 0.0139696\ttotal: 5m 8s\tremaining: 2h 35m 26s\n",
      "32:\tlearn: 0.0124008\ttotal: 5m 8s\tremaining: 2h 30m 41s\n",
      "33:\tlearn: 0.0110111\ttotal: 5m 8s\tremaining: 2h 26m 13s\n",
      "34:\tlearn: 0.0097814\ttotal: 5m 9s\tremaining: 2h 22m\n",
      "35:\tlearn: 0.0086887\ttotal: 5m 9s\tremaining: 2h 18m 2s\n",
      "36:\tlearn: 0.0077211\ttotal: 5m 9s\tremaining: 2h 14m 16s\n",
      "37:\tlearn: 0.0068636\ttotal: 5m 9s\tremaining: 2h 10m 41s\n",
      "38:\tlearn: 0.0060988\ttotal: 5m 10s\tremaining: 2h 7m 18s\n",
      "39:\tlearn: 0.0054218\ttotal: 5m 10s\tremaining: 2h 4m 5s\n",
      "40:\tlearn: 0.0048228\ttotal: 5m 10s\tremaining: 2h 1m 2s\n",
      "41:\tlearn: 0.0042901\ttotal: 5m 10s\tremaining: 1h 58m 6s\n",
      "42:\tlearn: 0.0038186\ttotal: 5m 10s\tremaining: 1h 55m 20s\n",
      "43:\tlearn: 0.0033987\ttotal: 5m 11s\tremaining: 1h 52m 41s\n",
      "44:\tlearn: 0.0030271\ttotal: 5m 11s\tremaining: 1h 50m 9s\n",
      "45:\tlearn: 0.0026953\ttotal: 5m 11s\tremaining: 1h 47m 43s\n",
      "46:\tlearn: 0.0024027\ttotal: 5m 11s\tremaining: 1h 45m 24s\n",
      "47:\tlearn: 0.0021405\ttotal: 5m 12s\tremaining: 1h 43m 11s\n",
      "48:\tlearn: 0.0019082\ttotal: 5m 12s\tremaining: 1h 41m 2s\n",
      "49:\tlearn: 0.0017018\ttotal: 5m 12s\tremaining: 1h 38m 59s\n",
      "50:\tlearn: 0.0015187\ttotal: 5m 12s\tremaining: 1h 37m\n",
      "51:\tlearn: 0.0013561\ttotal: 5m 13s\tremaining: 1h 35m 6s\n",
      "52:\tlearn: 0.0012124\ttotal: 5m 13s\tremaining: 1h 33m 17s\n",
      "53:\tlearn: 0.0010847\ttotal: 5m 13s\tremaining: 1h 31m 31s\n",
      "54:\tlearn: 0.0009706\ttotal: 5m 13s\tremaining: 1h 29m 49s\n",
      "55:\tlearn: 0.0008716\ttotal: 5m 13s\tremaining: 1h 28m 12s\n",
      "56:\tlearn: 0.0007815\ttotal: 5m 14s\tremaining: 1h 26m 37s\n",
      "57:\tlearn: 0.0007018\ttotal: 5m 14s\tremaining: 1h 25m 6s\n",
      "58:\tlearn: 0.0006310\ttotal: 5m 14s\tremaining: 1h 23m 37s\n",
      "59:\tlearn: 0.0005678\ttotal: 5m 14s\tremaining: 1h 22m 12s\n",
      "60:\tlearn: 0.0005118\ttotal: 5m 15s\tremaining: 1h 20m 49s\n",
      "61:\tlearn: 0.0004626\ttotal: 5m 15s\tremaining: 1h 19m 29s\n",
      "62:\tlearn: 0.0004186\ttotal: 5m 15s\tremaining: 1h 18m 12s\n",
      "63:\tlearn: 0.0003799\ttotal: 5m 15s\tremaining: 1h 16m 57s\n",
      "64:\tlearn: 0.0003450\ttotal: 5m 15s\tremaining: 1h 15m 44s\n",
      "65:\tlearn: 0.0003143\ttotal: 5m 16s\tremaining: 1h 14m 34s\n",
      "66:\tlearn: 0.0002866\ttotal: 5m 16s\tremaining: 1h 13m 26s\n",
      "67:\tlearn: 0.0002616\ttotal: 5m 16s\tremaining: 1h 12m 19s\n",
      "68:\tlearn: 0.0002396\ttotal: 5m 16s\tremaining: 1h 11m 15s\n",
      "69:\tlearn: 0.0002203\ttotal: 5m 17s\tremaining: 1h 10m 12s\n",
      "70:\tlearn: 0.0002036\ttotal: 5m 17s\tremaining: 1h 9m 11s\n",
      "71:\tlearn: 0.0001883\ttotal: 5m 17s\tremaining: 1h 8m 12s\n",
      "72:\tlearn: 0.0001747\ttotal: 5m 17s\tremaining: 1h 7m 14s\n",
      "73:\tlearn: 0.0001624\ttotal: 5m 17s\tremaining: 1h 6m 19s\n",
      "74:\tlearn: 0.0001518\ttotal: 5m 18s\tremaining: 1h 5m 24s\n",
      "75:\tlearn: 0.0001426\ttotal: 5m 18s\tremaining: 1h 4m 32s\n",
      "76:\tlearn: 0.0001344\ttotal: 5m 18s\tremaining: 1h 3m 40s\n",
      "77:\tlearn: 0.0001266\ttotal: 5m 18s\tremaining: 1h 2m 50s\n",
      "78:\tlearn: 0.0001193\ttotal: 5m 19s\tremaining: 1h 2m 1s\n",
      "79:\tlearn: 0.0001128\ttotal: 5m 19s\tremaining: 1h 1m 13s\n",
      "80:\tlearn: 0.0001079\ttotal: 5m 19s\tremaining: 1h 27s\n",
      "81:\tlearn: 0.0001036\ttotal: 5m 19s\tremaining: 59m 41s\n",
      "82:\tlearn: 0.0000986\ttotal: 5m 20s\tremaining: 58m 57s\n",
      "83:\tlearn: 0.0000950\ttotal: 5m 20s\tremaining: 58m 13s\n",
      "84:\tlearn: 0.0000914\ttotal: 5m 20s\tremaining: 57m 31s\n",
      "85:\tlearn: 0.0000880\ttotal: 5m 20s\tremaining: 56m 49s\n",
      "86:\tlearn: 0.0000865\ttotal: 5m 21s\tremaining: 56m 9s\n",
      "87:\tlearn: 0.0000851\ttotal: 5m 21s\tremaining: 55m 29s\n",
      "88:\tlearn: 0.0000825\ttotal: 5m 21s\tremaining: 54m 51s\n",
      "89:\tlearn: 0.0000814\ttotal: 5m 21s\tremaining: 54m 13s\n",
      "90:\tlearn: 0.0000796\ttotal: 5m 21s\tremaining: 53m 35s\n",
      "91:\tlearn: 0.0000780\ttotal: 5m 22s\tremaining: 53m\n",
      "92:\tlearn: 0.0000759\ttotal: 5m 22s\tremaining: 52m 24s\n",
      "93:\tlearn: 0.0000739\ttotal: 5m 22s\tremaining: 51m 49s\n",
      "94:\tlearn: 0.0000721\ttotal: 5m 22s\tremaining: 51m 15s\n",
      "95:\tlearn: 0.0000718\ttotal: 5m 23s\tremaining: 50m 42s\n",
      "96:\tlearn: 0.0000704\ttotal: 5m 23s\tremaining: 50m 9s\n",
      "97:\tlearn: 0.0000698\ttotal: 5m 23s\tremaining: 49m 37s\n",
      "98:\tlearn: 0.0000678\ttotal: 5m 23s\tremaining: 49m 6s\n",
      "99:\tlearn: 0.0000671\ttotal: 5m 23s\tremaining: 48m 35s\n",
      "100:\tlearn: 0.0000660\ttotal: 5m 24s\tremaining: 48m 5s\n",
      "101:\tlearn: 0.0000656\ttotal: 5m 24s\tremaining: 47m 35s\n",
      "102:\tlearn: 0.0000645\ttotal: 5m 24s\tremaining: 47m 6s\n",
      "103:\tlearn: 0.0000641\ttotal: 5m 24s\tremaining: 46m 37s\n",
      "104:\tlearn: 0.0000639\ttotal: 5m 24s\tremaining: 46m 10s\n",
      "105:\tlearn: 0.0000635\ttotal: 5m 25s\tremaining: 45m 42s\n",
      "106:\tlearn: 0.0000632\ttotal: 5m 25s\tremaining: 45m 15s\n",
      "107:\tlearn: 0.0000622\ttotal: 5m 25s\tremaining: 44m 49s\n",
      "108:\tlearn: 0.0000620\ttotal: 5m 25s\tremaining: 44m 23s\n",
      "109:\tlearn: 0.0000618\ttotal: 5m 26s\tremaining: 43m 58s\n",
      "110:\tlearn: 0.0000616\ttotal: 5m 26s\tremaining: 43m 33s\n",
      "111:\tlearn: 0.0000614\ttotal: 5m 26s\tremaining: 43m 9s\n",
      "112:\tlearn: 0.0000610\ttotal: 5m 26s\tremaining: 42m 45s\n",
      "113:\tlearn: 0.0000603\ttotal: 5m 27s\tremaining: 42m 21s\n",
      "114:\tlearn: 0.0000601\ttotal: 5m 27s\tremaining: 41m 58s\n",
      "115:\tlearn: 0.0000599\ttotal: 5m 27s\tremaining: 41m 35s\n",
      "116:\tlearn: 0.0000591\ttotal: 5m 27s\tremaining: 41m 13s\n",
      "117:\tlearn: 0.0000589\ttotal: 5m 27s\tremaining: 40m 51s\n",
      "118:\tlearn: 0.0000582\ttotal: 5m 28s\tremaining: 40m 29s\n",
      "119:\tlearn: 0.0000580\ttotal: 5m 28s\tremaining: 40m 8s\n",
      "120:\tlearn: 0.0000579\ttotal: 5m 28s\tremaining: 39m 47s\n",
      "121:\tlearn: 0.0000571\ttotal: 5m 28s\tremaining: 39m 26s\n",
      "122:\tlearn: 0.0000566\ttotal: 5m 29s\tremaining: 39m 6s\n",
      "123:\tlearn: 0.0000564\ttotal: 5m 29s\tremaining: 38m 46s\n",
      "124:\tlearn: 0.0000563\ttotal: 5m 29s\tremaining: 38m 26s\n",
      "125:\tlearn: 0.0000559\ttotal: 5m 29s\tremaining: 38m 7s\n",
      "126:\tlearn: 0.0000558\ttotal: 5m 29s\tremaining: 37m 48s\n",
      "127:\tlearn: 0.0000555\ttotal: 5m 30s\tremaining: 37m 29s\n",
      "128:\tlearn: 0.0000552\ttotal: 5m 30s\tremaining: 37m 11s\n",
      "129:\tlearn: 0.0000551\ttotal: 5m 30s\tremaining: 36m 53s\n",
      "130:\tlearn: 0.0000544\ttotal: 5m 30s\tremaining: 36m 35s\n",
      "131:\tlearn: 0.0000542\ttotal: 5m 31s\tremaining: 36m 17s\n",
      "132:\tlearn: 0.0000539\ttotal: 5m 31s\tremaining: 36m\n",
      "133:\tlearn: 0.0000538\ttotal: 5m 31s\tremaining: 35m 43s\n",
      "134:\tlearn: 0.0000537\ttotal: 5m 31s\tremaining: 35m 26s\n",
      "135:\tlearn: 0.0000536\ttotal: 5m 32s\tremaining: 35m 9s\n",
      "136:\tlearn: 0.0000531\ttotal: 5m 32s\tremaining: 34m 53s\n",
      "137:\tlearn: 0.0000526\ttotal: 5m 32s\tremaining: 34m 36s\n",
      "138:\tlearn: 0.0000524\ttotal: 5m 32s\tremaining: 34m 21s\n",
      "139:\tlearn: 0.0000523\ttotal: 5m 32s\tremaining: 34m 5s\n",
      "140:\tlearn: 0.0000519\ttotal: 5m 33s\tremaining: 33m 49s\n",
      "141:\tlearn: 0.0000516\ttotal: 5m 33s\tremaining: 33m 34s\n",
      "142:\tlearn: 0.0000515\ttotal: 5m 33s\tremaining: 33m 19s\n",
      "143:\tlearn: 0.0000513\ttotal: 5m 33s\tremaining: 33m 4s\n",
      "144:\tlearn: 0.0000510\ttotal: 5m 34s\tremaining: 32m 50s\n",
      "145:\tlearn: 0.0000508\ttotal: 5m 34s\tremaining: 32m 35s\n",
      "146:\tlearn: 0.0000507\ttotal: 5m 34s\tremaining: 32m 21s\n",
      "147:\tlearn: 0.0000505\ttotal: 5m 34s\tremaining: 32m 7s\n",
      "148:\tlearn: 0.0000505\ttotal: 5m 34s\tremaining: 31m 53s\n",
      "149:\tlearn: 0.0000504\ttotal: 5m 35s\tremaining: 31m 39s\n",
      "150:\tlearn: 0.0000501\ttotal: 5m 35s\tremaining: 31m 25s\n",
      "151:\tlearn: 0.0000500\ttotal: 5m 35s\tremaining: 31m 12s\n",
      "152:\tlearn: 0.0000499\ttotal: 5m 35s\tremaining: 30m 59s\n",
      "153:\tlearn: 0.0000497\ttotal: 5m 36s\tremaining: 30m 46s\n",
      "154:\tlearn: 0.0000496\ttotal: 5m 36s\tremaining: 30m 33s\n",
      "155:\tlearn: 0.0000493\ttotal: 5m 36s\tremaining: 30m 20s\n",
      "156:\tlearn: 0.0000491\ttotal: 5m 36s\tremaining: 30m 8s\n",
      "157:\tlearn: 0.0000489\ttotal: 5m 36s\tremaining: 29m 55s\n",
      "158:\tlearn: 0.0000487\ttotal: 5m 37s\tremaining: 29m 43s\n",
      "159:\tlearn: 0.0000485\ttotal: 5m 37s\tremaining: 29m 31s\n",
      "160:\tlearn: 0.0000484\ttotal: 5m 37s\tremaining: 29m 19s\n",
      "161:\tlearn: 0.0000480\ttotal: 5m 37s\tremaining: 29m 7s\n",
      "162:\tlearn: 0.0000478\ttotal: 5m 38s\tremaining: 28m 56s\n",
      "163:\tlearn: 0.0000477\ttotal: 5m 38s\tremaining: 28m 44s\n",
      "164:\tlearn: 0.0000476\ttotal: 5m 38s\tremaining: 28m 33s\n",
      "165:\tlearn: 0.0000475\ttotal: 5m 38s\tremaining: 28m 21s\n",
      "166:\tlearn: 0.0000473\ttotal: 5m 38s\tremaining: 28m 10s\n",
      "167:\tlearn: 0.0000470\ttotal: 5m 39s\tremaining: 27m 59s\n",
      "168:\tlearn: 0.0000466\ttotal: 5m 39s\tremaining: 27m 48s\n",
      "169:\tlearn: 0.0000465\ttotal: 5m 39s\tremaining: 27m 38s\n",
      "170:\tlearn: 0.0000464\ttotal: 5m 39s\tremaining: 27m 27s\n",
      "171:\tlearn: 0.0000463\ttotal: 5m 40s\tremaining: 27m 16s\n",
      "172:\tlearn: 0.0000460\ttotal: 5m 40s\tremaining: 27m 6s\n",
      "173:\tlearn: 0.0000459\ttotal: 5m 40s\tremaining: 26m 56s\n",
      "174:\tlearn: 0.0000458\ttotal: 5m 40s\tremaining: 26m 46s\n",
      "175:\tlearn: 0.0000457\ttotal: 5m 40s\tremaining: 26m 35s\n",
      "176:\tlearn: 0.0000456\ttotal: 5m 41s\tremaining: 26m 26s\n",
      "177:\tlearn: 0.0000454\ttotal: 5m 41s\tremaining: 26m 16s\n",
      "178:\tlearn: 0.0000453\ttotal: 5m 41s\tremaining: 26m 6s\n",
      "179:\tlearn: 0.0000452\ttotal: 5m 41s\tremaining: 25m 57s\n",
      "180:\tlearn: 0.0000451\ttotal: 5m 42s\tremaining: 25m 47s\n",
      "181:\tlearn: 0.0000448\ttotal: 5m 42s\tremaining: 25m 38s\n",
      "182:\tlearn: 0.0000447\ttotal: 5m 42s\tremaining: 25m 29s\n",
      "183:\tlearn: 0.0000445\ttotal: 5m 42s\tremaining: 25m 20s\n",
      "184:\tlearn: 0.0000443\ttotal: 5m 43s\tremaining: 25m 11s\n",
      "185:\tlearn: 0.0000442\ttotal: 5m 43s\tremaining: 25m 2s\n",
      "186:\tlearn: 0.0000440\ttotal: 5m 43s\tremaining: 24m 53s\n",
      "187:\tlearn: 0.0000439\ttotal: 5m 43s\tremaining: 24m 45s\n",
      "188:\tlearn: 0.0000435\ttotal: 5m 44s\tremaining: 24m 36s\n",
      "189:\tlearn: 0.0000434\ttotal: 5m 44s\tremaining: 24m 28s\n",
      "190:\tlearn: 0.0000433\ttotal: 8m 19s\tremaining: 35m 14s\n",
      "191:\tlearn: 0.0000431\ttotal: 10m 39s\tremaining: 44m 50s\n",
      "192:\tlearn: 0.0000431\ttotal: 12m 57s\tremaining: 54m 11s\n",
      "193:\tlearn: 0.0000428\ttotal: 16m 29s\tremaining: 1h 8m 31s\n",
      "194:\tlearn: 0.0000428\ttotal: 21m 33s\tremaining: 1h 29m\n",
      "195:\tlearn: 0.0000426\ttotal: 23m 54s\tremaining: 1h 38m 4s\n",
      "196:\tlearn: 0.0000423\ttotal: 26m 8s\tremaining: 1h 46m 34s\n",
      "197:\tlearn: 0.0000421\ttotal: 27m 51s\tremaining: 1h 52m 48s\n",
      "198:\tlearn: 0.0000420\ttotal: 27m 51s\tremaining: 1h 52m 7s\n",
      "199:\tlearn: 0.0000419\ttotal: 27m 51s\tremaining: 1h 51m 26s\n",
      "200:\tlearn: 0.0000418\ttotal: 27m 51s\tremaining: 1h 50m 45s\n",
      "201:\tlearn: 0.0000418\ttotal: 27m 52s\tremaining: 1h 50m 5s\n",
      "202:\tlearn: 0.0000416\ttotal: 27m 52s\tremaining: 1h 49m 25s\n",
      "203:\tlearn: 0.0000416\ttotal: 27m 52s\tremaining: 1h 48m 46s\n",
      "204:\tlearn: 0.0000415\ttotal: 27m 52s\tremaining: 1h 48m 7s\n",
      "205:\tlearn: 0.0000414\ttotal: 27m 52s\tremaining: 1h 47m 28s\n",
      "206:\tlearn: 0.0000411\ttotal: 27m 53s\tremaining: 1h 46m 49s\n",
      "207:\tlearn: 0.0000411\ttotal: 27m 53s\tremaining: 1h 46m 11s\n",
      "208:\tlearn: 0.0000410\ttotal: 27m 53s\tremaining: 1h 45m 34s\n",
      "209:\tlearn: 0.0000406\ttotal: 27m 53s\tremaining: 1h 44m 57s\n",
      "210:\tlearn: 0.0000404\ttotal: 27m 54s\tremaining: 1h 44m 20s\n",
      "211:\tlearn: 0.0000403\ttotal: 27m 54s\tremaining: 1h 43m 43s\n",
      "212:\tlearn: 0.0000402\ttotal: 27m 54s\tremaining: 1h 43m 7s\n",
      "213:\tlearn: 0.0000401\ttotal: 27m 54s\tremaining: 1h 42m 31s\n",
      "214:\tlearn: 0.0000399\ttotal: 27m 55s\tremaining: 1h 41m 56s\n",
      "215:\tlearn: 0.0000397\ttotal: 27m 55s\tremaining: 1h 41m 21s\n",
      "216:\tlearn: 0.0000396\ttotal: 27m 55s\tremaining: 1h 40m 45s\n",
      "217:\tlearn: 0.0000390\ttotal: 27m 55s\tremaining: 1h 40m 11s\n",
      "218:\tlearn: 0.0000389\ttotal: 27m 55s\tremaining: 1h 39m 36s\n",
      "219:\tlearn: 0.0000388\ttotal: 27m 56s\tremaining: 1h 39m 2s\n",
      "220:\tlearn: 0.0000388\ttotal: 27m 56s\tremaining: 1h 38m 29s\n",
      "221:\tlearn: 0.0000387\ttotal: 27m 56s\tremaining: 1h 37m 55s\n",
      "222:\tlearn: 0.0000386\ttotal: 27m 56s\tremaining: 1h 37m 22s\n",
      "223:\tlearn: 0.0000385\ttotal: 27m 57s\tremaining: 1h 36m 49s\n",
      "224:\tlearn: 0.0000384\ttotal: 27m 57s\tremaining: 1h 36m 17s\n",
      "225:\tlearn: 0.0000382\ttotal: 27m 57s\tremaining: 1h 35m 45s\n",
      "226:\tlearn: 0.0000381\ttotal: 27m 57s\tremaining: 1h 35m 13s\n",
      "227:\tlearn: 0.0000379\ttotal: 27m 58s\tremaining: 1h 34m 41s\n",
      "228:\tlearn: 0.0000379\ttotal: 27m 58s\tremaining: 1h 34m 10s\n",
      "229:\tlearn: 0.0000376\ttotal: 27m 58s\tremaining: 1h 33m 39s\n",
      "230:\tlearn: 0.0000375\ttotal: 27m 58s\tremaining: 1h 33m 8s\n",
      "231:\tlearn: 0.0000373\ttotal: 27m 58s\tremaining: 1h 32m 37s\n",
      "232:\tlearn: 0.0000370\ttotal: 27m 59s\tremaining: 1h 32m 7s\n",
      "233:\tlearn: 0.0000369\ttotal: 27m 59s\tremaining: 1h 31m 37s\n",
      "234:\tlearn: 0.0000368\ttotal: 27m 59s\tremaining: 1h 31m 7s\n",
      "235:\tlearn: 0.0000368\ttotal: 27m 59s\tremaining: 1h 30m 37s\n",
      "236:\tlearn: 0.0000366\ttotal: 27m 59s\tremaining: 1h 30m 8s\n",
      "237:\tlearn: 0.0000365\ttotal: 28m\tremaining: 1h 29m 39s\n",
      "238:\tlearn: 0.0000365\ttotal: 28m\tremaining: 1h 29m 10s\n",
      "239:\tlearn: 0.0000363\ttotal: 28m\tremaining: 1h 28m 42s\n",
      "240:\tlearn: 0.0000361\ttotal: 28m\tremaining: 1h 28m 13s\n",
      "241:\tlearn: 0.0000360\ttotal: 28m 1s\tremaining: 1h 27m 45s\n",
      "242:\tlearn: 0.0000359\ttotal: 28m 1s\tremaining: 1h 27m 17s\n",
      "243:\tlearn: 0.0000359\ttotal: 28m 1s\tremaining: 1h 26m 50s\n",
      "244:\tlearn: 0.0000357\ttotal: 28m 1s\tremaining: 1h 26m 22s\n",
      "245:\tlearn: 0.0000357\ttotal: 28m 2s\tremaining: 1h 25m 55s\n",
      "246:\tlearn: 0.0000355\ttotal: 28m 2s\tremaining: 1h 25m 28s\n",
      "247:\tlearn: 0.0000353\ttotal: 28m 2s\tremaining: 1h 25m 1s\n",
      "248:\tlearn: 0.0000352\ttotal: 28m 2s\tremaining: 1h 24m 35s\n",
      "249:\tlearn: 0.0000352\ttotal: 28m 2s\tremaining: 1h 24m 8s\n",
      "250:\tlearn: 0.0000350\ttotal: 28m 3s\tremaining: 1h 23m 42s\n",
      "251:\tlearn: 0.0000349\ttotal: 28m 3s\tremaining: 1h 23m 16s\n",
      "252:\tlearn: 0.0000348\ttotal: 28m 3s\tremaining: 1h 22m 50s\n",
      "253:\tlearn: 0.0000346\ttotal: 28m 3s\tremaining: 1h 22m 25s\n",
      "254:\tlearn: 0.0000345\ttotal: 28m 4s\tremaining: 1h 22m\n",
      "255:\tlearn: 0.0000345\ttotal: 28m 4s\tremaining: 1h 21m 34s\n",
      "256:\tlearn: 0.0000343\ttotal: 28m 4s\tremaining: 1h 21m 10s\n",
      "257:\tlearn: 0.0000342\ttotal: 28m 4s\tremaining: 1h 20m 45s\n",
      "258:\tlearn: 0.0000342\ttotal: 28m 4s\tremaining: 1h 20m 20s\n",
      "259:\tlearn: 0.0000341\ttotal: 28m 5s\tremaining: 1h 19m 56s\n",
      "260:\tlearn: 0.0000340\ttotal: 28m 5s\tremaining: 1h 19m 31s\n",
      "261:\tlearn: 0.0000338\ttotal: 28m 5s\tremaining: 1h 19m 7s\n",
      "262:\tlearn: 0.0000336\ttotal: 28m 5s\tremaining: 1h 18m 44s\n",
      "263:\tlearn: 0.0000336\ttotal: 28m 6s\tremaining: 1h 18m 20s\n",
      "264:\tlearn: 0.0000336\ttotal: 28m 6s\tremaining: 1h 17m 56s\n",
      "265:\tlearn: 0.0000335\ttotal: 28m 6s\tremaining: 1h 17m 33s\n",
      "266:\tlearn: 0.0000334\ttotal: 28m 6s\tremaining: 1h 17m 10s\n",
      "267:\tlearn: 0.0000334\ttotal: 28m 6s\tremaining: 1h 16m 47s\n",
      "268:\tlearn: 0.0000332\ttotal: 28m 7s\tremaining: 1h 16m 24s\n",
      "269:\tlearn: 0.0000330\ttotal: 28m 7s\tremaining: 1h 16m 1s\n",
      "270:\tlearn: 0.0000330\ttotal: 28m 7s\tremaining: 1h 15m 39s\n",
      "271:\tlearn: 0.0000329\ttotal: 28m 7s\tremaining: 1h 15m 17s\n",
      "272:\tlearn: 0.0000329\ttotal: 28m 8s\tremaining: 1h 14m 55s\n",
      "273:\tlearn: 0.0000328\ttotal: 28m 8s\tremaining: 1h 14m 33s\n",
      "274:\tlearn: 0.0000327\ttotal: 28m 8s\tremaining: 1h 14m 11s\n",
      "275:\tlearn: 0.0000327\ttotal: 28m 8s\tremaining: 1h 13m 50s\n",
      "276:\tlearn: 0.0000325\ttotal: 28m 9s\tremaining: 1h 13m 28s\n",
      "277:\tlearn: 0.0000324\ttotal: 28m 9s\tremaining: 1h 13m 7s\n",
      "278:\tlearn: 0.0000323\ttotal: 28m 9s\tremaining: 1h 12m 46s\n",
      "279:\tlearn: 0.0000322\ttotal: 28m 9s\tremaining: 1h 12m 25s\n",
      "280:\tlearn: 0.0000321\ttotal: 28m 10s\tremaining: 1h 12m 4s\n",
      "281:\tlearn: 0.0000321\ttotal: 28m 10s\tremaining: 1h 11m 43s\n",
      "282:\tlearn: 0.0000320\ttotal: 28m 10s\tremaining: 1h 11m 23s\n",
      "283:\tlearn: 0.0000318\ttotal: 28m 10s\tremaining: 1h 11m 2s\n",
      "284:\tlearn: 0.0000317\ttotal: 28m 11s\tremaining: 1h 10m 42s\n",
      "285:\tlearn: 0.0000317\ttotal: 28m 11s\tremaining: 1h 10m 22s\n",
      "286:\tlearn: 0.0000316\ttotal: 28m 11s\tremaining: 1h 10m 2s\n",
      "287:\tlearn: 0.0000316\ttotal: 28m 11s\tremaining: 1h 9m 42s\n",
      "288:\tlearn: 0.0000314\ttotal: 28m 11s\tremaining: 1h 9m 22s\n",
      "289:\tlearn: 0.0000314\ttotal: 28m 12s\tremaining: 1h 9m 2s\n",
      "290:\tlearn: 0.0000314\ttotal: 28m 12s\tremaining: 1h 8m 43s\n",
      "291:\tlearn: 0.0000313\ttotal: 28m 12s\tremaining: 1h 8m 24s\n",
      "292:\tlearn: 0.0000313\ttotal: 28m 12s\tremaining: 1h 8m 4s\n",
      "293:\tlearn: 0.0000312\ttotal: 28m 13s\tremaining: 1h 7m 45s\n",
      "294:\tlearn: 0.0000311\ttotal: 28m 13s\tremaining: 1h 7m 26s\n",
      "295:\tlearn: 0.0000311\ttotal: 28m 13s\tremaining: 1h 7m 7s\n",
      "296:\tlearn: 0.0000309\ttotal: 28m 13s\tremaining: 1h 6m 49s\n",
      "297:\tlearn: 0.0000309\ttotal: 28m 13s\tremaining: 1h 6m 30s\n",
      "298:\tlearn: 0.0000308\ttotal: 28m 14s\tremaining: 1h 6m 12s\n",
      "299:\tlearn: 0.0000308\ttotal: 28m 14s\tremaining: 1h 5m 53s\n",
      "300:\tlearn: 0.0000307\ttotal: 28m 14s\tremaining: 1h 5m 35s\n",
      "301:\tlearn: 0.0000306\ttotal: 28m 14s\tremaining: 1h 5m 17s\n",
      "302:\tlearn: 0.0000305\ttotal: 28m 15s\tremaining: 1h 4m 59s\n",
      "303:\tlearn: 0.0000303\ttotal: 28m 15s\tremaining: 1h 4m 41s\n",
      "304:\tlearn: 0.0000302\ttotal: 28m 15s\tremaining: 1h 4m 23s\n",
      "305:\tlearn: 0.0000301\ttotal: 28m 15s\tremaining: 1h 4m 6s\n",
      "306:\tlearn: 0.0000301\ttotal: 28m 16s\tremaining: 1h 3m 48s\n",
      "307:\tlearn: 0.0000300\ttotal: 28m 16s\tremaining: 1h 3m 31s\n",
      "308:\tlearn: 0.0000299\ttotal: 28m 16s\tremaining: 1h 3m 13s\n",
      "309:\tlearn: 0.0000298\ttotal: 28m 16s\tremaining: 1h 2m 56s\n",
      "310:\tlearn: 0.0000297\ttotal: 28m 17s\tremaining: 1h 2m 40s\n",
      "311:\tlearn: 0.0000296\ttotal: 29m 25s\tremaining: 1h 4m 53s\n",
      "312:\tlearn: 0.0000296\ttotal: 29m 26s\tremaining: 1h 4m 36s\n",
      "313:\tlearn: 0.0000294\ttotal: 29m 26s\tremaining: 1h 4m 19s\n",
      "314:\tlearn: 0.0000293\ttotal: 29m 26s\tremaining: 1h 4m 1s\n",
      "315:\tlearn: 0.0000292\ttotal: 29m 26s\tremaining: 1h 3m 44s\n",
      "316:\tlearn: 0.0000292\ttotal: 29m 27s\tremaining: 1h 3m 27s\n",
      "317:\tlearn: 0.0000292\ttotal: 29m 27s\tremaining: 1h 3m 10s\n",
      "318:\tlearn: 0.0000291\ttotal: 29m 27s\tremaining: 1h 2m 53s\n",
      "319:\tlearn: 0.0000290\ttotal: 29m 27s\tremaining: 1h 2m 36s\n",
      "320:\tlearn: 0.0000289\ttotal: 29m 28s\tremaining: 1h 2m 19s\n",
      "321:\tlearn: 0.0000288\ttotal: 29m 28s\tremaining: 1h 2m 3s\n",
      "322:\tlearn: 0.0000287\ttotal: 29m 28s\tremaining: 1h 1m 46s\n",
      "323:\tlearn: 0.0000287\ttotal: 29m 28s\tremaining: 1h 1m 30s\n",
      "324:\tlearn: 0.0000287\ttotal: 29m 29s\tremaining: 1h 1m 14s\n",
      "325:\tlearn: 0.0000286\ttotal: 29m 29s\tremaining: 1h 57s\n",
      "326:\tlearn: 0.0000285\ttotal: 29m 29s\tremaining: 1h 41s\n",
      "327:\tlearn: 0.0000284\ttotal: 29m 29s\tremaining: 1h 25s\n",
      "328:\tlearn: 0.0000284\ttotal: 29m 29s\tremaining: 1h 9s\n",
      "329:\tlearn: 0.0000283\ttotal: 29m 30s\tremaining: 59m 53s\n",
      "330:\tlearn: 0.0000282\ttotal: 29m 30s\tremaining: 59m 38s\n",
      "331:\tlearn: 0.0000281\ttotal: 29m 30s\tremaining: 59m 22s\n",
      "332:\tlearn: 0.0000281\ttotal: 29m 30s\tremaining: 59m 7s\n",
      "333:\tlearn: 0.0000280\ttotal: 29m 31s\tremaining: 58m 51s\n",
      "334:\tlearn: 0.0000280\ttotal: 29m 31s\tremaining: 58m 36s\n",
      "335:\tlearn: 0.0000279\ttotal: 29m 31s\tremaining: 58m 20s\n",
      "336:\tlearn: 0.0000279\ttotal: 29m 31s\tremaining: 58m 5s\n",
      "337:\tlearn: 0.0000278\ttotal: 29m 31s\tremaining: 57m 50s\n",
      "338:\tlearn: 0.0000277\ttotal: 29m 32s\tremaining: 57m 35s\n",
      "339:\tlearn: 0.0000276\ttotal: 29m 32s\tremaining: 57m 20s\n",
      "340:\tlearn: 0.0000276\ttotal: 29m 32s\tremaining: 57m 5s\n",
      "341:\tlearn: 0.0000275\ttotal: 29m 32s\tremaining: 56m 50s\n",
      "342:\tlearn: 0.0000274\ttotal: 29m 33s\tremaining: 56m 36s\n",
      "343:\tlearn: 0.0000274\ttotal: 29m 33s\tremaining: 56m 21s\n",
      "344:\tlearn: 0.0000274\ttotal: 29m 33s\tremaining: 56m 7s\n",
      "345:\tlearn: 0.0000273\ttotal: 29m 33s\tremaining: 55m 53s\n",
      "346:\tlearn: 0.0000272\ttotal: 29m 34s\tremaining: 55m 38s\n",
      "347:\tlearn: 0.0000272\ttotal: 29m 34s\tremaining: 55m 24s\n",
      "348:\tlearn: 0.0000272\ttotal: 29m 34s\tremaining: 55m 10s\n",
      "349:\tlearn: 0.0000271\ttotal: 29m 34s\tremaining: 54m 56s\n",
      "350:\tlearn: 0.0000271\ttotal: 29m 35s\tremaining: 54m 42s\n",
      "351:\tlearn: 0.0000270\ttotal: 29m 35s\tremaining: 54m 28s\n",
      "352:\tlearn: 0.0000270\ttotal: 29m 35s\tremaining: 54m 14s\n",
      "353:\tlearn: 0.0000269\ttotal: 29m 35s\tremaining: 54m\n",
      "354:\tlearn: 0.0000268\ttotal: 29m 35s\tremaining: 53m 46s\n",
      "355:\tlearn: 0.0000267\ttotal: 29m 36s\tremaining: 53m 33s\n",
      "356:\tlearn: 0.0000266\ttotal: 29m 36s\tremaining: 53m 19s\n",
      "357:\tlearn: 0.0000266\ttotal: 29m 36s\tremaining: 53m 5s\n",
      "358:\tlearn: 0.0000265\ttotal: 29m 36s\tremaining: 52m 52s\n",
      "359:\tlearn: 0.0000264\ttotal: 29m 37s\tremaining: 52m 39s\n",
      "360:\tlearn: 0.0000264\ttotal: 29m 37s\tremaining: 52m 26s\n",
      "361:\tlearn: 0.0000263\ttotal: 29m 37s\tremaining: 52m 12s\n",
      "362:\tlearn: 0.0000262\ttotal: 29m 37s\tremaining: 51m 59s\n",
      "363:\tlearn: 0.0000261\ttotal: 29m 38s\tremaining: 51m 46s\n",
      "364:\tlearn: 0.0000260\ttotal: 29m 38s\tremaining: 51m 33s\n",
      "365:\tlearn: 0.0000259\ttotal: 29m 38s\tremaining: 51m 20s\n",
      "366:\tlearn: 0.0000259\ttotal: 29m 38s\tremaining: 51m 8s\n",
      "367:\tlearn: 0.0000258\ttotal: 29m 39s\tremaining: 50m 55s\n",
      "368:\tlearn: 0.0000257\ttotal: 29m 39s\tremaining: 50m 42s\n",
      "369:\tlearn: 0.0000257\ttotal: 29m 39s\tremaining: 50m 30s\n",
      "370:\tlearn: 0.0000257\ttotal: 29m 39s\tremaining: 50m 17s\n",
      "371:\tlearn: 0.0000257\ttotal: 29m 40s\tremaining: 50m 5s\n",
      "372:\tlearn: 0.0000256\ttotal: 29m 40s\tremaining: 49m 52s\n",
      "373:\tlearn: 0.0000256\ttotal: 29m 40s\tremaining: 49m 40s\n",
      "374:\tlearn: 0.0000254\ttotal: 29m 40s\tremaining: 49m 28s\n",
      "375:\tlearn: 0.0000253\ttotal: 29m 41s\tremaining: 49m 15s\n",
      "376:\tlearn: 0.0000253\ttotal: 29m 41s\tremaining: 49m 3s\n",
      "377:\tlearn: 0.0000252\ttotal: 29m 41s\tremaining: 48m 51s\n",
      "378:\tlearn: 0.0000251\ttotal: 29m 41s\tremaining: 48m 39s\n",
      "379:\tlearn: 0.0000251\ttotal: 29m 42s\tremaining: 48m 27s\n",
      "380:\tlearn: 0.0000251\ttotal: 29m 42s\tremaining: 48m 16s\n",
      "381:\tlearn: 0.0000250\ttotal: 29m 42s\tremaining: 48m 4s\n",
      "382:\tlearn: 0.0000250\ttotal: 29m 43s\tremaining: 47m 52s\n",
      "383:\tlearn: 0.0000249\ttotal: 29m 43s\tremaining: 47m 40s\n",
      "384:\tlearn: 0.0000249\ttotal: 29m 43s\tremaining: 47m 28s\n",
      "385:\tlearn: 0.0000249\ttotal: 29m 43s\tremaining: 47m 17s\n",
      "386:\tlearn: 0.0000248\ttotal: 29m 43s\tremaining: 47m 5s\n",
      "387:\tlearn: 0.0000248\ttotal: 29m 44s\tremaining: 46m 54s\n",
      "388:\tlearn: 0.0000248\ttotal: 29m 44s\tremaining: 46m 42s\n",
      "389:\tlearn: 0.0000247\ttotal: 29m 44s\tremaining: 46m 31s\n",
      "390:\tlearn: 0.0000246\ttotal: 29m 44s\tremaining: 46m 19s\n",
      "391:\tlearn: 0.0000246\ttotal: 29m 45s\tremaining: 46m 8s\n",
      "392:\tlearn: 0.0000245\ttotal: 29m 45s\tremaining: 45m 57s\n",
      "393:\tlearn: 0.0000244\ttotal: 29m 45s\tremaining: 45m 46s\n",
      "394:\tlearn: 0.0000244\ttotal: 29m 45s\tremaining: 45m 35s\n",
      "395:\tlearn: 0.0000243\ttotal: 29m 46s\tremaining: 45m 24s\n",
      "396:\tlearn: 0.0000243\ttotal: 29m 46s\tremaining: 45m 13s\n",
      "397:\tlearn: 0.0000242\ttotal: 29m 46s\tremaining: 45m 2s\n",
      "398:\tlearn: 0.0000241\ttotal: 29m 46s\tremaining: 44m 51s\n",
      "399:\tlearn: 0.0000240\ttotal: 29m 47s\tremaining: 44m 40s\n",
      "400:\tlearn: 0.0000240\ttotal: 29m 47s\tremaining: 44m 29s\n",
      "401:\tlearn: 0.0000240\ttotal: 29m 47s\tremaining: 44m 19s\n",
      "402:\tlearn: 0.0000239\ttotal: 29m 47s\tremaining: 44m 8s\n",
      "403:\tlearn: 0.0000238\ttotal: 29m 48s\tremaining: 43m 57s\n",
      "404:\tlearn: 0.0000238\ttotal: 29m 48s\tremaining: 43m 47s\n",
      "405:\tlearn: 0.0000238\ttotal: 29m 48s\tremaining: 43m 36s\n",
      "406:\tlearn: 0.0000237\ttotal: 29m 48s\tremaining: 43m 26s\n",
      "407:\tlearn: 0.0000237\ttotal: 29m 48s\tremaining: 43m 15s\n",
      "408:\tlearn: 0.0000236\ttotal: 29m 49s\tremaining: 43m 5s\n",
      "409:\tlearn: 0.0000235\ttotal: 29m 49s\tremaining: 42m 55s\n",
      "410:\tlearn: 0.0000235\ttotal: 29m 49s\tremaining: 42m 44s\n",
      "411:\tlearn: 0.0000234\ttotal: 29m 49s\tremaining: 42m 34s\n",
      "412:\tlearn: 0.0000232\ttotal: 29m 50s\tremaining: 42m 24s\n",
      "413:\tlearn: 0.0000232\ttotal: 29m 50s\tremaining: 42m 14s\n",
      "414:\tlearn: 0.0000231\ttotal: 29m 50s\tremaining: 42m 4s\n",
      "415:\tlearn: 0.0000231\ttotal: 29m 50s\tremaining: 41m 54s\n",
      "416:\tlearn: 0.0000230\ttotal: 29m 51s\tremaining: 41m 44s\n",
      "417:\tlearn: 0.0000230\ttotal: 29m 51s\tremaining: 41m 34s\n",
      "418:\tlearn: 0.0000229\ttotal: 29m 51s\tremaining: 41m 24s\n",
      "419:\tlearn: 0.0000229\ttotal: 29m 51s\tremaining: 41m 14s\n",
      "420:\tlearn: 0.0000228\ttotal: 29m 52s\tremaining: 41m 4s\n",
      "421:\tlearn: 0.0000228\ttotal: 29m 52s\tremaining: 40m 54s\n",
      "422:\tlearn: 0.0000227\ttotal: 29m 52s\tremaining: 40m 45s\n",
      "423:\tlearn: 0.0000227\ttotal: 29m 52s\tremaining: 40m 35s\n",
      "424:\tlearn: 0.0000226\ttotal: 29m 53s\tremaining: 40m 25s\n",
      "425:\tlearn: 0.0000226\ttotal: 29m 53s\tremaining: 40m 16s\n",
      "426:\tlearn: 0.0000225\ttotal: 29m 53s\tremaining: 40m 6s\n",
      "427:\tlearn: 0.0000225\ttotal: 29m 53s\tremaining: 39m 57s\n",
      "428:\tlearn: 0.0000224\ttotal: 29m 53s\tremaining: 39m 47s\n",
      "429:\tlearn: 0.0000224\ttotal: 29m 54s\tremaining: 39m 38s\n",
      "430:\tlearn: 0.0000223\ttotal: 29m 54s\tremaining: 39m 28s\n",
      "431:\tlearn: 0.0000223\ttotal: 29m 54s\tremaining: 39m 19s\n",
      "432:\tlearn: 0.0000222\ttotal: 29m 54s\tremaining: 39m 10s\n",
      "433:\tlearn: 0.0000222\ttotal: 29m 55s\tremaining: 39m 1s\n",
      "434:\tlearn: 0.0000221\ttotal: 29m 55s\tremaining: 38m 52s\n",
      "435:\tlearn: 0.0000221\ttotal: 29m 55s\tremaining: 38m 43s\n",
      "436:\tlearn: 0.0000220\ttotal: 29m 56s\tremaining: 38m 34s\n",
      "437:\tlearn: 0.0000220\ttotal: 29m 56s\tremaining: 38m 25s\n",
      "438:\tlearn: 0.0000220\ttotal: 29m 56s\tremaining: 38m 16s\n",
      "439:\tlearn: 0.0000219\ttotal: 29m 57s\tremaining: 38m 7s\n",
      "440:\tlearn: 0.0000219\ttotal: 29m 57s\tremaining: 37m 58s\n",
      "441:\tlearn: 0.0000218\ttotal: 29m 57s\tremaining: 37m 49s\n",
      "442:\tlearn: 0.0000218\ttotal: 29m 57s\tremaining: 37m 40s\n",
      "443:\tlearn: 0.0000217\ttotal: 29m 58s\tremaining: 37m 31s\n",
      "444:\tlearn: 0.0000217\ttotal: 29m 58s\tremaining: 37m 22s\n",
      "445:\tlearn: 0.0000216\ttotal: 30m 2s\tremaining: 37m 18s\n",
      "446:\tlearn: 0.0000215\ttotal: 30m 2s\tremaining: 37m 9s\n",
      "447:\tlearn: 0.0000214\ttotal: 30m 2s\tremaining: 37m 1s\n",
      "448:\tlearn: 0.0000214\ttotal: 30m 2s\tremaining: 36m 52s\n",
      "449:\tlearn: 0.0000213\ttotal: 30m 3s\tremaining: 36m 43s\n",
      "450:\tlearn: 0.0000213\ttotal: 30m 3s\tremaining: 36m 35s\n",
      "451:\tlearn: 0.0000212\ttotal: 30m 3s\tremaining: 36m 26s\n",
      "452:\tlearn: 0.0000212\ttotal: 30m 3s\tremaining: 36m 18s\n",
      "453:\tlearn: 0.0000211\ttotal: 30m 4s\tremaining: 36m 9s\n",
      "454:\tlearn: 0.0000210\ttotal: 30m 4s\tremaining: 36m 1s\n",
      "455:\tlearn: 0.0000210\ttotal: 30m 4s\tremaining: 35m 52s\n",
      "456:\tlearn: 0.0000209\ttotal: 30m 4s\tremaining: 35m 44s\n",
      "457:\tlearn: 0.0000208\ttotal: 30m 5s\tremaining: 35m 36s\n",
      "458:\tlearn: 0.0000208\ttotal: 30m 5s\tremaining: 35m 27s\n",
      "459:\tlearn: 0.0000208\ttotal: 30m 5s\tremaining: 35m 19s\n",
      "460:\tlearn: 0.0000207\ttotal: 30m 5s\tremaining: 35m 11s\n",
      "461:\tlearn: 0.0000206\ttotal: 30m 6s\tremaining: 35m 3s\n",
      "462:\tlearn: 0.0000206\ttotal: 30m 6s\tremaining: 34m 55s\n",
      "463:\tlearn: 0.0000206\ttotal: 30m 6s\tremaining: 34m 46s\n",
      "464:\tlearn: 0.0000205\ttotal: 30m 6s\tremaining: 34m 38s\n",
      "465:\tlearn: 0.0000205\ttotal: 30m 7s\tremaining: 34m 30s\n",
      "466:\tlearn: 0.0000205\ttotal: 30m 7s\tremaining: 34m 22s\n",
      "467:\tlearn: 0.0000204\ttotal: 30m 7s\tremaining: 34m 14s\n",
      "468:\tlearn: 0.0000204\ttotal: 30m 7s\tremaining: 34m 6s\n",
      "469:\tlearn: 0.0000204\ttotal: 30m 8s\tremaining: 33m 58s\n",
      "470:\tlearn: 0.0000204\ttotal: 30m 8s\tremaining: 33m 50s\n",
      "471:\tlearn: 0.0000203\ttotal: 30m 8s\tremaining: 33m 43s\n",
      "472:\tlearn: 0.0000203\ttotal: 30m 8s\tremaining: 33m 35s\n",
      "473:\tlearn: 0.0000203\ttotal: 30m 8s\tremaining: 33m 27s\n",
      "474:\tlearn: 0.0000202\ttotal: 30m 9s\tremaining: 33m 20s\n",
      "475:\tlearn: 0.0000202\ttotal: 30m 10s\tremaining: 33m 12s\n",
      "476:\tlearn: 0.0000202\ttotal: 30m 10s\tremaining: 33m 5s\n",
      "477:\tlearn: 0.0000202\ttotal: 30m 10s\tremaining: 32m 57s\n",
      "478:\tlearn: 0.0000201\ttotal: 30m 11s\tremaining: 32m 49s\n",
      "479:\tlearn: 0.0000200\ttotal: 30m 11s\tremaining: 32m 42s\n",
      "480:\tlearn: 0.0000199\ttotal: 30m 11s\tremaining: 32m 34s\n",
      "481:\tlearn: 0.0000199\ttotal: 30m 11s\tremaining: 32m 27s\n",
      "482:\tlearn: 0.0000199\ttotal: 30m 12s\tremaining: 32m 19s\n",
      "483:\tlearn: 0.0000198\ttotal: 30m 12s\tremaining: 32m 12s\n",
      "484:\tlearn: 0.0000198\ttotal: 30m 12s\tremaining: 32m 4s\n",
      "485:\tlearn: 0.0000198\ttotal: 30m 12s\tremaining: 31m 57s\n",
      "486:\tlearn: 0.0000197\ttotal: 30m 13s\tremaining: 31m 49s\n",
      "487:\tlearn: 0.0000196\ttotal: 30m 13s\tremaining: 31m 42s\n",
      "488:\tlearn: 0.0000196\ttotal: 30m 13s\tremaining: 31m 35s\n",
      "489:\tlearn: 0.0000195\ttotal: 30m 13s\tremaining: 31m 27s\n",
      "490:\tlearn: 0.0000194\ttotal: 30m 13s\tremaining: 31m 20s\n",
      "491:\tlearn: 0.0000194\ttotal: 30m 14s\tremaining: 31m 13s\n",
      "492:\tlearn: 0.0000194\ttotal: 30m 14s\tremaining: 31m 5s\n",
      "493:\tlearn: 0.0000193\ttotal: 30m 14s\tremaining: 30m 58s\n",
      "494:\tlearn: 0.0000193\ttotal: 30m 14s\tremaining: 30m 51s\n",
      "495:\tlearn: 0.0000193\ttotal: 30m 15s\tremaining: 30m 44s\n",
      "496:\tlearn: 0.0000192\ttotal: 30m 15s\tremaining: 30m 37s\n",
      "497:\tlearn: 0.0000192\ttotal: 30m 15s\tremaining: 30m 30s\n",
      "498:\tlearn: 0.0000191\ttotal: 30m 15s\tremaining: 30m 22s\n",
      "499:\tlearn: 0.0000191\ttotal: 30m 15s\tremaining: 30m 15s\n",
      "500:\tlearn: 0.0000190\ttotal: 30m 16s\tremaining: 30m 8s\n",
      "501:\tlearn: 0.0000190\ttotal: 30m 16s\tremaining: 30m 1s\n",
      "502:\tlearn: 0.0000190\ttotal: 30m 16s\tremaining: 29m 54s\n",
      "503:\tlearn: 0.0000190\ttotal: 30m 16s\tremaining: 29m 47s\n",
      "504:\tlearn: 0.0000189\ttotal: 30m 17s\tremaining: 29m 41s\n",
      "505:\tlearn: 0.0000189\ttotal: 30m 18s\tremaining: 29m 35s\n",
      "506:\tlearn: 0.0000188\ttotal: 31m 6s\tremaining: 30m 15s\n",
      "507:\tlearn: 0.0000188\ttotal: 31m 7s\tremaining: 30m 8s\n",
      "508:\tlearn: 0.0000188\ttotal: 31m 7s\tremaining: 30m 1s\n",
      "509:\tlearn: 0.0000187\ttotal: 31m 7s\tremaining: 29m 54s\n",
      "510:\tlearn: 0.0000186\ttotal: 31m 7s\tremaining: 29m 47s\n",
      "511:\tlearn: 0.0000186\ttotal: 31m 8s\tremaining: 29m 40s\n",
      "512:\tlearn: 0.0000186\ttotal: 31m 8s\tremaining: 29m 33s\n",
      "513:\tlearn: 0.0000185\ttotal: 31m 8s\tremaining: 29m 26s\n",
      "514:\tlearn: 0.0000184\ttotal: 31m 8s\tremaining: 29m 19s\n",
      "515:\tlearn: 0.0000184\ttotal: 31m 9s\tremaining: 29m 13s\n",
      "516:\tlearn: 0.0000184\ttotal: 31m 9s\tremaining: 29m 6s\n",
      "517:\tlearn: 0.0000184\ttotal: 31m 9s\tremaining: 28m 59s\n",
      "518:\tlearn: 0.0000183\ttotal: 31m 9s\tremaining: 28m 52s\n",
      "519:\tlearn: 0.0000183\ttotal: 31m 9s\tremaining: 28m 46s\n",
      "520:\tlearn: 0.0000183\ttotal: 31m 10s\tremaining: 28m 39s\n",
      "521:\tlearn: 0.0000182\ttotal: 31m 10s\tremaining: 28m 32s\n",
      "522:\tlearn: 0.0000182\ttotal: 31m 10s\tremaining: 28m 26s\n",
      "523:\tlearn: 0.0000182\ttotal: 31m 10s\tremaining: 28m 19s\n",
      "524:\tlearn: 0.0000181\ttotal: 31m 11s\tremaining: 28m 12s\n",
      "525:\tlearn: 0.0000181\ttotal: 31m 11s\tremaining: 28m 6s\n",
      "526:\tlearn: 0.0000180\ttotal: 31m 11s\tremaining: 27m 59s\n",
      "527:\tlearn: 0.0000180\ttotal: 31m 11s\tremaining: 27m 53s\n",
      "528:\tlearn: 0.0000180\ttotal: 31m 11s\tremaining: 27m 46s\n",
      "529:\tlearn: 0.0000180\ttotal: 31m 12s\tremaining: 27m 40s\n",
      "530:\tlearn: 0.0000180\ttotal: 31m 12s\tremaining: 27m 33s\n",
      "531:\tlearn: 0.0000179\ttotal: 31m 12s\tremaining: 27m 27s\n",
      "532:\tlearn: 0.0000179\ttotal: 31m 12s\tremaining: 27m 20s\n",
      "533:\tlearn: 0.0000178\ttotal: 31m 12s\tremaining: 27m 14s\n",
      "534:\tlearn: 0.0000178\ttotal: 31m 13s\tremaining: 27m 8s\n",
      "535:\tlearn: 0.0000178\ttotal: 31m 13s\tremaining: 27m 1s\n",
      "536:\tlearn: 0.0000178\ttotal: 31m 13s\tremaining: 26m 55s\n",
      "537:\tlearn: 0.0000177\ttotal: 31m 13s\tremaining: 26m 49s\n",
      "538:\tlearn: 0.0000177\ttotal: 31m 14s\tremaining: 26m 42s\n",
      "539:\tlearn: 0.0000177\ttotal: 31m 14s\tremaining: 26m 36s\n",
      "540:\tlearn: 0.0000177\ttotal: 31m 14s\tremaining: 26m 30s\n",
      "541:\tlearn: 0.0000176\ttotal: 31m 14s\tremaining: 26m 24s\n",
      "542:\tlearn: 0.0000176\ttotal: 31m 15s\tremaining: 26m 18s\n",
      "543:\tlearn: 0.0000176\ttotal: 31m 15s\tremaining: 26m 11s\n",
      "544:\tlearn: 0.0000175\ttotal: 31m 15s\tremaining: 26m 5s\n",
      "545:\tlearn: 0.0000175\ttotal: 31m 15s\tremaining: 25m 59s\n",
      "546:\tlearn: 0.0000174\ttotal: 31m 16s\tremaining: 25m 53s\n",
      "547:\tlearn: 0.0000174\ttotal: 31m 16s\tremaining: 25m 47s\n",
      "548:\tlearn: 0.0000173\ttotal: 31m 16s\tremaining: 25m 41s\n",
      "549:\tlearn: 0.0000173\ttotal: 31m 16s\tremaining: 25m 35s\n",
      "550:\tlearn: 0.0000172\ttotal: 31m 17s\tremaining: 25m 29s\n",
      "551:\tlearn: 0.0000172\ttotal: 31m 17s\tremaining: 25m 23s\n",
      "552:\tlearn: 0.0000171\ttotal: 31m 17s\tremaining: 25m 17s\n",
      "553:\tlearn: 0.0000170\ttotal: 31m 17s\tremaining: 25m 11s\n",
      "554:\tlearn: 0.0000170\ttotal: 31m 17s\tremaining: 25m 5s\n",
      "555:\tlearn: 0.0000170\ttotal: 31m 18s\tremaining: 24m 59s\n",
      "556:\tlearn: 0.0000169\ttotal: 31m 18s\tremaining: 24m 53s\n",
      "557:\tlearn: 0.0000169\ttotal: 31m 18s\tremaining: 24m 48s\n",
      "558:\tlearn: 0.0000169\ttotal: 31m 18s\tremaining: 24m 42s\n",
      "559:\tlearn: 0.0000168\ttotal: 31m 19s\tremaining: 24m 36s\n",
      "560:\tlearn: 0.0000168\ttotal: 31m 19s\tremaining: 24m 30s\n",
      "561:\tlearn: 0.0000168\ttotal: 31m 19s\tremaining: 24m 24s\n",
      "562:\tlearn: 0.0000168\ttotal: 31m 19s\tremaining: 24m 19s\n",
      "563:\tlearn: 0.0000167\ttotal: 31m 20s\tremaining: 24m 13s\n",
      "564:\tlearn: 0.0000167\ttotal: 31m 20s\tremaining: 24m 7s\n",
      "565:\tlearn: 0.0000167\ttotal: 31m 20s\tremaining: 24m 1s\n",
      "566:\tlearn: 0.0000167\ttotal: 31m 20s\tremaining: 23m 56s\n",
      "567:\tlearn: 0.0000166\ttotal: 31m 21s\tremaining: 23m 50s\n",
      "568:\tlearn: 0.0000166\ttotal: 31m 21s\tremaining: 23m 45s\n",
      "569:\tlearn: 0.0000166\ttotal: 31m 35s\tremaining: 23m 49s\n",
      "570:\tlearn: 0.0000166\ttotal: 32m 26s\tremaining: 24m 22s\n",
      "571:\tlearn: 0.0000165\ttotal: 32m 26s\tremaining: 24m 16s\n",
      "572:\tlearn: 0.0000165\ttotal: 32m 26s\tremaining: 24m 10s\n",
      "573:\tlearn: 0.0000165\ttotal: 32m 27s\tremaining: 24m 5s\n",
      "574:\tlearn: 0.0000164\ttotal: 32m 27s\tremaining: 23m 59s\n",
      "575:\tlearn: 0.0000164\ttotal: 32m 27s\tremaining: 23m 53s\n",
      "576:\tlearn: 0.0000164\ttotal: 32m 27s\tremaining: 23m 47s\n",
      "577:\tlearn: 0.0000164\ttotal: 32m 27s\tremaining: 23m 42s\n",
      "578:\tlearn: 0.0000164\ttotal: 32m 28s\tremaining: 23m 36s\n",
      "579:\tlearn: 0.0000163\ttotal: 32m 28s\tremaining: 23m 30s\n",
      "580:\tlearn: 0.0000163\ttotal: 32m 28s\tremaining: 23m 25s\n",
      "581:\tlearn: 0.0000163\ttotal: 32m 28s\tremaining: 23m 19s\n",
      "582:\tlearn: 0.0000162\ttotal: 32m 29s\tremaining: 23m 14s\n",
      "583:\tlearn: 0.0000162\ttotal: 32m 29s\tremaining: 23m 8s\n",
      "584:\tlearn: 0.0000162\ttotal: 32m 29s\tremaining: 23m 3s\n",
      "585:\tlearn: 0.0000162\ttotal: 32m 29s\tremaining: 22m 57s\n",
      "586:\tlearn: 0.0000162\ttotal: 32m 30s\tremaining: 22m 52s\n",
      "587:\tlearn: 0.0000161\ttotal: 32m 30s\tremaining: 22m 46s\n",
      "588:\tlearn: 0.0000161\ttotal: 32m 30s\tremaining: 22m 41s\n",
      "589:\tlearn: 0.0000160\ttotal: 32m 30s\tremaining: 22m 35s\n",
      "590:\tlearn: 0.0000160\ttotal: 32m 31s\tremaining: 22m 30s\n",
      "591:\tlearn: 0.0000160\ttotal: 32m 31s\tremaining: 22m 24s\n",
      "592:\tlearn: 0.0000160\ttotal: 32m 31s\tremaining: 22m 19s\n",
      "593:\tlearn: 0.0000160\ttotal: 32m 31s\tremaining: 22m 14s\n",
      "594:\tlearn: 0.0000159\ttotal: 32m 32s\tremaining: 22m 8s\n",
      "595:\tlearn: 0.0000159\ttotal: 32m 32s\tremaining: 22m 3s\n",
      "596:\tlearn: 0.0000159\ttotal: 32m 32s\tremaining: 21m 58s\n",
      "597:\tlearn: 0.0000159\ttotal: 32m 32s\tremaining: 21m 52s\n",
      "598:\tlearn: 0.0000158\ttotal: 32m 33s\tremaining: 21m 47s\n",
      "599:\tlearn: 0.0000158\ttotal: 32m 33s\tremaining: 21m 42s\n",
      "600:\tlearn: 0.0000158\ttotal: 32m 33s\tremaining: 21m 36s\n",
      "601:\tlearn: 0.0000157\ttotal: 32m 33s\tremaining: 21m 31s\n",
      "602:\tlearn: 0.0000157\ttotal: 32m 34s\tremaining: 21m 26s\n",
      "603:\tlearn: 0.0000157\ttotal: 32m 34s\tremaining: 21m 21s\n",
      "604:\tlearn: 0.0000156\ttotal: 32m 34s\tremaining: 21m 16s\n",
      "605:\tlearn: 0.0000156\ttotal: 32m 34s\tremaining: 21m 11s\n",
      "606:\tlearn: 0.0000156\ttotal: 32m 35s\tremaining: 21m 5s\n",
      "607:\tlearn: 0.0000155\ttotal: 32m 35s\tremaining: 21m\n",
      "608:\tlearn: 0.0000155\ttotal: 32m 35s\tremaining: 20m 55s\n",
      "609:\tlearn: 0.0000155\ttotal: 32m 35s\tremaining: 20m 50s\n",
      "610:\tlearn: 0.0000154\ttotal: 32m 36s\tremaining: 20m 45s\n",
      "611:\tlearn: 0.0000154\ttotal: 32m 36s\tremaining: 20m 40s\n",
      "612:\tlearn: 0.0000154\ttotal: 32m 36s\tremaining: 20m 35s\n",
      "613:\tlearn: 0.0000153\ttotal: 32m 36s\tremaining: 20m 30s\n",
      "614:\tlearn: 0.0000153\ttotal: 32m 37s\tremaining: 20m 25s\n",
      "615:\tlearn: 0.0000153\ttotal: 32m 37s\tremaining: 20m 20s\n",
      "616:\tlearn: 0.0000153\ttotal: 32m 37s\tremaining: 20m 15s\n",
      "617:\tlearn: 0.0000153\ttotal: 32m 37s\tremaining: 20m 10s\n",
      "618:\tlearn: 0.0000153\ttotal: 32m 38s\tremaining: 20m 5s\n",
      "619:\tlearn: 0.0000153\ttotal: 32m 38s\tremaining: 20m\n",
      "620:\tlearn: 0.0000152\ttotal: 32m 38s\tremaining: 19m 55s\n",
      "621:\tlearn: 0.0000152\ttotal: 32m 38s\tremaining: 19m 50s\n",
      "622:\tlearn: 0.0000152\ttotal: 32m 38s\tremaining: 19m 45s\n",
      "623:\tlearn: 0.0000150\ttotal: 32m 39s\tremaining: 19m 40s\n",
      "624:\tlearn: 0.0000150\ttotal: 32m 39s\tremaining: 19m 35s\n",
      "625:\tlearn: 0.0000150\ttotal: 32m 39s\tremaining: 19m 30s\n",
      "626:\tlearn: 0.0000150\ttotal: 32m 39s\tremaining: 19m 25s\n",
      "627:\tlearn: 0.0000149\ttotal: 32m 40s\tremaining: 19m 21s\n",
      "628:\tlearn: 0.0000149\ttotal: 32m 40s\tremaining: 19m 16s\n",
      "629:\tlearn: 0.0000149\ttotal: 32m 40s\tremaining: 19m 11s\n",
      "630:\tlearn: 0.0000149\ttotal: 32m 40s\tremaining: 19m 6s\n",
      "631:\tlearn: 0.0000149\ttotal: 32m 41s\tremaining: 19m 1s\n",
      "632:\tlearn: 0.0000149\ttotal: 32m 41s\tremaining: 18m 57s\n",
      "633:\tlearn: 0.0000148\ttotal: 32m 41s\tremaining: 18m 52s\n",
      "634:\tlearn: 0.0000148\ttotal: 33m 12s\tremaining: 19m 5s\n",
      "635:\tlearn: 0.0000148\ttotal: 33m 12s\tremaining: 19m\n",
      "636:\tlearn: 0.0000147\ttotal: 33m 12s\tremaining: 18m 55s\n",
      "637:\tlearn: 0.0000147\ttotal: 33m 13s\tremaining: 18m 50s\n",
      "638:\tlearn: 0.0000147\ttotal: 33m 13s\tremaining: 18m 46s\n",
      "639:\tlearn: 0.0000147\ttotal: 33m 13s\tremaining: 18m 41s\n",
      "640:\tlearn: 0.0000146\ttotal: 33m 13s\tremaining: 18m 36s\n",
      "641:\tlearn: 0.0000146\ttotal: 33m 14s\tremaining: 18m 31s\n",
      "642:\tlearn: 0.0000145\ttotal: 33m 14s\tremaining: 18m 27s\n",
      "643:\tlearn: 0.0000145\ttotal: 33m 14s\tremaining: 18m 22s\n",
      "644:\tlearn: 0.0000145\ttotal: 33m 14s\tremaining: 18m 17s\n",
      "645:\tlearn: 0.0000144\ttotal: 33m 15s\tremaining: 18m 13s\n",
      "646:\tlearn: 0.0000144\ttotal: 33m 15s\tremaining: 18m 8s\n",
      "647:\tlearn: 0.0000143\ttotal: 33m 15s\tremaining: 18m 4s\n",
      "648:\tlearn: 0.0000143\ttotal: 33m 15s\tremaining: 17m 59s\n",
      "649:\tlearn: 0.0000143\ttotal: 33m 16s\tremaining: 17m 54s\n",
      "650:\tlearn: 0.0000143\ttotal: 33m 16s\tremaining: 17m 50s\n",
      "651:\tlearn: 0.0000142\ttotal: 33m 16s\tremaining: 17m 45s\n",
      "652:\tlearn: 0.0000142\ttotal: 33m 16s\tremaining: 17m 41s\n",
      "653:\tlearn: 0.0000142\ttotal: 33m 17s\tremaining: 17m 36s\n",
      "654:\tlearn: 0.0000142\ttotal: 33m 17s\tremaining: 17m 32s\n",
      "655:\tlearn: 0.0000142\ttotal: 33m 17s\tremaining: 17m 27s\n",
      "656:\tlearn: 0.0000141\ttotal: 33m 17s\tremaining: 17m 22s\n",
      "657:\tlearn: 0.0000141\ttotal: 33m 17s\tremaining: 17m 18s\n",
      "658:\tlearn: 0.0000141\ttotal: 33m 18s\tremaining: 17m 13s\n",
      "659:\tlearn: 0.0000140\ttotal: 33m 18s\tremaining: 17m 9s\n",
      "660:\tlearn: 0.0000140\ttotal: 33m 18s\tremaining: 17m 5s\n",
      "661:\tlearn: 0.0000140\ttotal: 33m 18s\tremaining: 17m\n",
      "662:\tlearn: 0.0000140\ttotal: 33m 19s\tremaining: 16m 56s\n",
      "663:\tlearn: 0.0000140\ttotal: 33m 19s\tremaining: 16m 51s\n",
      "664:\tlearn: 0.0000139\ttotal: 33m 19s\tremaining: 16m 47s\n",
      "665:\tlearn: 0.0000139\ttotal: 33m 19s\tremaining: 16m 42s\n",
      "666:\tlearn: 0.0000139\ttotal: 33m 19s\tremaining: 16m 38s\n",
      "667:\tlearn: 0.0000139\ttotal: 33m 20s\tremaining: 16m 34s\n",
      "668:\tlearn: 0.0000138\ttotal: 33m 20s\tremaining: 16m 29s\n",
      "669:\tlearn: 0.0000138\ttotal: 33m 20s\tremaining: 16m 25s\n",
      "670:\tlearn: 0.0000138\ttotal: 33m 20s\tremaining: 16m 21s\n",
      "671:\tlearn: 0.0000138\ttotal: 33m 21s\tremaining: 16m 16s\n",
      "672:\tlearn: 0.0000137\ttotal: 33m 21s\tremaining: 16m 12s\n",
      "673:\tlearn: 0.0000137\ttotal: 33m 21s\tremaining: 16m 8s\n",
      "674:\tlearn: 0.0000137\ttotal: 33m 21s\tremaining: 16m 3s\n",
      "675:\tlearn: 0.0000137\ttotal: 33m 22s\tremaining: 15m 59s\n",
      "676:\tlearn: 0.0000137\ttotal: 33m 22s\tremaining: 15m 55s\n",
      "677:\tlearn: 0.0000137\ttotal: 33m 22s\tremaining: 15m 51s\n",
      "678:\tlearn: 0.0000136\ttotal: 33m 22s\tremaining: 15m 46s\n",
      "679:\tlearn: 0.0000136\ttotal: 33m 22s\tremaining: 15m 42s\n",
      "680:\tlearn: 0.0000136\ttotal: 33m 23s\tremaining: 15m 38s\n",
      "681:\tlearn: 0.0000136\ttotal: 33m 23s\tremaining: 15m 34s\n",
      "682:\tlearn: 0.0000136\ttotal: 33m 23s\tremaining: 15m 29s\n",
      "683:\tlearn: 0.0000135\ttotal: 33m 23s\tremaining: 15m 25s\n",
      "684:\tlearn: 0.0000135\ttotal: 33m 24s\tremaining: 15m 21s\n",
      "685:\tlearn: 0.0000135\ttotal: 33m 24s\tremaining: 15m 17s\n",
      "686:\tlearn: 0.0000135\ttotal: 33m 24s\tremaining: 15m 13s\n",
      "687:\tlearn: 0.0000134\ttotal: 33m 24s\tremaining: 15m 9s\n",
      "688:\tlearn: 0.0000134\ttotal: 33m 25s\tremaining: 15m 5s\n",
      "689:\tlearn: 0.0000134\ttotal: 33m 25s\tremaining: 15m\n",
      "690:\tlearn: 0.0000134\ttotal: 33m 25s\tremaining: 14m 56s\n",
      "691:\tlearn: 0.0000133\ttotal: 33m 25s\tremaining: 14m 52s\n",
      "692:\tlearn: 0.0000133\ttotal: 33m 26s\tremaining: 14m 48s\n",
      "693:\tlearn: 0.0000133\ttotal: 33m 26s\tremaining: 14m 44s\n",
      "694:\tlearn: 0.0000132\ttotal: 33m 26s\tremaining: 14m 40s\n",
      "695:\tlearn: 0.0000132\ttotal: 33m 26s\tremaining: 14m 36s\n",
      "696:\tlearn: 0.0000132\ttotal: 33m 26s\tremaining: 14m 32s\n",
      "697:\tlearn: 0.0000132\ttotal: 33m 27s\tremaining: 14m 28s\n",
      "698:\tlearn: 0.0000132\ttotal: 33m 27s\tremaining: 14m 24s\n",
      "699:\tlearn: 0.0000131\ttotal: 33m 27s\tremaining: 14m 20s\n",
      "700:\tlearn: 0.0000131\ttotal: 33m 27s\tremaining: 14m 16s\n",
      "701:\tlearn: 0.0000131\ttotal: 33m 28s\tremaining: 14m 12s\n",
      "702:\tlearn: 0.0000131\ttotal: 33m 28s\tremaining: 14m 8s\n",
      "703:\tlearn: 0.0000130\ttotal: 33m 28s\tremaining: 14m 4s\n",
      "704:\tlearn: 0.0000130\ttotal: 33m 28s\tremaining: 14m\n",
      "705:\tlearn: 0.0000129\ttotal: 33m 29s\tremaining: 13m 56s\n",
      "706:\tlearn: 0.0000129\ttotal: 33m 29s\tremaining: 13m 52s\n",
      "707:\tlearn: 0.0000129\ttotal: 33m 29s\tremaining: 13m 48s\n",
      "708:\tlearn: 0.0000129\ttotal: 33m 29s\tremaining: 13m 44s\n",
      "709:\tlearn: 0.0000129\ttotal: 33m 29s\tremaining: 13m 40s\n",
      "710:\tlearn: 0.0000128\ttotal: 33m 30s\tremaining: 13m 37s\n",
      "711:\tlearn: 0.0000128\ttotal: 33m 30s\tremaining: 13m 33s\n",
      "712:\tlearn: 0.0000128\ttotal: 33m 30s\tremaining: 13m 29s\n",
      "713:\tlearn: 0.0000128\ttotal: 33m 30s\tremaining: 13m 25s\n",
      "714:\tlearn: 0.0000127\ttotal: 33m 31s\tremaining: 13m 21s\n",
      "715:\tlearn: 0.0000127\ttotal: 33m 31s\tremaining: 13m 17s\n",
      "716:\tlearn: 0.0000127\ttotal: 33m 31s\tremaining: 13m 13s\n",
      "717:\tlearn: 0.0000126\ttotal: 33m 31s\tremaining: 13m 10s\n",
      "718:\tlearn: 0.0000126\ttotal: 33m 31s\tremaining: 13m 6s\n",
      "719:\tlearn: 0.0000126\ttotal: 33m 32s\tremaining: 13m 2s\n",
      "720:\tlearn: 0.0000126\ttotal: 33m 32s\tremaining: 12m 58s\n",
      "721:\tlearn: 0.0000125\ttotal: 33m 32s\tremaining: 12m 54s\n",
      "722:\tlearn: 0.0000125\ttotal: 33m 32s\tremaining: 12m 51s\n",
      "723:\tlearn: 0.0000124\ttotal: 33m 33s\tremaining: 12m 47s\n",
      "724:\tlearn: 0.0000124\ttotal: 33m 33s\tremaining: 12m 43s\n",
      "725:\tlearn: 0.0000124\ttotal: 33m 33s\tremaining: 12m 39s\n",
      "726:\tlearn: 0.0000124\ttotal: 33m 33s\tremaining: 12m 36s\n",
      "727:\tlearn: 0.0000124\ttotal: 33m 34s\tremaining: 12m 32s\n",
      "728:\tlearn: 0.0000123\ttotal: 33m 34s\tremaining: 12m 28s\n",
      "729:\tlearn: 0.0000123\ttotal: 33m 34s\tremaining: 12m 25s\n",
      "730:\tlearn: 0.0000123\ttotal: 33m 34s\tremaining: 12m 21s\n",
      "731:\tlearn: 0.0000123\ttotal: 33m 35s\tremaining: 12m 17s\n",
      "732:\tlearn: 0.0000122\ttotal: 33m 35s\tremaining: 12m 14s\n",
      "733:\tlearn: 0.0000122\ttotal: 33m 35s\tremaining: 12m 10s\n",
      "734:\tlearn: 0.0000122\ttotal: 33m 35s\tremaining: 12m 6s\n",
      "735:\tlearn: 0.0000122\ttotal: 33m 36s\tremaining: 12m 3s\n",
      "736:\tlearn: 0.0000122\ttotal: 33m 36s\tremaining: 11m 59s\n",
      "737:\tlearn: 0.0000122\ttotal: 33m 36s\tremaining: 11m 55s\n",
      "738:\tlearn: 0.0000121\ttotal: 33m 36s\tremaining: 11m 52s\n",
      "739:\tlearn: 0.0000121\ttotal: 33m 37s\tremaining: 11m 48s\n",
      "740:\tlearn: 0.0000121\ttotal: 33m 37s\tremaining: 11m 45s\n",
      "741:\tlearn: 0.0000121\ttotal: 33m 37s\tremaining: 11m 41s\n",
      "742:\tlearn: 0.0000121\ttotal: 33m 37s\tremaining: 11m 37s\n",
      "743:\tlearn: 0.0000120\ttotal: 33m 37s\tremaining: 11m 34s\n",
      "744:\tlearn: 0.0000120\ttotal: 33m 38s\tremaining: 11m 30s\n",
      "745:\tlearn: 0.0000120\ttotal: 33m 38s\tremaining: 11m 27s\n",
      "746:\tlearn: 0.0000120\ttotal: 33m 38s\tremaining: 11m 23s\n",
      "747:\tlearn: 0.0000120\ttotal: 33m 38s\tremaining: 11m 20s\n",
      "748:\tlearn: 0.0000120\ttotal: 33m 39s\tremaining: 11m 16s\n",
      "749:\tlearn: 0.0000120\ttotal: 33m 39s\tremaining: 11m 13s\n",
      "750:\tlearn: 0.0000120\ttotal: 33m 39s\tremaining: 11m 9s\n",
      "751:\tlearn: 0.0000119\ttotal: 33m 39s\tremaining: 11m 6s\n",
      "752:\tlearn: 0.0000119\ttotal: 33m 39s\tremaining: 11m 2s\n",
      "753:\tlearn: 0.0000119\ttotal: 33m 40s\tremaining: 10m 59s\n",
      "754:\tlearn: 0.0000119\ttotal: 33m 40s\tremaining: 10m 55s\n",
      "755:\tlearn: 0.0000119\ttotal: 33m 40s\tremaining: 10m 52s\n",
      "756:\tlearn: 0.0000119\ttotal: 33m 40s\tremaining: 10m 48s\n",
      "757:\tlearn: 0.0000118\ttotal: 33m 41s\tremaining: 10m 45s\n",
      "758:\tlearn: 0.0000118\ttotal: 33m 41s\tremaining: 10m 41s\n",
      "759:\tlearn: 0.0000118\ttotal: 33m 41s\tremaining: 10m 38s\n",
      "760:\tlearn: 0.0000118\ttotal: 33m 41s\tremaining: 10m 34s\n",
      "761:\tlearn: 0.0000118\ttotal: 33m 41s\tremaining: 10m 31s\n",
      "762:\tlearn: 0.0000117\ttotal: 33m 42s\tremaining: 10m 28s\n",
      "763:\tlearn: 0.0000117\ttotal: 33m 42s\tremaining: 10m 24s\n",
      "764:\tlearn: 0.0000117\ttotal: 33m 42s\tremaining: 10m 21s\n",
      "765:\tlearn: 0.0000117\ttotal: 33m 42s\tremaining: 10m 17s\n",
      "766:\tlearn: 0.0000117\ttotal: 33m 42s\tremaining: 10m 14s\n",
      "767:\tlearn: 0.0000117\ttotal: 33m 43s\tremaining: 10m 11s\n",
      "768:\tlearn: 0.0000116\ttotal: 33m 43s\tremaining: 10m 7s\n",
      "769:\tlearn: 0.0000116\ttotal: 33m 43s\tremaining: 10m 4s\n",
      "770:\tlearn: 0.0000116\ttotal: 33m 43s\tremaining: 10m 1s\n",
      "771:\tlearn: 0.0000116\ttotal: 33m 44s\tremaining: 9m 57s\n",
      "772:\tlearn: 0.0000116\ttotal: 33m 44s\tremaining: 9m 54s\n",
      "773:\tlearn: 0.0000116\ttotal: 33m 44s\tremaining: 9m 51s\n",
      "774:\tlearn: 0.0000115\ttotal: 33m 44s\tremaining: 9m 47s\n",
      "775:\tlearn: 0.0000115\ttotal: 33m 44s\tremaining: 9m 44s\n",
      "776:\tlearn: 0.0000115\ttotal: 33m 45s\tremaining: 9m 41s\n",
      "777:\tlearn: 0.0000115\ttotal: 33m 45s\tremaining: 9m 37s\n",
      "778:\tlearn: 0.0000115\ttotal: 33m 45s\tremaining: 9m 34s\n",
      "779:\tlearn: 0.0000115\ttotal: 33m 45s\tremaining: 9m 31s\n",
      "780:\tlearn: 0.0000115\ttotal: 33m 46s\tremaining: 9m 28s\n",
      "781:\tlearn: 0.0000115\ttotal: 33m 46s\tremaining: 9m 24s\n",
      "782:\tlearn: 0.0000114\ttotal: 33m 46s\tremaining: 9m 21s\n",
      "783:\tlearn: 0.0000114\ttotal: 33m 46s\tremaining: 9m 18s\n",
      "784:\tlearn: 0.0000114\ttotal: 33m 47s\tremaining: 9m 15s\n",
      "785:\tlearn: 0.0000114\ttotal: 33m 47s\tremaining: 9m 11s\n",
      "786:\tlearn: 0.0000113\ttotal: 33m 47s\tremaining: 9m 8s\n",
      "787:\tlearn: 0.0000113\ttotal: 33m 47s\tremaining: 9m 5s\n",
      "788:\tlearn: 0.0000113\ttotal: 33m 48s\tremaining: 9m 2s\n",
      "789:\tlearn: 0.0000113\ttotal: 33m 48s\tremaining: 8m 59s\n",
      "790:\tlearn: 0.0000113\ttotal: 33m 48s\tremaining: 8m 55s\n",
      "791:\tlearn: 0.0000113\ttotal: 33m 48s\tremaining: 8m 52s\n",
      "792:\tlearn: 0.0000112\ttotal: 33m 48s\tremaining: 8m 49s\n",
      "793:\tlearn: 0.0000112\ttotal: 33m 49s\tremaining: 8m 46s\n",
      "794:\tlearn: 0.0000112\ttotal: 33m 49s\tremaining: 8m 43s\n",
      "795:\tlearn: 0.0000112\ttotal: 33m 49s\tremaining: 8m 40s\n",
      "796:\tlearn: 0.0000111\ttotal: 33m 49s\tremaining: 8m 37s\n",
      "797:\tlearn: 0.0000111\ttotal: 33m 50s\tremaining: 8m 33s\n",
      "798:\tlearn: 0.0000111\ttotal: 33m 50s\tremaining: 8m 30s\n",
      "799:\tlearn: 0.0000111\ttotal: 33m 50s\tremaining: 8m 27s\n",
      "800:\tlearn: 0.0000111\ttotal: 33m 50s\tremaining: 8m 24s\n",
      "801:\tlearn: 0.0000111\ttotal: 33m 50s\tremaining: 8m 21s\n",
      "802:\tlearn: 0.0000111\ttotal: 33m 51s\tremaining: 8m 18s\n",
      "803:\tlearn: 0.0000110\ttotal: 33m 51s\tremaining: 8m 15s\n",
      "804:\tlearn: 0.0000110\ttotal: 33m 51s\tremaining: 8m 12s\n",
      "805:\tlearn: 0.0000110\ttotal: 33m 51s\tremaining: 8m 9s\n",
      "806:\tlearn: 0.0000110\ttotal: 33m 52s\tremaining: 8m 5s\n",
      "807:\tlearn: 0.0000110\ttotal: 33m 52s\tremaining: 8m 2s\n",
      "808:\tlearn: 0.0000110\ttotal: 33m 52s\tremaining: 7m 59s\n",
      "809:\tlearn: 0.0000109\ttotal: 33m 52s\tremaining: 7m 56s\n",
      "810:\tlearn: 0.0000109\ttotal: 33m 53s\tremaining: 7m 53s\n",
      "811:\tlearn: 0.0000109\ttotal: 33m 53s\tremaining: 7m 50s\n",
      "812:\tlearn: 0.0000109\ttotal: 33m 53s\tremaining: 7m 47s\n",
      "813:\tlearn: 0.0000109\ttotal: 33m 53s\tremaining: 7m 44s\n",
      "814:\tlearn: 0.0000109\ttotal: 33m 53s\tremaining: 7m 41s\n",
      "815:\tlearn: 0.0000109\ttotal: 33m 54s\tremaining: 7m 38s\n",
      "816:\tlearn: 0.0000109\ttotal: 33m 54s\tremaining: 7m 35s\n",
      "817:\tlearn: 0.0000108\ttotal: 33m 54s\tremaining: 7m 32s\n",
      "818:\tlearn: 0.0000108\ttotal: 33m 54s\tremaining: 7m 29s\n",
      "819:\tlearn: 0.0000108\ttotal: 33m 55s\tremaining: 7m 26s\n",
      "820:\tlearn: 0.0000108\ttotal: 33m 55s\tremaining: 7m 23s\n",
      "821:\tlearn: 0.0000108\ttotal: 33m 55s\tremaining: 7m 20s\n",
      "822:\tlearn: 0.0000108\ttotal: 33m 55s\tremaining: 7m 17s\n",
      "823:\tlearn: 0.0000107\ttotal: 33m 56s\tremaining: 7m 14s\n",
      "824:\tlearn: 0.0000107\ttotal: 33m 56s\tremaining: 7m 11s\n",
      "825:\tlearn: 0.0000107\ttotal: 33m 56s\tremaining: 7m 9s\n",
      "826:\tlearn: 0.0000107\ttotal: 33m 56s\tremaining: 7m 6s\n",
      "827:\tlearn: 0.0000106\ttotal: 33m 57s\tremaining: 7m 3s\n",
      "828:\tlearn: 0.0000106\ttotal: 33m 57s\tremaining: 7m\n",
      "829:\tlearn: 0.0000106\ttotal: 33m 57s\tremaining: 6m 57s\n",
      "830:\tlearn: 0.0000106\ttotal: 33m 57s\tremaining: 6m 54s\n",
      "831:\tlearn: 0.0000106\ttotal: 33m 58s\tremaining: 6m 51s\n",
      "832:\tlearn: 0.0000106\ttotal: 33m 58s\tremaining: 6m 48s\n",
      "833:\tlearn: 0.0000105\ttotal: 33m 58s\tremaining: 6m 45s\n",
      "834:\tlearn: 0.0000105\ttotal: 33m 58s\tremaining: 6m 42s\n",
      "835:\tlearn: 0.0000105\ttotal: 33m 58s\tremaining: 6m 39s\n",
      "836:\tlearn: 0.0000105\ttotal: 33m 59s\tremaining: 6m 37s\n",
      "837:\tlearn: 0.0000105\ttotal: 33m 59s\tremaining: 6m 34s\n",
      "838:\tlearn: 0.0000105\ttotal: 33m 59s\tremaining: 6m 31s\n",
      "839:\tlearn: 0.0000105\ttotal: 33m 59s\tremaining: 6m 28s\n",
      "840:\tlearn: 0.0000105\ttotal: 34m\tremaining: 6m 25s\n",
      "841:\tlearn: 0.0000104\ttotal: 34m\tremaining: 6m 22s\n",
      "842:\tlearn: 0.0000104\ttotal: 34m\tremaining: 6m 20s\n",
      "843:\tlearn: 0.0000104\ttotal: 34m\tremaining: 6m 17s\n",
      "844:\tlearn: 0.0000104\ttotal: 34m 1s\tremaining: 6m 14s\n",
      "845:\tlearn: 0.0000104\ttotal: 34m 1s\tremaining: 6m 11s\n",
      "846:\tlearn: 0.0000104\ttotal: 34m 1s\tremaining: 6m 8s\n",
      "847:\tlearn: 0.0000104\ttotal: 34m 1s\tremaining: 6m 5s\n",
      "848:\tlearn: 0.0000104\ttotal: 34m 1s\tremaining: 6m 3s\n",
      "849:\tlearn: 0.0000104\ttotal: 34m 2s\tremaining: 6m\n",
      "850:\tlearn: 0.0000103\ttotal: 34m 2s\tremaining: 5m 57s\n",
      "851:\tlearn: 0.0000103\ttotal: 34m 2s\tremaining: 5m 54s\n",
      "852:\tlearn: 0.0000103\ttotal: 34m 2s\tremaining: 5m 52s\n",
      "853:\tlearn: 0.0000103\ttotal: 34m 2s\tremaining: 5m 49s\n",
      "854:\tlearn: 0.0000103\ttotal: 34m 3s\tremaining: 5m 46s\n",
      "855:\tlearn: 0.0000103\ttotal: 34m 3s\tremaining: 5m 43s\n",
      "856:\tlearn: 0.0000103\ttotal: 34m 3s\tremaining: 5m 41s\n",
      "857:\tlearn: 0.0000103\ttotal: 34m 3s\tremaining: 5m 38s\n",
      "858:\tlearn: 0.0000102\ttotal: 34m 4s\tremaining: 5m 35s\n",
      "859:\tlearn: 0.0000102\ttotal: 34m 4s\tremaining: 5m 32s\n",
      "860:\tlearn: 0.0000102\ttotal: 34m 4s\tremaining: 5m 30s\n",
      "861:\tlearn: 0.0000102\ttotal: 34m 4s\tremaining: 5m 27s\n",
      "862:\tlearn: 0.0000102\ttotal: 34m 5s\tremaining: 5m 24s\n",
      "863:\tlearn: 0.0000102\ttotal: 34m 5s\tremaining: 5m 21s\n",
      "864:\tlearn: 0.0000101\ttotal: 34m 5s\tremaining: 5m 19s\n",
      "865:\tlearn: 0.0000101\ttotal: 34m 5s\tremaining: 5m 16s\n",
      "866:\tlearn: 0.0000101\ttotal: 34m 6s\tremaining: 5m 13s\n",
      "867:\tlearn: 0.0000101\ttotal: 34m 6s\tremaining: 5m 11s\n",
      "868:\tlearn: 0.0000101\ttotal: 34m 6s\tremaining: 5m 8s\n",
      "869:\tlearn: 0.0000100\ttotal: 34m 6s\tremaining: 5m 5s\n",
      "870:\tlearn: 0.0000100\ttotal: 34m 7s\tremaining: 5m 3s\n",
      "871:\tlearn: 0.0000100\ttotal: 34m 7s\tremaining: 5m\n",
      "872:\tlearn: 0.0000100\ttotal: 34m 7s\tremaining: 4m 57s\n",
      "873:\tlearn: 0.0000100\ttotal: 34m 7s\tremaining: 4m 55s\n",
      "874:\tlearn: 0.0000100\ttotal: 34m 8s\tremaining: 4m 52s\n",
      "875:\tlearn: 0.0000100\ttotal: 34m 8s\tremaining: 4m 49s\n",
      "876:\tlearn: 0.0000099\ttotal: 34m 8s\tremaining: 4m 47s\n",
      "877:\tlearn: 0.0000099\ttotal: 34m 8s\tremaining: 4m 44s\n",
      "878:\tlearn: 0.0000099\ttotal: 34m 8s\tremaining: 4m 42s\n",
      "879:\tlearn: 0.0000099\ttotal: 34m 9s\tremaining: 4m 39s\n",
      "880:\tlearn: 0.0000099\ttotal: 34m 9s\tremaining: 4m 36s\n",
      "881:\tlearn: 0.0000099\ttotal: 34m 9s\tremaining: 4m 34s\n",
      "882:\tlearn: 0.0000099\ttotal: 34m 9s\tremaining: 4m 31s\n",
      "883:\tlearn: 0.0000099\ttotal: 34m 10s\tremaining: 4m 29s\n",
      "884:\tlearn: 0.0000099\ttotal: 34m 10s\tremaining: 4m 26s\n",
      "885:\tlearn: 0.0000099\ttotal: 34m 10s\tremaining: 4m 23s\n",
      "886:\tlearn: 0.0000098\ttotal: 34m 10s\tremaining: 4m 21s\n",
      "887:\tlearn: 0.0000098\ttotal: 34m 11s\tremaining: 4m 18s\n",
      "888:\tlearn: 0.0000098\ttotal: 34m 11s\tremaining: 4m 16s\n",
      "889:\tlearn: 0.0000098\ttotal: 34m 11s\tremaining: 4m 13s\n",
      "890:\tlearn: 0.0000098\ttotal: 34m 11s\tremaining: 4m 10s\n",
      "891:\tlearn: 0.0000098\ttotal: 34m 11s\tremaining: 4m 8s\n",
      "892:\tlearn: 0.0000097\ttotal: 34m 12s\tremaining: 4m 5s\n",
      "893:\tlearn: 0.0000097\ttotal: 34m 12s\tremaining: 4m 3s\n",
      "894:\tlearn: 0.0000097\ttotal: 34m 12s\tremaining: 4m\n",
      "895:\tlearn: 0.0000097\ttotal: 34m 12s\tremaining: 3m 58s\n",
      "896:\tlearn: 0.0000097\ttotal: 34m 13s\tremaining: 3m 55s\n",
      "897:\tlearn: 0.0000096\ttotal: 34m 13s\tremaining: 3m 53s\n",
      "898:\tlearn: 0.0000096\ttotal: 34m 13s\tremaining: 3m 50s\n",
      "899:\tlearn: 0.0000096\ttotal: 34m 13s\tremaining: 3m 48s\n",
      "900:\tlearn: 0.0000096\ttotal: 34m 13s\tremaining: 3m 45s\n",
      "901:\tlearn: 0.0000096\ttotal: 34m 14s\tremaining: 3m 43s\n",
      "902:\tlearn: 0.0000096\ttotal: 34m 14s\tremaining: 3m 40s\n",
      "903:\tlearn: 0.0000096\ttotal: 34m 14s\tremaining: 3m 38s\n",
      "904:\tlearn: 0.0000095\ttotal: 34m 14s\tremaining: 3m 35s\n",
      "905:\tlearn: 0.0000095\ttotal: 34m 15s\tremaining: 3m 33s\n",
      "906:\tlearn: 0.0000095\ttotal: 34m 15s\tremaining: 3m 30s\n",
      "907:\tlearn: 0.0000095\ttotal: 34m 15s\tremaining: 3m 28s\n",
      "908:\tlearn: 0.0000095\ttotal: 34m 15s\tremaining: 3m 25s\n",
      "909:\tlearn: 0.0000095\ttotal: 34m 16s\tremaining: 3m 23s\n",
      "910:\tlearn: 0.0000095\ttotal: 34m 16s\tremaining: 3m 20s\n",
      "911:\tlearn: 0.0000095\ttotal: 34m 16s\tremaining: 3m 18s\n",
      "912:\tlearn: 0.0000095\ttotal: 34m 16s\tremaining: 3m 15s\n",
      "913:\tlearn: 0.0000094\ttotal: 34m 16s\tremaining: 3m 13s\n",
      "914:\tlearn: 0.0000094\ttotal: 34m 17s\tremaining: 3m 11s\n",
      "915:\tlearn: 0.0000094\ttotal: 34m 17s\tremaining: 3m 8s\n",
      "916:\tlearn: 0.0000094\ttotal: 34m 17s\tremaining: 3m 6s\n",
      "917:\tlearn: 0.0000094\ttotal: 34m 17s\tremaining: 3m 3s\n",
      "918:\tlearn: 0.0000093\ttotal: 34m 18s\tremaining: 3m 1s\n",
      "919:\tlearn: 0.0000093\ttotal: 34m 18s\tremaining: 2m 58s\n",
      "920:\tlearn: 0.0000093\ttotal: 34m 18s\tremaining: 2m 56s\n",
      "921:\tlearn: 0.0000093\ttotal: 34m 18s\tremaining: 2m 54s\n",
      "922:\tlearn: 0.0000093\ttotal: 34m 19s\tremaining: 2m 51s\n",
      "923:\tlearn: 0.0000093\ttotal: 34m 19s\tremaining: 2m 49s\n",
      "924:\tlearn: 0.0000093\ttotal: 34m 19s\tremaining: 2m 46s\n",
      "925:\tlearn: 0.0000093\ttotal: 34m 19s\tremaining: 2m 44s\n",
      "926:\tlearn: 0.0000093\ttotal: 34m 19s\tremaining: 2m 42s\n",
      "927:\tlearn: 0.0000093\ttotal: 34m 20s\tremaining: 2m 39s\n",
      "928:\tlearn: 0.0000092\ttotal: 34m 20s\tremaining: 2m 37s\n",
      "929:\tlearn: 0.0000092\ttotal: 34m 20s\tremaining: 2m 35s\n",
      "930:\tlearn: 0.0000092\ttotal: 34m 20s\tremaining: 2m 32s\n",
      "931:\tlearn: 0.0000092\ttotal: 34m 21s\tremaining: 2m 30s\n",
      "932:\tlearn: 0.0000092\ttotal: 34m 21s\tremaining: 2m 28s\n",
      "933:\tlearn: 0.0000092\ttotal: 34m 21s\tremaining: 2m 25s\n",
      "934:\tlearn: 0.0000092\ttotal: 34m 21s\tremaining: 2m 23s\n",
      "935:\tlearn: 0.0000092\ttotal: 34m 21s\tremaining: 2m 20s\n",
      "936:\tlearn: 0.0000092\ttotal: 34m 22s\tremaining: 2m 18s\n",
      "937:\tlearn: 0.0000091\ttotal: 34m 22s\tremaining: 2m 16s\n",
      "938:\tlearn: 0.0000091\ttotal: 34m 22s\tremaining: 2m 13s\n",
      "939:\tlearn: 0.0000091\ttotal: 34m 22s\tremaining: 2m 11s\n",
      "940:\tlearn: 0.0000091\ttotal: 34m 23s\tremaining: 2m 9s\n",
      "941:\tlearn: 0.0000091\ttotal: 34m 23s\tremaining: 2m 7s\n",
      "942:\tlearn: 0.0000091\ttotal: 34m 23s\tremaining: 2m 4s\n",
      "943:\tlearn: 0.0000091\ttotal: 34m 23s\tremaining: 2m 2s\n",
      "944:\tlearn: 0.0000090\ttotal: 34m 23s\tremaining: 2m\n",
      "945:\tlearn: 0.0000090\ttotal: 34m 24s\tremaining: 1m 57s\n",
      "946:\tlearn: 0.0000090\ttotal: 34m 24s\tremaining: 1m 55s\n",
      "947:\tlearn: 0.0000090\ttotal: 34m 24s\tremaining: 1m 53s\n",
      "948:\tlearn: 0.0000090\ttotal: 34m 24s\tremaining: 1m 50s\n",
      "949:\tlearn: 0.0000090\ttotal: 34m 24s\tremaining: 1m 48s\n",
      "950:\tlearn: 0.0000090\ttotal: 34m 25s\tremaining: 1m 46s\n",
      "951:\tlearn: 0.0000090\ttotal: 34m 25s\tremaining: 1m 44s\n",
      "952:\tlearn: 0.0000090\ttotal: 34m 25s\tremaining: 1m 41s\n",
      "953:\tlearn: 0.0000089\ttotal: 34m 25s\tremaining: 1m 39s\n",
      "954:\tlearn: 0.0000089\ttotal: 34m 26s\tremaining: 1m 37s\n",
      "955:\tlearn: 0.0000089\ttotal: 34m 26s\tremaining: 1m 35s\n",
      "956:\tlearn: 0.0000089\ttotal: 34m 26s\tremaining: 1m 32s\n",
      "957:\tlearn: 0.0000089\ttotal: 34m 26s\tremaining: 1m 30s\n",
      "958:\tlearn: 0.0000089\ttotal: 34m 27s\tremaining: 1m 28s\n",
      "959:\tlearn: 0.0000089\ttotal: 34m 27s\tremaining: 1m 26s\n",
      "960:\tlearn: 0.0000089\ttotal: 34m 27s\tremaining: 1m 23s\n",
      "961:\tlearn: 0.0000089\ttotal: 34m 27s\tremaining: 1m 21s\n",
      "962:\tlearn: 0.0000089\ttotal: 34m 28s\tremaining: 1m 19s\n",
      "963:\tlearn: 0.0000089\ttotal: 34m 28s\tremaining: 1m 17s\n",
      "964:\tlearn: 0.0000088\ttotal: 34m 28s\tremaining: 1m 15s\n",
      "965:\tlearn: 0.0000088\ttotal: 34m 28s\tremaining: 1m 12s\n",
      "966:\tlearn: 0.0000088\ttotal: 34m 28s\tremaining: 1m 10s\n",
      "967:\tlearn: 0.0000088\ttotal: 34m 29s\tremaining: 1m 8s\n",
      "968:\tlearn: 0.0000088\ttotal: 34m 29s\tremaining: 1m 6s\n",
      "969:\tlearn: 0.0000088\ttotal: 34m 29s\tremaining: 1m 4s\n",
      "970:\tlearn: 0.0000088\ttotal: 34m 29s\tremaining: 1m 1s\n",
      "971:\tlearn: 0.0000088\ttotal: 34m 30s\tremaining: 59.6s\n",
      "972:\tlearn: 0.0000088\ttotal: 34m 30s\tremaining: 57.4s\n",
      "973:\tlearn: 0.0000087\ttotal: 34m 30s\tremaining: 55.3s\n",
      "974:\tlearn: 0.0000087\ttotal: 34m 30s\tremaining: 53.1s\n",
      "975:\tlearn: 0.0000087\ttotal: 34m 30s\tremaining: 50.9s\n",
      "976:\tlearn: 0.0000087\ttotal: 34m 31s\tremaining: 48.8s\n",
      "977:\tlearn: 0.0000087\ttotal: 34m 31s\tremaining: 46.6s\n",
      "978:\tlearn: 0.0000087\ttotal: 34m 31s\tremaining: 44.4s\n",
      "979:\tlearn: 0.0000087\ttotal: 34m 31s\tremaining: 42.3s\n",
      "980:\tlearn: 0.0000087\ttotal: 34m 31s\tremaining: 40.1s\n",
      "981:\tlearn: 0.0000087\ttotal: 34m 32s\tremaining: 38s\n",
      "982:\tlearn: 0.0000086\ttotal: 34m 32s\tremaining: 35.8s\n",
      "983:\tlearn: 0.0000086\ttotal: 34m 32s\tremaining: 33.7s\n",
      "984:\tlearn: 0.0000086\ttotal: 34m 32s\tremaining: 31.6s\n",
      "985:\tlearn: 0.0000086\ttotal: 34m 33s\tremaining: 29.4s\n",
      "986:\tlearn: 0.0000086\ttotal: 34m 33s\tremaining: 27.3s\n",
      "987:\tlearn: 0.0000086\ttotal: 34m 33s\tremaining: 25.2s\n",
      "988:\tlearn: 0.0000086\ttotal: 34m 33s\tremaining: 23.1s\n",
      "989:\tlearn: 0.0000086\ttotal: 34m 33s\tremaining: 20.9s\n",
      "990:\tlearn: 0.0000086\ttotal: 34m 34s\tremaining: 18.8s\n",
      "991:\tlearn: 0.0000085\ttotal: 34m 34s\tremaining: 16.7s\n",
      "992:\tlearn: 0.0000085\ttotal: 34m 34s\tremaining: 14.6s\n",
      "993:\tlearn: 0.0000085\ttotal: 34m 34s\tremaining: 12.5s\n",
      "994:\tlearn: 0.0000085\ttotal: 34m 35s\tremaining: 10.4s\n",
      "995:\tlearn: 0.0000085\ttotal: 34m 35s\tremaining: 8.33s\n",
      "996:\tlearn: 0.0000085\ttotal: 34m 35s\tremaining: 6.25s\n",
      "997:\tlearn: 0.0000085\ttotal: 34m 35s\tremaining: 4.16s\n",
      "998:\tlearn: 0.0000085\ttotal: 34m 36s\tremaining: 2.08s\n",
      "999:\tlearn: 0.0000085\ttotal: 34m 36s\tremaining: 0us\n"
     ]
    },
    {
     "data": {
      "text/plain": [
       "<catboost.core.CatBoostClassifier at 0x7f7e998a2dc0>"
      ]
     },
     "execution_count": 34,
     "metadata": {},
     "output_type": "execute_result"
    }
   ],
   "source": [
    "cb_model.fit(catboost_train_data, plot=True)"
   ]
  },
  {
   "cell_type": "code",
   "execution_count": 35,
   "metadata": {},
   "outputs": [
    {
     "data": {
      "text/plain": [
       "array([[0.],\n",
       "       [1.],\n",
       "       [0.],\n",
       "       ...,\n",
       "       [0.],\n",
       "       [0.],\n",
       "       [0.]])"
      ]
     },
     "execution_count": 35,
     "metadata": {},
     "output_type": "execute_result"
    }
   ],
   "source": [
    "# Use the fitted model to make predictions\n",
    "cb_model.predict(catboost_train_data)\n"
   ]
  },
  {
   "cell_type": "code",
   "execution_count": 36,
   "metadata": {},
   "outputs": [
    {
     "data": {
      "text/plain": [
       "{'learn': {'MultiClass': 8.481906415713473e-06}}"
      ]
     },
     "execution_count": 36,
     "metadata": {},
     "output_type": "execute_result"
    }
   ],
   "source": [
    "# Get the best score\n",
    "cb_model.get_best_score()"
   ]
  },
  {
   "cell_type": "code",
   "execution_count": 37,
   "metadata": {},
   "outputs": [
    {
     "data": {
      "text/plain": [
       "0.9999948508184011"
      ]
     },
     "execution_count": 37,
     "metadata": {},
     "output_type": "execute_result"
    }
   ],
   "source": [
    "# Score\n",
    "cb_model.score(df_clean, df_clean['Status'])"
   ]
  },
  {
   "cell_type": "code",
   "execution_count": 38,
   "metadata": {},
   "outputs": [
    {
     "data": {
      "text/plain": [
       "array([[1.],\n",
       "       [0.],\n",
       "       [1.],\n",
       "       ...,\n",
       "       [1.],\n",
       "       [0.],\n",
       "       [1.]])"
      ]
     },
     "execution_count": 38,
     "metadata": {},
     "output_type": "execute_result"
    }
   ],
   "source": [
    "#Make predictions on the test set\n",
    "y_pred = cb_model.predict(X_test)\n",
    "y_pred"
   ]
  },
  {
   "cell_type": "code",
   "execution_count": 45,
   "metadata": {},
   "outputs": [
    {
     "data": {
      "text/plain": [
       "0.9999794022439765"
      ]
     },
     "execution_count": 45,
     "metadata": {},
     "output_type": "execute_result"
    }
   ],
   "source": [
    "# Calculate precision score\n",
    "precision = precision_score(y_test, y_pred, average='weighted')\n",
    "precision"
   ]
  },
  {
   "cell_type": "code",
   "execution_count": 46,
   "metadata": {},
   "outputs": [
    {
     "data": {
      "text/plain": [
       "0.999979403283705"
      ]
     },
     "execution_count": 46,
     "metadata": {},
     "output_type": "execute_result"
    }
   ],
   "source": [
    "# Calculate the accuracy score\n",
    "accuracy = accuracy_score(y_test, y_pred)\n",
    "accuracy"
   ]
  },
  {
   "cell_type": "code",
   "execution_count": 47,
   "metadata": {},
   "outputs": [
    {
     "data": {
      "text/plain": [
       "array([[[397652,     18],\n",
       "        [     3, 621907]],\n",
       "\n",
       "       [[652041,      0],\n",
       "        [     0, 367539]],\n",
       "\n",
       "       [[989446,      3],\n",
       "        [    18,  30113]]])"
      ]
     },
     "execution_count": 47,
     "metadata": {},
     "output_type": "execute_result"
    }
   ],
   "source": [
    "# Evaluate the model using the test data\n",
    "from sklearn.metrics import balanced_accuracy_score, confusion_matrix, classification_report\n",
    "from sklearn.metrics import multilabel_confusion_matrix\n",
    "from sklearn.svm import SVC\n",
    "\n",
    "# Calculating the confusion matrix\n",
    "target_names=[\"On-Time\", \"Delayed\", \"Cancelled\"]\n",
    "\n",
    "cm = multilabel_confusion_matrix(y_test, y_pred)\n",
    "# cm_df = pd.DataFrame(\n",
    "#     cm, index=target_names, columns=target_names\n",
    "# )\n",
    "cm\n",
    "\n",
    "\n",
    "\n"
   ]
  },
  {
   "cell_type": "code",
   "execution_count": 48,
   "metadata": {},
   "outputs": [
    {
     "name": "stdout",
     "output_type": "stream",
     "text": [
      "Confusion Matrix:\n",
      "[[[397652     18]\n",
      "  [     3 621907]]\n",
      "\n",
      " [[652041      0]\n",
      "  [     0 367539]]\n",
      "\n",
      " [[989446      3]\n",
      "  [    18  30113]]]\n",
      "Accuracy Score: 0.999979403283705\n",
      "Classification Report\n",
      "              precision    recall  f1-score   support\n",
      "\n",
      "           0       1.00      1.00      1.00    621910\n",
      "           1       1.00      1.00      1.00    367539\n",
      "           2       1.00      1.00      1.00     30131\n",
      "\n",
      "    accuracy                           1.00   1019580\n",
      "   macro avg       1.00      1.00      1.00   1019580\n",
      "weighted avg       1.00      1.00      1.00   1019580\n",
      "\n"
     ]
    }
   ],
   "source": [
    "# Print the classification report for the model\n",
    "target_names=[\"On-Time\", \"Delayed\", \"Cancelled\"]\n",
    "print(\"Confusion Matrix:\")\n",
    "print(cm) \n",
    "print(\"Accuracy Score:\", accuracy) \n",
    "print(\"Classification Report\")\n",
    "print(classification_report(y_test, y_pred, labels=[0,1,2]))"
   ]
  },
  {
   "cell_type": "code",
   "execution_count": null,
   "metadata": {},
   "outputs": [
    {
     "data": {
      "text/html": [
       "        <script type=\"text/javascript\">\n",
       "        window.PlotlyConfig = {MathJaxConfig: 'local'};\n",
       "        if (window.MathJax && window.MathJax.Hub && window.MathJax.Hub.Config) {window.MathJax.Hub.Config({SVG: {font: \"STIX-Web\"}});}\n",
       "        if (typeof require !== 'undefined') {\n",
       "        require.undef(\"plotly\");\n",
       "        requirejs.config({\n",
       "            paths: {\n",
       "                'plotly': ['https://cdn.plot.ly/plotly-2.12.1.min']\n",
       "            }\n",
       "        });\n",
       "        require(['plotly'], function(Plotly) {\n",
       "            window._Plotly = Plotly;\n",
       "        });\n",
       "        }\n",
       "        </script>\n",
       "        "
      ]
     },
     "metadata": {},
     "output_type": "display_data"
    },
    {
     "data": {
      "application/vnd.plotly.v1+json": {
       "config": {
        "linkText": "Export to plot.ly",
        "plotlyServerURL": "https://plot.ly",
        "showLink": false
       },
       "data": [
        {
         "mode": "lines+markers",
         "name": "Mean target",
         "type": "scatter",
         "xaxis": "x",
         "y": [
          0.44182029366493225,
          0.3120461404323578
         ],
         "yaxis": "y"
        },
        {
         "line": {
          "dash": "dash"
         },
         "mode": "lines+markers",
         "name": "Mean prediction on each segment of feature values",
         "type": "scatter",
         "xaxis": "x",
         "y": [
          0.44182029366493225,
          0.3120461404323578
         ],
         "yaxis": "y"
        },
        {
         "marker": {
          "color": "rgba(30, 150, 30, 0.4)"
         },
         "name": "Objects per bin",
         "type": "bar",
         "width": 0.8,
         "xaxis": "x",
         "y": [
          2469538,
          1475378
         ],
         "yaxis": "y2"
        },
        {
         "line": {
          "dash": "dashdot"
         },
         "mode": "lines+markers",
         "name": "Mean prediction with substituted feature",
         "type": "scatter",
         "xaxis": "x",
         "y": [
          0.3932854337075872,
          0.3932854337075872
         ],
         "yaxis": "y"
        }
       ],
       "layout": {
        "annotations": [
         {
          "align": "left",
          "showarrow": false,
          "text": "Statistics for feature",
          "x": 0,
          "xref": "paper",
          "y": 1.05,
          "yref": "paper"
         }
        ],
        "legend": {
         "bgcolor": "rgba(0,0,0,0)",
         "x": 1.07
        },
        "template": {
         "data": {
          "bar": [
           {
            "error_x": {
             "color": "#2a3f5f"
            },
            "error_y": {
             "color": "#2a3f5f"
            },
            "marker": {
             "line": {
              "color": "#E5ECF6",
              "width": 0.5
             },
             "pattern": {
              "fillmode": "overlay",
              "size": 10,
              "solidity": 0.2
             }
            },
            "type": "bar"
           }
          ],
          "barpolar": [
           {
            "marker": {
             "line": {
              "color": "#E5ECF6",
              "width": 0.5
             },
             "pattern": {
              "fillmode": "overlay",
              "size": 10,
              "solidity": 0.2
             }
            },
            "type": "barpolar"
           }
          ],
          "carpet": [
           {
            "aaxis": {
             "endlinecolor": "#2a3f5f",
             "gridcolor": "white",
             "linecolor": "white",
             "minorgridcolor": "white",
             "startlinecolor": "#2a3f5f"
            },
            "baxis": {
             "endlinecolor": "#2a3f5f",
             "gridcolor": "white",
             "linecolor": "white",
             "minorgridcolor": "white",
             "startlinecolor": "#2a3f5f"
            },
            "type": "carpet"
           }
          ],
          "choropleth": [
           {
            "colorbar": {
             "outlinewidth": 0,
             "ticks": ""
            },
            "type": "choropleth"
           }
          ],
          "contour": [
           {
            "colorbar": {
             "outlinewidth": 0,
             "ticks": ""
            },
            "colorscale": [
             [
              0,
              "#0d0887"
             ],
             [
              0.1111111111111111,
              "#46039f"
             ],
             [
              0.2222222222222222,
              "#7201a8"
             ],
             [
              0.3333333333333333,
              "#9c179e"
             ],
             [
              0.4444444444444444,
              "#bd3786"
             ],
             [
              0.5555555555555556,
              "#d8576b"
             ],
             [
              0.6666666666666666,
              "#ed7953"
             ],
             [
              0.7777777777777778,
              "#fb9f3a"
             ],
             [
              0.8888888888888888,
              "#fdca26"
             ],
             [
              1,
              "#f0f921"
             ]
            ],
            "type": "contour"
           }
          ],
          "contourcarpet": [
           {
            "colorbar": {
             "outlinewidth": 0,
             "ticks": ""
            },
            "type": "contourcarpet"
           }
          ],
          "heatmap": [
           {
            "colorbar": {
             "outlinewidth": 0,
             "ticks": ""
            },
            "colorscale": [
             [
              0,
              "#0d0887"
             ],
             [
              0.1111111111111111,
              "#46039f"
             ],
             [
              0.2222222222222222,
              "#7201a8"
             ],
             [
              0.3333333333333333,
              "#9c179e"
             ],
             [
              0.4444444444444444,
              "#bd3786"
             ],
             [
              0.5555555555555556,
              "#d8576b"
             ],
             [
              0.6666666666666666,
              "#ed7953"
             ],
             [
              0.7777777777777778,
              "#fb9f3a"
             ],
             [
              0.8888888888888888,
              "#fdca26"
             ],
             [
              1,
              "#f0f921"
             ]
            ],
            "type": "heatmap"
           }
          ],
          "heatmapgl": [
           {
            "colorbar": {
             "outlinewidth": 0,
             "ticks": ""
            },
            "colorscale": [
             [
              0,
              "#0d0887"
             ],
             [
              0.1111111111111111,
              "#46039f"
             ],
             [
              0.2222222222222222,
              "#7201a8"
             ],
             [
              0.3333333333333333,
              "#9c179e"
             ],
             [
              0.4444444444444444,
              "#bd3786"
             ],
             [
              0.5555555555555556,
              "#d8576b"
             ],
             [
              0.6666666666666666,
              "#ed7953"
             ],
             [
              0.7777777777777778,
              "#fb9f3a"
             ],
             [
              0.8888888888888888,
              "#fdca26"
             ],
             [
              1,
              "#f0f921"
             ]
            ],
            "type": "heatmapgl"
           }
          ],
          "histogram": [
           {
            "marker": {
             "pattern": {
              "fillmode": "overlay",
              "size": 10,
              "solidity": 0.2
             }
            },
            "type": "histogram"
           }
          ],
          "histogram2d": [
           {
            "colorbar": {
             "outlinewidth": 0,
             "ticks": ""
            },
            "colorscale": [
             [
              0,
              "#0d0887"
             ],
             [
              0.1111111111111111,
              "#46039f"
             ],
             [
              0.2222222222222222,
              "#7201a8"
             ],
             [
              0.3333333333333333,
              "#9c179e"
             ],
             [
              0.4444444444444444,
              "#bd3786"
             ],
             [
              0.5555555555555556,
              "#d8576b"
             ],
             [
              0.6666666666666666,
              "#ed7953"
             ],
             [
              0.7777777777777778,
              "#fb9f3a"
             ],
             [
              0.8888888888888888,
              "#fdca26"
             ],
             [
              1,
              "#f0f921"
             ]
            ],
            "type": "histogram2d"
           }
          ],
          "histogram2dcontour": [
           {
            "colorbar": {
             "outlinewidth": 0,
             "ticks": ""
            },
            "colorscale": [
             [
              0,
              "#0d0887"
             ],
             [
              0.1111111111111111,
              "#46039f"
             ],
             [
              0.2222222222222222,
              "#7201a8"
             ],
             [
              0.3333333333333333,
              "#9c179e"
             ],
             [
              0.4444444444444444,
              "#bd3786"
             ],
             [
              0.5555555555555556,
              "#d8576b"
             ],
             [
              0.6666666666666666,
              "#ed7953"
             ],
             [
              0.7777777777777778,
              "#fb9f3a"
             ],
             [
              0.8888888888888888,
              "#fdca26"
             ],
             [
              1,
              "#f0f921"
             ]
            ],
            "type": "histogram2dcontour"
           }
          ],
          "mesh3d": [
           {
            "colorbar": {
             "outlinewidth": 0,
             "ticks": ""
            },
            "type": "mesh3d"
           }
          ],
          "parcoords": [
           {
            "line": {
             "colorbar": {
              "outlinewidth": 0,
              "ticks": ""
             }
            },
            "type": "parcoords"
           }
          ],
          "pie": [
           {
            "automargin": true,
            "type": "pie"
           }
          ],
          "scatter": [
           {
            "fillpattern": {
             "fillmode": "overlay",
             "size": 10,
             "solidity": 0.2
            },
            "type": "scatter"
           }
          ],
          "scatter3d": [
           {
            "line": {
             "colorbar": {
              "outlinewidth": 0,
              "ticks": ""
             }
            },
            "marker": {
             "colorbar": {
              "outlinewidth": 0,
              "ticks": ""
             }
            },
            "type": "scatter3d"
           }
          ],
          "scattercarpet": [
           {
            "marker": {
             "colorbar": {
              "outlinewidth": 0,
              "ticks": ""
             }
            },
            "type": "scattercarpet"
           }
          ],
          "scattergeo": [
           {
            "marker": {
             "colorbar": {
              "outlinewidth": 0,
              "ticks": ""
             }
            },
            "type": "scattergeo"
           }
          ],
          "scattergl": [
           {
            "marker": {
             "colorbar": {
              "outlinewidth": 0,
              "ticks": ""
             }
            },
            "type": "scattergl"
           }
          ],
          "scattermapbox": [
           {
            "marker": {
             "colorbar": {
              "outlinewidth": 0,
              "ticks": ""
             }
            },
            "type": "scattermapbox"
           }
          ],
          "scatterpolar": [
           {
            "marker": {
             "colorbar": {
              "outlinewidth": 0,
              "ticks": ""
             }
            },
            "type": "scatterpolar"
           }
          ],
          "scatterpolargl": [
           {
            "marker": {
             "colorbar": {
              "outlinewidth": 0,
              "ticks": ""
             }
            },
            "type": "scatterpolargl"
           }
          ],
          "scatterternary": [
           {
            "marker": {
             "colorbar": {
              "outlinewidth": 0,
              "ticks": ""
             }
            },
            "type": "scatterternary"
           }
          ],
          "surface": [
           {
            "colorbar": {
             "outlinewidth": 0,
             "ticks": ""
            },
            "colorscale": [
             [
              0,
              "#0d0887"
             ],
             [
              0.1111111111111111,
              "#46039f"
             ],
             [
              0.2222222222222222,
              "#7201a8"
             ],
             [
              0.3333333333333333,
              "#9c179e"
             ],
             [
              0.4444444444444444,
              "#bd3786"
             ],
             [
              0.5555555555555556,
              "#d8576b"
             ],
             [
              0.6666666666666666,
              "#ed7953"
             ],
             [
              0.7777777777777778,
              "#fb9f3a"
             ],
             [
              0.8888888888888888,
              "#fdca26"
             ],
             [
              1,
              "#f0f921"
             ]
            ],
            "type": "surface"
           }
          ],
          "table": [
           {
            "cells": {
             "fill": {
              "color": "#EBF0F8"
             },
             "line": {
              "color": "white"
             }
            },
            "header": {
             "fill": {
              "color": "#C8D4E3"
             },
             "line": {
              "color": "white"
             }
            },
            "type": "table"
           }
          ]
         },
         "layout": {
          "annotationdefaults": {
           "arrowcolor": "#2a3f5f",
           "arrowhead": 0,
           "arrowwidth": 1
          },
          "autotypenumbers": "strict",
          "coloraxis": {
           "colorbar": {
            "outlinewidth": 0,
            "ticks": ""
           }
          },
          "colorscale": {
           "diverging": [
            [
             0,
             "#8e0152"
            ],
            [
             0.1,
             "#c51b7d"
            ],
            [
             0.2,
             "#de77ae"
            ],
            [
             0.3,
             "#f1b6da"
            ],
            [
             0.4,
             "#fde0ef"
            ],
            [
             0.5,
             "#f7f7f7"
            ],
            [
             0.6,
             "#e6f5d0"
            ],
            [
             0.7,
             "#b8e186"
            ],
            [
             0.8,
             "#7fbc41"
            ],
            [
             0.9,
             "#4d9221"
            ],
            [
             1,
             "#276419"
            ]
           ],
           "sequential": [
            [
             0,
             "#0d0887"
            ],
            [
             0.1111111111111111,
             "#46039f"
            ],
            [
             0.2222222222222222,
             "#7201a8"
            ],
            [
             0.3333333333333333,
             "#9c179e"
            ],
            [
             0.4444444444444444,
             "#bd3786"
            ],
            [
             0.5555555555555556,
             "#d8576b"
            ],
            [
             0.6666666666666666,
             "#ed7953"
            ],
            [
             0.7777777777777778,
             "#fb9f3a"
            ],
            [
             0.8888888888888888,
             "#fdca26"
            ],
            [
             1,
             "#f0f921"
            ]
           ],
           "sequentialminus": [
            [
             0,
             "#0d0887"
            ],
            [
             0.1111111111111111,
             "#46039f"
            ],
            [
             0.2222222222222222,
             "#7201a8"
            ],
            [
             0.3333333333333333,
             "#9c179e"
            ],
            [
             0.4444444444444444,
             "#bd3786"
            ],
            [
             0.5555555555555556,
             "#d8576b"
            ],
            [
             0.6666666666666666,
             "#ed7953"
            ],
            [
             0.7777777777777778,
             "#fb9f3a"
            ],
            [
             0.8888888888888888,
             "#fdca26"
            ],
            [
             1,
             "#f0f921"
            ]
           ]
          },
          "colorway": [
           "#636efa",
           "#EF553B",
           "#00cc96",
           "#ab63fa",
           "#FFA15A",
           "#19d3f3",
           "#FF6692",
           "#B6E880",
           "#FF97FF",
           "#FECB52"
          ],
          "font": {
           "color": "#2a3f5f"
          },
          "geo": {
           "bgcolor": "white",
           "lakecolor": "white",
           "landcolor": "#E5ECF6",
           "showlakes": true,
           "showland": true,
           "subunitcolor": "white"
          },
          "hoverlabel": {
           "align": "left"
          },
          "hovermode": "closest",
          "mapbox": {
           "style": "light"
          },
          "paper_bgcolor": "white",
          "plot_bgcolor": "#E5ECF6",
          "polar": {
           "angularaxis": {
            "gridcolor": "white",
            "linecolor": "white",
            "ticks": ""
           },
           "bgcolor": "#E5ECF6",
           "radialaxis": {
            "gridcolor": "white",
            "linecolor": "white",
            "ticks": ""
           }
          },
          "scene": {
           "xaxis": {
            "backgroundcolor": "#E5ECF6",
            "gridcolor": "white",
            "gridwidth": 2,
            "linecolor": "white",
            "showbackground": true,
            "ticks": "",
            "zerolinecolor": "white"
           },
           "yaxis": {
            "backgroundcolor": "#E5ECF6",
            "gridcolor": "white",
            "gridwidth": 2,
            "linecolor": "white",
            "showbackground": true,
            "ticks": "",
            "zerolinecolor": "white"
           },
           "zaxis": {
            "backgroundcolor": "#E5ECF6",
            "gridcolor": "white",
            "gridwidth": 2,
            "linecolor": "white",
            "showbackground": true,
            "ticks": "",
            "zerolinecolor": "white"
           }
          },
          "shapedefaults": {
           "line": {
            "color": "#2a3f5f"
           }
          },
          "ternary": {
           "aaxis": {
            "gridcolor": "white",
            "linecolor": "white",
            "ticks": ""
           },
           "baxis": {
            "gridcolor": "white",
            "linecolor": "white",
            "ticks": ""
           },
           "bgcolor": "#E5ECF6",
           "caxis": {
            "gridcolor": "white",
            "linecolor": "white",
            "ticks": ""
           }
          },
          "title": {
           "x": 0.05
          },
          "xaxis": {
           "automargin": true,
           "gridcolor": "white",
           "linecolor": "white",
           "ticks": "",
           "title": {
            "standoff": 15
           },
           "zerolinecolor": "white",
           "zerolinewidth": 2
          },
          "yaxis": {
           "automargin": true,
           "gridcolor": "white",
           "linecolor": "white",
           "ticks": "",
           "title": {
            "standoff": 15
           },
           "zerolinecolor": "white",
           "zerolinewidth": 2
          }
         }
        },
        "updatemenus": [
         {
          "buttons": [
           {
            "args": [
             {
              "y": [
               [
                0.44182029366493225,
                0.3120461404323578
               ],
               [
                0.44182029366493225,
                0.3120461404323578
               ],
               [
                2469538,
                1475378
               ],
               [
                0.3932854337075872,
                0.3932854337075872
               ]
              ]
             },
             {
              "xaxis": {
               "showticklabels": false,
               "tickmode": "array",
               "ticktext": [
                "(-inf, 2819.5000]",
                "(2819.5000, +inf)"
               ],
               "tickvals": [
                0,
                1
               ],
               "title": {
                "text": "Bins"
               }
              }
             }
            ],
            "label": "Flight_Number_Operating_Airline",
            "method": "update"
           },
           {
            "args": [
             {
              "y": [
               [
                0.40884384512901306,
                0.3916504681110382
               ],
               [
                0.40884384512901306,
                0.3916504681110382
               ],
               [
                375131,
                3569785
               ],
               [
                0.3932854337075872,
                0.3932854337075872
               ]
              ]
             },
             {
              "xaxis": {
               "showticklabels": false,
               "tickmode": "array",
               "ticktext": [
                "(-inf, 3.5000]",
                "(3.5000, +inf)"
               ],
               "tickvals": [
                0,
                1
               ],
               "title": {
                "text": "Bins"
               }
              }
             }
            ],
            "label": "DayofMonth",
            "method": "update"
           },
           {
            "args": [
             {
              "y": [
               [
                0.24678517878055573,
                0.2517869174480438,
                0.30141469836235046,
                0.29775890707969666,
                0.43117237091064453,
                0.5104461908340454
               ],
               [
                0.24678517878055573,
                0.2517869174480438,
                0.30141469836235046,
                0.29775890707969666,
                0.43117237091064453,
                0.5104461908340454
               ],
               [
                834183,
                7415,
                18025,
                139932,
                2608683,
                336678
               ],
               [
                0.3932854337075872,
                0.3932854337075872,
                0.3932854337075872,
                0.3932854337075872,
                0.3932854337075872,
                0.3932854337075872
               ]
              ]
             },
             {
              "xaxis": {
               "showticklabels": false,
               "tickmode": "array",
               "ticktext": [
                "(-inf, 835.5000]",
                "(835.5000, 839.5000]",
                "(839.5000, 843.5000]",
                "(843.5000, 915.5000]",
                "(915.5000, 2030.5000]",
                "(2030.5000, +inf)"
               ],
               "tickvals": [
                0,
                1,
                2,
                3,
                4,
                5
               ],
               "title": {
                "text": "Bins"
               }
              }
             }
            ],
            "label": "CRSDepTime",
            "method": "update"
           },
           {
            "args": [
             {
              "y": [
               [
                0.3726828694343567,
                0.5872712731361389
               ],
               [
                0.3726828694343567,
                0.5872712731361389
               ],
               [
                3566166,
                378750
               ],
               [
                0.3932854337075872,
                0.3932854337075872
               ]
              ]
             },
             {
              "xaxis": {
               "showticklabels": false,
               "tickmode": "array",
               "ticktext": [
                "(-inf, 2033.5000]",
                "(2033.5000, +inf)"
               ],
               "tickvals": [
                0,
                1
               ],
               "title": {
                "text": "Bins"
               }
              }
             }
            ],
            "label": "DepTime",
            "method": "update"
           },
           {
            "args": [
             {
              "y": [
               [
                0.3948826789855957,
                0.39228296279907227,
                0.3834388256072998,
                0.2802419364452362,
                0.3694835901260376,
                0.3386276960372925,
                0.3497975766658783,
                0.25504031777381897,
                0.3958183228969574
               ],
               [
                0.3948826789855957,
                0.39228296279907227,
                0.3834388256072998,
                0.2802419364452362,
                0.3694835901260376,
                0.3386276960372925,
                0.3497975766658783,
                0.25504031777381897,
                0.3958183228969574
               ],
               [
                2670112,
                2488,
                9480,
                1488,
                260201,
                1574,
                2470,
                992,
                996111
               ],
               [
                0.3932854337075872,
                0.3932854337075872,
                0.3932854337075872,
                0.3932854337075872,
                0.3932854337075872,
                0.3932854337075872,
                0.3932854337075872,
                0.3932854337075872,
                0.3932854337075872
               ]
              ]
             },
             {
              "xaxis": {
               "showticklabels": false,
               "tickmode": "array",
               "ticktext": [
                "(-inf, 13498.5000]",
                "(13498.5000, 13559.0000]",
                "(13559.0000, 13686.0000]",
                "(13686.0000, 13795.5000]",
                "(13795.5000, 13932.0000]",
                "(13932.0000, 13993.5000]",
                "(13993.5000, 14005.0000]",
                "(14005.0000, 14026.0000]",
                "(14026.0000, +inf)"
               ],
               "tickvals": [
                0,
                1,
                2,
                3,
                4,
                5,
                6,
                7,
                8
               ],
               "title": {
                "text": "Bins"
               }
              }
             }
            ],
            "label": "DestAirportID",
            "method": "update"
           },
           {
            "args": [
             {
              "y": [
               [
                0,
                1
               ],
               [
                0,
                1
               ],
               [
                2393438,
                1551478
               ],
               [
                0,
                1
               ]
              ]
             },
             {
              "xaxis": {
               "showticklabels": false,
               "tickmode": "array",
               "ticktext": [
                "(-inf, 0.5000]",
                "(0.5000, +inf)"
               ],
               "tickvals": [
                0,
                1
               ],
               "title": {
                "text": "Bins"
               }
              }
             }
            ],
            "label": "DepDelayMinutes",
            "method": "update"
           }
          ],
          "direction": "down",
          "pad": {
           "r": 10,
           "t": 10
          },
          "showactive": true,
          "x": 0.25,
          "xanchor": "left",
          "y": 1.09,
          "yanchor": "top"
         }
        ],
        "xaxis": {
         "showticklabels": false,
         "tickmode": "array",
         "ticktext": [
          "(-inf, 2819.5000]",
          "(2819.5000, +inf)"
         ],
         "tickvals": [
          0,
          1
         ],
         "title": {
          "text": "Bins"
         }
        },
        "yaxis": {
         "overlaying": "y2",
         "side": "left",
         "title": {
          "text": "Prediction and target"
         }
        },
        "yaxis2": {
         "position": 1,
         "side": "right",
         "title": {
          "text": "Objects per bin"
         }
        }
       }
      },
      "text/html": [
       "<div>                            <div id=\"6151d72b-5833-4be6-992a-314bf7fd9dfc\" class=\"plotly-graph-div\" style=\"height:525px; width:100%;\"></div>            <script type=\"text/javascript\">                require([\"plotly\"], function(Plotly) {                    window.PLOTLYENV=window.PLOTLYENV || {};                                    if (document.getElementById(\"6151d72b-5833-4be6-992a-314bf7fd9dfc\")) {                    Plotly.newPlot(                        \"6151d72b-5833-4be6-992a-314bf7fd9dfc\",                        [{\"mode\":\"lines+markers\",\"name\":\"Mean target\",\"xaxis\":\"x\",\"y\":[0.44182029366493225,0.3120461404323578],\"yaxis\":\"y\",\"type\":\"scatter\"},{\"line\":{\"dash\":\"dash\"},\"mode\":\"lines+markers\",\"name\":\"Mean prediction on each segment of feature values\",\"xaxis\":\"x\",\"y\":[0.44182029366493225,0.3120461404323578],\"yaxis\":\"y\",\"type\":\"scatter\"},{\"marker\":{\"color\":\"rgba(30, 150, 30, 0.4)\"},\"name\":\"Objects per bin\",\"width\":0.8,\"xaxis\":\"x\",\"y\":[2469538,1475378],\"yaxis\":\"y2\",\"type\":\"bar\"},{\"line\":{\"dash\":\"dashdot\"},\"mode\":\"lines+markers\",\"name\":\"Mean prediction with substituted feature\",\"xaxis\":\"x\",\"y\":[0.3932854337075872,0.3932854337075872],\"yaxis\":\"y\",\"type\":\"scatter\"}],                        {\"annotations\":[{\"align\":\"left\",\"showarrow\":false,\"text\":\"Statistics for feature\",\"x\":0,\"xref\":\"paper\",\"y\":1.05,\"yref\":\"paper\"}],\"legend\":{\"bgcolor\":\"rgba(0,0,0,0)\",\"x\":1.07},\"template\":{\"data\":{\"barpolar\":[{\"marker\":{\"line\":{\"color\":\"#E5ECF6\",\"width\":0.5},\"pattern\":{\"fillmode\":\"overlay\",\"size\":10,\"solidity\":0.2}},\"type\":\"barpolar\"}],\"bar\":[{\"error_x\":{\"color\":\"#2a3f5f\"},\"error_y\":{\"color\":\"#2a3f5f\"},\"marker\":{\"line\":{\"color\":\"#E5ECF6\",\"width\":0.5},\"pattern\":{\"fillmode\":\"overlay\",\"size\":10,\"solidity\":0.2}},\"type\":\"bar\"}],\"carpet\":[{\"aaxis\":{\"endlinecolor\":\"#2a3f5f\",\"gridcolor\":\"white\",\"linecolor\":\"white\",\"minorgridcolor\":\"white\",\"startlinecolor\":\"#2a3f5f\"},\"baxis\":{\"endlinecolor\":\"#2a3f5f\",\"gridcolor\":\"white\",\"linecolor\":\"white\",\"minorgridcolor\":\"white\",\"startlinecolor\":\"#2a3f5f\"},\"type\":\"carpet\"}],\"choropleth\":[{\"colorbar\":{\"outlinewidth\":0,\"ticks\":\"\"},\"type\":\"choropleth\"}],\"contourcarpet\":[{\"colorbar\":{\"outlinewidth\":0,\"ticks\":\"\"},\"type\":\"contourcarpet\"}],\"contour\":[{\"colorbar\":{\"outlinewidth\":0,\"ticks\":\"\"},\"colorscale\":[[0.0,\"#0d0887\"],[0.1111111111111111,\"#46039f\"],[0.2222222222222222,\"#7201a8\"],[0.3333333333333333,\"#9c179e\"],[0.4444444444444444,\"#bd3786\"],[0.5555555555555556,\"#d8576b\"],[0.6666666666666666,\"#ed7953\"],[0.7777777777777778,\"#fb9f3a\"],[0.8888888888888888,\"#fdca26\"],[1.0,\"#f0f921\"]],\"type\":\"contour\"}],\"heatmapgl\":[{\"colorbar\":{\"outlinewidth\":0,\"ticks\":\"\"},\"colorscale\":[[0.0,\"#0d0887\"],[0.1111111111111111,\"#46039f\"],[0.2222222222222222,\"#7201a8\"],[0.3333333333333333,\"#9c179e\"],[0.4444444444444444,\"#bd3786\"],[0.5555555555555556,\"#d8576b\"],[0.6666666666666666,\"#ed7953\"],[0.7777777777777778,\"#fb9f3a\"],[0.8888888888888888,\"#fdca26\"],[1.0,\"#f0f921\"]],\"type\":\"heatmapgl\"}],\"heatmap\":[{\"colorbar\":{\"outlinewidth\":0,\"ticks\":\"\"},\"colorscale\":[[0.0,\"#0d0887\"],[0.1111111111111111,\"#46039f\"],[0.2222222222222222,\"#7201a8\"],[0.3333333333333333,\"#9c179e\"],[0.4444444444444444,\"#bd3786\"],[0.5555555555555556,\"#d8576b\"],[0.6666666666666666,\"#ed7953\"],[0.7777777777777778,\"#fb9f3a\"],[0.8888888888888888,\"#fdca26\"],[1.0,\"#f0f921\"]],\"type\":\"heatmap\"}],\"histogram2dcontour\":[{\"colorbar\":{\"outlinewidth\":0,\"ticks\":\"\"},\"colorscale\":[[0.0,\"#0d0887\"],[0.1111111111111111,\"#46039f\"],[0.2222222222222222,\"#7201a8\"],[0.3333333333333333,\"#9c179e\"],[0.4444444444444444,\"#bd3786\"],[0.5555555555555556,\"#d8576b\"],[0.6666666666666666,\"#ed7953\"],[0.7777777777777778,\"#fb9f3a\"],[0.8888888888888888,\"#fdca26\"],[1.0,\"#f0f921\"]],\"type\":\"histogram2dcontour\"}],\"histogram2d\":[{\"colorbar\":{\"outlinewidth\":0,\"ticks\":\"\"},\"colorscale\":[[0.0,\"#0d0887\"],[0.1111111111111111,\"#46039f\"],[0.2222222222222222,\"#7201a8\"],[0.3333333333333333,\"#9c179e\"],[0.4444444444444444,\"#bd3786\"],[0.5555555555555556,\"#d8576b\"],[0.6666666666666666,\"#ed7953\"],[0.7777777777777778,\"#fb9f3a\"],[0.8888888888888888,\"#fdca26\"],[1.0,\"#f0f921\"]],\"type\":\"histogram2d\"}],\"histogram\":[{\"marker\":{\"pattern\":{\"fillmode\":\"overlay\",\"size\":10,\"solidity\":0.2}},\"type\":\"histogram\"}],\"mesh3d\":[{\"colorbar\":{\"outlinewidth\":0,\"ticks\":\"\"},\"type\":\"mesh3d\"}],\"parcoords\":[{\"line\":{\"colorbar\":{\"outlinewidth\":0,\"ticks\":\"\"}},\"type\":\"parcoords\"}],\"pie\":[{\"automargin\":true,\"type\":\"pie\"}],\"scatter3d\":[{\"line\":{\"colorbar\":{\"outlinewidth\":0,\"ticks\":\"\"}},\"marker\":{\"colorbar\":{\"outlinewidth\":0,\"ticks\":\"\"}},\"type\":\"scatter3d\"}],\"scattercarpet\":[{\"marker\":{\"colorbar\":{\"outlinewidth\":0,\"ticks\":\"\"}},\"type\":\"scattercarpet\"}],\"scattergeo\":[{\"marker\":{\"colorbar\":{\"outlinewidth\":0,\"ticks\":\"\"}},\"type\":\"scattergeo\"}],\"scattergl\":[{\"marker\":{\"colorbar\":{\"outlinewidth\":0,\"ticks\":\"\"}},\"type\":\"scattergl\"}],\"scattermapbox\":[{\"marker\":{\"colorbar\":{\"outlinewidth\":0,\"ticks\":\"\"}},\"type\":\"scattermapbox\"}],\"scatterpolargl\":[{\"marker\":{\"colorbar\":{\"outlinewidth\":0,\"ticks\":\"\"}},\"type\":\"scatterpolargl\"}],\"scatterpolar\":[{\"marker\":{\"colorbar\":{\"outlinewidth\":0,\"ticks\":\"\"}},\"type\":\"scatterpolar\"}],\"scatter\":[{\"fillpattern\":{\"fillmode\":\"overlay\",\"size\":10,\"solidity\":0.2},\"type\":\"scatter\"}],\"scatterternary\":[{\"marker\":{\"colorbar\":{\"outlinewidth\":0,\"ticks\":\"\"}},\"type\":\"scatterternary\"}],\"surface\":[{\"colorbar\":{\"outlinewidth\":0,\"ticks\":\"\"},\"colorscale\":[[0.0,\"#0d0887\"],[0.1111111111111111,\"#46039f\"],[0.2222222222222222,\"#7201a8\"],[0.3333333333333333,\"#9c179e\"],[0.4444444444444444,\"#bd3786\"],[0.5555555555555556,\"#d8576b\"],[0.6666666666666666,\"#ed7953\"],[0.7777777777777778,\"#fb9f3a\"],[0.8888888888888888,\"#fdca26\"],[1.0,\"#f0f921\"]],\"type\":\"surface\"}],\"table\":[{\"cells\":{\"fill\":{\"color\":\"#EBF0F8\"},\"line\":{\"color\":\"white\"}},\"header\":{\"fill\":{\"color\":\"#C8D4E3\"},\"line\":{\"color\":\"white\"}},\"type\":\"table\"}]},\"layout\":{\"annotationdefaults\":{\"arrowcolor\":\"#2a3f5f\",\"arrowhead\":0,\"arrowwidth\":1},\"autotypenumbers\":\"strict\",\"coloraxis\":{\"colorbar\":{\"outlinewidth\":0,\"ticks\":\"\"}},\"colorscale\":{\"diverging\":[[0,\"#8e0152\"],[0.1,\"#c51b7d\"],[0.2,\"#de77ae\"],[0.3,\"#f1b6da\"],[0.4,\"#fde0ef\"],[0.5,\"#f7f7f7\"],[0.6,\"#e6f5d0\"],[0.7,\"#b8e186\"],[0.8,\"#7fbc41\"],[0.9,\"#4d9221\"],[1,\"#276419\"]],\"sequential\":[[0.0,\"#0d0887\"],[0.1111111111111111,\"#46039f\"],[0.2222222222222222,\"#7201a8\"],[0.3333333333333333,\"#9c179e\"],[0.4444444444444444,\"#bd3786\"],[0.5555555555555556,\"#d8576b\"],[0.6666666666666666,\"#ed7953\"],[0.7777777777777778,\"#fb9f3a\"],[0.8888888888888888,\"#fdca26\"],[1.0,\"#f0f921\"]],\"sequentialminus\":[[0.0,\"#0d0887\"],[0.1111111111111111,\"#46039f\"],[0.2222222222222222,\"#7201a8\"],[0.3333333333333333,\"#9c179e\"],[0.4444444444444444,\"#bd3786\"],[0.5555555555555556,\"#d8576b\"],[0.6666666666666666,\"#ed7953\"],[0.7777777777777778,\"#fb9f3a\"],[0.8888888888888888,\"#fdca26\"],[1.0,\"#f0f921\"]]},\"colorway\":[\"#636efa\",\"#EF553B\",\"#00cc96\",\"#ab63fa\",\"#FFA15A\",\"#19d3f3\",\"#FF6692\",\"#B6E880\",\"#FF97FF\",\"#FECB52\"],\"font\":{\"color\":\"#2a3f5f\"},\"geo\":{\"bgcolor\":\"white\",\"lakecolor\":\"white\",\"landcolor\":\"#E5ECF6\",\"showlakes\":true,\"showland\":true,\"subunitcolor\":\"white\"},\"hoverlabel\":{\"align\":\"left\"},\"hovermode\":\"closest\",\"mapbox\":{\"style\":\"light\"},\"paper_bgcolor\":\"white\",\"plot_bgcolor\":\"#E5ECF6\",\"polar\":{\"angularaxis\":{\"gridcolor\":\"white\",\"linecolor\":\"white\",\"ticks\":\"\"},\"bgcolor\":\"#E5ECF6\",\"radialaxis\":{\"gridcolor\":\"white\",\"linecolor\":\"white\",\"ticks\":\"\"}},\"scene\":{\"xaxis\":{\"backgroundcolor\":\"#E5ECF6\",\"gridcolor\":\"white\",\"gridwidth\":2,\"linecolor\":\"white\",\"showbackground\":true,\"ticks\":\"\",\"zerolinecolor\":\"white\"},\"yaxis\":{\"backgroundcolor\":\"#E5ECF6\",\"gridcolor\":\"white\",\"gridwidth\":2,\"linecolor\":\"white\",\"showbackground\":true,\"ticks\":\"\",\"zerolinecolor\":\"white\"},\"zaxis\":{\"backgroundcolor\":\"#E5ECF6\",\"gridcolor\":\"white\",\"gridwidth\":2,\"linecolor\":\"white\",\"showbackground\":true,\"ticks\":\"\",\"zerolinecolor\":\"white\"}},\"shapedefaults\":{\"line\":{\"color\":\"#2a3f5f\"}},\"ternary\":{\"aaxis\":{\"gridcolor\":\"white\",\"linecolor\":\"white\",\"ticks\":\"\"},\"baxis\":{\"gridcolor\":\"white\",\"linecolor\":\"white\",\"ticks\":\"\"},\"bgcolor\":\"#E5ECF6\",\"caxis\":{\"gridcolor\":\"white\",\"linecolor\":\"white\",\"ticks\":\"\"}},\"title\":{\"x\":0.05},\"xaxis\":{\"automargin\":true,\"gridcolor\":\"white\",\"linecolor\":\"white\",\"ticks\":\"\",\"title\":{\"standoff\":15},\"zerolinecolor\":\"white\",\"zerolinewidth\":2},\"yaxis\":{\"automargin\":true,\"gridcolor\":\"white\",\"linecolor\":\"white\",\"ticks\":\"\",\"title\":{\"standoff\":15},\"zerolinecolor\":\"white\",\"zerolinewidth\":2}}},\"updatemenus\":[{\"buttons\":[{\"args\":[{\"y\":[[0.44182029366493225,0.3120461404323578],[0.44182029366493225,0.3120461404323578],[2469538,1475378],[0.3932854337075872,0.3932854337075872]]},{\"xaxis\":{\"showticklabels\":false,\"tickmode\":\"array\",\"ticktext\":[\"(-inf, 2819.5000]\",\"(2819.5000, +inf)\"],\"tickvals\":[0,1],\"title\":{\"text\":\"Bins\"}}}],\"label\":\"Flight_Number_Operating_Airline\",\"method\":\"update\"},{\"args\":[{\"y\":[[0.40884384512901306,0.3916504681110382],[0.40884384512901306,0.3916504681110382],[375131,3569785],[0.3932854337075872,0.3932854337075872]]},{\"xaxis\":{\"showticklabels\":false,\"tickmode\":\"array\",\"ticktext\":[\"(-inf, 3.5000]\",\"(3.5000, +inf)\"],\"tickvals\":[0,1],\"title\":{\"text\":\"Bins\"}}}],\"label\":\"DayofMonth\",\"method\":\"update\"},{\"args\":[{\"y\":[[0.24678517878055573,0.2517869174480438,0.30141469836235046,0.29775890707969666,0.43117237091064453,0.5104461908340454],[0.24678517878055573,0.2517869174480438,0.30141469836235046,0.29775890707969666,0.43117237091064453,0.5104461908340454],[834183,7415,18025,139932,2608683,336678],[0.3932854337075872,0.3932854337075872,0.3932854337075872,0.3932854337075872,0.3932854337075872,0.3932854337075872]]},{\"xaxis\":{\"showticklabels\":false,\"tickmode\":\"array\",\"ticktext\":[\"(-inf, 835.5000]\",\"(835.5000, 839.5000]\",\"(839.5000, 843.5000]\",\"(843.5000, 915.5000]\",\"(915.5000, 2030.5000]\",\"(2030.5000, +inf)\"],\"tickvals\":[0,1,2,3,4,5],\"title\":{\"text\":\"Bins\"}}}],\"label\":\"CRSDepTime\",\"method\":\"update\"},{\"args\":[{\"y\":[[0.3726828694343567,0.5872712731361389],[0.3726828694343567,0.5872712731361389],[3566166,378750],[0.3932854337075872,0.3932854337075872]]},{\"xaxis\":{\"showticklabels\":false,\"tickmode\":\"array\",\"ticktext\":[\"(-inf, 2033.5000]\",\"(2033.5000, +inf)\"],\"tickvals\":[0,1],\"title\":{\"text\":\"Bins\"}}}],\"label\":\"DepTime\",\"method\":\"update\"},{\"args\":[{\"y\":[[0.3948826789855957,0.39228296279907227,0.3834388256072998,0.2802419364452362,0.3694835901260376,0.3386276960372925,0.3497975766658783,0.25504031777381897,0.3958183228969574],[0.3948826789855957,0.39228296279907227,0.3834388256072998,0.2802419364452362,0.3694835901260376,0.3386276960372925,0.3497975766658783,0.25504031777381897,0.3958183228969574],[2670112,2488,9480,1488,260201,1574,2470,992,996111],[0.3932854337075872,0.3932854337075872,0.3932854337075872,0.3932854337075872,0.3932854337075872,0.3932854337075872,0.3932854337075872,0.3932854337075872,0.3932854337075872]]},{\"xaxis\":{\"showticklabels\":false,\"tickmode\":\"array\",\"ticktext\":[\"(-inf, 13498.5000]\",\"(13498.5000, 13559.0000]\",\"(13559.0000, 13686.0000]\",\"(13686.0000, 13795.5000]\",\"(13795.5000, 13932.0000]\",\"(13932.0000, 13993.5000]\",\"(13993.5000, 14005.0000]\",\"(14005.0000, 14026.0000]\",\"(14026.0000, +inf)\"],\"tickvals\":[0,1,2,3,4,5,6,7,8],\"title\":{\"text\":\"Bins\"}}}],\"label\":\"DestAirportID\",\"method\":\"update\"},{\"args\":[{\"y\":[[0.0,1.0],[0.0,1.0],[2393438,1551478],[0.0,1.0]]},{\"xaxis\":{\"showticklabels\":false,\"tickmode\":\"array\",\"ticktext\":[\"(-inf, 0.5000]\",\"(0.5000, +inf)\"],\"tickvals\":[0,1],\"title\":{\"text\":\"Bins\"}}}],\"label\":\"DepDelayMinutes\",\"method\":\"update\"}],\"direction\":\"down\",\"pad\":{\"r\":10,\"t\":10},\"showactive\":true,\"x\":0.25,\"xanchor\":\"left\",\"y\":1.09,\"yanchor\":\"top\"}],\"xaxis\":{\"showticklabels\":false,\"tickmode\":\"array\",\"ticktext\":[\"(-inf, 2819.5000]\",\"(2819.5000, +inf)\"],\"tickvals\":[0,1],\"title\":{\"text\":\"Bins\"}},\"yaxis\":{\"overlaying\":\"y2\",\"side\":\"left\",\"title\":{\"text\":\"Prediction and target\"}},\"yaxis2\":{\"position\":1.0,\"side\":\"right\",\"title\":{\"text\":\"Objects per bin\"}}},                        {\"responsive\": true}                    ).then(function(){\n",
       "                            \n",
       "var gd = document.getElementById('6151d72b-5833-4be6-992a-314bf7fd9dfc');\n",
       "var x = new MutationObserver(function (mutations, observer) {{\n",
       "        var display = window.getComputedStyle(gd).display;\n",
       "        if (!display || display === 'none') {{\n",
       "            console.log([gd, 'removed!']);\n",
       "            Plotly.purge(gd);\n",
       "            observer.disconnect();\n",
       "        }}\n",
       "}});\n",
       "\n",
       "// Listen for the removal of the full notebook cells\n",
       "var notebookContainer = gd.closest('#notebook-container');\n",
       "if (notebookContainer) {{\n",
       "    x.observe(notebookContainer, {childList: true});\n",
       "}}\n",
       "\n",
       "// Listen for the clearing of the current output cell\n",
       "var outputEl = gd.closest('.output');\n",
       "if (outputEl) {{\n",
       "    x.observe(outputEl, {childList: true});\n",
       "}}\n",
       "\n",
       "                        })                };                });            </script>        </div>"
      ]
     },
     "metadata": {},
     "output_type": "display_data"
    }
   ],
   "source": [
    "# Calculate and plot a set of statistics for the chosen feature.\n",
    "\n",
    "plot = cb_model.calc_feature_statistics(df_clean,\n",
    "                        target=train_labels,\n",
    "                        feature=train_data,\n",
    "                        prediction_type='Class',\n",
    "                        cat_feature_values=None,\n",
    "                        plot=True,\n",
    "                        max_cat_features_on_plot=10,\n",
    "                        thread_count=-1,\n",
    "                        plot_file=None)"
   ]
  }
 ],
 "metadata": {
  "kernelspec": {
   "display_name": "base",
   "language": "python",
   "name": "python3"
  },
  "language_info": {
   "codemirror_mode": {
    "name": "ipython",
    "version": 3
   },
   "file_extension": ".py",
   "mimetype": "text/x-python",
   "name": "python",
   "nbconvert_exporter": "python",
   "pygments_lexer": "ipython3",
   "version": "3.9.13"
  },
  "orig_nbformat": 4
 },
 "nbformat": 4,
 "nbformat_minor": 2
}
