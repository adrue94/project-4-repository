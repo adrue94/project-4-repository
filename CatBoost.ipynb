{
 "cells": [
  {
   "cell_type": "code",
   "execution_count": 1,
   "metadata": {},
   "outputs": [],
   "source": [
    "import pandas as pd\n",
    "import numpy as np\n",
    "import seaborn as sns\n",
    "import matplotlib.pyplot as plt\n",
    "import os\n",
    "import joypy\n",
    "from pandas.plotting import table \n",
    "from scipy.stats import linregress\n",
    "from scipy.stats import describe\n",
    "from sklearn import datasets\n",
    "import statsmodels.api as sm\n",
    "from sklearn.metrics import precision_score, accuracy_score\n",
    "sns.set_theme(style=\"white\", rc={\"axes.facecolor\": (0, 0, 0, 0)})"
   ]
  },
  {
   "cell_type": "code",
   "execution_count": 2,
   "metadata": {},
   "outputs": [],
   "source": [
    "file = \"/Users/mdcummings/Desktop/Data Analysis/Boot Camp/Project 4/Project 4/Project 4/project-4-repository/Resources/Combined_Flights_2022.csv\""
   ]
  },
  {
   "cell_type": "code",
   "execution_count": 3,
   "metadata": {},
   "outputs": [],
   "source": [
    "df = pd.read_csv(file)\n"
   ]
  },
  {
   "cell_type": "code",
   "execution_count": 4,
   "metadata": {},
   "outputs": [
    {
     "data": {
      "text/plain": [
       "['FlightDate',\n",
       " 'Airline',\n",
       " 'Origin',\n",
       " 'Dest',\n",
       " 'Cancelled',\n",
       " 'Diverted',\n",
       " 'CRSDepTime',\n",
       " 'DepTime',\n",
       " 'DepDelayMinutes',\n",
       " 'DepDelay',\n",
       " 'ArrTime',\n",
       " 'ArrDelayMinutes',\n",
       " 'AirTime',\n",
       " 'CRSElapsedTime',\n",
       " 'ActualElapsedTime',\n",
       " 'Distance',\n",
       " 'Year',\n",
       " 'Quarter',\n",
       " 'Month',\n",
       " 'DayofMonth',\n",
       " 'DayOfWeek',\n",
       " 'Marketing_Airline_Network',\n",
       " 'Operated_or_Branded_Code_Share_Partners',\n",
       " 'DOT_ID_Marketing_Airline',\n",
       " 'IATA_Code_Marketing_Airline',\n",
       " 'Flight_Number_Marketing_Airline',\n",
       " 'Operating_Airline',\n",
       " 'DOT_ID_Operating_Airline',\n",
       " 'IATA_Code_Operating_Airline',\n",
       " 'Tail_Number',\n",
       " 'Flight_Number_Operating_Airline',\n",
       " 'OriginAirportID',\n",
       " 'OriginAirportSeqID',\n",
       " 'OriginCityMarketID',\n",
       " 'OriginCityName',\n",
       " 'OriginState',\n",
       " 'OriginStateFips',\n",
       " 'OriginStateName',\n",
       " 'OriginWac',\n",
       " 'DestAirportID',\n",
       " 'DestAirportSeqID',\n",
       " 'DestCityMarketID',\n",
       " 'DestCityName',\n",
       " 'DestState',\n",
       " 'DestStateFips',\n",
       " 'DestStateName',\n",
       " 'DestWac',\n",
       " 'DepDel15',\n",
       " 'DepartureDelayGroups',\n",
       " 'DepTimeBlk',\n",
       " 'TaxiOut',\n",
       " 'WheelsOff',\n",
       " 'WheelsOn',\n",
       " 'TaxiIn',\n",
       " 'CRSArrTime',\n",
       " 'ArrDelay',\n",
       " 'ArrDel15',\n",
       " 'ArrivalDelayGroups',\n",
       " 'ArrTimeBlk',\n",
       " 'DistanceGroup',\n",
       " 'DivAirportLandings']"
      ]
     },
     "execution_count": 4,
     "metadata": {},
     "output_type": "execute_result"
    }
   ],
   "source": [
    "list(df.head(10))"
   ]
  },
  {
   "cell_type": "code",
   "execution_count": 5,
   "metadata": {},
   "outputs": [
    {
     "data": {
      "text/html": [
       "<div>\n",
       "<style scoped>\n",
       "    .dataframe tbody tr th:only-of-type {\n",
       "        vertical-align: middle;\n",
       "    }\n",
       "\n",
       "    .dataframe tbody tr th {\n",
       "        vertical-align: top;\n",
       "    }\n",
       "\n",
       "    .dataframe thead th {\n",
       "        text-align: right;\n",
       "    }\n",
       "</style>\n",
       "<table border=\"1\" class=\"dataframe\">\n",
       "  <thead>\n",
       "    <tr style=\"text-align: right;\">\n",
       "      <th></th>\n",
       "      <th>FlightDate</th>\n",
       "      <th>Airline</th>\n",
       "      <th>Origin</th>\n",
       "      <th>Dest</th>\n",
       "      <th>Cancelled</th>\n",
       "      <th>Diverted</th>\n",
       "      <th>CRSDepTime</th>\n",
       "      <th>DepTime</th>\n",
       "      <th>DepDelayMinutes</th>\n",
       "      <th>DepDelay</th>\n",
       "      <th>...</th>\n",
       "      <th>WheelsOff</th>\n",
       "      <th>WheelsOn</th>\n",
       "      <th>TaxiIn</th>\n",
       "      <th>CRSArrTime</th>\n",
       "      <th>ArrDelay</th>\n",
       "      <th>ArrDel15</th>\n",
       "      <th>ArrivalDelayGroups</th>\n",
       "      <th>ArrTimeBlk</th>\n",
       "      <th>DistanceGroup</th>\n",
       "      <th>DivAirportLandings</th>\n",
       "    </tr>\n",
       "  </thead>\n",
       "  <tbody>\n",
       "    <tr>\n",
       "      <th>3352803</th>\n",
       "      <td>2022-01-01</td>\n",
       "      <td>SkyWest Airlines Inc.</td>\n",
       "      <td>DEN</td>\n",
       "      <td>LAX</td>\n",
       "      <td>False</td>\n",
       "      <td>False</td>\n",
       "      <td>600</td>\n",
       "      <td>852.0</td>\n",
       "      <td>172.0</td>\n",
       "      <td>172.0</td>\n",
       "      <td>...</td>\n",
       "      <td>942.0</td>\n",
       "      <td>1042.0</td>\n",
       "      <td>7.0</td>\n",
       "      <td>756</td>\n",
       "      <td>173.0</td>\n",
       "      <td>1.0</td>\n",
       "      <td>11.0</td>\n",
       "      <td>0700-0759</td>\n",
       "      <td>4</td>\n",
       "      <td>0</td>\n",
       "    </tr>\n",
       "    <tr>\n",
       "      <th>3084349</th>\n",
       "      <td>2022-01-01</td>\n",
       "      <td>Southwest Airlines Co.</td>\n",
       "      <td>BDL</td>\n",
       "      <td>BNA</td>\n",
       "      <td>False</td>\n",
       "      <td>False</td>\n",
       "      <td>1430</td>\n",
       "      <td>1428.0</td>\n",
       "      <td>0.0</td>\n",
       "      <td>-2.0</td>\n",
       "      <td>...</td>\n",
       "      <td>1438.0</td>\n",
       "      <td>1608.0</td>\n",
       "      <td>10.0</td>\n",
       "      <td>1610</td>\n",
       "      <td>8.0</td>\n",
       "      <td>0.0</td>\n",
       "      <td>0.0</td>\n",
       "      <td>1600-1659</td>\n",
       "      <td>4</td>\n",
       "      <td>0</td>\n",
       "    </tr>\n",
       "    <tr>\n",
       "      <th>3084350</th>\n",
       "      <td>2022-01-01</td>\n",
       "      <td>Southwest Airlines Co.</td>\n",
       "      <td>BDL</td>\n",
       "      <td>BWI</td>\n",
       "      <td>False</td>\n",
       "      <td>False</td>\n",
       "      <td>1235</td>\n",
       "      <td>1313.0</td>\n",
       "      <td>38.0</td>\n",
       "      <td>38.0</td>\n",
       "      <td>...</td>\n",
       "      <td>1324.0</td>\n",
       "      <td>1421.0</td>\n",
       "      <td>5.0</td>\n",
       "      <td>1350</td>\n",
       "      <td>36.0</td>\n",
       "      <td>1.0</td>\n",
       "      <td>2.0</td>\n",
       "      <td>1300-1359</td>\n",
       "      <td>2</td>\n",
       "      <td>0</td>\n",
       "    </tr>\n",
       "    <tr>\n",
       "      <th>3084351</th>\n",
       "      <td>2022-01-01</td>\n",
       "      <td>Southwest Airlines Co.</td>\n",
       "      <td>BDL</td>\n",
       "      <td>BWI</td>\n",
       "      <td>False</td>\n",
       "      <td>False</td>\n",
       "      <td>525</td>\n",
       "      <td>531.0</td>\n",
       "      <td>6.0</td>\n",
       "      <td>6.0</td>\n",
       "      <td>...</td>\n",
       "      <td>541.0</td>\n",
       "      <td>633.0</td>\n",
       "      <td>20.0</td>\n",
       "      <td>645</td>\n",
       "      <td>8.0</td>\n",
       "      <td>0.0</td>\n",
       "      <td>0.0</td>\n",
       "      <td>0600-0659</td>\n",
       "      <td>2</td>\n",
       "      <td>0</td>\n",
       "    </tr>\n",
       "    <tr>\n",
       "      <th>3084352</th>\n",
       "      <td>2022-01-01</td>\n",
       "      <td>Southwest Airlines Co.</td>\n",
       "      <td>BDL</td>\n",
       "      <td>BWI</td>\n",
       "      <td>True</td>\n",
       "      <td>False</td>\n",
       "      <td>1710</td>\n",
       "      <td>NaN</td>\n",
       "      <td>NaN</td>\n",
       "      <td>NaN</td>\n",
       "      <td>...</td>\n",
       "      <td>NaN</td>\n",
       "      <td>NaN</td>\n",
       "      <td>NaN</td>\n",
       "      <td>1830</td>\n",
       "      <td>NaN</td>\n",
       "      <td>NaN</td>\n",
       "      <td>NaN</td>\n",
       "      <td>1800-1859</td>\n",
       "      <td>2</td>\n",
       "      <td>0</td>\n",
       "    </tr>\n",
       "  </tbody>\n",
       "</table>\n",
       "<p>5 rows × 61 columns</p>\n",
       "</div>"
      ],
      "text/plain": [
       "         FlightDate                 Airline Origin Dest  Cancelled  Diverted  \\\n",
       "3352803  2022-01-01   SkyWest Airlines Inc.    DEN  LAX      False     False   \n",
       "3084349  2022-01-01  Southwest Airlines Co.    BDL  BNA      False     False   \n",
       "3084350  2022-01-01  Southwest Airlines Co.    BDL  BWI      False     False   \n",
       "3084351  2022-01-01  Southwest Airlines Co.    BDL  BWI      False     False   \n",
       "3084352  2022-01-01  Southwest Airlines Co.    BDL  BWI       True     False   \n",
       "\n",
       "         CRSDepTime  DepTime  DepDelayMinutes  DepDelay  ...  WheelsOff  \\\n",
       "3352803         600    852.0            172.0     172.0  ...      942.0   \n",
       "3084349        1430   1428.0              0.0      -2.0  ...     1438.0   \n",
       "3084350        1235   1313.0             38.0      38.0  ...     1324.0   \n",
       "3084351         525    531.0              6.0       6.0  ...      541.0   \n",
       "3084352        1710      NaN              NaN       NaN  ...        NaN   \n",
       "\n",
       "         WheelsOn  TaxiIn  CRSArrTime  ArrDelay  ArrDel15  ArrivalDelayGroups  \\\n",
       "3352803    1042.0     7.0         756     173.0       1.0                11.0   \n",
       "3084349    1608.0    10.0        1610       8.0       0.0                 0.0   \n",
       "3084350    1421.0     5.0        1350      36.0       1.0                 2.0   \n",
       "3084351     633.0    20.0         645       8.0       0.0                 0.0   \n",
       "3084352       NaN     NaN        1830       NaN       NaN                 NaN   \n",
       "\n",
       "         ArrTimeBlk  DistanceGroup  DivAirportLandings  \n",
       "3352803   0700-0759              4                   0  \n",
       "3084349   1600-1659              4                   0  \n",
       "3084350   1300-1359              2                   0  \n",
       "3084351   0600-0659              2                   0  \n",
       "3084352   1800-1859              2                   0  \n",
       "\n",
       "[5 rows x 61 columns]"
      ]
     },
     "execution_count": 5,
     "metadata": {},
     "output_type": "execute_result"
    }
   ],
   "source": [
    "#sort values by flight \n",
    "sorted_df = df.sort_values('FlightDate')\n",
    "sorted_df.head(5)"
   ]
  },
  {
   "cell_type": "code",
   "execution_count": 6,
   "metadata": {},
   "outputs": [
    {
     "data": {
      "text/plain": [
       "FlightDate             object\n",
       "Airline                object\n",
       "Origin                 object\n",
       "Dest                   object\n",
       "Cancelled                bool\n",
       "                       ...   \n",
       "ArrDel15              float64\n",
       "ArrivalDelayGroups    float64\n",
       "ArrTimeBlk             object\n",
       "DistanceGroup           int64\n",
       "DivAirportLandings      int64\n",
       "Length: 61, dtype: object"
      ]
     },
     "execution_count": 6,
     "metadata": {},
     "output_type": "execute_result"
    }
   ],
   "source": [
    "# Understand the data types in each column\n",
    "df.dtypes"
   ]
  },
  {
   "cell_type": "code",
   "execution_count": 7,
   "metadata": {},
   "outputs": [
    {
     "data": {
      "text/html": [
       "<div>\n",
       "<style scoped>\n",
       "    .dataframe tbody tr th:only-of-type {\n",
       "        vertical-align: middle;\n",
       "    }\n",
       "\n",
       "    .dataframe tbody tr th {\n",
       "        vertical-align: top;\n",
       "    }\n",
       "\n",
       "    .dataframe thead th {\n",
       "        text-align: right;\n",
       "    }\n",
       "</style>\n",
       "<table border=\"1\" class=\"dataframe\">\n",
       "  <thead>\n",
       "    <tr style=\"text-align: right;\">\n",
       "      <th></th>\n",
       "      <th>CRSDepTime</th>\n",
       "      <th>DepTime</th>\n",
       "      <th>DepDelayMinutes</th>\n",
       "      <th>DepDelay</th>\n",
       "      <th>ArrTime</th>\n",
       "      <th>ArrDelayMinutes</th>\n",
       "      <th>AirTime</th>\n",
       "      <th>CRSElapsedTime</th>\n",
       "      <th>ActualElapsedTime</th>\n",
       "      <th>Distance</th>\n",
       "      <th>...</th>\n",
       "      <th>TaxiOut</th>\n",
       "      <th>WheelsOff</th>\n",
       "      <th>WheelsOn</th>\n",
       "      <th>TaxiIn</th>\n",
       "      <th>CRSArrTime</th>\n",
       "      <th>ArrDelay</th>\n",
       "      <th>ArrDel15</th>\n",
       "      <th>ArrivalDelayGroups</th>\n",
       "      <th>DistanceGroup</th>\n",
       "      <th>DivAirportLandings</th>\n",
       "    </tr>\n",
       "  </thead>\n",
       "  <tbody>\n",
       "    <tr>\n",
       "      <th>count</th>\n",
       "      <td>4.078318e+06</td>\n",
       "      <td>3.957885e+06</td>\n",
       "      <td>3.957823e+06</td>\n",
       "      <td>3.957823e+06</td>\n",
       "      <td>3.954079e+06</td>\n",
       "      <td>3.944916e+06</td>\n",
       "      <td>3.944916e+06</td>\n",
       "      <td>4.078318e+06</td>\n",
       "      <td>3.944916e+06</td>\n",
       "      <td>4.078318e+06</td>\n",
       "      <td>...</td>\n",
       "      <td>3.955652e+06</td>\n",
       "      <td>3.955652e+06</td>\n",
       "      <td>3.954076e+06</td>\n",
       "      <td>3.954076e+06</td>\n",
       "      <td>4.078318e+06</td>\n",
       "      <td>3.944916e+06</td>\n",
       "      <td>3.944916e+06</td>\n",
       "      <td>3.944916e+06</td>\n",
       "      <td>4.078318e+06</td>\n",
       "      <td>4.078318e+06</td>\n",
       "    </tr>\n",
       "    <tr>\n",
       "      <th>mean</th>\n",
       "      <td>1.329587e+03</td>\n",
       "      <td>1.334374e+03</td>\n",
       "      <td>1.601494e+01</td>\n",
       "      <td>1.309049e+01</td>\n",
       "      <td>1.457886e+03</td>\n",
       "      <td>1.578307e+01</td>\n",
       "      <td>1.110075e+02</td>\n",
       "      <td>1.413211e+02</td>\n",
       "      <td>1.358624e+02</td>\n",
       "      <td>7.978657e+02</td>\n",
       "      <td>...</td>\n",
       "      <td>1.697375e+01</td>\n",
       "      <td>1.356576e+03</td>\n",
       "      <td>1.455073e+03</td>\n",
       "      <td>7.894387e+00</td>\n",
       "      <td>1.486058e+03</td>\n",
       "      <td>7.528486e+00</td>\n",
       "      <td>2.164715e-01</td>\n",
       "      <td>-6.256103e-02</td>\n",
       "      <td>3.663516e+00</td>\n",
       "      <td>3.685098e-03</td>\n",
       "    </tr>\n",
       "    <tr>\n",
       "      <th>std</th>\n",
       "      <td>4.904801e+02</td>\n",
       "      <td>5.056219e+02</td>\n",
       "      <td>5.231498e+01</td>\n",
       "      <td>5.332016e+01</td>\n",
       "      <td>5.431841e+02</td>\n",
       "      <td>5.198424e+01</td>\n",
       "      <td>6.996246e+01</td>\n",
       "      <td>7.179635e+01</td>\n",
       "      <td>7.185501e+01</td>\n",
       "      <td>5.914742e+02</td>\n",
       "      <td>...</td>\n",
       "      <td>9.495407e+00</td>\n",
       "      <td>5.075580e+02</td>\n",
       "      <td>5.378428e+02</td>\n",
       "      <td>6.663118e+00</td>\n",
       "      <td>5.185078e+02</td>\n",
       "      <td>5.524625e+01</td>\n",
       "      <td>4.118393e-01</td>\n",
       "      <td>2.487442e+00</td>\n",
       "      <td>2.320848e+00</td>\n",
       "      <td>1.141331e-01</td>\n",
       "    </tr>\n",
       "    <tr>\n",
       "      <th>min</th>\n",
       "      <td>1.000000e+00</td>\n",
       "      <td>1.000000e+00</td>\n",
       "      <td>0.000000e+00</td>\n",
       "      <td>-7.800000e+01</td>\n",
       "      <td>1.000000e+00</td>\n",
       "      <td>0.000000e+00</td>\n",
       "      <td>8.000000e+00</td>\n",
       "      <td>-4.800000e+01</td>\n",
       "      <td>1.400000e+01</td>\n",
       "      <td>3.100000e+01</td>\n",
       "      <td>...</td>\n",
       "      <td>1.000000e+00</td>\n",
       "      <td>1.000000e+00</td>\n",
       "      <td>1.000000e+00</td>\n",
       "      <td>1.000000e+00</td>\n",
       "      <td>1.000000e+00</td>\n",
       "      <td>-1.000000e+02</td>\n",
       "      <td>0.000000e+00</td>\n",
       "      <td>-2.000000e+00</td>\n",
       "      <td>1.000000e+00</td>\n",
       "      <td>0.000000e+00</td>\n",
       "    </tr>\n",
       "    <tr>\n",
       "      <th>25%</th>\n",
       "      <td>9.140000e+02</td>\n",
       "      <td>9.170000e+02</td>\n",
       "      <td>0.000000e+00</td>\n",
       "      <td>-5.000000e+00</td>\n",
       "      <td>1.046000e+03</td>\n",
       "      <td>0.000000e+00</td>\n",
       "      <td>6.000000e+01</td>\n",
       "      <td>8.900000e+01</td>\n",
       "      <td>8.300000e+01</td>\n",
       "      <td>3.680000e+02</td>\n",
       "      <td>...</td>\n",
       "      <td>1.100000e+01</td>\n",
       "      <td>9.320000e+02</td>\n",
       "      <td>1.044000e+03</td>\n",
       "      <td>4.000000e+00</td>\n",
       "      <td>1.103000e+03</td>\n",
       "      <td>-1.400000e+01</td>\n",
       "      <td>0.000000e+00</td>\n",
       "      <td>-1.000000e+00</td>\n",
       "      <td>2.000000e+00</td>\n",
       "      <td>0.000000e+00</td>\n",
       "    </tr>\n",
       "    <tr>\n",
       "      <th>50%</th>\n",
       "      <td>1.320000e+03</td>\n",
       "      <td>1.325000e+03</td>\n",
       "      <td>0.000000e+00</td>\n",
       "      <td>-2.000000e+00</td>\n",
       "      <td>1.500000e+03</td>\n",
       "      <td>0.000000e+00</td>\n",
       "      <td>9.400000e+01</td>\n",
       "      <td>1.240000e+02</td>\n",
       "      <td>1.190000e+02</td>\n",
       "      <td>6.430000e+02</td>\n",
       "      <td>...</td>\n",
       "      <td>1.500000e+01</td>\n",
       "      <td>1.338000e+03</td>\n",
       "      <td>1.456000e+03</td>\n",
       "      <td>6.000000e+00</td>\n",
       "      <td>1.513000e+03</td>\n",
       "      <td>-5.000000e+00</td>\n",
       "      <td>0.000000e+00</td>\n",
       "      <td>-1.000000e+00</td>\n",
       "      <td>3.000000e+00</td>\n",
       "      <td>0.000000e+00</td>\n",
       "    </tr>\n",
       "    <tr>\n",
       "      <th>75%</th>\n",
       "      <td>1.735000e+03</td>\n",
       "      <td>1.744000e+03</td>\n",
       "      <td>1.100000e+01</td>\n",
       "      <td>1.100000e+01</td>\n",
       "      <td>1.914000e+03</td>\n",
       "      <td>1.000000e+01</td>\n",
       "      <td>1.410000e+02</td>\n",
       "      <td>1.710000e+02</td>\n",
       "      <td>1.670000e+02</td>\n",
       "      <td>1.035000e+03</td>\n",
       "      <td>...</td>\n",
       "      <td>1.900000e+01</td>\n",
       "      <td>1.758000e+03</td>\n",
       "      <td>1.909000e+03</td>\n",
       "      <td>9.000000e+00</td>\n",
       "      <td>1.920000e+03</td>\n",
       "      <td>1.000000e+01</td>\n",
       "      <td>0.000000e+00</td>\n",
       "      <td>0.000000e+00</td>\n",
       "      <td>5.000000e+00</td>\n",
       "      <td>0.000000e+00</td>\n",
       "    </tr>\n",
       "    <tr>\n",
       "      <th>max</th>\n",
       "      <td>2.359000e+03</td>\n",
       "      <td>2.400000e+03</td>\n",
       "      <td>7.223000e+03</td>\n",
       "      <td>7.223000e+03</td>\n",
       "      <td>2.400000e+03</td>\n",
       "      <td>7.232000e+03</td>\n",
       "      <td>7.270000e+02</td>\n",
       "      <td>6.900000e+02</td>\n",
       "      <td>7.640000e+02</td>\n",
       "      <td>5.095000e+03</td>\n",
       "      <td>...</td>\n",
       "      <td>2.210000e+02</td>\n",
       "      <td>2.400000e+03</td>\n",
       "      <td>2.400000e+03</td>\n",
       "      <td>2.900000e+02</td>\n",
       "      <td>2.359000e+03</td>\n",
       "      <td>7.232000e+03</td>\n",
       "      <td>1.000000e+00</td>\n",
       "      <td>1.200000e+01</td>\n",
       "      <td>1.100000e+01</td>\n",
       "      <td>9.000000e+00</td>\n",
       "    </tr>\n",
       "  </tbody>\n",
       "</table>\n",
       "<p>8 rows × 41 columns</p>\n",
       "</div>"
      ],
      "text/plain": [
       "         CRSDepTime       DepTime  DepDelayMinutes      DepDelay  \\\n",
       "count  4.078318e+06  3.957885e+06     3.957823e+06  3.957823e+06   \n",
       "mean   1.329587e+03  1.334374e+03     1.601494e+01  1.309049e+01   \n",
       "std    4.904801e+02  5.056219e+02     5.231498e+01  5.332016e+01   \n",
       "min    1.000000e+00  1.000000e+00     0.000000e+00 -7.800000e+01   \n",
       "25%    9.140000e+02  9.170000e+02     0.000000e+00 -5.000000e+00   \n",
       "50%    1.320000e+03  1.325000e+03     0.000000e+00 -2.000000e+00   \n",
       "75%    1.735000e+03  1.744000e+03     1.100000e+01  1.100000e+01   \n",
       "max    2.359000e+03  2.400000e+03     7.223000e+03  7.223000e+03   \n",
       "\n",
       "            ArrTime  ArrDelayMinutes       AirTime  CRSElapsedTime  \\\n",
       "count  3.954079e+06     3.944916e+06  3.944916e+06    4.078318e+06   \n",
       "mean   1.457886e+03     1.578307e+01  1.110075e+02    1.413211e+02   \n",
       "std    5.431841e+02     5.198424e+01  6.996246e+01    7.179635e+01   \n",
       "min    1.000000e+00     0.000000e+00  8.000000e+00   -4.800000e+01   \n",
       "25%    1.046000e+03     0.000000e+00  6.000000e+01    8.900000e+01   \n",
       "50%    1.500000e+03     0.000000e+00  9.400000e+01    1.240000e+02   \n",
       "75%    1.914000e+03     1.000000e+01  1.410000e+02    1.710000e+02   \n",
       "max    2.400000e+03     7.232000e+03  7.270000e+02    6.900000e+02   \n",
       "\n",
       "       ActualElapsedTime      Distance  ...       TaxiOut     WheelsOff  \\\n",
       "count       3.944916e+06  4.078318e+06  ...  3.955652e+06  3.955652e+06   \n",
       "mean        1.358624e+02  7.978657e+02  ...  1.697375e+01  1.356576e+03   \n",
       "std         7.185501e+01  5.914742e+02  ...  9.495407e+00  5.075580e+02   \n",
       "min         1.400000e+01  3.100000e+01  ...  1.000000e+00  1.000000e+00   \n",
       "25%         8.300000e+01  3.680000e+02  ...  1.100000e+01  9.320000e+02   \n",
       "50%         1.190000e+02  6.430000e+02  ...  1.500000e+01  1.338000e+03   \n",
       "75%         1.670000e+02  1.035000e+03  ...  1.900000e+01  1.758000e+03   \n",
       "max         7.640000e+02  5.095000e+03  ...  2.210000e+02  2.400000e+03   \n",
       "\n",
       "           WheelsOn        TaxiIn    CRSArrTime      ArrDelay      ArrDel15  \\\n",
       "count  3.954076e+06  3.954076e+06  4.078318e+06  3.944916e+06  3.944916e+06   \n",
       "mean   1.455073e+03  7.894387e+00  1.486058e+03  7.528486e+00  2.164715e-01   \n",
       "std    5.378428e+02  6.663118e+00  5.185078e+02  5.524625e+01  4.118393e-01   \n",
       "min    1.000000e+00  1.000000e+00  1.000000e+00 -1.000000e+02  0.000000e+00   \n",
       "25%    1.044000e+03  4.000000e+00  1.103000e+03 -1.400000e+01  0.000000e+00   \n",
       "50%    1.456000e+03  6.000000e+00  1.513000e+03 -5.000000e+00  0.000000e+00   \n",
       "75%    1.909000e+03  9.000000e+00  1.920000e+03  1.000000e+01  0.000000e+00   \n",
       "max    2.400000e+03  2.900000e+02  2.359000e+03  7.232000e+03  1.000000e+00   \n",
       "\n",
       "       ArrivalDelayGroups  DistanceGroup  DivAirportLandings  \n",
       "count        3.944916e+06   4.078318e+06        4.078318e+06  \n",
       "mean        -6.256103e-02   3.663516e+00        3.685098e-03  \n",
       "std          2.487442e+00   2.320848e+00        1.141331e-01  \n",
       "min         -2.000000e+00   1.000000e+00        0.000000e+00  \n",
       "25%         -1.000000e+00   2.000000e+00        0.000000e+00  \n",
       "50%         -1.000000e+00   3.000000e+00        0.000000e+00  \n",
       "75%          0.000000e+00   5.000000e+00        0.000000e+00  \n",
       "max          1.200000e+01   1.100000e+01        9.000000e+00  \n",
       "\n",
       "[8 rows x 41 columns]"
      ]
     },
     "execution_count": 7,
     "metadata": {},
     "output_type": "execute_result"
    }
   ],
   "source": [
    "# Describe the data\n",
    "df.describe()\n"
   ]
  },
  {
   "cell_type": "code",
   "execution_count": 8,
   "metadata": {},
   "outputs": [
    {
     "data": {
      "text/plain": [
       "FlightDate                 0\n",
       "Airline                    0\n",
       "Origin                     0\n",
       "Dest                       0\n",
       "Cancelled                  0\n",
       "                       ...  \n",
       "ArrDel15              133402\n",
       "ArrivalDelayGroups    133402\n",
       "ArrTimeBlk                 0\n",
       "DistanceGroup              0\n",
       "DivAirportLandings         0\n",
       "Length: 61, dtype: int64"
      ]
     },
     "execution_count": 8,
     "metadata": {},
     "output_type": "execute_result"
    }
   ],
   "source": [
    "# How many null values in each column?\n",
    "df.isnull().sum()"
   ]
  },
  {
   "cell_type": "code",
   "execution_count": 9,
   "metadata": {},
   "outputs": [],
   "source": [
    "# # Identifying the different sorts of null values\n",
    "missing_value = [\"N/a\", \"na\", \"n/a\", \"n/A\", np.nan]\n",
    "df = pd.read_csv(file, na_values = missing_value)"
   ]
  },
  {
   "cell_type": "code",
   "execution_count": 10,
   "metadata": {},
   "outputs": [],
   "source": [
    "# How many of all variations of null are there per column\n",
    "# df.isnull().sum()"
   ]
  },
  {
   "cell_type": "code",
   "execution_count": 11,
   "metadata": {},
   "outputs": [],
   "source": [
    "# Remove null values\n",
    "df = df.dropna()\n"
   ]
  },
  {
   "cell_type": "code",
   "execution_count": 12,
   "metadata": {},
   "outputs": [
    {
     "data": {
      "text/html": [
       "<div>\n",
       "<style scoped>\n",
       "    .dataframe tbody tr th:only-of-type {\n",
       "        vertical-align: middle;\n",
       "    }\n",
       "\n",
       "    .dataframe tbody tr th {\n",
       "        vertical-align: top;\n",
       "    }\n",
       "\n",
       "    .dataframe thead th {\n",
       "        text-align: right;\n",
       "    }\n",
       "</style>\n",
       "<table border=\"1\" class=\"dataframe\">\n",
       "  <thead>\n",
       "    <tr style=\"text-align: right;\">\n",
       "      <th></th>\n",
       "      <th>Flight_Number_Operating_Airline</th>\n",
       "      <th>Month</th>\n",
       "      <th>DayofMonth</th>\n",
       "      <th>DayOfWeek</th>\n",
       "      <th>OriginAirportID</th>\n",
       "      <th>CRSDepTime</th>\n",
       "      <th>DepTime</th>\n",
       "      <th>DestAirportID</th>\n",
       "      <th>CRSArrTime</th>\n",
       "      <th>ArrTime</th>\n",
       "      <th>ArrDelayMinutes</th>\n",
       "      <th>DepDelayMinutes</th>\n",
       "      <th>Cancelled</th>\n",
       "    </tr>\n",
       "  </thead>\n",
       "  <tbody>\n",
       "    <tr>\n",
       "      <th>0</th>\n",
       "      <td>4301</td>\n",
       "      <td>4</td>\n",
       "      <td>4</td>\n",
       "      <td>1</td>\n",
       "      <td>11921</td>\n",
       "      <td>1133</td>\n",
       "      <td>1123.0</td>\n",
       "      <td>11292</td>\n",
       "      <td>1245</td>\n",
       "      <td>1228.0</td>\n",
       "      <td>0.0</td>\n",
       "      <td>0.0</td>\n",
       "      <td>False</td>\n",
       "    </tr>\n",
       "    <tr>\n",
       "      <th>1</th>\n",
       "      <td>4299</td>\n",
       "      <td>4</td>\n",
       "      <td>4</td>\n",
       "      <td>1</td>\n",
       "      <td>12206</td>\n",
       "      <td>732</td>\n",
       "      <td>728.0</td>\n",
       "      <td>12266</td>\n",
       "      <td>849</td>\n",
       "      <td>848.0</td>\n",
       "      <td>0.0</td>\n",
       "      <td>0.0</td>\n",
       "      <td>False</td>\n",
       "    </tr>\n",
       "    <tr>\n",
       "      <th>2</th>\n",
       "      <td>4298</td>\n",
       "      <td>4</td>\n",
       "      <td>4</td>\n",
       "      <td>1</td>\n",
       "      <td>11413</td>\n",
       "      <td>1529</td>\n",
       "      <td>1514.0</td>\n",
       "      <td>11292</td>\n",
       "      <td>1639</td>\n",
       "      <td>1636.0</td>\n",
       "      <td>0.0</td>\n",
       "      <td>0.0</td>\n",
       "      <td>False</td>\n",
       "    </tr>\n",
       "    <tr>\n",
       "      <th>3</th>\n",
       "      <td>4296</td>\n",
       "      <td>4</td>\n",
       "      <td>4</td>\n",
       "      <td>1</td>\n",
       "      <td>12266</td>\n",
       "      <td>1435</td>\n",
       "      <td>1430.0</td>\n",
       "      <td>11973</td>\n",
       "      <td>1605</td>\n",
       "      <td>1547.0</td>\n",
       "      <td>0.0</td>\n",
       "      <td>0.0</td>\n",
       "      <td>False</td>\n",
       "    </tr>\n",
       "    <tr>\n",
       "      <th>4</th>\n",
       "      <td>4295</td>\n",
       "      <td>4</td>\n",
       "      <td>4</td>\n",
       "      <td>1</td>\n",
       "      <td>11413</td>\n",
       "      <td>1135</td>\n",
       "      <td>1135.0</td>\n",
       "      <td>11292</td>\n",
       "      <td>1245</td>\n",
       "      <td>1251.0</td>\n",
       "      <td>6.0</td>\n",
       "      <td>0.0</td>\n",
       "      <td>False</td>\n",
       "    </tr>\n",
       "    <tr>\n",
       "      <th>5</th>\n",
       "      <td>4294</td>\n",
       "      <td>4</td>\n",
       "      <td>4</td>\n",
       "      <td>1</td>\n",
       "      <td>11292</td>\n",
       "      <td>955</td>\n",
       "      <td>952.0</td>\n",
       "      <td>15370</td>\n",
       "      <td>1240</td>\n",
       "      <td>1238.0</td>\n",
       "      <td>0.0</td>\n",
       "      <td>0.0</td>\n",
       "      <td>False</td>\n",
       "    </tr>\n",
       "    <tr>\n",
       "      <th>6</th>\n",
       "      <td>4293</td>\n",
       "      <td>4</td>\n",
       "      <td>4</td>\n",
       "      <td>1</td>\n",
       "      <td>12266</td>\n",
       "      <td>2139</td>\n",
       "      <td>2136.0</td>\n",
       "      <td>12915</td>\n",
       "      <td>2231</td>\n",
       "      <td>2218.0</td>\n",
       "      <td>0.0</td>\n",
       "      <td>0.0</td>\n",
       "      <td>False</td>\n",
       "    </tr>\n",
       "    <tr>\n",
       "      <th>7</th>\n",
       "      <td>4292</td>\n",
       "      <td>4</td>\n",
       "      <td>4</td>\n",
       "      <td>1</td>\n",
       "      <td>15412</td>\n",
       "      <td>1129</td>\n",
       "      <td>1117.0</td>\n",
       "      <td>12266</td>\n",
       "      <td>1306</td>\n",
       "      <td>1311.0</td>\n",
       "      <td>5.0</td>\n",
       "      <td>0.0</td>\n",
       "      <td>False</td>\n",
       "    </tr>\n",
       "    <tr>\n",
       "      <th>8</th>\n",
       "      <td>4291</td>\n",
       "      <td>4</td>\n",
       "      <td>4</td>\n",
       "      <td>1</td>\n",
       "      <td>12266</td>\n",
       "      <td>1424</td>\n",
       "      <td>1414.0</td>\n",
       "      <td>10185</td>\n",
       "      <td>1524</td>\n",
       "      <td>1513.0</td>\n",
       "      <td>0.0</td>\n",
       "      <td>0.0</td>\n",
       "      <td>False</td>\n",
       "    </tr>\n",
       "    <tr>\n",
       "      <th>9</th>\n",
       "      <td>4290</td>\n",
       "      <td>4</td>\n",
       "      <td>4</td>\n",
       "      <td>1</td>\n",
       "      <td>12266</td>\n",
       "      <td>954</td>\n",
       "      <td>947.0</td>\n",
       "      <td>13422</td>\n",
       "      <td>1121</td>\n",
       "      <td>1110.0</td>\n",
       "      <td>0.0</td>\n",
       "      <td>0.0</td>\n",
       "      <td>False</td>\n",
       "    </tr>\n",
       "  </tbody>\n",
       "</table>\n",
       "</div>"
      ],
      "text/plain": [
       "   Flight_Number_Operating_Airline  Month  DayofMonth  DayOfWeek  \\\n",
       "0                             4301      4           4          1   \n",
       "1                             4299      4           4          1   \n",
       "2                             4298      4           4          1   \n",
       "3                             4296      4           4          1   \n",
       "4                             4295      4           4          1   \n",
       "5                             4294      4           4          1   \n",
       "6                             4293      4           4          1   \n",
       "7                             4292      4           4          1   \n",
       "8                             4291      4           4          1   \n",
       "9                             4290      4           4          1   \n",
       "\n",
       "   OriginAirportID  CRSDepTime  DepTime  DestAirportID  CRSArrTime  ArrTime  \\\n",
       "0            11921        1133   1123.0          11292        1245   1228.0   \n",
       "1            12206         732    728.0          12266         849    848.0   \n",
       "2            11413        1529   1514.0          11292        1639   1636.0   \n",
       "3            12266        1435   1430.0          11973        1605   1547.0   \n",
       "4            11413        1135   1135.0          11292        1245   1251.0   \n",
       "5            11292         955    952.0          15370        1240   1238.0   \n",
       "6            12266        2139   2136.0          12915        2231   2218.0   \n",
       "7            15412        1129   1117.0          12266        1306   1311.0   \n",
       "8            12266        1424   1414.0          10185        1524   1513.0   \n",
       "9            12266         954    947.0          13422        1121   1110.0   \n",
       "\n",
       "   ArrDelayMinutes  DepDelayMinutes  Cancelled  \n",
       "0              0.0              0.0      False  \n",
       "1              0.0              0.0      False  \n",
       "2              0.0              0.0      False  \n",
       "3              0.0              0.0      False  \n",
       "4              6.0              0.0      False  \n",
       "5              0.0              0.0      False  \n",
       "6              0.0              0.0      False  \n",
       "7              5.0              0.0      False  \n",
       "8              0.0              0.0      False  \n",
       "9              0.0              0.0      False  "
      ]
     },
     "execution_count": 12,
     "metadata": {},
     "output_type": "execute_result"
    }
   ],
   "source": [
    "# Only proceed with the following columns\n",
    "essential_column_list = [\n",
    "    'Flight_Number_Operating_Airline',\t\n",
    "    'Month',\n",
    "    'DayofMonth',\n",
    "    'DayOfWeek',\n",
    "    'OriginAirportID',\n",
    "    'CRSDepTime',\n",
    "    'DepTime', \n",
    "    'DestAirportID',\n",
    "    'CRSArrTime',\n",
    "    'ArrTime',\n",
    "    'ArrDelayMinutes',\n",
    "    'DepDelayMinutes',\n",
    "    'Cancelled',\n",
    "    ]\n",
    "essential_df = df[essential_column_list]\n",
    "essential_df.head(10)"
   ]
  },
  {
   "cell_type": "code",
   "execution_count": 13,
   "metadata": {},
   "outputs": [
    {
     "name": "stderr",
     "output_type": "stream",
     "text": [
      "/var/folders/nr/jqfs4n8n3bvf1cmmq9_jmc5c0000gn/T/ipykernel_73478/987564821.py:10: SettingWithCopyWarning: \n",
      "A value is trying to be set on a copy of a slice from a DataFrame.\n",
      "Try using .loc[row_indexer,col_indexer] = value instead\n",
      "\n",
      "See the caveats in the documentation: https://pandas.pydata.org/pandas-docs/stable/user_guide/indexing.html#returning-a-view-versus-a-copy\n",
      "  essential_df['Status'] = np.select(conditions, status)\n"
     ]
    },
    {
     "data": {
      "text/html": [
       "<div>\n",
       "<style scoped>\n",
       "    .dataframe tbody tr th:only-of-type {\n",
       "        vertical-align: middle;\n",
       "    }\n",
       "\n",
       "    .dataframe tbody tr th {\n",
       "        vertical-align: top;\n",
       "    }\n",
       "\n",
       "    .dataframe thead th {\n",
       "        text-align: right;\n",
       "    }\n",
       "</style>\n",
       "<table border=\"1\" class=\"dataframe\">\n",
       "  <thead>\n",
       "    <tr style=\"text-align: right;\">\n",
       "      <th></th>\n",
       "      <th>Flight_Number_Operating_Airline</th>\n",
       "      <th>Month</th>\n",
       "      <th>DayofMonth</th>\n",
       "      <th>DayOfWeek</th>\n",
       "      <th>OriginAirportID</th>\n",
       "      <th>CRSDepTime</th>\n",
       "      <th>DepTime</th>\n",
       "      <th>DestAirportID</th>\n",
       "      <th>CRSArrTime</th>\n",
       "      <th>ArrTime</th>\n",
       "      <th>ArrDelayMinutes</th>\n",
       "      <th>DepDelayMinutes</th>\n",
       "      <th>Cancelled</th>\n",
       "      <th>Status</th>\n",
       "    </tr>\n",
       "  </thead>\n",
       "  <tbody>\n",
       "    <tr>\n",
       "      <th>0</th>\n",
       "      <td>4301</td>\n",
       "      <td>4</td>\n",
       "      <td>4</td>\n",
       "      <td>1</td>\n",
       "      <td>11921</td>\n",
       "      <td>1133</td>\n",
       "      <td>1123.0</td>\n",
       "      <td>11292</td>\n",
       "      <td>1245</td>\n",
       "      <td>1228.0</td>\n",
       "      <td>0.0</td>\n",
       "      <td>0.0</td>\n",
       "      <td>False</td>\n",
       "      <td>0</td>\n",
       "    </tr>\n",
       "    <tr>\n",
       "      <th>1</th>\n",
       "      <td>4299</td>\n",
       "      <td>4</td>\n",
       "      <td>4</td>\n",
       "      <td>1</td>\n",
       "      <td>12206</td>\n",
       "      <td>732</td>\n",
       "      <td>728.0</td>\n",
       "      <td>12266</td>\n",
       "      <td>849</td>\n",
       "      <td>848.0</td>\n",
       "      <td>0.0</td>\n",
       "      <td>0.0</td>\n",
       "      <td>False</td>\n",
       "      <td>0</td>\n",
       "    </tr>\n",
       "    <tr>\n",
       "      <th>2</th>\n",
       "      <td>4298</td>\n",
       "      <td>4</td>\n",
       "      <td>4</td>\n",
       "      <td>1</td>\n",
       "      <td>11413</td>\n",
       "      <td>1529</td>\n",
       "      <td>1514.0</td>\n",
       "      <td>11292</td>\n",
       "      <td>1639</td>\n",
       "      <td>1636.0</td>\n",
       "      <td>0.0</td>\n",
       "      <td>0.0</td>\n",
       "      <td>False</td>\n",
       "      <td>0</td>\n",
       "    </tr>\n",
       "    <tr>\n",
       "      <th>3</th>\n",
       "      <td>4296</td>\n",
       "      <td>4</td>\n",
       "      <td>4</td>\n",
       "      <td>1</td>\n",
       "      <td>12266</td>\n",
       "      <td>1435</td>\n",
       "      <td>1430.0</td>\n",
       "      <td>11973</td>\n",
       "      <td>1605</td>\n",
       "      <td>1547.0</td>\n",
       "      <td>0.0</td>\n",
       "      <td>0.0</td>\n",
       "      <td>False</td>\n",
       "      <td>0</td>\n",
       "    </tr>\n",
       "    <tr>\n",
       "      <th>4</th>\n",
       "      <td>4295</td>\n",
       "      <td>4</td>\n",
       "      <td>4</td>\n",
       "      <td>1</td>\n",
       "      <td>11413</td>\n",
       "      <td>1135</td>\n",
       "      <td>1135.0</td>\n",
       "      <td>11292</td>\n",
       "      <td>1245</td>\n",
       "      <td>1251.0</td>\n",
       "      <td>6.0</td>\n",
       "      <td>0.0</td>\n",
       "      <td>False</td>\n",
       "      <td>0</td>\n",
       "    </tr>\n",
       "    <tr>\n",
       "      <th>...</th>\n",
       "      <td>...</td>\n",
       "      <td>...</td>\n",
       "      <td>...</td>\n",
       "      <td>...</td>\n",
       "      <td>...</td>\n",
       "      <td>...</td>\n",
       "      <td>...</td>\n",
       "      <td>...</td>\n",
       "      <td>...</td>\n",
       "      <td>...</td>\n",
       "      <td>...</td>\n",
       "      <td>...</td>\n",
       "      <td>...</td>\n",
       "      <td>...</td>\n",
       "    </tr>\n",
       "    <tr>\n",
       "      <th>495</th>\n",
       "      <td>4338</td>\n",
       "      <td>4</td>\n",
       "      <td>3</td>\n",
       "      <td>7</td>\n",
       "      <td>12278</td>\n",
       "      <td>1207</td>\n",
       "      <td>1159.0</td>\n",
       "      <td>11292</td>\n",
       "      <td>1242</td>\n",
       "      <td>1228.0</td>\n",
       "      <td>0.0</td>\n",
       "      <td>0.0</td>\n",
       "      <td>False</td>\n",
       "      <td>0</td>\n",
       "    </tr>\n",
       "    <tr>\n",
       "      <th>496</th>\n",
       "      <td>4337</td>\n",
       "      <td>4</td>\n",
       "      <td>3</td>\n",
       "      <td>7</td>\n",
       "      <td>14307</td>\n",
       "      <td>1943</td>\n",
       "      <td>1933.0</td>\n",
       "      <td>12264</td>\n",
       "      <td>2119</td>\n",
       "      <td>2109.0</td>\n",
       "      <td>0.0</td>\n",
       "      <td>0.0</td>\n",
       "      <td>False</td>\n",
       "      <td>0</td>\n",
       "    </tr>\n",
       "    <tr>\n",
       "      <th>497</th>\n",
       "      <td>4336</td>\n",
       "      <td>4</td>\n",
       "      <td>3</td>\n",
       "      <td>7</td>\n",
       "      <td>14307</td>\n",
       "      <td>1449</td>\n",
       "      <td>1447.0</td>\n",
       "      <td>12264</td>\n",
       "      <td>1625</td>\n",
       "      <td>1629.0</td>\n",
       "      <td>4.0</td>\n",
       "      <td>0.0</td>\n",
       "      <td>False</td>\n",
       "      <td>0</td>\n",
       "    </tr>\n",
       "    <tr>\n",
       "      <th>498</th>\n",
       "      <td>4335</td>\n",
       "      <td>4</td>\n",
       "      <td>3</td>\n",
       "      <td>7</td>\n",
       "      <td>12266</td>\n",
       "      <td>1510</td>\n",
       "      <td>1521.0</td>\n",
       "      <td>13061</td>\n",
       "      <td>1632</td>\n",
       "      <td>1636.0</td>\n",
       "      <td>4.0</td>\n",
       "      <td>11.0</td>\n",
       "      <td>False</td>\n",
       "      <td>1</td>\n",
       "    </tr>\n",
       "    <tr>\n",
       "      <th>499</th>\n",
       "      <td>4334</td>\n",
       "      <td>4</td>\n",
       "      <td>3</td>\n",
       "      <td>7</td>\n",
       "      <td>12266</td>\n",
       "      <td>1435</td>\n",
       "      <td>1452.0</td>\n",
       "      <td>12451</td>\n",
       "      <td>1757</td>\n",
       "      <td>1804.0</td>\n",
       "      <td>7.0</td>\n",
       "      <td>17.0</td>\n",
       "      <td>False</td>\n",
       "      <td>1</td>\n",
       "    </tr>\n",
       "  </tbody>\n",
       "</table>\n",
       "<p>500 rows × 14 columns</p>\n",
       "</div>"
      ],
      "text/plain": [
       "     Flight_Number_Operating_Airline  Month  DayofMonth  DayOfWeek  \\\n",
       "0                               4301      4           4          1   \n",
       "1                               4299      4           4          1   \n",
       "2                               4298      4           4          1   \n",
       "3                               4296      4           4          1   \n",
       "4                               4295      4           4          1   \n",
       "..                               ...    ...         ...        ...   \n",
       "495                             4338      4           3          7   \n",
       "496                             4337      4           3          7   \n",
       "497                             4336      4           3          7   \n",
       "498                             4335      4           3          7   \n",
       "499                             4334      4           3          7   \n",
       "\n",
       "     OriginAirportID  CRSDepTime  DepTime  DestAirportID  CRSArrTime  ArrTime  \\\n",
       "0              11921        1133   1123.0          11292        1245   1228.0   \n",
       "1              12206         732    728.0          12266         849    848.0   \n",
       "2              11413        1529   1514.0          11292        1639   1636.0   \n",
       "3              12266        1435   1430.0          11973        1605   1547.0   \n",
       "4              11413        1135   1135.0          11292        1245   1251.0   \n",
       "..               ...         ...      ...            ...         ...      ...   \n",
       "495            12278        1207   1159.0          11292        1242   1228.0   \n",
       "496            14307        1943   1933.0          12264        2119   2109.0   \n",
       "497            14307        1449   1447.0          12264        1625   1629.0   \n",
       "498            12266        1510   1521.0          13061        1632   1636.0   \n",
       "499            12266        1435   1452.0          12451        1757   1804.0   \n",
       "\n",
       "     ArrDelayMinutes  DepDelayMinutes  Cancelled Status  \n",
       "0                0.0              0.0      False      0  \n",
       "1                0.0              0.0      False      0  \n",
       "2                0.0              0.0      False      0  \n",
       "3                0.0              0.0      False      0  \n",
       "4                6.0              0.0      False      0  \n",
       "..               ...              ...        ...    ...  \n",
       "495              0.0              0.0      False      0  \n",
       "496              0.0              0.0      False      0  \n",
       "497              4.0              0.0      False      0  \n",
       "498              4.0             11.0      False      1  \n",
       "499              7.0             17.0      False      1  \n",
       "\n",
       "[500 rows x 14 columns]"
      ]
     },
     "execution_count": 13,
     "metadata": {},
     "output_type": "execute_result"
    }
   ],
   "source": [
    "# creating a column showing \"2\" for cancelled, \"1\" for delayed, and \"0\" for on time flights\n",
    "conditions = [(essential_df.Cancelled == \"True\"), \n",
    "              (essential_df.DepDelayMinutes > 0), \n",
    "              (essential_df.DepDelayMinutes == 0),\n",
    "]\n",
    "\n",
    "status = [\"2\", \"1\", \"0\"]\n",
    "\n",
    "\n",
    "essential_df['Status'] = np.select(conditions, status)\n",
    "essential_df.head(500)"
   ]
  },
  {
   "cell_type": "code",
   "execution_count": 14,
   "metadata": {},
   "outputs": [],
   "source": [
    "# remove the Cancelled column\n",
    "df_clean = essential_df.drop(columns=['Cancelled'], axis=1)"
   ]
  },
  {
   "cell_type": "code",
   "execution_count": 15,
   "metadata": {},
   "outputs": [
    {
     "name": "stdout",
     "output_type": "stream",
     "text": [
      "Flight_Number_Operating_Airline      int64\n",
      "Month                                int64\n",
      "DayofMonth                           int64\n",
      "DayOfWeek                            int64\n",
      "OriginAirportID                      int64\n",
      "CRSDepTime                           int64\n",
      "DepTime                            float64\n",
      "DestAirportID                        int64\n",
      "CRSArrTime                           int64\n",
      "ArrTime                            float64\n",
      "ArrDelayMinutes                    float64\n",
      "DepDelayMinutes                    float64\n",
      "Status                             float64\n",
      "dtype: object\n"
     ]
    }
   ],
   "source": [
    "# Convert new Status column to float and display the datatypes for each column\n",
    "df_clean['Status'] = df_clean['Status'].astype(float)\n",
    "print(df_clean.dtypes)"
   ]
  },
  {
   "cell_type": "code",
   "execution_count": 16,
   "metadata": {},
   "outputs": [
    {
     "data": {
      "text/plain": [
       "772     1788\n",
       "418     1775\n",
       "770     1762\n",
       "573     1752\n",
       "61      1610\n",
       "        ... \n",
       "6689       1\n",
       "6692       1\n",
       "6757       1\n",
       "6672       1\n",
       "6490       1\n",
       "Name: Flight_Number_Operating_Airline, Length: 6791, dtype: int64"
      ]
     },
     "execution_count": 16,
     "metadata": {},
     "output_type": "execute_result"
    }
   ],
   "source": [
    "# Look at the value counts for binning\n",
    "flight_no_airline_count = df_clean['Flight_Number_Operating_Airline'].value_counts()\n",
    "flight_no_airline_count"
   ]
  },
  {
   "cell_type": "code",
   "execution_count": 17,
   "metadata": {},
   "outputs": [
    {
     "data": {
      "text/plain": [
       "772     1788\n",
       "418     1775\n",
       "770     1762\n",
       "573     1752\n",
       "61      1610\n",
       "2127    1599\n",
       "679     1591\n",
       "2142    1585\n",
       "340     1580\n",
       "698     1578\n",
       "841     1562\n",
       "2051    1561\n",
       "62      1547\n",
       "1095    1544\n",
       "2147    1536\n",
       "2338    1531\n",
       "1430    1531\n",
       "683     1531\n",
       "2095    1530\n",
       "712     1526\n",
       "538     1524\n",
       "1244    1523\n",
       "676     1520\n",
       "371     1520\n",
       "517     1519\n",
       "565     1518\n",
       "639     1511\n",
       "2078    1504\n",
       "2122    1500\n",
       "2120    1496\n",
       "327     1496\n",
       "2135    1493\n",
       "535     1490\n",
       "2339    1484\n",
       "352     1481\n",
       "778     1475\n",
       "366     1475\n",
       "2424    1472\n",
       "1254    1466\n",
       "334     1460\n",
       "372     1458\n",
       "1623    1455\n",
       "1678    1453\n",
       "358     1452\n",
       "688     1447\n",
       "1199    1447\n",
       "686     1444\n",
       "1101    1444\n",
       "311     1441\n",
       "2087    1439\n",
       "Name: Flight_Number_Operating_Airline, dtype: int64"
      ]
     },
     "execution_count": 17,
     "metadata": {},
     "output_type": "execute_result"
    }
   ],
   "source": [
    "# You may find it helpful to look at Flight Numbers value counts >200\n",
    "flight_no_over_1 = flight_no_airline_count[flight_no_airline_count>200]\n",
    "flight_no_over_1.head(50)"
   ]
  },
  {
   "cell_type": "code",
   "execution_count": 18,
   "metadata": {},
   "outputs": [],
   "source": [
    "# Choose a cutoff value and create a list of classifications to be replaced\n",
    "# using the variable name `flight_no_to_replace`for value counts over 1600 \n",
    "# flight_no_to_replace = list(flight_no_over_1[flight_no_over_1 < 1600].index)\n",
    "\n",
    "# # Replace in dataframe\n",
    "# for cls in flight_no_to_replace:\n",
    "#     df_clean['Flight_Number_Operating_Airline'] = df_clean['Flight_Number_Operating_Airline'].replace(cls,\"0\")\n",
    "\n",
    "# # Check to make sure binning was successful\n",
    "# df_clean['Flight_Number_Operating_Airline'].value_counts()"
   ]
  },
  {
   "cell_type": "code",
   "execution_count": 19,
   "metadata": {},
   "outputs": [
    {
     "data": {
      "text/html": [
       "<div>\n",
       "<style scoped>\n",
       "    .dataframe tbody tr th:only-of-type {\n",
       "        vertical-align: middle;\n",
       "    }\n",
       "\n",
       "    .dataframe tbody tr th {\n",
       "        vertical-align: top;\n",
       "    }\n",
       "\n",
       "    .dataframe thead th {\n",
       "        text-align: right;\n",
       "    }\n",
       "</style>\n",
       "<table border=\"1\" class=\"dataframe\">\n",
       "  <thead>\n",
       "    <tr style=\"text-align: right;\">\n",
       "      <th></th>\n",
       "      <th>Flight_Number_Operating_Airline</th>\n",
       "      <th>Month</th>\n",
       "      <th>DayofMonth</th>\n",
       "      <th>DayOfWeek</th>\n",
       "      <th>OriginAirportID</th>\n",
       "      <th>CRSDepTime</th>\n",
       "      <th>DepTime</th>\n",
       "      <th>DestAirportID</th>\n",
       "      <th>CRSArrTime</th>\n",
       "      <th>ArrTime</th>\n",
       "      <th>ArrDelayMinutes</th>\n",
       "      <th>DepDelayMinutes</th>\n",
       "      <th>Status</th>\n",
       "    </tr>\n",
       "  </thead>\n",
       "  <tbody>\n",
       "    <tr>\n",
       "      <th>0</th>\n",
       "      <td>4301</td>\n",
       "      <td>4</td>\n",
       "      <td>4</td>\n",
       "      <td>1</td>\n",
       "      <td>11921</td>\n",
       "      <td>1133</td>\n",
       "      <td>1123</td>\n",
       "      <td>11292</td>\n",
       "      <td>1245</td>\n",
       "      <td>1228</td>\n",
       "      <td>0</td>\n",
       "      <td>0</td>\n",
       "      <td>0</td>\n",
       "    </tr>\n",
       "    <tr>\n",
       "      <th>1</th>\n",
       "      <td>4299</td>\n",
       "      <td>4</td>\n",
       "      <td>4</td>\n",
       "      <td>1</td>\n",
       "      <td>12206</td>\n",
       "      <td>732</td>\n",
       "      <td>728</td>\n",
       "      <td>12266</td>\n",
       "      <td>849</td>\n",
       "      <td>848</td>\n",
       "      <td>0</td>\n",
       "      <td>0</td>\n",
       "      <td>0</td>\n",
       "    </tr>\n",
       "    <tr>\n",
       "      <th>2</th>\n",
       "      <td>4298</td>\n",
       "      <td>4</td>\n",
       "      <td>4</td>\n",
       "      <td>1</td>\n",
       "      <td>11413</td>\n",
       "      <td>1529</td>\n",
       "      <td>1514</td>\n",
       "      <td>11292</td>\n",
       "      <td>1639</td>\n",
       "      <td>1636</td>\n",
       "      <td>0</td>\n",
       "      <td>0</td>\n",
       "      <td>0</td>\n",
       "    </tr>\n",
       "    <tr>\n",
       "      <th>3</th>\n",
       "      <td>4296</td>\n",
       "      <td>4</td>\n",
       "      <td>4</td>\n",
       "      <td>1</td>\n",
       "      <td>12266</td>\n",
       "      <td>1435</td>\n",
       "      <td>1430</td>\n",
       "      <td>11973</td>\n",
       "      <td>1605</td>\n",
       "      <td>1547</td>\n",
       "      <td>0</td>\n",
       "      <td>0</td>\n",
       "      <td>0</td>\n",
       "    </tr>\n",
       "    <tr>\n",
       "      <th>4</th>\n",
       "      <td>4295</td>\n",
       "      <td>4</td>\n",
       "      <td>4</td>\n",
       "      <td>1</td>\n",
       "      <td>11413</td>\n",
       "      <td>1135</td>\n",
       "      <td>1135</td>\n",
       "      <td>11292</td>\n",
       "      <td>1245</td>\n",
       "      <td>1251</td>\n",
       "      <td>6</td>\n",
       "      <td>0</td>\n",
       "      <td>0</td>\n",
       "    </tr>\n",
       "  </tbody>\n",
       "</table>\n",
       "</div>"
      ],
      "text/plain": [
       "   Flight_Number_Operating_Airline  Month  DayofMonth  DayOfWeek  \\\n",
       "0                             4301      4           4          1   \n",
       "1                             4299      4           4          1   \n",
       "2                             4298      4           4          1   \n",
       "3                             4296      4           4          1   \n",
       "4                             4295      4           4          1   \n",
       "\n",
       "   OriginAirportID  CRSDepTime  DepTime  DestAirportID  CRSArrTime  ArrTime  \\\n",
       "0            11921        1133     1123          11292        1245     1228   \n",
       "1            12206         732      728          12266         849      848   \n",
       "2            11413        1529     1514          11292        1639     1636   \n",
       "3            12266        1435     1430          11973        1605     1547   \n",
       "4            11413        1135     1135          11292        1245     1251   \n",
       "\n",
       "   ArrDelayMinutes  DepDelayMinutes  Status  \n",
       "0                0                0       0  \n",
       "1                0                0       0  \n",
       "2                0                0       0  \n",
       "3                0                0       0  \n",
       "4                6                0       0  "
      ]
     },
     "execution_count": 19,
     "metadata": {},
     "output_type": "execute_result"
    }
   ],
   "source": [
    "#Convert data types to int64\n",
    "df_clean = df_clean.astype(int)\n",
    "df_clean.head(5)"
   ]
  },
  {
   "cell_type": "code",
   "execution_count": 20,
   "metadata": {},
   "outputs": [],
   "source": [
    "# # Remove the duplicate DayOfWeek column\n",
    "# df_clean = df_clean.drop(df_clean.columns[[3]],axis = 1)\n",
    "\n"
   ]
  },
  {
   "cell_type": "code",
   "execution_count": 21,
   "metadata": {},
   "outputs": [
    {
     "data": {
      "text/plain": [
       "Flight_Number_Operating_Airline    int64\n",
       "Month                              int64\n",
       "DayofMonth                         int64\n",
       "DayOfWeek                          int64\n",
       "OriginAirportID                    int64\n",
       "CRSDepTime                         int64\n",
       "DepTime                            int64\n",
       "DestAirportID                      int64\n",
       "CRSArrTime                         int64\n",
       "ArrTime                            int64\n",
       "ArrDelayMinutes                    int64\n",
       "DepDelayMinutes                    int64\n",
       "Status                             int64\n",
       "dtype: object"
      ]
     },
     "execution_count": 21,
     "metadata": {},
     "output_type": "execute_result"
    }
   ],
   "source": [
    "# Check the data types\n",
    "df_clean.dtypes"
   ]
  },
  {
   "cell_type": "code",
   "execution_count": 22,
   "metadata": {},
   "outputs": [],
   "source": [
    "# Convert categorical data to numeric with OneHotEncoder \n",
    "# Import the encoder\n",
    "from sklearn.preprocessing import OneHotEncoder\n",
    "# Create the encoder.\n",
    "encoder = OneHotEncoder()\n",
    "encoder.fit_transform(df_clean) \n",
    " "
   ]
  },
  {
   "cell_type": "code",
   "execution_count": 27,
   "metadata": {},
   "outputs": [
    {
     "data": {
      "text/html": [
       "<div>\n",
       "<style scoped>\n",
       "    .dataframe tbody tr th:only-of-type {\n",
       "        vertical-align: middle;\n",
       "    }\n",
       "\n",
       "    .dataframe tbody tr th {\n",
       "        vertical-align: top;\n",
       "    }\n",
       "\n",
       "    .dataframe thead th {\n",
       "        text-align: right;\n",
       "    }\n",
       "</style>\n",
       "<table border=\"1\" class=\"dataframe\">\n",
       "  <thead>\n",
       "    <tr style=\"text-align: right;\">\n",
       "      <th></th>\n",
       "      <th>Flight_Number_Operating_Airline</th>\n",
       "      <th>Month</th>\n",
       "      <th>DayofMonth</th>\n",
       "      <th>DayOfWeek</th>\n",
       "      <th>OriginAirportID</th>\n",
       "      <th>CRSDepTime</th>\n",
       "      <th>DepTime</th>\n",
       "      <th>DestAirportID</th>\n",
       "      <th>CRSArrTime</th>\n",
       "      <th>ArrTime</th>\n",
       "      <th>ArrDelayMinutes</th>\n",
       "      <th>DepDelayMinutes</th>\n",
       "      <th>Status</th>\n",
       "    </tr>\n",
       "  </thead>\n",
       "  <tbody>\n",
       "    <tr>\n",
       "      <th>0</th>\n",
       "      <td>4301</td>\n",
       "      <td>4</td>\n",
       "      <td>4</td>\n",
       "      <td>1</td>\n",
       "      <td>11921</td>\n",
       "      <td>1133</td>\n",
       "      <td>1123</td>\n",
       "      <td>11292</td>\n",
       "      <td>1245</td>\n",
       "      <td>1228</td>\n",
       "      <td>0</td>\n",
       "      <td>0</td>\n",
       "      <td>0</td>\n",
       "    </tr>\n",
       "    <tr>\n",
       "      <th>1</th>\n",
       "      <td>4299</td>\n",
       "      <td>4</td>\n",
       "      <td>4</td>\n",
       "      <td>1</td>\n",
       "      <td>12206</td>\n",
       "      <td>732</td>\n",
       "      <td>728</td>\n",
       "      <td>12266</td>\n",
       "      <td>849</td>\n",
       "      <td>848</td>\n",
       "      <td>0</td>\n",
       "      <td>0</td>\n",
       "      <td>0</td>\n",
       "    </tr>\n",
       "    <tr>\n",
       "      <th>2</th>\n",
       "      <td>4298</td>\n",
       "      <td>4</td>\n",
       "      <td>4</td>\n",
       "      <td>1</td>\n",
       "      <td>11413</td>\n",
       "      <td>1529</td>\n",
       "      <td>1514</td>\n",
       "      <td>11292</td>\n",
       "      <td>1639</td>\n",
       "      <td>1636</td>\n",
       "      <td>0</td>\n",
       "      <td>0</td>\n",
       "      <td>0</td>\n",
       "    </tr>\n",
       "    <tr>\n",
       "      <th>3</th>\n",
       "      <td>4296</td>\n",
       "      <td>4</td>\n",
       "      <td>4</td>\n",
       "      <td>1</td>\n",
       "      <td>12266</td>\n",
       "      <td>1435</td>\n",
       "      <td>1430</td>\n",
       "      <td>11973</td>\n",
       "      <td>1605</td>\n",
       "      <td>1547</td>\n",
       "      <td>0</td>\n",
       "      <td>0</td>\n",
       "      <td>0</td>\n",
       "    </tr>\n",
       "    <tr>\n",
       "      <th>4</th>\n",
       "      <td>4295</td>\n",
       "      <td>4</td>\n",
       "      <td>4</td>\n",
       "      <td>1</td>\n",
       "      <td>11413</td>\n",
       "      <td>1135</td>\n",
       "      <td>1135</td>\n",
       "      <td>11292</td>\n",
       "      <td>1245</td>\n",
       "      <td>1251</td>\n",
       "      <td>6</td>\n",
       "      <td>0</td>\n",
       "      <td>0</td>\n",
       "    </tr>\n",
       "  </tbody>\n",
       "</table>\n",
       "</div>"
      ],
      "text/plain": [
       "   Flight_Number_Operating_Airline  Month  DayofMonth  DayOfWeek  \\\n",
       "0                             4301      4           4          1   \n",
       "1                             4299      4           4          1   \n",
       "2                             4298      4           4          1   \n",
       "3                             4296      4           4          1   \n",
       "4                             4295      4           4          1   \n",
       "\n",
       "   OriginAirportID  CRSDepTime  DepTime  DestAirportID  CRSArrTime  ArrTime  \\\n",
       "0            11921        1133     1123          11292        1245     1228   \n",
       "1            12206         732      728          12266         849      848   \n",
       "2            11413        1529     1514          11292        1639     1636   \n",
       "3            12266        1435     1430          11973        1605     1547   \n",
       "4            11413        1135     1135          11292        1245     1251   \n",
       "\n",
       "   ArrDelayMinutes  DepDelayMinutes  Status  \n",
       "0                0                0       0  \n",
       "1                0                0       0  \n",
       "2                0                0       0  \n",
       "3                0                0       0  \n",
       "4                6                0       0  "
      ]
     },
     "execution_count": 27,
     "metadata": {},
     "output_type": "execute_result"
    }
   ],
   "source": [
    "df_clean.head(5)"
   ]
  },
  {
   "cell_type": "code",
   "execution_count": 28,
   "metadata": {},
   "outputs": [],
   "source": [
    "# Split our data into training and testing and establish features and target variable\n",
    "from sklearn.model_selection import train_test_split\n",
    "features = df_clean.drop('Status', axis=1)\n",
    "targets = df_clean['Status']\n",
    "\n",
    "X_train, X_test, y_train, y_test = train_test_split(features,\n",
    "                                                    targets,\n",
    "                                                    random_state=42,\n",
    "                                                    stratify=targets)"
   ]
  },
  {
   "cell_type": "code",
   "execution_count": 29,
   "metadata": {},
   "outputs": [],
   "source": [
    "# Create the StandardScaler instance\n",
    "from sklearn.preprocessing import StandardScaler\n",
    "\n",
    "scaler = StandardScaler()"
   ]
  },
  {
   "cell_type": "code",
   "execution_count": 30,
   "metadata": {},
   "outputs": [],
   "source": [
    "# Fit the Standard Scaler with the training data\n",
    "X_scaler = scaler.fit(X_train)"
   ]
  },
  {
   "cell_type": "code",
   "execution_count": 31,
   "metadata": {},
   "outputs": [],
   "source": [
    "# Scale the training data\n",
    "X_train_scaled = X_scaler.transform(X_train)\n",
    "X_test_scaled = X_scaler.transform(X_test)"
   ]
  },
  {
   "cell_type": "code",
   "execution_count": 32,
   "metadata": {},
   "outputs": [
    {
     "name": "stdout",
     "output_type": "stream",
     "text": [
      "0:\tlearn: 0.1269295\ttotal: 728ms\tremaining: 2.18s\n",
      "1:\tlearn: 0.0425673\ttotal: 1.31s\tremaining: 1.31s\n",
      "2:\tlearn: 0.0152014\ttotal: 1.75s\tremaining: 584ms\n",
      "3:\tlearn: 0.0055346\ttotal: 2.25s\tremaining: 0us\n",
      "class =  [[0]\n",
      " [0]\n",
      " [0]\n",
      " ...\n",
      " [1]\n",
      " [1]\n",
      " [1]]\n",
      "proba =  [[0.99448112 0.00551888]\n",
      " [0.99448072 0.00551928]\n",
      " [0.99448112 0.00551888]\n",
      " ...\n",
      " [0.00552012 0.99447988]\n",
      " [0.00551905 0.99448095]\n",
      " [0.00552012 0.99447988]]\n"
     ]
    }
   ],
   "source": [
    "# Utilize CatBoost Classifier to initialize, train and make predictions\n",
    "# initialize data\n",
    "from catboost import CatBoostClassifier, Pool\n",
    "train_data = df_clean.drop(columns=['Status'])\n",
    "\n",
    "train_labels = df_clean['Status']\n",
    "\n",
    "test_data = catboost_pool = Pool(train_data, \n",
    "                                 train_labels)\n",
    "\n",
    "model = CatBoostClassifier(iterations=4,\n",
    "                           depth=2,\n",
    "                           learning_rate=1,\n",
    "                           loss_function='MultiClass',\n",
    "                           verbose=True)\n",
    "# train the model\n",
    "model.fit(train_data, train_labels)\n",
    "# make the prediction using the resulting model\n",
    "preds_class = model.predict(test_data)\n",
    "preds_proba = model.predict_proba(test_data)\n",
    "print(\"class = \", preds_class)\n",
    "print(\"proba = \", preds_proba)"
   ]
  },
  {
   "cell_type": "code",
   "execution_count": 33,
   "metadata": {},
   "outputs": [],
   "source": [
    "# fit the data\n",
    "catboost_train_data = Pool(X_train,y_train)\n",
    "\n",
    "cb_model = CatBoostClassifier()\n",
    "\n"
   ]
  },
  {
   "cell_type": "code",
   "execution_count": 34,
   "metadata": {},
   "outputs": [
    {
     "data": {
      "application/vnd.jupyter.widget-view+json": {
       "model_id": "5071be7269cc43d5af97c37574ea476d",
       "version_major": 2,
       "version_minor": 0
      },
      "text/plain": [
       "MetricVisualizer(layout=Layout(align_self='stretch', height='500px'))"
      ]
     },
     "metadata": {},
     "output_type": "display_data"
    },
    {
     "name": "stdout",
     "output_type": "stream",
     "text": [
      "Learning rate set to 0.312675\n",
      "0:\tlearn: 0.0361114\ttotal: 193ms\tremaining: 3m 13s\n",
      "1:\tlearn: 0.0026562\ttotal: 304ms\tremaining: 2m 31s\n",
      "2:\tlearn: 0.0004789\ttotal: 405ms\tremaining: 2m 14s\n",
      "3:\tlearn: 0.0001472\ttotal: 561ms\tremaining: 2m 19s\n",
      "4:\tlearn: 0.0000581\ttotal: 656ms\tremaining: 2m 10s\n",
      "5:\tlearn: 0.0000517\ttotal: 747ms\tremaining: 2m 3s\n",
      "6:\tlearn: 0.0000403\ttotal: 854ms\tremaining: 2m 1s\n",
      "7:\tlearn: 0.0000403\ttotal: 942ms\tremaining: 1m 56s\n",
      "8:\tlearn: 0.0000403\ttotal: 1.03s\tremaining: 1m 53s\n",
      "9:\tlearn: 0.0000403\ttotal: 1.11s\tremaining: 1m 49s\n",
      "10:\tlearn: 0.0000403\ttotal: 1.2s\tremaining: 1m 47s\n",
      "11:\tlearn: 0.0000403\ttotal: 1.28s\tremaining: 1m 45s\n",
      "12:\tlearn: 0.0000403\ttotal: 1.37s\tremaining: 1m 44s\n",
      "13:\tlearn: 0.0000403\ttotal: 1.46s\tremaining: 1m 43s\n",
      "14:\tlearn: 0.0000403\ttotal: 1.57s\tremaining: 1m 43s\n",
      "15:\tlearn: 0.0000403\ttotal: 1.66s\tremaining: 1m 41s\n",
      "16:\tlearn: 0.0000403\ttotal: 1.75s\tremaining: 1m 41s\n",
      "17:\tlearn: 0.0000403\ttotal: 1.83s\tremaining: 1m 39s\n",
      "18:\tlearn: 0.0000403\ttotal: 1.93s\tremaining: 1m 39s\n",
      "19:\tlearn: 0.0000403\ttotal: 2.01s\tremaining: 1m 38s\n",
      "20:\tlearn: 0.0000403\ttotal: 2.1s\tremaining: 1m 37s\n",
      "21:\tlearn: 0.0000403\ttotal: 2.21s\tremaining: 1m 38s\n",
      "22:\tlearn: 0.0000403\ttotal: 2.31s\tremaining: 1m 38s\n",
      "23:\tlearn: 0.0000403\ttotal: 2.41s\tremaining: 1m 38s\n",
      "24:\tlearn: 0.0000403\ttotal: 2.51s\tremaining: 1m 37s\n",
      "25:\tlearn: 0.0000403\ttotal: 2.6s\tremaining: 1m 37s\n",
      "26:\tlearn: 0.0000403\ttotal: 2.7s\tremaining: 1m 37s\n",
      "27:\tlearn: 0.0000403\ttotal: 2.79s\tremaining: 1m 36s\n",
      "28:\tlearn: 0.0000403\ttotal: 2.88s\tremaining: 1m 36s\n",
      "29:\tlearn: 0.0000403\ttotal: 2.98s\tremaining: 1m 36s\n",
      "30:\tlearn: 0.0000403\ttotal: 3.07s\tremaining: 1m 35s\n",
      "31:\tlearn: 0.0000403\ttotal: 3.18s\tremaining: 1m 36s\n",
      "32:\tlearn: 0.0000403\ttotal: 3.28s\tremaining: 1m 36s\n",
      "33:\tlearn: 0.0000403\ttotal: 3.37s\tremaining: 1m 35s\n",
      "34:\tlearn: 0.0000403\ttotal: 3.47s\tremaining: 1m 35s\n",
      "35:\tlearn: 0.0000403\ttotal: 3.57s\tremaining: 1m 35s\n",
      "36:\tlearn: 0.0000403\ttotal: 3.67s\tremaining: 1m 35s\n",
      "37:\tlearn: 0.0000403\ttotal: 3.77s\tremaining: 1m 35s\n",
      "38:\tlearn: 0.0000403\ttotal: 3.9s\tremaining: 1m 36s\n",
      "39:\tlearn: 0.0000403\ttotal: 4s\tremaining: 1m 36s\n",
      "40:\tlearn: 0.0000403\ttotal: 4.12s\tremaining: 1m 36s\n",
      "41:\tlearn: 0.0000403\ttotal: 4.23s\tremaining: 1m 36s\n",
      "42:\tlearn: 0.0000403\ttotal: 4.34s\tremaining: 1m 36s\n",
      "43:\tlearn: 0.0000403\ttotal: 4.46s\tremaining: 1m 36s\n",
      "44:\tlearn: 0.0000403\ttotal: 4.55s\tremaining: 1m 36s\n",
      "45:\tlearn: 0.0000403\ttotal: 4.66s\tremaining: 1m 36s\n",
      "46:\tlearn: 0.0000403\ttotal: 4.78s\tremaining: 1m 36s\n",
      "47:\tlearn: 0.0000403\ttotal: 4.92s\tremaining: 1m 37s\n",
      "48:\tlearn: 0.0000403\ttotal: 5.03s\tremaining: 1m 37s\n",
      "49:\tlearn: 0.0000403\ttotal: 5.12s\tremaining: 1m 37s\n",
      "50:\tlearn: 0.0000403\ttotal: 5.23s\tremaining: 1m 37s\n",
      "51:\tlearn: 0.0000403\ttotal: 5.33s\tremaining: 1m 37s\n",
      "52:\tlearn: 0.0000403\ttotal: 5.44s\tremaining: 1m 37s\n",
      "53:\tlearn: 0.0000403\ttotal: 5.55s\tremaining: 1m 37s\n",
      "54:\tlearn: 0.0000403\ttotal: 5.65s\tremaining: 1m 37s\n",
      "55:\tlearn: 0.0000403\ttotal: 5.74s\tremaining: 1m 36s\n",
      "56:\tlearn: 0.0000403\ttotal: 5.83s\tremaining: 1m 36s\n",
      "57:\tlearn: 0.0000403\ttotal: 5.93s\tremaining: 1m 36s\n",
      "58:\tlearn: 0.0000403\ttotal: 6.03s\tremaining: 1m 36s\n",
      "59:\tlearn: 0.0000403\ttotal: 6.12s\tremaining: 1m 35s\n",
      "60:\tlearn: 0.0000403\ttotal: 6.21s\tremaining: 1m 35s\n",
      "61:\tlearn: 0.0000403\ttotal: 6.32s\tremaining: 1m 35s\n",
      "62:\tlearn: 0.0000403\ttotal: 6.42s\tremaining: 1m 35s\n",
      "63:\tlearn: 0.0000403\ttotal: 6.52s\tremaining: 1m 35s\n",
      "64:\tlearn: 0.0000403\ttotal: 6.61s\tremaining: 1m 35s\n",
      "65:\tlearn: 0.0000403\ttotal: 6.7s\tremaining: 1m 34s\n",
      "66:\tlearn: 0.0000403\ttotal: 6.79s\tremaining: 1m 34s\n",
      "67:\tlearn: 0.0000403\ttotal: 6.9s\tremaining: 1m 34s\n",
      "68:\tlearn: 0.0000403\ttotal: 7s\tremaining: 1m 34s\n",
      "69:\tlearn: 0.0000403\ttotal: 7.1s\tremaining: 1m 34s\n",
      "70:\tlearn: 0.0000403\ttotal: 7.22s\tremaining: 1m 34s\n",
      "71:\tlearn: 0.0000403\ttotal: 7.32s\tremaining: 1m 34s\n",
      "72:\tlearn: 0.0000403\ttotal: 7.42s\tremaining: 1m 34s\n",
      "73:\tlearn: 0.0000403\ttotal: 7.52s\tremaining: 1m 34s\n",
      "74:\tlearn: 0.0000403\ttotal: 7.62s\tremaining: 1m 34s\n",
      "75:\tlearn: 0.0000403\ttotal: 7.72s\tremaining: 1m 33s\n",
      "76:\tlearn: 0.0000403\ttotal: 7.82s\tremaining: 1m 33s\n",
      "77:\tlearn: 0.0000403\ttotal: 7.93s\tremaining: 1m 33s\n",
      "78:\tlearn: 0.0000403\ttotal: 8.04s\tremaining: 1m 33s\n",
      "79:\tlearn: 0.0000403\ttotal: 8.15s\tremaining: 1m 33s\n",
      "80:\tlearn: 0.0000403\ttotal: 8.24s\tremaining: 1m 33s\n",
      "81:\tlearn: 0.0000403\ttotal: 8.35s\tremaining: 1m 33s\n",
      "82:\tlearn: 0.0000403\ttotal: 8.45s\tremaining: 1m 33s\n",
      "83:\tlearn: 0.0000403\ttotal: 8.54s\tremaining: 1m 33s\n",
      "84:\tlearn: 0.0000403\ttotal: 8.67s\tremaining: 1m 33s\n",
      "85:\tlearn: 0.0000403\ttotal: 8.76s\tremaining: 1m 33s\n",
      "86:\tlearn: 0.0000403\ttotal: 8.85s\tremaining: 1m 32s\n",
      "87:\tlearn: 0.0000403\ttotal: 8.94s\tremaining: 1m 32s\n",
      "88:\tlearn: 0.0000403\ttotal: 9.03s\tremaining: 1m 32s\n",
      "89:\tlearn: 0.0000403\ttotal: 9.12s\tremaining: 1m 32s\n",
      "90:\tlearn: 0.0000403\ttotal: 9.22s\tremaining: 1m 32s\n",
      "91:\tlearn: 0.0000403\ttotal: 9.32s\tremaining: 1m 31s\n",
      "92:\tlearn: 0.0000403\ttotal: 9.5s\tremaining: 1m 32s\n",
      "93:\tlearn: 0.0000403\ttotal: 9.7s\tremaining: 1m 33s\n",
      "94:\tlearn: 0.0000403\ttotal: 9.81s\tremaining: 1m 33s\n",
      "95:\tlearn: 0.0000403\ttotal: 9.94s\tremaining: 1m 33s\n",
      "96:\tlearn: 0.0000403\ttotal: 10.1s\tremaining: 1m 33s\n",
      "97:\tlearn: 0.0000403\ttotal: 10.2s\tremaining: 1m 33s\n",
      "98:\tlearn: 0.0000403\ttotal: 10.3s\tremaining: 1m 33s\n",
      "99:\tlearn: 0.0000403\ttotal: 10.4s\tremaining: 1m 33s\n",
      "100:\tlearn: 0.0000403\ttotal: 10.5s\tremaining: 1m 33s\n",
      "101:\tlearn: 0.0000403\ttotal: 10.6s\tremaining: 1m 33s\n",
      "102:\tlearn: 0.0000403\ttotal: 10.7s\tremaining: 1m 33s\n",
      "103:\tlearn: 0.0000403\ttotal: 10.8s\tremaining: 1m 33s\n",
      "104:\tlearn: 0.0000403\ttotal: 11s\tremaining: 1m 33s\n",
      "105:\tlearn: 0.0000403\ttotal: 11.2s\tremaining: 1m 34s\n",
      "106:\tlearn: 0.0000403\ttotal: 11.3s\tremaining: 1m 34s\n",
      "107:\tlearn: 0.0000403\ttotal: 11.4s\tremaining: 1m 33s\n",
      "108:\tlearn: 0.0000403\ttotal: 11.5s\tremaining: 1m 33s\n",
      "109:\tlearn: 0.0000403\ttotal: 11.6s\tremaining: 1m 33s\n",
      "110:\tlearn: 0.0000403\ttotal: 11.7s\tremaining: 1m 33s\n",
      "111:\tlearn: 0.0000403\ttotal: 11.8s\tremaining: 1m 33s\n",
      "112:\tlearn: 0.0000403\ttotal: 11.9s\tremaining: 1m 33s\n",
      "113:\tlearn: 0.0000403\ttotal: 12.1s\tremaining: 1m 33s\n",
      "114:\tlearn: 0.0000403\ttotal: 12.1s\tremaining: 1m 33s\n",
      "115:\tlearn: 0.0000403\ttotal: 12.2s\tremaining: 1m 33s\n",
      "116:\tlearn: 0.0000403\ttotal: 12.4s\tremaining: 1m 33s\n",
      "117:\tlearn: 0.0000403\ttotal: 12.5s\tremaining: 1m 33s\n",
      "118:\tlearn: 0.0000403\ttotal: 12.6s\tremaining: 1m 33s\n",
      "119:\tlearn: 0.0000403\ttotal: 12.7s\tremaining: 1m 32s\n",
      "120:\tlearn: 0.0000403\ttotal: 12.8s\tremaining: 1m 32s\n",
      "121:\tlearn: 0.0000403\ttotal: 12.9s\tremaining: 1m 32s\n",
      "122:\tlearn: 0.0000403\ttotal: 13s\tremaining: 1m 32s\n",
      "123:\tlearn: 0.0000403\ttotal: 13.1s\tremaining: 1m 32s\n",
      "124:\tlearn: 0.0000403\ttotal: 13.2s\tremaining: 1m 32s\n",
      "125:\tlearn: 0.0000403\ttotal: 13.3s\tremaining: 1m 32s\n",
      "126:\tlearn: 0.0000403\ttotal: 13.4s\tremaining: 1m 31s\n",
      "127:\tlearn: 0.0000403\ttotal: 13.5s\tremaining: 1m 31s\n",
      "128:\tlearn: 0.0000403\ttotal: 13.6s\tremaining: 1m 31s\n",
      "129:\tlearn: 0.0000403\ttotal: 13.7s\tremaining: 1m 31s\n",
      "130:\tlearn: 0.0000403\ttotal: 13.8s\tremaining: 1m 31s\n",
      "131:\tlearn: 0.0000403\ttotal: 13.8s\tremaining: 1m 31s\n",
      "132:\tlearn: 0.0000403\ttotal: 13.9s\tremaining: 1m 30s\n",
      "133:\tlearn: 0.0000403\ttotal: 14s\tremaining: 1m 30s\n",
      "134:\tlearn: 0.0000403\ttotal: 14.1s\tremaining: 1m 30s\n",
      "135:\tlearn: 0.0000403\ttotal: 14.3s\tremaining: 1m 30s\n",
      "136:\tlearn: 0.0000403\ttotal: 14.4s\tremaining: 1m 30s\n",
      "137:\tlearn: 0.0000403\ttotal: 14.5s\tremaining: 1m 30s\n",
      "138:\tlearn: 0.0000403\ttotal: 14.6s\tremaining: 1m 30s\n",
      "139:\tlearn: 0.0000403\ttotal: 14.6s\tremaining: 1m 29s\n",
      "140:\tlearn: 0.0000403\ttotal: 14.8s\tremaining: 1m 30s\n",
      "141:\tlearn: 0.0000403\ttotal: 15s\tremaining: 1m 30s\n",
      "142:\tlearn: 0.0000403\ttotal: 15.1s\tremaining: 1m 30s\n",
      "143:\tlearn: 0.0000403\ttotal: 15.2s\tremaining: 1m 30s\n",
      "144:\tlearn: 0.0000403\ttotal: 15.3s\tremaining: 1m 30s\n",
      "145:\tlearn: 0.0000403\ttotal: 15.4s\tremaining: 1m 30s\n",
      "146:\tlearn: 0.0000403\ttotal: 15.5s\tremaining: 1m 29s\n",
      "147:\tlearn: 0.0000403\ttotal: 15.6s\tremaining: 1m 29s\n",
      "148:\tlearn: 0.0000403\ttotal: 15.7s\tremaining: 1m 29s\n",
      "149:\tlearn: 0.0000403\ttotal: 15.8s\tremaining: 1m 29s\n",
      "150:\tlearn: 0.0000403\ttotal: 15.9s\tremaining: 1m 29s\n",
      "151:\tlearn: 0.0000403\ttotal: 16s\tremaining: 1m 29s\n",
      "152:\tlearn: 0.0000403\ttotal: 16.1s\tremaining: 1m 29s\n",
      "153:\tlearn: 0.0000403\ttotal: 16.2s\tremaining: 1m 29s\n",
      "154:\tlearn: 0.0000403\ttotal: 16.3s\tremaining: 1m 28s\n",
      "155:\tlearn: 0.0000403\ttotal: 16.4s\tremaining: 1m 28s\n",
      "156:\tlearn: 0.0000403\ttotal: 16.5s\tremaining: 1m 28s\n",
      "157:\tlearn: 0.0000403\ttotal: 16.6s\tremaining: 1m 28s\n",
      "158:\tlearn: 0.0000403\ttotal: 16.7s\tremaining: 1m 28s\n",
      "159:\tlearn: 0.0000403\ttotal: 16.8s\tremaining: 1m 28s\n",
      "160:\tlearn: 0.0000403\ttotal: 16.9s\tremaining: 1m 28s\n",
      "161:\tlearn: 0.0000403\ttotal: 17s\tremaining: 1m 27s\n",
      "162:\tlearn: 0.0000403\ttotal: 17.1s\tremaining: 1m 27s\n",
      "163:\tlearn: 0.0000403\ttotal: 17.2s\tremaining: 1m 27s\n",
      "164:\tlearn: 0.0000403\ttotal: 17.3s\tremaining: 1m 27s\n",
      "165:\tlearn: 0.0000403\ttotal: 17.4s\tremaining: 1m 27s\n",
      "166:\tlearn: 0.0000403\ttotal: 17.7s\tremaining: 1m 28s\n",
      "167:\tlearn: 0.0000403\ttotal: 17.9s\tremaining: 1m 28s\n",
      "168:\tlearn: 0.0000403\ttotal: 18.1s\tremaining: 1m 28s\n",
      "169:\tlearn: 0.0000403\ttotal: 18.2s\tremaining: 1m 28s\n",
      "170:\tlearn: 0.0000403\ttotal: 18.3s\tremaining: 1m 28s\n",
      "171:\tlearn: 0.0000403\ttotal: 18.5s\tremaining: 1m 28s\n",
      "172:\tlearn: 0.0000403\ttotal: 18.6s\tremaining: 1m 28s\n",
      "173:\tlearn: 0.0000403\ttotal: 18.7s\tremaining: 1m 28s\n",
      "174:\tlearn: 0.0000403\ttotal: 18.8s\tremaining: 1m 28s\n",
      "175:\tlearn: 0.0000403\ttotal: 18.9s\tremaining: 1m 28s\n",
      "176:\tlearn: 0.0000403\ttotal: 19s\tremaining: 1m 28s\n",
      "177:\tlearn: 0.0000403\ttotal: 19.1s\tremaining: 1m 28s\n",
      "178:\tlearn: 0.0000403\ttotal: 19.2s\tremaining: 1m 28s\n",
      "179:\tlearn: 0.0000403\ttotal: 19.3s\tremaining: 1m 27s\n",
      "180:\tlearn: 0.0000403\ttotal: 19.4s\tremaining: 1m 27s\n",
      "181:\tlearn: 0.0000403\ttotal: 19.5s\tremaining: 1m 27s\n",
      "182:\tlearn: 0.0000403\ttotal: 19.7s\tremaining: 1m 27s\n",
      "183:\tlearn: 0.0000403\ttotal: 19.7s\tremaining: 1m 27s\n",
      "184:\tlearn: 0.0000403\ttotal: 19.8s\tremaining: 1m 27s\n",
      "185:\tlearn: 0.0000403\ttotal: 19.9s\tremaining: 1m 27s\n",
      "186:\tlearn: 0.0000403\ttotal: 20s\tremaining: 1m 27s\n",
      "187:\tlearn: 0.0000403\ttotal: 20.1s\tremaining: 1m 26s\n",
      "188:\tlearn: 0.0000403\ttotal: 20.2s\tremaining: 1m 26s\n",
      "189:\tlearn: 0.0000403\ttotal: 20.3s\tremaining: 1m 26s\n",
      "190:\tlearn: 0.0000403\ttotal: 20.3s\tremaining: 1m 26s\n",
      "191:\tlearn: 0.0000403\ttotal: 20.4s\tremaining: 1m 25s\n",
      "192:\tlearn: 0.0000403\ttotal: 20.5s\tremaining: 1m 25s\n",
      "193:\tlearn: 0.0000403\ttotal: 20.6s\tremaining: 1m 25s\n",
      "194:\tlearn: 0.0000403\ttotal: 20.7s\tremaining: 1m 25s\n",
      "195:\tlearn: 0.0000403\ttotal: 20.8s\tremaining: 1m 25s\n",
      "196:\tlearn: 0.0000403\ttotal: 20.8s\tremaining: 1m 24s\n",
      "197:\tlearn: 0.0000403\ttotal: 20.9s\tremaining: 1m 24s\n",
      "198:\tlearn: 0.0000403\ttotal: 21s\tremaining: 1m 24s\n",
      "199:\tlearn: 0.0000403\ttotal: 21.1s\tremaining: 1m 24s\n",
      "200:\tlearn: 0.0000403\ttotal: 21.2s\tremaining: 1m 24s\n",
      "201:\tlearn: 0.0000403\ttotal: 21.3s\tremaining: 1m 24s\n",
      "202:\tlearn: 0.0000403\ttotal: 21.3s\tremaining: 1m 23s\n",
      "203:\tlearn: 0.0000403\ttotal: 21.4s\tremaining: 1m 23s\n",
      "204:\tlearn: 0.0000403\ttotal: 21.5s\tremaining: 1m 23s\n",
      "205:\tlearn: 0.0000403\ttotal: 21.6s\tremaining: 1m 23s\n",
      "206:\tlearn: 0.0000403\ttotal: 21.7s\tremaining: 1m 23s\n",
      "207:\tlearn: 0.0000403\ttotal: 21.8s\tremaining: 1m 22s\n",
      "208:\tlearn: 0.0000403\ttotal: 21.8s\tremaining: 1m 22s\n",
      "209:\tlearn: 0.0000403\ttotal: 21.9s\tremaining: 1m 22s\n",
      "210:\tlearn: 0.0000403\ttotal: 22s\tremaining: 1m 22s\n",
      "211:\tlearn: 0.0000403\ttotal: 22.1s\tremaining: 1m 22s\n",
      "212:\tlearn: 0.0000403\ttotal: 22.2s\tremaining: 1m 21s\n",
      "213:\tlearn: 0.0000403\ttotal: 22.2s\tremaining: 1m 21s\n",
      "214:\tlearn: 0.0000403\ttotal: 22.3s\tremaining: 1m 21s\n",
      "215:\tlearn: 0.0000403\ttotal: 22.4s\tremaining: 1m 21s\n",
      "216:\tlearn: 0.0000403\ttotal: 22.5s\tremaining: 1m 21s\n",
      "217:\tlearn: 0.0000403\ttotal: 22.6s\tremaining: 1m 21s\n",
      "218:\tlearn: 0.0000403\ttotal: 22.7s\tremaining: 1m 20s\n",
      "219:\tlearn: 0.0000403\ttotal: 22.8s\tremaining: 1m 20s\n",
      "220:\tlearn: 0.0000403\ttotal: 22.9s\tremaining: 1m 20s\n",
      "221:\tlearn: 0.0000403\ttotal: 23s\tremaining: 1m 20s\n",
      "222:\tlearn: 0.0000403\ttotal: 23s\tremaining: 1m 20s\n",
      "223:\tlearn: 0.0000403\ttotal: 23.1s\tremaining: 1m 20s\n",
      "224:\tlearn: 0.0000403\ttotal: 23.2s\tremaining: 1m 20s\n",
      "225:\tlearn: 0.0000403\ttotal: 23.3s\tremaining: 1m 19s\n",
      "226:\tlearn: 0.0000403\ttotal: 23.4s\tremaining: 1m 19s\n",
      "227:\tlearn: 0.0000403\ttotal: 23.5s\tremaining: 1m 19s\n",
      "228:\tlearn: 0.0000403\ttotal: 23.6s\tremaining: 1m 19s\n",
      "229:\tlearn: 0.0000403\ttotal: 23.7s\tremaining: 1m 19s\n",
      "230:\tlearn: 0.0000403\ttotal: 23.8s\tremaining: 1m 19s\n",
      "231:\tlearn: 0.0000403\ttotal: 23.8s\tremaining: 1m 18s\n",
      "232:\tlearn: 0.0000403\ttotal: 23.9s\tremaining: 1m 18s\n",
      "233:\tlearn: 0.0000403\ttotal: 24s\tremaining: 1m 18s\n",
      "234:\tlearn: 0.0000403\ttotal: 24.1s\tremaining: 1m 18s\n",
      "235:\tlearn: 0.0000403\ttotal: 24.3s\tremaining: 1m 18s\n",
      "236:\tlearn: 0.0000403\ttotal: 24.5s\tremaining: 1m 18s\n",
      "237:\tlearn: 0.0000403\ttotal: 24.7s\tremaining: 1m 19s\n",
      "238:\tlearn: 0.0000403\ttotal: 24.8s\tremaining: 1m 19s\n",
      "239:\tlearn: 0.0000403\ttotal: 24.9s\tremaining: 1m 18s\n",
      "240:\tlearn: 0.0000403\ttotal: 25s\tremaining: 1m 18s\n",
      "241:\tlearn: 0.0000403\ttotal: 25.1s\tremaining: 1m 18s\n",
      "242:\tlearn: 0.0000403\ttotal: 25.2s\tremaining: 1m 18s\n",
      "243:\tlearn: 0.0000403\ttotal: 25.3s\tremaining: 1m 18s\n",
      "244:\tlearn: 0.0000403\ttotal: 25.4s\tremaining: 1m 18s\n",
      "245:\tlearn: 0.0000403\ttotal: 25.5s\tremaining: 1m 18s\n",
      "246:\tlearn: 0.0000403\ttotal: 25.6s\tremaining: 1m 18s\n",
      "247:\tlearn: 0.0000403\ttotal: 25.7s\tremaining: 1m 17s\n",
      "248:\tlearn: 0.0000403\ttotal: 25.8s\tremaining: 1m 17s\n",
      "249:\tlearn: 0.0000403\ttotal: 25.9s\tremaining: 1m 17s\n",
      "250:\tlearn: 0.0000403\ttotal: 26.1s\tremaining: 1m 17s\n",
      "251:\tlearn: 0.0000403\ttotal: 26.1s\tremaining: 1m 17s\n",
      "252:\tlearn: 0.0000403\ttotal: 26.2s\tremaining: 1m 17s\n",
      "253:\tlearn: 0.0000403\ttotal: 26.3s\tremaining: 1m 17s\n",
      "254:\tlearn: 0.0000403\ttotal: 26.4s\tremaining: 1m 17s\n",
      "255:\tlearn: 0.0000403\ttotal: 26.5s\tremaining: 1m 17s\n",
      "256:\tlearn: 0.0000403\ttotal: 26.6s\tremaining: 1m 16s\n",
      "257:\tlearn: 0.0000403\ttotal: 26.7s\tremaining: 1m 16s\n",
      "258:\tlearn: 0.0000403\ttotal: 26.7s\tremaining: 1m 16s\n",
      "259:\tlearn: 0.0000403\ttotal: 26.8s\tremaining: 1m 16s\n",
      "260:\tlearn: 0.0000403\ttotal: 26.9s\tremaining: 1m 16s\n",
      "261:\tlearn: 0.0000403\ttotal: 27s\tremaining: 1m 16s\n",
      "262:\tlearn: 0.0000403\ttotal: 27.1s\tremaining: 1m 15s\n",
      "263:\tlearn: 0.0000403\ttotal: 27.2s\tremaining: 1m 15s\n",
      "264:\tlearn: 0.0000403\ttotal: 27.2s\tremaining: 1m 15s\n",
      "265:\tlearn: 0.0000403\ttotal: 27.5s\tremaining: 1m 15s\n",
      "266:\tlearn: 0.0000403\ttotal: 27.6s\tremaining: 1m 15s\n",
      "267:\tlearn: 0.0000403\ttotal: 27.7s\tremaining: 1m 15s\n",
      "268:\tlearn: 0.0000403\ttotal: 27.9s\tremaining: 1m 15s\n",
      "269:\tlearn: 0.0000403\ttotal: 28s\tremaining: 1m 15s\n",
      "270:\tlearn: 0.0000403\ttotal: 28.1s\tremaining: 1m 15s\n",
      "271:\tlearn: 0.0000403\ttotal: 28.2s\tremaining: 1m 15s\n",
      "272:\tlearn: 0.0000403\ttotal: 28.3s\tremaining: 1m 15s\n",
      "273:\tlearn: 0.0000403\ttotal: 28.4s\tremaining: 1m 15s\n",
      "274:\tlearn: 0.0000403\ttotal: 28.4s\tremaining: 1m 14s\n",
      "275:\tlearn: 0.0000403\ttotal: 28.5s\tremaining: 1m 14s\n",
      "276:\tlearn: 0.0000403\ttotal: 28.6s\tremaining: 1m 14s\n",
      "277:\tlearn: 0.0000403\ttotal: 28.7s\tremaining: 1m 14s\n",
      "278:\tlearn: 0.0000403\ttotal: 28.8s\tremaining: 1m 14s\n",
      "279:\tlearn: 0.0000403\ttotal: 28.9s\tremaining: 1m 14s\n",
      "280:\tlearn: 0.0000403\ttotal: 28.9s\tremaining: 1m 14s\n",
      "281:\tlearn: 0.0000403\ttotal: 29s\tremaining: 1m 13s\n",
      "282:\tlearn: 0.0000403\ttotal: 29.1s\tremaining: 1m 13s\n",
      "283:\tlearn: 0.0000403\ttotal: 29.2s\tremaining: 1m 13s\n",
      "284:\tlearn: 0.0000403\ttotal: 29.3s\tremaining: 1m 13s\n",
      "285:\tlearn: 0.0000403\ttotal: 29.4s\tremaining: 1m 13s\n",
      "286:\tlearn: 0.0000403\ttotal: 29.5s\tremaining: 1m 13s\n",
      "287:\tlearn: 0.0000403\ttotal: 29.5s\tremaining: 1m 13s\n",
      "288:\tlearn: 0.0000403\ttotal: 29.6s\tremaining: 1m 12s\n",
      "289:\tlearn: 0.0000403\ttotal: 29.7s\tremaining: 1m 12s\n",
      "290:\tlearn: 0.0000403\ttotal: 29.8s\tremaining: 1m 12s\n",
      "291:\tlearn: 0.0000403\ttotal: 29.9s\tremaining: 1m 12s\n",
      "292:\tlearn: 0.0000403\ttotal: 30s\tremaining: 1m 12s\n",
      "293:\tlearn: 0.0000403\ttotal: 30s\tremaining: 1m 12s\n",
      "294:\tlearn: 0.0000403\ttotal: 30.1s\tremaining: 1m 11s\n",
      "295:\tlearn: 0.0000403\ttotal: 30.2s\tremaining: 1m 11s\n",
      "296:\tlearn: 0.0000403\ttotal: 30.3s\tremaining: 1m 11s\n",
      "297:\tlearn: 0.0000403\ttotal: 30.4s\tremaining: 1m 11s\n",
      "298:\tlearn: 0.0000403\ttotal: 30.4s\tremaining: 1m 11s\n",
      "299:\tlearn: 0.0000403\ttotal: 30.5s\tremaining: 1m 11s\n",
      "300:\tlearn: 0.0000403\ttotal: 30.6s\tremaining: 1m 11s\n",
      "301:\tlearn: 0.0000403\ttotal: 30.7s\tremaining: 1m 10s\n",
      "302:\tlearn: 0.0000403\ttotal: 30.8s\tremaining: 1m 10s\n",
      "303:\tlearn: 0.0000403\ttotal: 30.8s\tremaining: 1m 10s\n",
      "304:\tlearn: 0.0000403\ttotal: 30.9s\tremaining: 1m 10s\n",
      "305:\tlearn: 0.0000403\ttotal: 31s\tremaining: 1m 10s\n",
      "306:\tlearn: 0.0000403\ttotal: 31.1s\tremaining: 1m 10s\n",
      "307:\tlearn: 0.0000403\ttotal: 31.2s\tremaining: 1m 10s\n",
      "308:\tlearn: 0.0000403\ttotal: 31.3s\tremaining: 1m 9s\n",
      "309:\tlearn: 0.0000403\ttotal: 31.4s\tremaining: 1m 9s\n",
      "310:\tlearn: 0.0000403\ttotal: 31.4s\tremaining: 1m 9s\n",
      "311:\tlearn: 0.0000403\ttotal: 31.5s\tremaining: 1m 9s\n",
      "312:\tlearn: 0.0000403\ttotal: 31.6s\tremaining: 1m 9s\n",
      "313:\tlearn: 0.0000403\ttotal: 31.7s\tremaining: 1m 9s\n",
      "314:\tlearn: 0.0000403\ttotal: 31.8s\tremaining: 1m 9s\n",
      "315:\tlearn: 0.0000403\ttotal: 31.9s\tremaining: 1m 8s\n",
      "316:\tlearn: 0.0000403\ttotal: 31.9s\tremaining: 1m 8s\n",
      "317:\tlearn: 0.0000403\ttotal: 32s\tremaining: 1m 8s\n",
      "318:\tlearn: 0.0000403\ttotal: 32.1s\tremaining: 1m 8s\n",
      "319:\tlearn: 0.0000403\ttotal: 32.2s\tremaining: 1m 8s\n",
      "320:\tlearn: 0.0000403\ttotal: 32.3s\tremaining: 1m 8s\n",
      "321:\tlearn: 0.0000403\ttotal: 32.4s\tremaining: 1m 8s\n",
      "322:\tlearn: 0.0000403\ttotal: 32.4s\tremaining: 1m 8s\n",
      "323:\tlearn: 0.0000403\ttotal: 32.5s\tremaining: 1m 7s\n",
      "324:\tlearn: 0.0000403\ttotal: 32.6s\tremaining: 1m 7s\n",
      "325:\tlearn: 0.0000403\ttotal: 32.7s\tremaining: 1m 7s\n",
      "326:\tlearn: 0.0000403\ttotal: 32.8s\tremaining: 1m 7s\n",
      "327:\tlearn: 0.0000403\ttotal: 32.8s\tremaining: 1m 7s\n",
      "328:\tlearn: 0.0000403\ttotal: 32.9s\tremaining: 1m 7s\n",
      "329:\tlearn: 0.0000403\ttotal: 33s\tremaining: 1m 7s\n",
      "330:\tlearn: 0.0000403\ttotal: 33.1s\tremaining: 1m 6s\n",
      "331:\tlearn: 0.0000403\ttotal: 33.2s\tremaining: 1m 6s\n",
      "332:\tlearn: 0.0000403\ttotal: 33.3s\tremaining: 1m 6s\n",
      "333:\tlearn: 0.0000403\ttotal: 33.3s\tremaining: 1m 6s\n",
      "334:\tlearn: 0.0000403\ttotal: 33.4s\tremaining: 1m 6s\n",
      "335:\tlearn: 0.0000403\ttotal: 33.5s\tremaining: 1m 6s\n",
      "336:\tlearn: 0.0000403\ttotal: 33.6s\tremaining: 1m 6s\n",
      "337:\tlearn: 0.0000403\ttotal: 33.7s\tremaining: 1m 5s\n",
      "338:\tlearn: 0.0000403\ttotal: 33.7s\tremaining: 1m 5s\n",
      "339:\tlearn: 0.0000403\ttotal: 33.8s\tremaining: 1m 5s\n",
      "340:\tlearn: 0.0000403\ttotal: 33.9s\tremaining: 1m 5s\n",
      "341:\tlearn: 0.0000403\ttotal: 34s\tremaining: 1m 5s\n",
      "342:\tlearn: 0.0000403\ttotal: 34.1s\tremaining: 1m 5s\n",
      "343:\tlearn: 0.0000403\ttotal: 34.1s\tremaining: 1m 5s\n",
      "344:\tlearn: 0.0000403\ttotal: 34.2s\tremaining: 1m 4s\n",
      "345:\tlearn: 0.0000403\ttotal: 34.3s\tremaining: 1m 4s\n",
      "346:\tlearn: 0.0000403\ttotal: 34.4s\tremaining: 1m 4s\n",
      "347:\tlearn: 0.0000403\ttotal: 34.5s\tremaining: 1m 4s\n",
      "348:\tlearn: 0.0000403\ttotal: 34.6s\tremaining: 1m 4s\n",
      "349:\tlearn: 0.0000403\ttotal: 34.7s\tremaining: 1m 4s\n",
      "350:\tlearn: 0.0000403\ttotal: 34.8s\tremaining: 1m 4s\n",
      "351:\tlearn: 0.0000403\ttotal: 34.9s\tremaining: 1m 4s\n",
      "352:\tlearn: 0.0000403\ttotal: 34.9s\tremaining: 1m 4s\n",
      "353:\tlearn: 0.0000403\ttotal: 35s\tremaining: 1m 3s\n",
      "354:\tlearn: 0.0000403\ttotal: 35.1s\tremaining: 1m 3s\n",
      "355:\tlearn: 0.0000403\ttotal: 35.2s\tremaining: 1m 3s\n",
      "356:\tlearn: 0.0000403\ttotal: 35.3s\tremaining: 1m 3s\n",
      "357:\tlearn: 0.0000403\ttotal: 35.3s\tremaining: 1m 3s\n",
      "358:\tlearn: 0.0000403\ttotal: 35.4s\tremaining: 1m 3s\n",
      "359:\tlearn: 0.0000403\ttotal: 35.5s\tremaining: 1m 3s\n",
      "360:\tlearn: 0.0000403\ttotal: 35.6s\tremaining: 1m 2s\n",
      "361:\tlearn: 0.0000403\ttotal: 35.7s\tremaining: 1m 2s\n",
      "362:\tlearn: 0.0000403\ttotal: 35.8s\tremaining: 1m 2s\n",
      "363:\tlearn: 0.0000403\ttotal: 35.8s\tremaining: 1m 2s\n",
      "364:\tlearn: 0.0000403\ttotal: 35.9s\tremaining: 1m 2s\n",
      "365:\tlearn: 0.0000403\ttotal: 36s\tremaining: 1m 2s\n",
      "366:\tlearn: 0.0000403\ttotal: 36.1s\tremaining: 1m 2s\n",
      "367:\tlearn: 0.0000403\ttotal: 36.1s\tremaining: 1m 2s\n",
      "368:\tlearn: 0.0000403\ttotal: 36.2s\tremaining: 1m 1s\n",
      "369:\tlearn: 0.0000403\ttotal: 36.3s\tremaining: 1m 1s\n",
      "370:\tlearn: 0.0000403\ttotal: 36.4s\tremaining: 1m 1s\n",
      "371:\tlearn: 0.0000403\ttotal: 36.5s\tremaining: 1m 1s\n",
      "372:\tlearn: 0.0000403\ttotal: 36.6s\tremaining: 1m 1s\n",
      "373:\tlearn: 0.0000403\ttotal: 36.6s\tremaining: 1m 1s\n",
      "374:\tlearn: 0.0000403\ttotal: 36.7s\tremaining: 1m 1s\n",
      "375:\tlearn: 0.0000403\ttotal: 36.8s\tremaining: 1m 1s\n",
      "376:\tlearn: 0.0000403\ttotal: 36.9s\tremaining: 1m\n",
      "377:\tlearn: 0.0000403\ttotal: 37s\tremaining: 1m\n",
      "378:\tlearn: 0.0000403\ttotal: 37.1s\tremaining: 1m\n",
      "379:\tlearn: 0.0000403\ttotal: 37.2s\tremaining: 1m\n",
      "380:\tlearn: 0.0000403\ttotal: 37.3s\tremaining: 1m\n",
      "381:\tlearn: 0.0000403\ttotal: 37.3s\tremaining: 1m\n",
      "382:\tlearn: 0.0000403\ttotal: 37.4s\tremaining: 1m\n",
      "383:\tlearn: 0.0000403\ttotal: 37.5s\tremaining: 1m\n",
      "384:\tlearn: 0.0000403\ttotal: 37.6s\tremaining: 1m\n",
      "385:\tlearn: 0.0000403\ttotal: 37.7s\tremaining: 60s\n",
      "386:\tlearn: 0.0000403\ttotal: 37.8s\tremaining: 59.9s\n",
      "387:\tlearn: 0.0000403\ttotal: 37.9s\tremaining: 59.7s\n",
      "388:\tlearn: 0.0000403\ttotal: 37.9s\tremaining: 59.6s\n",
      "389:\tlearn: 0.0000403\ttotal: 38s\tremaining: 59.5s\n",
      "390:\tlearn: 0.0000403\ttotal: 38.1s\tremaining: 59.4s\n",
      "391:\tlearn: 0.0000403\ttotal: 38.2s\tremaining: 59.2s\n",
      "392:\tlearn: 0.0000403\ttotal: 38.3s\tremaining: 59.1s\n",
      "393:\tlearn: 0.0000403\ttotal: 38.4s\tremaining: 59s\n",
      "394:\tlearn: 0.0000403\ttotal: 38.5s\tremaining: 58.9s\n",
      "395:\tlearn: 0.0000403\ttotal: 38.5s\tremaining: 58.8s\n",
      "396:\tlearn: 0.0000403\ttotal: 38.6s\tremaining: 58.7s\n",
      "397:\tlearn: 0.0000403\ttotal: 38.7s\tremaining: 58.5s\n",
      "398:\tlearn: 0.0000403\ttotal: 38.8s\tremaining: 58.4s\n",
      "399:\tlearn: 0.0000403\ttotal: 38.9s\tremaining: 58.3s\n",
      "400:\tlearn: 0.0000403\ttotal: 39s\tremaining: 58.2s\n",
      "401:\tlearn: 0.0000403\ttotal: 39s\tremaining: 58.1s\n",
      "402:\tlearn: 0.0000403\ttotal: 39.1s\tremaining: 57.9s\n",
      "403:\tlearn: 0.0000403\ttotal: 39.2s\tremaining: 57.8s\n",
      "404:\tlearn: 0.0000403\ttotal: 39.3s\tremaining: 57.7s\n",
      "405:\tlearn: 0.0000403\ttotal: 39.4s\tremaining: 57.6s\n",
      "406:\tlearn: 0.0000403\ttotal: 39.4s\tremaining: 57.5s\n",
      "407:\tlearn: 0.0000403\ttotal: 39.5s\tremaining: 57.3s\n",
      "408:\tlearn: 0.0000403\ttotal: 39.6s\tremaining: 57.2s\n",
      "409:\tlearn: 0.0000403\ttotal: 39.7s\tremaining: 57.1s\n",
      "410:\tlearn: 0.0000403\ttotal: 39.8s\tremaining: 57s\n",
      "411:\tlearn: 0.0000403\ttotal: 39.8s\tremaining: 56.9s\n",
      "412:\tlearn: 0.0000403\ttotal: 39.9s\tremaining: 56.7s\n",
      "413:\tlearn: 0.0000403\ttotal: 40s\tremaining: 56.6s\n",
      "414:\tlearn: 0.0000403\ttotal: 40.1s\tremaining: 56.5s\n",
      "415:\tlearn: 0.0000403\ttotal: 40.2s\tremaining: 56.4s\n",
      "416:\tlearn: 0.0000403\ttotal: 40.2s\tremaining: 56.3s\n",
      "417:\tlearn: 0.0000403\ttotal: 40.3s\tremaining: 56.1s\n",
      "418:\tlearn: 0.0000403\ttotal: 40.4s\tremaining: 56s\n",
      "419:\tlearn: 0.0000403\ttotal: 40.5s\tremaining: 56s\n",
      "420:\tlearn: 0.0000403\ttotal: 40.6s\tremaining: 55.9s\n",
      "421:\tlearn: 0.0000403\ttotal: 40.7s\tremaining: 55.8s\n",
      "422:\tlearn: 0.0000403\ttotal: 40.8s\tremaining: 55.7s\n",
      "423:\tlearn: 0.0000403\ttotal: 40.9s\tremaining: 55.5s\n",
      "424:\tlearn: 0.0000403\ttotal: 41s\tremaining: 55.4s\n",
      "425:\tlearn: 0.0000403\ttotal: 41.1s\tremaining: 55.3s\n",
      "426:\tlearn: 0.0000403\ttotal: 41.1s\tremaining: 55.2s\n",
      "427:\tlearn: 0.0000403\ttotal: 41.2s\tremaining: 55.1s\n",
      "428:\tlearn: 0.0000403\ttotal: 41.3s\tremaining: 55s\n",
      "429:\tlearn: 0.0000403\ttotal: 41.4s\tremaining: 54.9s\n",
      "430:\tlearn: 0.0000403\ttotal: 41.5s\tremaining: 54.8s\n",
      "431:\tlearn: 0.0000403\ttotal: 41.6s\tremaining: 54.7s\n",
      "432:\tlearn: 0.0000403\ttotal: 41.7s\tremaining: 54.6s\n",
      "433:\tlearn: 0.0000403\ttotal: 41.8s\tremaining: 54.5s\n",
      "434:\tlearn: 0.0000403\ttotal: 41.8s\tremaining: 54.3s\n",
      "435:\tlearn: 0.0000403\ttotal: 41.9s\tremaining: 54.2s\n",
      "436:\tlearn: 0.0000403\ttotal: 42s\tremaining: 54.1s\n",
      "437:\tlearn: 0.0000403\ttotal: 42.1s\tremaining: 54s\n",
      "438:\tlearn: 0.0000403\ttotal: 42.2s\tremaining: 53.9s\n",
      "439:\tlearn: 0.0000403\ttotal: 42.3s\tremaining: 53.8s\n",
      "440:\tlearn: 0.0000403\ttotal: 42.4s\tremaining: 53.7s\n",
      "441:\tlearn: 0.0000403\ttotal: 42.4s\tremaining: 53.6s\n",
      "442:\tlearn: 0.0000403\ttotal: 42.5s\tremaining: 53.5s\n",
      "443:\tlearn: 0.0000403\ttotal: 42.6s\tremaining: 53.4s\n",
      "444:\tlearn: 0.0000403\ttotal: 42.7s\tremaining: 53.3s\n",
      "445:\tlearn: 0.0000403\ttotal: 42.8s\tremaining: 53.2s\n",
      "446:\tlearn: 0.0000403\ttotal: 42.9s\tremaining: 53.1s\n",
      "447:\tlearn: 0.0000403\ttotal: 43s\tremaining: 53s\n",
      "448:\tlearn: 0.0000403\ttotal: 43.1s\tremaining: 52.8s\n",
      "449:\tlearn: 0.0000403\ttotal: 43.1s\tremaining: 52.7s\n",
      "450:\tlearn: 0.0000403\ttotal: 43.2s\tremaining: 52.6s\n",
      "451:\tlearn: 0.0000403\ttotal: 43.3s\tremaining: 52.5s\n",
      "452:\tlearn: 0.0000403\ttotal: 43.4s\tremaining: 52.4s\n",
      "453:\tlearn: 0.0000403\ttotal: 43.5s\tremaining: 52.3s\n",
      "454:\tlearn: 0.0000403\ttotal: 43.6s\tremaining: 52.2s\n",
      "455:\tlearn: 0.0000403\ttotal: 43.7s\tremaining: 52.1s\n",
      "456:\tlearn: 0.0000403\ttotal: 43.7s\tremaining: 52s\n",
      "457:\tlearn: 0.0000403\ttotal: 43.8s\tremaining: 51.9s\n",
      "458:\tlearn: 0.0000403\ttotal: 43.9s\tremaining: 51.7s\n",
      "459:\tlearn: 0.0000403\ttotal: 44s\tremaining: 51.6s\n",
      "460:\tlearn: 0.0000403\ttotal: 44.1s\tremaining: 51.5s\n",
      "461:\tlearn: 0.0000403\ttotal: 44.1s\tremaining: 51.4s\n",
      "462:\tlearn: 0.0000403\ttotal: 44.2s\tremaining: 51.3s\n",
      "463:\tlearn: 0.0000403\ttotal: 44.3s\tremaining: 51.2s\n",
      "464:\tlearn: 0.0000403\ttotal: 44.4s\tremaining: 51.1s\n",
      "465:\tlearn: 0.0000403\ttotal: 44.5s\tremaining: 51s\n",
      "466:\tlearn: 0.0000403\ttotal: 44.5s\tremaining: 50.8s\n",
      "467:\tlearn: 0.0000403\ttotal: 44.6s\tremaining: 50.7s\n",
      "468:\tlearn: 0.0000403\ttotal: 44.7s\tremaining: 50.6s\n",
      "469:\tlearn: 0.0000403\ttotal: 44.8s\tremaining: 50.5s\n",
      "470:\tlearn: 0.0000403\ttotal: 44.9s\tremaining: 50.4s\n",
      "471:\tlearn: 0.0000403\ttotal: 45s\tremaining: 50.3s\n",
      "472:\tlearn: 0.0000403\ttotal: 45.1s\tremaining: 50.2s\n",
      "473:\tlearn: 0.0000403\ttotal: 45.1s\tremaining: 50.1s\n",
      "474:\tlearn: 0.0000403\ttotal: 45.2s\tremaining: 50s\n",
      "475:\tlearn: 0.0000403\ttotal: 45.3s\tremaining: 49.9s\n",
      "476:\tlearn: 0.0000403\ttotal: 45.4s\tremaining: 49.8s\n",
      "477:\tlearn: 0.0000403\ttotal: 45.5s\tremaining: 49.7s\n",
      "478:\tlearn: 0.0000403\ttotal: 45.5s\tremaining: 49.5s\n",
      "479:\tlearn: 0.0000403\ttotal: 45.6s\tremaining: 49.4s\n",
      "480:\tlearn: 0.0000403\ttotal: 45.7s\tremaining: 49.3s\n",
      "481:\tlearn: 0.0000403\ttotal: 45.8s\tremaining: 49.2s\n",
      "482:\tlearn: 0.0000403\ttotal: 45.9s\tremaining: 49.1s\n",
      "483:\tlearn: 0.0000403\ttotal: 46s\tremaining: 49s\n",
      "484:\tlearn: 0.0000403\ttotal: 46s\tremaining: 48.9s\n",
      "485:\tlearn: 0.0000403\ttotal: 46.1s\tremaining: 48.8s\n",
      "486:\tlearn: 0.0000403\ttotal: 46.2s\tremaining: 48.7s\n",
      "487:\tlearn: 0.0000403\ttotal: 46.3s\tremaining: 48.6s\n",
      "488:\tlearn: 0.0000403\ttotal: 46.4s\tremaining: 48.5s\n",
      "489:\tlearn: 0.0000403\ttotal: 46.5s\tremaining: 48.4s\n",
      "490:\tlearn: 0.0000403\ttotal: 46.5s\tremaining: 48.2s\n",
      "491:\tlearn: 0.0000403\ttotal: 46.6s\tremaining: 48.1s\n",
      "492:\tlearn: 0.0000403\ttotal: 46.7s\tremaining: 48s\n",
      "493:\tlearn: 0.0000403\ttotal: 46.8s\tremaining: 47.9s\n",
      "494:\tlearn: 0.0000403\ttotal: 46.9s\tremaining: 47.8s\n",
      "495:\tlearn: 0.0000403\ttotal: 46.9s\tremaining: 47.7s\n",
      "496:\tlearn: 0.0000403\ttotal: 47s\tremaining: 47.6s\n",
      "497:\tlearn: 0.0000403\ttotal: 47.1s\tremaining: 47.5s\n",
      "498:\tlearn: 0.0000403\ttotal: 47.2s\tremaining: 47.4s\n",
      "499:\tlearn: 0.0000403\ttotal: 47.3s\tremaining: 47.3s\n",
      "500:\tlearn: 0.0000403\ttotal: 47.4s\tremaining: 47.2s\n",
      "501:\tlearn: 0.0000403\ttotal: 47.5s\tremaining: 47.1s\n",
      "502:\tlearn: 0.0000403\ttotal: 47.5s\tremaining: 47s\n",
      "503:\tlearn: 0.0000403\ttotal: 47.6s\tremaining: 46.9s\n",
      "504:\tlearn: 0.0000403\ttotal: 47.7s\tremaining: 46.8s\n",
      "505:\tlearn: 0.0000403\ttotal: 47.8s\tremaining: 46.7s\n",
      "506:\tlearn: 0.0000403\ttotal: 47.9s\tremaining: 46.5s\n",
      "507:\tlearn: 0.0000403\ttotal: 47.9s\tremaining: 46.4s\n",
      "508:\tlearn: 0.0000403\ttotal: 48s\tremaining: 46.3s\n",
      "509:\tlearn: 0.0000403\ttotal: 48.1s\tremaining: 46.2s\n",
      "510:\tlearn: 0.0000403\ttotal: 48.2s\tremaining: 46.1s\n",
      "511:\tlearn: 0.0000403\ttotal: 48.3s\tremaining: 46s\n",
      "512:\tlearn: 0.0000403\ttotal: 48.4s\tremaining: 45.9s\n",
      "513:\tlearn: 0.0000403\ttotal: 48.4s\tremaining: 45.8s\n",
      "514:\tlearn: 0.0000403\ttotal: 48.5s\tremaining: 45.7s\n",
      "515:\tlearn: 0.0000403\ttotal: 48.6s\tremaining: 45.6s\n",
      "516:\tlearn: 0.0000403\ttotal: 48.8s\tremaining: 45.6s\n",
      "517:\tlearn: 0.0000403\ttotal: 48.9s\tremaining: 45.5s\n",
      "518:\tlearn: 0.0000403\ttotal: 49s\tremaining: 45.4s\n",
      "519:\tlearn: 0.0000403\ttotal: 49.2s\tremaining: 45.4s\n",
      "520:\tlearn: 0.0000403\ttotal: 49.4s\tremaining: 45.4s\n",
      "521:\tlearn: 0.0000403\ttotal: 49.5s\tremaining: 45.3s\n",
      "522:\tlearn: 0.0000403\ttotal: 49.8s\tremaining: 45.4s\n",
      "523:\tlearn: 0.0000403\ttotal: 49.9s\tremaining: 45.3s\n",
      "524:\tlearn: 0.0000403\ttotal: 50s\tremaining: 45.2s\n",
      "525:\tlearn: 0.0000403\ttotal: 50.1s\tremaining: 45.2s\n",
      "526:\tlearn: 0.0000403\ttotal: 50.2s\tremaining: 45.1s\n",
      "527:\tlearn: 0.0000403\ttotal: 50.3s\tremaining: 45s\n",
      "528:\tlearn: 0.0000403\ttotal: 50.4s\tremaining: 44.9s\n",
      "529:\tlearn: 0.0000403\ttotal: 50.5s\tremaining: 44.8s\n",
      "530:\tlearn: 0.0000403\ttotal: 50.6s\tremaining: 44.6s\n",
      "531:\tlearn: 0.0000403\ttotal: 50.6s\tremaining: 44.5s\n",
      "532:\tlearn: 0.0000403\ttotal: 50.7s\tremaining: 44.4s\n",
      "533:\tlearn: 0.0000403\ttotal: 50.8s\tremaining: 44.3s\n",
      "534:\tlearn: 0.0000403\ttotal: 50.9s\tremaining: 44.2s\n",
      "535:\tlearn: 0.0000403\ttotal: 51s\tremaining: 44.1s\n",
      "536:\tlearn: 0.0000403\ttotal: 51.1s\tremaining: 44s\n",
      "537:\tlearn: 0.0000403\ttotal: 51.1s\tremaining: 43.9s\n",
      "538:\tlearn: 0.0000403\ttotal: 51.2s\tremaining: 43.8s\n",
      "539:\tlearn: 0.0000403\ttotal: 51.3s\tremaining: 43.7s\n",
      "540:\tlearn: 0.0000403\ttotal: 51.4s\tremaining: 43.6s\n",
      "541:\tlearn: 0.0000403\ttotal: 51.5s\tremaining: 43.5s\n",
      "542:\tlearn: 0.0000403\ttotal: 51.6s\tremaining: 43.4s\n",
      "543:\tlearn: 0.0000403\ttotal: 51.6s\tremaining: 43.3s\n",
      "544:\tlearn: 0.0000403\ttotal: 51.8s\tremaining: 43.2s\n",
      "545:\tlearn: 0.0000403\ttotal: 51.9s\tremaining: 43.1s\n",
      "546:\tlearn: 0.0000403\ttotal: 51.9s\tremaining: 43s\n",
      "547:\tlearn: 0.0000403\ttotal: 52s\tremaining: 42.9s\n",
      "548:\tlearn: 0.0000403\ttotal: 52.1s\tremaining: 42.8s\n",
      "549:\tlearn: 0.0000403\ttotal: 52.2s\tremaining: 42.7s\n",
      "550:\tlearn: 0.0000403\ttotal: 52.3s\tremaining: 42.6s\n",
      "551:\tlearn: 0.0000403\ttotal: 52.3s\tremaining: 42.5s\n",
      "552:\tlearn: 0.0000403\ttotal: 52.4s\tremaining: 42.4s\n",
      "553:\tlearn: 0.0000403\ttotal: 52.5s\tremaining: 42.3s\n",
      "554:\tlearn: 0.0000403\ttotal: 52.6s\tremaining: 42.2s\n",
      "555:\tlearn: 0.0000403\ttotal: 52.7s\tremaining: 42.1s\n",
      "556:\tlearn: 0.0000403\ttotal: 52.8s\tremaining: 42s\n",
      "557:\tlearn: 0.0000403\ttotal: 52.8s\tremaining: 41.8s\n",
      "558:\tlearn: 0.0000403\ttotal: 52.9s\tremaining: 41.7s\n",
      "559:\tlearn: 0.0000403\ttotal: 53s\tremaining: 41.6s\n",
      "560:\tlearn: 0.0000403\ttotal: 53.1s\tremaining: 41.5s\n",
      "561:\tlearn: 0.0000403\ttotal: 53.2s\tremaining: 41.4s\n",
      "562:\tlearn: 0.0000403\ttotal: 53.3s\tremaining: 41.3s\n",
      "563:\tlearn: 0.0000403\ttotal: 53.3s\tremaining: 41.2s\n",
      "564:\tlearn: 0.0000403\ttotal: 53.4s\tremaining: 41.1s\n",
      "565:\tlearn: 0.0000403\ttotal: 53.5s\tremaining: 41s\n",
      "566:\tlearn: 0.0000403\ttotal: 53.6s\tremaining: 40.9s\n",
      "567:\tlearn: 0.0000403\ttotal: 53.7s\tremaining: 40.8s\n",
      "568:\tlearn: 0.0000403\ttotal: 53.7s\tremaining: 40.7s\n",
      "569:\tlearn: 0.0000403\ttotal: 53.8s\tremaining: 40.6s\n",
      "570:\tlearn: 0.0000403\ttotal: 53.9s\tremaining: 40.5s\n",
      "571:\tlearn: 0.0000403\ttotal: 54s\tremaining: 40.4s\n",
      "572:\tlearn: 0.0000403\ttotal: 54.1s\tremaining: 40.3s\n",
      "573:\tlearn: 0.0000403\ttotal: 54.2s\tremaining: 40.2s\n",
      "574:\tlearn: 0.0000403\ttotal: 54.2s\tremaining: 40.1s\n",
      "575:\tlearn: 0.0000403\ttotal: 54.3s\tremaining: 40s\n",
      "576:\tlearn: 0.0000403\ttotal: 54.4s\tremaining: 39.9s\n",
      "577:\tlearn: 0.0000403\ttotal: 54.5s\tremaining: 39.8s\n",
      "578:\tlearn: 0.0000403\ttotal: 54.6s\tremaining: 39.7s\n",
      "579:\tlearn: 0.0000403\ttotal: 54.7s\tremaining: 39.6s\n",
      "580:\tlearn: 0.0000403\ttotal: 54.7s\tremaining: 39.5s\n",
      "581:\tlearn: 0.0000403\ttotal: 54.8s\tremaining: 39.4s\n",
      "582:\tlearn: 0.0000403\ttotal: 54.9s\tremaining: 39.3s\n",
      "583:\tlearn: 0.0000403\ttotal: 55s\tremaining: 39.2s\n",
      "584:\tlearn: 0.0000403\ttotal: 55.1s\tremaining: 39.1s\n",
      "585:\tlearn: 0.0000403\ttotal: 55.2s\tremaining: 39s\n",
      "586:\tlearn: 0.0000403\ttotal: 55.3s\tremaining: 38.9s\n",
      "587:\tlearn: 0.0000403\ttotal: 55.3s\tremaining: 38.8s\n",
      "588:\tlearn: 0.0000403\ttotal: 55.5s\tremaining: 38.7s\n",
      "589:\tlearn: 0.0000403\ttotal: 55.7s\tremaining: 38.7s\n",
      "590:\tlearn: 0.0000403\ttotal: 55.8s\tremaining: 38.6s\n",
      "591:\tlearn: 0.0000403\ttotal: 55.9s\tremaining: 38.5s\n",
      "592:\tlearn: 0.0000403\ttotal: 56s\tremaining: 38.4s\n",
      "593:\tlearn: 0.0000403\ttotal: 56s\tremaining: 38.3s\n",
      "594:\tlearn: 0.0000403\ttotal: 56.1s\tremaining: 38.2s\n",
      "595:\tlearn: 0.0000403\ttotal: 56.2s\tremaining: 38.1s\n",
      "596:\tlearn: 0.0000403\ttotal: 56.3s\tremaining: 38s\n",
      "597:\tlearn: 0.0000403\ttotal: 56.4s\tremaining: 37.9s\n",
      "598:\tlearn: 0.0000403\ttotal: 56.5s\tremaining: 37.8s\n",
      "599:\tlearn: 0.0000403\ttotal: 56.6s\tremaining: 37.7s\n",
      "600:\tlearn: 0.0000403\ttotal: 56.7s\tremaining: 37.6s\n",
      "601:\tlearn: 0.0000403\ttotal: 56.7s\tremaining: 37.5s\n",
      "602:\tlearn: 0.0000403\ttotal: 56.8s\tremaining: 37.4s\n",
      "603:\tlearn: 0.0000403\ttotal: 56.9s\tremaining: 37.3s\n",
      "604:\tlearn: 0.0000403\ttotal: 57s\tremaining: 37.2s\n",
      "605:\tlearn: 0.0000403\ttotal: 57.1s\tremaining: 37.1s\n",
      "606:\tlearn: 0.0000403\ttotal: 57.2s\tremaining: 37.1s\n",
      "607:\tlearn: 0.0000403\ttotal: 57.3s\tremaining: 37s\n",
      "608:\tlearn: 0.0000403\ttotal: 57.4s\tremaining: 36.9s\n",
      "609:\tlearn: 0.0000403\ttotal: 57.5s\tremaining: 36.8s\n",
      "610:\tlearn: 0.0000403\ttotal: 57.6s\tremaining: 36.7s\n",
      "611:\tlearn: 0.0000403\ttotal: 57.7s\tremaining: 36.6s\n",
      "612:\tlearn: 0.0000403\ttotal: 57.8s\tremaining: 36.5s\n",
      "613:\tlearn: 0.0000403\ttotal: 58s\tremaining: 36.4s\n",
      "614:\tlearn: 0.0000403\ttotal: 58.2s\tremaining: 36.4s\n",
      "615:\tlearn: 0.0000403\ttotal: 58.3s\tremaining: 36.3s\n",
      "616:\tlearn: 0.0000403\ttotal: 58.4s\tremaining: 36.2s\n",
      "617:\tlearn: 0.0000403\ttotal: 58.5s\tremaining: 36.2s\n",
      "618:\tlearn: 0.0000403\ttotal: 58.6s\tremaining: 36s\n",
      "619:\tlearn: 0.0000403\ttotal: 58.7s\tremaining: 36s\n",
      "620:\tlearn: 0.0000403\ttotal: 58.8s\tremaining: 35.9s\n",
      "621:\tlearn: 0.0000403\ttotal: 58.9s\tremaining: 35.8s\n",
      "622:\tlearn: 0.0000403\ttotal: 58.9s\tremaining: 35.7s\n",
      "623:\tlearn: 0.0000403\ttotal: 59s\tremaining: 35.6s\n",
      "624:\tlearn: 0.0000403\ttotal: 59.1s\tremaining: 35.5s\n",
      "625:\tlearn: 0.0000403\ttotal: 59.4s\tremaining: 35.5s\n",
      "626:\tlearn: 0.0000403\ttotal: 59.5s\tremaining: 35.4s\n",
      "627:\tlearn: 0.0000403\ttotal: 59.7s\tremaining: 35.4s\n",
      "628:\tlearn: 0.0000403\ttotal: 59.9s\tremaining: 35.3s\n",
      "629:\tlearn: 0.0000403\ttotal: 1m\tremaining: 35.3s\n",
      "630:\tlearn: 0.0000403\ttotal: 1m\tremaining: 35.2s\n",
      "631:\tlearn: 0.0000403\ttotal: 1m\tremaining: 35.1s\n",
      "632:\tlearn: 0.0000403\ttotal: 1m\tremaining: 35s\n",
      "633:\tlearn: 0.0000403\ttotal: 1m\tremaining: 34.9s\n",
      "634:\tlearn: 0.0000403\ttotal: 1m\tremaining: 34.9s\n",
      "635:\tlearn: 0.0000403\ttotal: 1m\tremaining: 34.8s\n",
      "636:\tlearn: 0.0000403\ttotal: 1m\tremaining: 34.7s\n",
      "637:\tlearn: 0.0000403\ttotal: 1m\tremaining: 34.6s\n",
      "638:\tlearn: 0.0000403\ttotal: 1m 1s\tremaining: 34.5s\n",
      "639:\tlearn: 0.0000403\ttotal: 1m 1s\tremaining: 34.4s\n",
      "640:\tlearn: 0.0000403\ttotal: 1m 1s\tremaining: 34.3s\n",
      "641:\tlearn: 0.0000403\ttotal: 1m 1s\tremaining: 34.2s\n",
      "642:\tlearn: 0.0000403\ttotal: 1m 1s\tremaining: 34.1s\n",
      "643:\tlearn: 0.0000403\ttotal: 1m 1s\tremaining: 34s\n",
      "644:\tlearn: 0.0000403\ttotal: 1m 1s\tremaining: 33.9s\n",
      "645:\tlearn: 0.0000403\ttotal: 1m 1s\tremaining: 33.8s\n",
      "646:\tlearn: 0.0000403\ttotal: 1m 1s\tremaining: 33.7s\n",
      "647:\tlearn: 0.0000403\ttotal: 1m 1s\tremaining: 33.6s\n",
      "648:\tlearn: 0.0000403\ttotal: 1m 1s\tremaining: 33.5s\n",
      "649:\tlearn: 0.0000403\ttotal: 1m 2s\tremaining: 33.4s\n",
      "650:\tlearn: 0.0000403\ttotal: 1m 2s\tremaining: 33.3s\n",
      "651:\tlearn: 0.0000403\ttotal: 1m 2s\tremaining: 33.2s\n",
      "652:\tlearn: 0.0000403\ttotal: 1m 2s\tremaining: 33.1s\n",
      "653:\tlearn: 0.0000403\ttotal: 1m 2s\tremaining: 33s\n",
      "654:\tlearn: 0.0000403\ttotal: 1m 2s\tremaining: 32.9s\n",
      "655:\tlearn: 0.0000403\ttotal: 1m 2s\tremaining: 32.8s\n",
      "656:\tlearn: 0.0000403\ttotal: 1m 2s\tremaining: 32.7s\n",
      "657:\tlearn: 0.0000403\ttotal: 1m 2s\tremaining: 32.6s\n",
      "658:\tlearn: 0.0000403\ttotal: 1m 2s\tremaining: 32.5s\n",
      "659:\tlearn: 0.0000403\ttotal: 1m 2s\tremaining: 32.4s\n",
      "660:\tlearn: 0.0000403\ttotal: 1m 2s\tremaining: 32.3s\n",
      "661:\tlearn: 0.0000403\ttotal: 1m 3s\tremaining: 32.2s\n",
      "662:\tlearn: 0.0000403\ttotal: 1m 3s\tremaining: 32.1s\n",
      "663:\tlearn: 0.0000403\ttotal: 1m 3s\tremaining: 32s\n",
      "664:\tlearn: 0.0000403\ttotal: 1m 3s\tremaining: 31.9s\n",
      "665:\tlearn: 0.0000403\ttotal: 1m 3s\tremaining: 31.8s\n",
      "666:\tlearn: 0.0000403\ttotal: 1m 3s\tremaining: 31.7s\n",
      "667:\tlearn: 0.0000403\ttotal: 1m 3s\tremaining: 31.6s\n",
      "668:\tlearn: 0.0000403\ttotal: 1m 3s\tremaining: 31.5s\n",
      "669:\tlearn: 0.0000403\ttotal: 1m 3s\tremaining: 31.4s\n",
      "670:\tlearn: 0.0000403\ttotal: 1m 3s\tremaining: 31.3s\n",
      "671:\tlearn: 0.0000403\ttotal: 1m 3s\tremaining: 31.2s\n",
      "672:\tlearn: 0.0000403\ttotal: 1m 3s\tremaining: 31.1s\n",
      "673:\tlearn: 0.0000403\ttotal: 1m 4s\tremaining: 31s\n",
      "674:\tlearn: 0.0000403\ttotal: 1m 4s\tremaining: 30.9s\n",
      "675:\tlearn: 0.0000403\ttotal: 1m 4s\tremaining: 30.8s\n",
      "676:\tlearn: 0.0000403\ttotal: 1m 4s\tremaining: 30.7s\n",
      "677:\tlearn: 0.0000403\ttotal: 1m 4s\tremaining: 30.6s\n",
      "678:\tlearn: 0.0000403\ttotal: 1m 4s\tremaining: 30.5s\n",
      "679:\tlearn: 0.0000403\ttotal: 1m 4s\tremaining: 30.4s\n",
      "680:\tlearn: 0.0000403\ttotal: 1m 4s\tremaining: 30.3s\n",
      "681:\tlearn: 0.0000403\ttotal: 1m 4s\tremaining: 30.2s\n",
      "682:\tlearn: 0.0000403\ttotal: 1m 4s\tremaining: 30.1s\n",
      "683:\tlearn: 0.0000403\ttotal: 1m 4s\tremaining: 30s\n",
      "684:\tlearn: 0.0000403\ttotal: 1m 4s\tremaining: 29.9s\n",
      "685:\tlearn: 0.0000403\ttotal: 1m 5s\tremaining: 29.8s\n",
      "686:\tlearn: 0.0000403\ttotal: 1m 5s\tremaining: 29.7s\n",
      "687:\tlearn: 0.0000403\ttotal: 1m 5s\tremaining: 29.6s\n",
      "688:\tlearn: 0.0000403\ttotal: 1m 5s\tremaining: 29.5s\n",
      "689:\tlearn: 0.0000403\ttotal: 1m 5s\tremaining: 29.4s\n",
      "690:\tlearn: 0.0000403\ttotal: 1m 5s\tremaining: 29.3s\n",
      "691:\tlearn: 0.0000403\ttotal: 1m 5s\tremaining: 29.2s\n",
      "692:\tlearn: 0.0000403\ttotal: 1m 5s\tremaining: 29.1s\n",
      "693:\tlearn: 0.0000403\ttotal: 1m 6s\tremaining: 29.3s\n",
      "694:\tlearn: 0.0000403\ttotal: 1m 6s\tremaining: 29.2s\n",
      "695:\tlearn: 0.0000403\ttotal: 1m 6s\tremaining: 29.1s\n",
      "696:\tlearn: 0.0000403\ttotal: 1m 6s\tremaining: 29s\n",
      "697:\tlearn: 0.0000403\ttotal: 1m 6s\tremaining: 28.9s\n",
      "698:\tlearn: 0.0000403\ttotal: 1m 6s\tremaining: 28.8s\n",
      "699:\tlearn: 0.0000403\ttotal: 1m 6s\tremaining: 28.7s\n",
      "700:\tlearn: 0.0000403\ttotal: 1m 7s\tremaining: 28.6s\n",
      "701:\tlearn: 0.0000403\ttotal: 1m 7s\tremaining: 28.5s\n",
      "702:\tlearn: 0.0000403\ttotal: 1m 7s\tremaining: 28.4s\n",
      "703:\tlearn: 0.0000403\ttotal: 1m 7s\tremaining: 28.3s\n",
      "704:\tlearn: 0.0000403\ttotal: 1m 7s\tremaining: 28.2s\n",
      "705:\tlearn: 0.0000403\ttotal: 1m 7s\tremaining: 28.1s\n",
      "706:\tlearn: 0.0000403\ttotal: 1m 7s\tremaining: 28s\n",
      "707:\tlearn: 0.0000403\ttotal: 1m 7s\tremaining: 27.9s\n",
      "708:\tlearn: 0.0000403\ttotal: 1m 7s\tremaining: 27.8s\n",
      "709:\tlearn: 0.0000403\ttotal: 1m 7s\tremaining: 27.7s\n",
      "710:\tlearn: 0.0000403\ttotal: 1m 7s\tremaining: 27.6s\n",
      "711:\tlearn: 0.0000403\ttotal: 1m 8s\tremaining: 27.5s\n",
      "712:\tlearn: 0.0000403\ttotal: 1m 8s\tremaining: 27.4s\n",
      "713:\tlearn: 0.0000403\ttotal: 1m 8s\tremaining: 27.3s\n",
      "714:\tlearn: 0.0000403\ttotal: 1m 8s\tremaining: 27.2s\n",
      "715:\tlearn: 0.0000403\ttotal: 1m 8s\tremaining: 27.1s\n",
      "716:\tlearn: 0.0000403\ttotal: 1m 8s\tremaining: 27s\n",
      "717:\tlearn: 0.0000403\ttotal: 1m 8s\tremaining: 26.9s\n",
      "718:\tlearn: 0.0000403\ttotal: 1m 8s\tremaining: 26.8s\n",
      "719:\tlearn: 0.0000403\ttotal: 1m 8s\tremaining: 26.7s\n",
      "720:\tlearn: 0.0000403\ttotal: 1m 8s\tremaining: 26.6s\n",
      "721:\tlearn: 0.0000403\ttotal: 1m 8s\tremaining: 26.5s\n",
      "722:\tlearn: 0.0000403\ttotal: 1m 9s\tremaining: 26.5s\n",
      "723:\tlearn: 0.0000403\ttotal: 1m 9s\tremaining: 26.4s\n",
      "724:\tlearn: 0.0000403\ttotal: 1m 9s\tremaining: 26.3s\n",
      "725:\tlearn: 0.0000403\ttotal: 1m 9s\tremaining: 26.2s\n",
      "726:\tlearn: 0.0000403\ttotal: 1m 9s\tremaining: 26.1s\n",
      "727:\tlearn: 0.0000403\ttotal: 1m 9s\tremaining: 26s\n",
      "728:\tlearn: 0.0000403\ttotal: 1m 9s\tremaining: 25.9s\n",
      "729:\tlearn: 0.0000403\ttotal: 1m 9s\tremaining: 25.8s\n",
      "730:\tlearn: 0.0000403\ttotal: 1m 9s\tremaining: 25.7s\n",
      "731:\tlearn: 0.0000403\ttotal: 1m 9s\tremaining: 25.6s\n",
      "732:\tlearn: 0.0000403\ttotal: 1m 9s\tremaining: 25.5s\n",
      "733:\tlearn: 0.0000403\ttotal: 1m 10s\tremaining: 25.4s\n",
      "734:\tlearn: 0.0000403\ttotal: 1m 10s\tremaining: 25.3s\n",
      "735:\tlearn: 0.0000403\ttotal: 1m 10s\tremaining: 25.2s\n",
      "736:\tlearn: 0.0000403\ttotal: 1m 10s\tremaining: 25.1s\n",
      "737:\tlearn: 0.0000403\ttotal: 1m 10s\tremaining: 25s\n",
      "738:\tlearn: 0.0000403\ttotal: 1m 10s\tremaining: 24.9s\n",
      "739:\tlearn: 0.0000403\ttotal: 1m 10s\tremaining: 24.8s\n",
      "740:\tlearn: 0.0000403\ttotal: 1m 10s\tremaining: 24.7s\n",
      "741:\tlearn: 0.0000403\ttotal: 1m 10s\tremaining: 24.6s\n",
      "742:\tlearn: 0.0000403\ttotal: 1m 10s\tremaining: 24.5s\n",
      "743:\tlearn: 0.0000403\ttotal: 1m 10s\tremaining: 24.4s\n",
      "744:\tlearn: 0.0000403\ttotal: 1m 11s\tremaining: 24.3s\n",
      "745:\tlearn: 0.0000403\ttotal: 1m 11s\tremaining: 24.2s\n",
      "746:\tlearn: 0.0000403\ttotal: 1m 11s\tremaining: 24.1s\n",
      "747:\tlearn: 0.0000403\ttotal: 1m 11s\tremaining: 24s\n",
      "748:\tlearn: 0.0000403\ttotal: 1m 11s\tremaining: 23.9s\n",
      "749:\tlearn: 0.0000403\ttotal: 1m 11s\tremaining: 23.8s\n",
      "750:\tlearn: 0.0000403\ttotal: 1m 11s\tremaining: 23.7s\n",
      "751:\tlearn: 0.0000403\ttotal: 1m 11s\tremaining: 23.6s\n",
      "752:\tlearn: 0.0000403\ttotal: 1m 11s\tremaining: 23.5s\n",
      "753:\tlearn: 0.0000403\ttotal: 1m 11s\tremaining: 23.4s\n",
      "754:\tlearn: 0.0000403\ttotal: 1m 11s\tremaining: 23.3s\n",
      "755:\tlearn: 0.0000403\ttotal: 1m 12s\tremaining: 23.2s\n",
      "756:\tlearn: 0.0000403\ttotal: 1m 12s\tremaining: 23.1s\n",
      "757:\tlearn: 0.0000403\ttotal: 1m 12s\tremaining: 23s\n",
      "758:\tlearn: 0.0000403\ttotal: 1m 12s\tremaining: 22.9s\n",
      "759:\tlearn: 0.0000403\ttotal: 1m 12s\tremaining: 22.8s\n",
      "760:\tlearn: 0.0000403\ttotal: 1m 12s\tremaining: 22.8s\n",
      "761:\tlearn: 0.0000403\ttotal: 1m 12s\tremaining: 22.7s\n",
      "762:\tlearn: 0.0000403\ttotal: 1m 12s\tremaining: 22.6s\n",
      "763:\tlearn: 0.0000403\ttotal: 1m 12s\tremaining: 22.5s\n",
      "764:\tlearn: 0.0000403\ttotal: 1m 12s\tremaining: 22.4s\n",
      "765:\tlearn: 0.0000403\ttotal: 1m 12s\tremaining: 22.3s\n",
      "766:\tlearn: 0.0000403\ttotal: 1m 12s\tremaining: 22.2s\n",
      "767:\tlearn: 0.0000403\ttotal: 1m 13s\tremaining: 22.1s\n",
      "768:\tlearn: 0.0000403\ttotal: 1m 13s\tremaining: 22s\n",
      "769:\tlearn: 0.0000403\ttotal: 1m 13s\tremaining: 21.9s\n",
      "770:\tlearn: 0.0000403\ttotal: 1m 13s\tremaining: 21.8s\n",
      "771:\tlearn: 0.0000403\ttotal: 1m 13s\tremaining: 21.7s\n",
      "772:\tlearn: 0.0000403\ttotal: 1m 13s\tremaining: 21.6s\n",
      "773:\tlearn: 0.0000403\ttotal: 1m 13s\tremaining: 21.5s\n",
      "774:\tlearn: 0.0000403\ttotal: 1m 13s\tremaining: 21.4s\n",
      "775:\tlearn: 0.0000403\ttotal: 1m 13s\tremaining: 21.3s\n",
      "776:\tlearn: 0.0000403\ttotal: 1m 13s\tremaining: 21.2s\n",
      "777:\tlearn: 0.0000403\ttotal: 1m 13s\tremaining: 21.1s\n",
      "778:\tlearn: 0.0000403\ttotal: 1m 14s\tremaining: 21s\n",
      "779:\tlearn: 0.0000403\ttotal: 1m 14s\tremaining: 20.9s\n",
      "780:\tlearn: 0.0000403\ttotal: 1m 14s\tremaining: 20.8s\n",
      "781:\tlearn: 0.0000403\ttotal: 1m 14s\tremaining: 20.7s\n",
      "782:\tlearn: 0.0000403\ttotal: 1m 14s\tremaining: 20.6s\n",
      "783:\tlearn: 0.0000403\ttotal: 1m 14s\tremaining: 20.5s\n",
      "784:\tlearn: 0.0000403\ttotal: 1m 14s\tremaining: 20.4s\n",
      "785:\tlearn: 0.0000403\ttotal: 1m 14s\tremaining: 20.3s\n",
      "786:\tlearn: 0.0000403\ttotal: 1m 14s\tremaining: 20.2s\n",
      "787:\tlearn: 0.0000403\ttotal: 1m 14s\tremaining: 20.1s\n",
      "788:\tlearn: 0.0000403\ttotal: 1m 14s\tremaining: 20s\n",
      "789:\tlearn: 0.0000403\ttotal: 1m 15s\tremaining: 19.9s\n",
      "790:\tlearn: 0.0000403\ttotal: 1m 15s\tremaining: 19.8s\n",
      "791:\tlearn: 0.0000403\ttotal: 1m 15s\tremaining: 19.8s\n",
      "792:\tlearn: 0.0000403\ttotal: 1m 15s\tremaining: 19.7s\n",
      "793:\tlearn: 0.0000403\ttotal: 1m 15s\tremaining: 19.6s\n",
      "794:\tlearn: 0.0000403\ttotal: 1m 15s\tremaining: 19.5s\n",
      "795:\tlearn: 0.0000403\ttotal: 1m 15s\tremaining: 19.4s\n",
      "796:\tlearn: 0.0000403\ttotal: 1m 15s\tremaining: 19.3s\n",
      "797:\tlearn: 0.0000403\ttotal: 1m 15s\tremaining: 19.2s\n",
      "798:\tlearn: 0.0000403\ttotal: 1m 15s\tremaining: 19.1s\n",
      "799:\tlearn: 0.0000403\ttotal: 1m 15s\tremaining: 19s\n",
      "800:\tlearn: 0.0000403\ttotal: 1m 15s\tremaining: 18.9s\n",
      "801:\tlearn: 0.0000403\ttotal: 1m 16s\tremaining: 18.8s\n",
      "802:\tlearn: 0.0000403\ttotal: 1m 16s\tremaining: 18.7s\n",
      "803:\tlearn: 0.0000403\ttotal: 1m 16s\tremaining: 18.6s\n",
      "804:\tlearn: 0.0000403\ttotal: 1m 16s\tremaining: 18.5s\n",
      "805:\tlearn: 0.0000403\ttotal: 1m 16s\tremaining: 18.4s\n",
      "806:\tlearn: 0.0000403\ttotal: 1m 16s\tremaining: 18.3s\n",
      "807:\tlearn: 0.0000403\ttotal: 1m 16s\tremaining: 18.2s\n",
      "808:\tlearn: 0.0000403\ttotal: 1m 16s\tremaining: 18.1s\n",
      "809:\tlearn: 0.0000403\ttotal: 1m 16s\tremaining: 18s\n",
      "810:\tlearn: 0.0000403\ttotal: 1m 16s\tremaining: 17.9s\n",
      "811:\tlearn: 0.0000403\ttotal: 1m 16s\tremaining: 17.8s\n",
      "812:\tlearn: 0.0000403\ttotal: 1m 16s\tremaining: 17.7s\n",
      "813:\tlearn: 0.0000403\ttotal: 1m 17s\tremaining: 17.6s\n",
      "814:\tlearn: 0.0000403\ttotal: 1m 17s\tremaining: 17.5s\n",
      "815:\tlearn: 0.0000403\ttotal: 1m 17s\tremaining: 17.4s\n",
      "816:\tlearn: 0.0000403\ttotal: 1m 17s\tremaining: 17.3s\n",
      "817:\tlearn: 0.0000403\ttotal: 1m 17s\tremaining: 17.2s\n",
      "818:\tlearn: 0.0000403\ttotal: 1m 17s\tremaining: 17.1s\n",
      "819:\tlearn: 0.0000403\ttotal: 1m 17s\tremaining: 17s\n",
      "820:\tlearn: 0.0000403\ttotal: 1m 17s\tremaining: 16.9s\n",
      "821:\tlearn: 0.0000403\ttotal: 1m 17s\tremaining: 16.8s\n",
      "822:\tlearn: 0.0000403\ttotal: 1m 17s\tremaining: 16.7s\n",
      "823:\tlearn: 0.0000403\ttotal: 1m 17s\tremaining: 16.6s\n",
      "824:\tlearn: 0.0000403\ttotal: 1m 17s\tremaining: 16.5s\n",
      "825:\tlearn: 0.0000403\ttotal: 1m 18s\tremaining: 16.4s\n",
      "826:\tlearn: 0.0000403\ttotal: 1m 18s\tremaining: 16.3s\n",
      "827:\tlearn: 0.0000403\ttotal: 1m 18s\tremaining: 16.2s\n",
      "828:\tlearn: 0.0000403\ttotal: 1m 18s\tremaining: 16.1s\n",
      "829:\tlearn: 0.0000403\ttotal: 1m 18s\tremaining: 16s\n",
      "830:\tlearn: 0.0000403\ttotal: 1m 18s\tremaining: 16s\n",
      "831:\tlearn: 0.0000403\ttotal: 1m 18s\tremaining: 15.9s\n",
      "832:\tlearn: 0.0000403\ttotal: 1m 18s\tremaining: 15.8s\n",
      "833:\tlearn: 0.0000403\ttotal: 1m 18s\tremaining: 15.7s\n",
      "834:\tlearn: 0.0000403\ttotal: 1m 18s\tremaining: 15.6s\n",
      "835:\tlearn: 0.0000403\ttotal: 1m 18s\tremaining: 15.5s\n",
      "836:\tlearn: 0.0000403\ttotal: 1m 18s\tremaining: 15.4s\n",
      "837:\tlearn: 0.0000403\ttotal: 1m 19s\tremaining: 15.3s\n",
      "838:\tlearn: 0.0000403\ttotal: 1m 19s\tremaining: 15.2s\n",
      "839:\tlearn: 0.0000403\ttotal: 1m 19s\tremaining: 15.1s\n",
      "840:\tlearn: 0.0000403\ttotal: 1m 19s\tremaining: 15s\n",
      "841:\tlearn: 0.0000403\ttotal: 1m 19s\tremaining: 14.9s\n",
      "842:\tlearn: 0.0000403\ttotal: 1m 19s\tremaining: 14.8s\n",
      "843:\tlearn: 0.0000403\ttotal: 1m 19s\tremaining: 14.7s\n",
      "844:\tlearn: 0.0000403\ttotal: 1m 19s\tremaining: 14.6s\n",
      "845:\tlearn: 0.0000403\ttotal: 1m 19s\tremaining: 14.5s\n",
      "846:\tlearn: 0.0000403\ttotal: 1m 19s\tremaining: 14.4s\n",
      "847:\tlearn: 0.0000403\ttotal: 1m 20s\tremaining: 14.3s\n",
      "848:\tlearn: 0.0000403\ttotal: 1m 20s\tremaining: 14.2s\n",
      "849:\tlearn: 0.0000403\ttotal: 1m 20s\tremaining: 14.2s\n",
      "850:\tlearn: 0.0000403\ttotal: 1m 20s\tremaining: 14.1s\n",
      "851:\tlearn: 0.0000403\ttotal: 1m 20s\tremaining: 14s\n",
      "852:\tlearn: 0.0000403\ttotal: 1m 20s\tremaining: 13.9s\n",
      "853:\tlearn: 0.0000403\ttotal: 1m 20s\tremaining: 13.8s\n",
      "854:\tlearn: 0.0000403\ttotal: 1m 20s\tremaining: 13.7s\n",
      "855:\tlearn: 0.0000403\ttotal: 1m 20s\tremaining: 13.6s\n",
      "856:\tlearn: 0.0000403\ttotal: 1m 20s\tremaining: 13.5s\n",
      "857:\tlearn: 0.0000403\ttotal: 1m 20s\tremaining: 13.4s\n",
      "858:\tlearn: 0.0000403\ttotal: 1m 20s\tremaining: 13.3s\n",
      "859:\tlearn: 0.0000403\ttotal: 1m 21s\tremaining: 13.2s\n",
      "860:\tlearn: 0.0000403\ttotal: 1m 21s\tremaining: 13.1s\n",
      "861:\tlearn: 0.0000403\ttotal: 1m 21s\tremaining: 13s\n",
      "862:\tlearn: 0.0000403\ttotal: 1m 21s\tremaining: 12.9s\n",
      "863:\tlearn: 0.0000403\ttotal: 1m 21s\tremaining: 12.8s\n",
      "864:\tlearn: 0.0000403\ttotal: 1m 21s\tremaining: 12.7s\n",
      "865:\tlearn: 0.0000403\ttotal: 1m 21s\tremaining: 12.6s\n",
      "866:\tlearn: 0.0000403\ttotal: 1m 21s\tremaining: 12.5s\n",
      "867:\tlearn: 0.0000403\ttotal: 1m 21s\tremaining: 12.4s\n",
      "868:\tlearn: 0.0000403\ttotal: 1m 21s\tremaining: 12.3s\n",
      "869:\tlearn: 0.0000403\ttotal: 1m 21s\tremaining: 12.3s\n",
      "870:\tlearn: 0.0000403\ttotal: 1m 22s\tremaining: 12.2s\n",
      "871:\tlearn: 0.0000403\ttotal: 1m 22s\tremaining: 12.1s\n",
      "872:\tlearn: 0.0000403\ttotal: 1m 22s\tremaining: 12s\n",
      "873:\tlearn: 0.0000403\ttotal: 1m 22s\tremaining: 11.9s\n",
      "874:\tlearn: 0.0000403\ttotal: 1m 22s\tremaining: 11.8s\n",
      "875:\tlearn: 0.0000403\ttotal: 1m 22s\tremaining: 11.7s\n",
      "876:\tlearn: 0.0000403\ttotal: 1m 22s\tremaining: 11.6s\n",
      "877:\tlearn: 0.0000403\ttotal: 1m 22s\tremaining: 11.5s\n",
      "878:\tlearn: 0.0000403\ttotal: 1m 22s\tremaining: 11.4s\n",
      "879:\tlearn: 0.0000403\ttotal: 1m 22s\tremaining: 11.3s\n",
      "880:\tlearn: 0.0000403\ttotal: 1m 22s\tremaining: 11.2s\n",
      "881:\tlearn: 0.0000403\ttotal: 1m 22s\tremaining: 11.1s\n",
      "882:\tlearn: 0.0000403\ttotal: 1m 23s\tremaining: 11s\n",
      "883:\tlearn: 0.0000403\ttotal: 1m 23s\tremaining: 10.9s\n",
      "884:\tlearn: 0.0000403\ttotal: 1m 23s\tremaining: 10.8s\n",
      "885:\tlearn: 0.0000403\ttotal: 1m 23s\tremaining: 10.7s\n",
      "886:\tlearn: 0.0000403\ttotal: 1m 23s\tremaining: 10.6s\n",
      "887:\tlearn: 0.0000403\ttotal: 1m 23s\tremaining: 10.5s\n",
      "888:\tlearn: 0.0000403\ttotal: 1m 23s\tremaining: 10.4s\n",
      "889:\tlearn: 0.0000403\ttotal: 1m 23s\tremaining: 10.3s\n",
      "890:\tlearn: 0.0000403\ttotal: 1m 23s\tremaining: 10.2s\n",
      "891:\tlearn: 0.0000403\ttotal: 1m 23s\tremaining: 10.2s\n",
      "892:\tlearn: 0.0000403\ttotal: 1m 23s\tremaining: 10.1s\n",
      "893:\tlearn: 0.0000403\ttotal: 1m 23s\tremaining: 9.96s\n",
      "894:\tlearn: 0.0000403\ttotal: 1m 24s\tremaining: 9.86s\n",
      "895:\tlearn: 0.0000403\ttotal: 1m 24s\tremaining: 9.77s\n",
      "896:\tlearn: 0.0000403\ttotal: 1m 24s\tremaining: 9.67s\n",
      "897:\tlearn: 0.0000403\ttotal: 1m 24s\tremaining: 9.58s\n",
      "898:\tlearn: 0.0000403\ttotal: 1m 24s\tremaining: 9.48s\n",
      "899:\tlearn: 0.0000403\ttotal: 1m 24s\tremaining: 9.39s\n",
      "900:\tlearn: 0.0000403\ttotal: 1m 24s\tremaining: 9.3s\n",
      "901:\tlearn: 0.0000403\ttotal: 1m 24s\tremaining: 9.2s\n",
      "902:\tlearn: 0.0000403\ttotal: 1m 24s\tremaining: 9.11s\n",
      "903:\tlearn: 0.0000403\ttotal: 1m 24s\tremaining: 9.01s\n",
      "904:\tlearn: 0.0000403\ttotal: 1m 24s\tremaining: 8.92s\n",
      "905:\tlearn: 0.0000403\ttotal: 1m 25s\tremaining: 8.82s\n",
      "906:\tlearn: 0.0000403\ttotal: 1m 25s\tremaining: 8.73s\n",
      "907:\tlearn: 0.0000403\ttotal: 1m 25s\tremaining: 8.63s\n",
      "908:\tlearn: 0.0000403\ttotal: 1m 25s\tremaining: 8.54s\n",
      "909:\tlearn: 0.0000403\ttotal: 1m 25s\tremaining: 8.44s\n",
      "910:\tlearn: 0.0000403\ttotal: 1m 25s\tremaining: 8.35s\n",
      "911:\tlearn: 0.0000403\ttotal: 1m 25s\tremaining: 8.25s\n",
      "912:\tlearn: 0.0000403\ttotal: 1m 25s\tremaining: 8.16s\n",
      "913:\tlearn: 0.0000403\ttotal: 1m 25s\tremaining: 8.06s\n",
      "914:\tlearn: 0.0000403\ttotal: 1m 25s\tremaining: 7.97s\n",
      "915:\tlearn: 0.0000403\ttotal: 1m 25s\tremaining: 7.87s\n",
      "916:\tlearn: 0.0000403\ttotal: 1m 25s\tremaining: 7.78s\n",
      "917:\tlearn: 0.0000403\ttotal: 1m 26s\tremaining: 7.68s\n",
      "918:\tlearn: 0.0000403\ttotal: 1m 26s\tremaining: 7.59s\n",
      "919:\tlearn: 0.0000403\ttotal: 1m 26s\tremaining: 7.5s\n",
      "920:\tlearn: 0.0000403\ttotal: 1m 26s\tremaining: 7.4s\n",
      "921:\tlearn: 0.0000403\ttotal: 1m 26s\tremaining: 7.3s\n",
      "922:\tlearn: 0.0000403\ttotal: 1m 26s\tremaining: 7.21s\n",
      "923:\tlearn: 0.0000403\ttotal: 1m 26s\tremaining: 7.12s\n",
      "924:\tlearn: 0.0000403\ttotal: 1m 26s\tremaining: 7.02s\n",
      "925:\tlearn: 0.0000403\ttotal: 1m 26s\tremaining: 6.93s\n",
      "926:\tlearn: 0.0000403\ttotal: 1m 26s\tremaining: 6.83s\n",
      "927:\tlearn: 0.0000403\ttotal: 1m 26s\tremaining: 6.74s\n",
      "928:\tlearn: 0.0000403\ttotal: 1m 26s\tremaining: 6.64s\n",
      "929:\tlearn: 0.0000403\ttotal: 1m 27s\tremaining: 6.55s\n",
      "930:\tlearn: 0.0000403\ttotal: 1m 27s\tremaining: 6.46s\n",
      "931:\tlearn: 0.0000403\ttotal: 1m 27s\tremaining: 6.36s\n",
      "932:\tlearn: 0.0000403\ttotal: 1m 27s\tremaining: 6.27s\n",
      "933:\tlearn: 0.0000403\ttotal: 1m 27s\tremaining: 6.17s\n",
      "934:\tlearn: 0.0000403\ttotal: 1m 27s\tremaining: 6.08s\n",
      "935:\tlearn: 0.0000403\ttotal: 1m 27s\tremaining: 5.99s\n",
      "936:\tlearn: 0.0000403\ttotal: 1m 27s\tremaining: 5.89s\n",
      "937:\tlearn: 0.0000403\ttotal: 1m 27s\tremaining: 5.8s\n",
      "938:\tlearn: 0.0000403\ttotal: 1m 27s\tremaining: 5.7s\n",
      "939:\tlearn: 0.0000403\ttotal: 1m 27s\tremaining: 5.61s\n",
      "940:\tlearn: 0.0000403\ttotal: 1m 27s\tremaining: 5.52s\n",
      "941:\tlearn: 0.0000403\ttotal: 1m 28s\tremaining: 5.42s\n",
      "942:\tlearn: 0.0000403\ttotal: 1m 28s\tremaining: 5.33s\n",
      "943:\tlearn: 0.0000403\ttotal: 1m 28s\tremaining: 5.24s\n",
      "944:\tlearn: 0.0000403\ttotal: 1m 28s\tremaining: 5.15s\n",
      "945:\tlearn: 0.0000403\ttotal: 1m 28s\tremaining: 5.06s\n",
      "946:\tlearn: 0.0000403\ttotal: 1m 28s\tremaining: 4.96s\n",
      "947:\tlearn: 0.0000403\ttotal: 1m 28s\tremaining: 4.87s\n",
      "948:\tlearn: 0.0000403\ttotal: 1m 28s\tremaining: 4.77s\n",
      "949:\tlearn: 0.0000403\ttotal: 1m 28s\tremaining: 4.68s\n",
      "950:\tlearn: 0.0000403\ttotal: 1m 29s\tremaining: 4.59s\n",
      "951:\tlearn: 0.0000403\ttotal: 1m 29s\tremaining: 4.49s\n",
      "952:\tlearn: 0.0000403\ttotal: 1m 29s\tremaining: 4.4s\n",
      "953:\tlearn: 0.0000403\ttotal: 1m 29s\tremaining: 4.3s\n",
      "954:\tlearn: 0.0000403\ttotal: 1m 29s\tremaining: 4.21s\n",
      "955:\tlearn: 0.0000403\ttotal: 1m 29s\tremaining: 4.12s\n",
      "956:\tlearn: 0.0000403\ttotal: 1m 29s\tremaining: 4.02s\n",
      "957:\tlearn: 0.0000403\ttotal: 1m 29s\tremaining: 3.93s\n",
      "958:\tlearn: 0.0000403\ttotal: 1m 29s\tremaining: 3.83s\n",
      "959:\tlearn: 0.0000403\ttotal: 1m 29s\tremaining: 3.74s\n",
      "960:\tlearn: 0.0000403\ttotal: 1m 30s\tremaining: 3.65s\n",
      "961:\tlearn: 0.0000403\ttotal: 1m 30s\tremaining: 3.56s\n",
      "962:\tlearn: 0.0000403\ttotal: 1m 30s\tremaining: 3.47s\n",
      "963:\tlearn: 0.0000403\ttotal: 1m 30s\tremaining: 3.37s\n",
      "964:\tlearn: 0.0000403\ttotal: 1m 30s\tremaining: 3.28s\n",
      "965:\tlearn: 0.0000403\ttotal: 1m 30s\tremaining: 3.19s\n",
      "966:\tlearn: 0.0000403\ttotal: 1m 30s\tremaining: 3.09s\n",
      "967:\tlearn: 0.0000403\ttotal: 1m 30s\tremaining: 3s\n",
      "968:\tlearn: 0.0000403\ttotal: 1m 30s\tremaining: 2.9s\n",
      "969:\tlearn: 0.0000403\ttotal: 1m 30s\tremaining: 2.81s\n",
      "970:\tlearn: 0.0000403\ttotal: 1m 30s\tremaining: 2.72s\n",
      "971:\tlearn: 0.0000403\ttotal: 1m 31s\tremaining: 2.62s\n",
      "972:\tlearn: 0.0000403\ttotal: 1m 31s\tremaining: 2.53s\n",
      "973:\tlearn: 0.0000403\ttotal: 1m 31s\tremaining: 2.44s\n",
      "974:\tlearn: 0.0000403\ttotal: 1m 31s\tremaining: 2.34s\n",
      "975:\tlearn: 0.0000403\ttotal: 1m 31s\tremaining: 2.25s\n",
      "976:\tlearn: 0.0000403\ttotal: 1m 31s\tremaining: 2.15s\n",
      "977:\tlearn: 0.0000403\ttotal: 1m 31s\tremaining: 2.06s\n",
      "978:\tlearn: 0.0000403\ttotal: 1m 31s\tremaining: 1.97s\n",
      "979:\tlearn: 0.0000403\ttotal: 1m 31s\tremaining: 1.87s\n",
      "980:\tlearn: 0.0000403\ttotal: 1m 31s\tremaining: 1.78s\n",
      "981:\tlearn: 0.0000403\ttotal: 1m 31s\tremaining: 1.69s\n",
      "982:\tlearn: 0.0000403\ttotal: 1m 32s\tremaining: 1.59s\n",
      "983:\tlearn: 0.0000403\ttotal: 1m 32s\tremaining: 1.5s\n",
      "984:\tlearn: 0.0000403\ttotal: 1m 32s\tremaining: 1.4s\n",
      "985:\tlearn: 0.0000403\ttotal: 1m 32s\tremaining: 1.31s\n",
      "986:\tlearn: 0.0000403\ttotal: 1m 32s\tremaining: 1.22s\n",
      "987:\tlearn: 0.0000403\ttotal: 1m 32s\tremaining: 1.12s\n",
      "988:\tlearn: 0.0000403\ttotal: 1m 32s\tremaining: 1.03s\n",
      "989:\tlearn: 0.0000403\ttotal: 1m 32s\tremaining: 936ms\n",
      "990:\tlearn: 0.0000403\ttotal: 1m 32s\tremaining: 842ms\n",
      "991:\tlearn: 0.0000403\ttotal: 1m 32s\tremaining: 749ms\n",
      "992:\tlearn: 0.0000403\ttotal: 1m 32s\tremaining: 655ms\n",
      "993:\tlearn: 0.0000403\ttotal: 1m 33s\tremaining: 562ms\n",
      "994:\tlearn: 0.0000403\ttotal: 1m 33s\tremaining: 468ms\n",
      "995:\tlearn: 0.0000403\ttotal: 1m 33s\tremaining: 374ms\n",
      "996:\tlearn: 0.0000403\ttotal: 1m 33s\tremaining: 281ms\n",
      "997:\tlearn: 0.0000403\ttotal: 1m 33s\tremaining: 187ms\n",
      "998:\tlearn: 0.0000403\ttotal: 1m 33s\tremaining: 93.5ms\n",
      "999:\tlearn: 0.0000403\ttotal: 1m 33s\tremaining: 0us\n"
     ]
    },
    {
     "data": {
      "text/plain": [
       "<catboost.core.CatBoostClassifier at 0x7f89c053ca60>"
      ]
     },
     "execution_count": 34,
     "metadata": {},
     "output_type": "execute_result"
    }
   ],
   "source": [
    "cb_model.fit(catboost_train_data, plot=True)"
   ]
  },
  {
   "cell_type": "code",
   "execution_count": 35,
   "metadata": {},
   "outputs": [
    {
     "data": {
      "text/plain": [
       "array([1, 0, 0, ..., 0, 0, 0])"
      ]
     },
     "execution_count": 35,
     "metadata": {},
     "output_type": "execute_result"
    }
   ],
   "source": [
    "# Use the fitted model to make predictions\n",
    "cb_model.predict(catboost_train_data)\n"
   ]
  },
  {
   "cell_type": "code",
   "execution_count": 36,
   "metadata": {},
   "outputs": [
    {
     "data": {
      "text/plain": [
       "{'learn': {'Logloss': 4.02757370673958e-05}}"
      ]
     },
     "execution_count": 36,
     "metadata": {},
     "output_type": "execute_result"
    }
   ],
   "source": [
    "# Get the best score\n",
    "cb_model.get_best_score()"
   ]
  },
  {
   "cell_type": "code",
   "execution_count": 37,
   "metadata": {},
   "outputs": [
    {
     "data": {
      "text/plain": [
       "1.0"
      ]
     },
     "execution_count": 37,
     "metadata": {},
     "output_type": "execute_result"
    }
   ],
   "source": [
    "# Score\n",
    "cb_model.score(df_clean, df_clean['Status'])"
   ]
  },
  {
   "cell_type": "code",
   "execution_count": 38,
   "metadata": {},
   "outputs": [
    {
     "data": {
      "text/plain": [
       "array([1, 0, 0, ..., 0, 0, 0])"
      ]
     },
     "execution_count": 38,
     "metadata": {},
     "output_type": "execute_result"
    }
   ],
   "source": [
    "#Make predictions on the test set\n",
    "y_pred = cb_model.predict(X_test)\n",
    "y_pred"
   ]
  },
  {
   "cell_type": "code",
   "execution_count": 39,
   "metadata": {},
   "outputs": [
    {
     "data": {
      "text/plain": [
       "1.0"
      ]
     },
     "execution_count": 39,
     "metadata": {},
     "output_type": "execute_result"
    }
   ],
   "source": [
    "# Calculate precision score\n",
    "precision = precision_score(y_test, y_pred)\n",
    "precision"
   ]
  },
  {
   "cell_type": "code",
   "execution_count": 40,
   "metadata": {},
   "outputs": [
    {
     "data": {
      "text/plain": [
       "1.0"
      ]
     },
     "execution_count": 40,
     "metadata": {},
     "output_type": "execute_result"
    }
   ],
   "source": [
    "# Calculate the accuracy score\n",
    "accuracy = accuracy_score(y_test, y_pred)\n",
    "accuracy"
   ]
  },
  {
   "cell_type": "code",
   "execution_count": 41,
   "metadata": {},
   "outputs": [
    {
     "data": {
      "text/plain": [
       "array([[[387869,      0],\n",
       "        [     0, 598360]],\n",
       "\n",
       "       [[598360,      0],\n",
       "        [     0, 387869]]])"
      ]
     },
     "execution_count": 41,
     "metadata": {},
     "output_type": "execute_result"
    }
   ],
   "source": [
    "# Evaluate the model using the test data\n",
    "from sklearn.metrics import balanced_accuracy_score, confusion_matrix, classification_report\n",
    "from sklearn.metrics import multilabel_confusion_matrix\n",
    "from sklearn.svm import SVC\n",
    "\n",
    "# Calculating the confusion matrix\n",
    "target_names=[\"On-Time\", \"Delayed\", \"Cancelled\"]\n",
    "\n",
    "cm = multilabel_confusion_matrix(y_test, y_pred)\n",
    "# cm_df = pd.DataFrame(\n",
    "#     cm, index=target_names, columns=target_names\n",
    "# )\n",
    "cm\n",
    "\n",
    "\n",
    "\n"
   ]
  },
  {
   "cell_type": "code",
   "execution_count": 42,
   "metadata": {},
   "outputs": [
    {
     "name": "stdout",
     "output_type": "stream",
     "text": [
      "Confusion Matrix:\n",
      "[[[387869      0]\n",
      "  [     0 598360]]\n",
      "\n",
      " [[598360      0]\n",
      "  [     0 387869]]]\n",
      "Accuracy Score: 1.0\n",
      "Classification Report\n"
     ]
    },
    {
     "name": "stderr",
     "output_type": "stream",
     "text": [
      "/Users/mdcummings/opt/anaconda3/lib/python3.9/site-packages/sklearn/metrics/_classification.py:1318: UndefinedMetricWarning: Precision and F-score are ill-defined and being set to 0.0 in labels with no predicted samples. Use `zero_division` parameter to control this behavior.\n",
      "  _warn_prf(average, modifier, msg_start, len(result))\n",
      "/Users/mdcummings/opt/anaconda3/lib/python3.9/site-packages/sklearn/metrics/_classification.py:1318: UndefinedMetricWarning: Recall and F-score are ill-defined and being set to 0.0 in labels with no true samples. Use `zero_division` parameter to control this behavior.\n",
      "  _warn_prf(average, modifier, msg_start, len(result))\n",
      "/Users/mdcummings/opt/anaconda3/lib/python3.9/site-packages/sklearn/metrics/_classification.py:1318: UndefinedMetricWarning: Precision and F-score are ill-defined and being set to 0.0 in labels with no predicted samples. Use `zero_division` parameter to control this behavior.\n",
      "  _warn_prf(average, modifier, msg_start, len(result))\n",
      "/Users/mdcummings/opt/anaconda3/lib/python3.9/site-packages/sklearn/metrics/_classification.py:1318: UndefinedMetricWarning: Recall and F-score are ill-defined and being set to 0.0 in labels with no true samples. Use `zero_division` parameter to control this behavior.\n",
      "  _warn_prf(average, modifier, msg_start, len(result))\n"
     ]
    },
    {
     "name": "stdout",
     "output_type": "stream",
     "text": [
      "              precision    recall  f1-score   support\n",
      "\n",
      "           0       1.00      1.00      1.00    598360\n",
      "           1       1.00      1.00      1.00    387869\n",
      "           2       0.00      0.00      0.00         0\n",
      "\n",
      "   micro avg       1.00      1.00      1.00    986229\n",
      "   macro avg       0.67      0.67      0.67    986229\n",
      "weighted avg       1.00      1.00      1.00    986229\n",
      "\n"
     ]
    },
    {
     "name": "stderr",
     "output_type": "stream",
     "text": [
      "/Users/mdcummings/opt/anaconda3/lib/python3.9/site-packages/sklearn/metrics/_classification.py:1318: UndefinedMetricWarning: Precision and F-score are ill-defined and being set to 0.0 in labels with no predicted samples. Use `zero_division` parameter to control this behavior.\n",
      "  _warn_prf(average, modifier, msg_start, len(result))\n",
      "/Users/mdcummings/opt/anaconda3/lib/python3.9/site-packages/sklearn/metrics/_classification.py:1318: UndefinedMetricWarning: Recall and F-score are ill-defined and being set to 0.0 in labels with no true samples. Use `zero_division` parameter to control this behavior.\n",
      "  _warn_prf(average, modifier, msg_start, len(result))\n"
     ]
    }
   ],
   "source": [
    "# Print the classification report for the model\n",
    "target_names=[\"On-Time\", \"Delayed\", \"Cancelled\"]\n",
    "print(\"Confusion Matrix:\")\n",
    "print(cm) \n",
    "print(\"Accuracy Score:\", accuracy) \n",
    "print(\"Classification Report\")\n",
    "print(classification_report(y_test, y_pred, labels=[0,1,2]))"
   ]
  },
  {
   "cell_type": "code",
   "execution_count": 43,
   "metadata": {},
   "outputs": [
    {
     "data": {
      "text/html": [
       "        <script type=\"text/javascript\">\n",
       "        window.PlotlyConfig = {MathJaxConfig: 'local'};\n",
       "        if (window.MathJax && window.MathJax.Hub && window.MathJax.Hub.Config) {window.MathJax.Hub.Config({SVG: {font: \"STIX-Web\"}});}\n",
       "        if (typeof require !== 'undefined') {\n",
       "        require.undef(\"plotly\");\n",
       "        requirejs.config({\n",
       "            paths: {\n",
       "                'plotly': ['https://cdn.plot.ly/plotly-2.12.1.min']\n",
       "            }\n",
       "        });\n",
       "        require(['plotly'], function(Plotly) {\n",
       "            window._Plotly = Plotly;\n",
       "        });\n",
       "        }\n",
       "        </script>\n",
       "        "
      ]
     },
     "metadata": {},
     "output_type": "display_data"
    },
    {
     "data": {
      "application/vnd.plotly.v1+json": {
       "config": {
        "linkText": "Export to plot.ly",
        "plotlyServerURL": "https://plot.ly",
        "showLink": false
       },
       "data": [
        {
         "mode": "lines+markers",
         "name": "Mean target",
         "type": "scatter",
         "xaxis": "x",
         "y": [
          0.44182029366493225,
          0.3120461404323578
         ],
         "yaxis": "y"
        },
        {
         "line": {
          "dash": "dash"
         },
         "mode": "lines+markers",
         "name": "Mean prediction on each segment of feature values",
         "type": "scatter",
         "xaxis": "x",
         "y": [
          0.44182029366493225,
          0.3120461404323578
         ],
         "yaxis": "y"
        },
        {
         "marker": {
          "color": "rgba(30, 150, 30, 0.4)"
         },
         "name": "Objects per bin",
         "type": "bar",
         "width": 0.8,
         "xaxis": "x",
         "y": [
          2469538,
          1475378
         ],
         "yaxis": "y2"
        },
        {
         "line": {
          "dash": "dashdot"
         },
         "mode": "lines+markers",
         "name": "Mean prediction with substituted feature",
         "type": "scatter",
         "xaxis": "x",
         "y": [
          0.3932854337075872,
          0.3932854337075872
         ],
         "yaxis": "y"
        }
       ],
       "layout": {
        "annotations": [
         {
          "align": "left",
          "showarrow": false,
          "text": "Statistics for feature",
          "x": 0,
          "xref": "paper",
          "y": 1.05,
          "yref": "paper"
         }
        ],
        "legend": {
         "bgcolor": "rgba(0,0,0,0)",
         "x": 1.07
        },
        "template": {
         "data": {
          "bar": [
           {
            "error_x": {
             "color": "#2a3f5f"
            },
            "error_y": {
             "color": "#2a3f5f"
            },
            "marker": {
             "line": {
              "color": "#E5ECF6",
              "width": 0.5
             },
             "pattern": {
              "fillmode": "overlay",
              "size": 10,
              "solidity": 0.2
             }
            },
            "type": "bar"
           }
          ],
          "barpolar": [
           {
            "marker": {
             "line": {
              "color": "#E5ECF6",
              "width": 0.5
             },
             "pattern": {
              "fillmode": "overlay",
              "size": 10,
              "solidity": 0.2
             }
            },
            "type": "barpolar"
           }
          ],
          "carpet": [
           {
            "aaxis": {
             "endlinecolor": "#2a3f5f",
             "gridcolor": "white",
             "linecolor": "white",
             "minorgridcolor": "white",
             "startlinecolor": "#2a3f5f"
            },
            "baxis": {
             "endlinecolor": "#2a3f5f",
             "gridcolor": "white",
             "linecolor": "white",
             "minorgridcolor": "white",
             "startlinecolor": "#2a3f5f"
            },
            "type": "carpet"
           }
          ],
          "choropleth": [
           {
            "colorbar": {
             "outlinewidth": 0,
             "ticks": ""
            },
            "type": "choropleth"
           }
          ],
          "contour": [
           {
            "colorbar": {
             "outlinewidth": 0,
             "ticks": ""
            },
            "colorscale": [
             [
              0,
              "#0d0887"
             ],
             [
              0.1111111111111111,
              "#46039f"
             ],
             [
              0.2222222222222222,
              "#7201a8"
             ],
             [
              0.3333333333333333,
              "#9c179e"
             ],
             [
              0.4444444444444444,
              "#bd3786"
             ],
             [
              0.5555555555555556,
              "#d8576b"
             ],
             [
              0.6666666666666666,
              "#ed7953"
             ],
             [
              0.7777777777777778,
              "#fb9f3a"
             ],
             [
              0.8888888888888888,
              "#fdca26"
             ],
             [
              1,
              "#f0f921"
             ]
            ],
            "type": "contour"
           }
          ],
          "contourcarpet": [
           {
            "colorbar": {
             "outlinewidth": 0,
             "ticks": ""
            },
            "type": "contourcarpet"
           }
          ],
          "heatmap": [
           {
            "colorbar": {
             "outlinewidth": 0,
             "ticks": ""
            },
            "colorscale": [
             [
              0,
              "#0d0887"
             ],
             [
              0.1111111111111111,
              "#46039f"
             ],
             [
              0.2222222222222222,
              "#7201a8"
             ],
             [
              0.3333333333333333,
              "#9c179e"
             ],
             [
              0.4444444444444444,
              "#bd3786"
             ],
             [
              0.5555555555555556,
              "#d8576b"
             ],
             [
              0.6666666666666666,
              "#ed7953"
             ],
             [
              0.7777777777777778,
              "#fb9f3a"
             ],
             [
              0.8888888888888888,
              "#fdca26"
             ],
             [
              1,
              "#f0f921"
             ]
            ],
            "type": "heatmap"
           }
          ],
          "heatmapgl": [
           {
            "colorbar": {
             "outlinewidth": 0,
             "ticks": ""
            },
            "colorscale": [
             [
              0,
              "#0d0887"
             ],
             [
              0.1111111111111111,
              "#46039f"
             ],
             [
              0.2222222222222222,
              "#7201a8"
             ],
             [
              0.3333333333333333,
              "#9c179e"
             ],
             [
              0.4444444444444444,
              "#bd3786"
             ],
             [
              0.5555555555555556,
              "#d8576b"
             ],
             [
              0.6666666666666666,
              "#ed7953"
             ],
             [
              0.7777777777777778,
              "#fb9f3a"
             ],
             [
              0.8888888888888888,
              "#fdca26"
             ],
             [
              1,
              "#f0f921"
             ]
            ],
            "type": "heatmapgl"
           }
          ],
          "histogram": [
           {
            "marker": {
             "pattern": {
              "fillmode": "overlay",
              "size": 10,
              "solidity": 0.2
             }
            },
            "type": "histogram"
           }
          ],
          "histogram2d": [
           {
            "colorbar": {
             "outlinewidth": 0,
             "ticks": ""
            },
            "colorscale": [
             [
              0,
              "#0d0887"
             ],
             [
              0.1111111111111111,
              "#46039f"
             ],
             [
              0.2222222222222222,
              "#7201a8"
             ],
             [
              0.3333333333333333,
              "#9c179e"
             ],
             [
              0.4444444444444444,
              "#bd3786"
             ],
             [
              0.5555555555555556,
              "#d8576b"
             ],
             [
              0.6666666666666666,
              "#ed7953"
             ],
             [
              0.7777777777777778,
              "#fb9f3a"
             ],
             [
              0.8888888888888888,
              "#fdca26"
             ],
             [
              1,
              "#f0f921"
             ]
            ],
            "type": "histogram2d"
           }
          ],
          "histogram2dcontour": [
           {
            "colorbar": {
             "outlinewidth": 0,
             "ticks": ""
            },
            "colorscale": [
             [
              0,
              "#0d0887"
             ],
             [
              0.1111111111111111,
              "#46039f"
             ],
             [
              0.2222222222222222,
              "#7201a8"
             ],
             [
              0.3333333333333333,
              "#9c179e"
             ],
             [
              0.4444444444444444,
              "#bd3786"
             ],
             [
              0.5555555555555556,
              "#d8576b"
             ],
             [
              0.6666666666666666,
              "#ed7953"
             ],
             [
              0.7777777777777778,
              "#fb9f3a"
             ],
             [
              0.8888888888888888,
              "#fdca26"
             ],
             [
              1,
              "#f0f921"
             ]
            ],
            "type": "histogram2dcontour"
           }
          ],
          "mesh3d": [
           {
            "colorbar": {
             "outlinewidth": 0,
             "ticks": ""
            },
            "type": "mesh3d"
           }
          ],
          "parcoords": [
           {
            "line": {
             "colorbar": {
              "outlinewidth": 0,
              "ticks": ""
             }
            },
            "type": "parcoords"
           }
          ],
          "pie": [
           {
            "automargin": true,
            "type": "pie"
           }
          ],
          "scatter": [
           {
            "fillpattern": {
             "fillmode": "overlay",
             "size": 10,
             "solidity": 0.2
            },
            "type": "scatter"
           }
          ],
          "scatter3d": [
           {
            "line": {
             "colorbar": {
              "outlinewidth": 0,
              "ticks": ""
             }
            },
            "marker": {
             "colorbar": {
              "outlinewidth": 0,
              "ticks": ""
             }
            },
            "type": "scatter3d"
           }
          ],
          "scattercarpet": [
           {
            "marker": {
             "colorbar": {
              "outlinewidth": 0,
              "ticks": ""
             }
            },
            "type": "scattercarpet"
           }
          ],
          "scattergeo": [
           {
            "marker": {
             "colorbar": {
              "outlinewidth": 0,
              "ticks": ""
             }
            },
            "type": "scattergeo"
           }
          ],
          "scattergl": [
           {
            "marker": {
             "colorbar": {
              "outlinewidth": 0,
              "ticks": ""
             }
            },
            "type": "scattergl"
           }
          ],
          "scattermapbox": [
           {
            "marker": {
             "colorbar": {
              "outlinewidth": 0,
              "ticks": ""
             }
            },
            "type": "scattermapbox"
           }
          ],
          "scatterpolar": [
           {
            "marker": {
             "colorbar": {
              "outlinewidth": 0,
              "ticks": ""
             }
            },
            "type": "scatterpolar"
           }
          ],
          "scatterpolargl": [
           {
            "marker": {
             "colorbar": {
              "outlinewidth": 0,
              "ticks": ""
             }
            },
            "type": "scatterpolargl"
           }
          ],
          "scatterternary": [
           {
            "marker": {
             "colorbar": {
              "outlinewidth": 0,
              "ticks": ""
             }
            },
            "type": "scatterternary"
           }
          ],
          "surface": [
           {
            "colorbar": {
             "outlinewidth": 0,
             "ticks": ""
            },
            "colorscale": [
             [
              0,
              "#0d0887"
             ],
             [
              0.1111111111111111,
              "#46039f"
             ],
             [
              0.2222222222222222,
              "#7201a8"
             ],
             [
              0.3333333333333333,
              "#9c179e"
             ],
             [
              0.4444444444444444,
              "#bd3786"
             ],
             [
              0.5555555555555556,
              "#d8576b"
             ],
             [
              0.6666666666666666,
              "#ed7953"
             ],
             [
              0.7777777777777778,
              "#fb9f3a"
             ],
             [
              0.8888888888888888,
              "#fdca26"
             ],
             [
              1,
              "#f0f921"
             ]
            ],
            "type": "surface"
           }
          ],
          "table": [
           {
            "cells": {
             "fill": {
              "color": "#EBF0F8"
             },
             "line": {
              "color": "white"
             }
            },
            "header": {
             "fill": {
              "color": "#C8D4E3"
             },
             "line": {
              "color": "white"
             }
            },
            "type": "table"
           }
          ]
         },
         "layout": {
          "annotationdefaults": {
           "arrowcolor": "#2a3f5f",
           "arrowhead": 0,
           "arrowwidth": 1
          },
          "autotypenumbers": "strict",
          "coloraxis": {
           "colorbar": {
            "outlinewidth": 0,
            "ticks": ""
           }
          },
          "colorscale": {
           "diverging": [
            [
             0,
             "#8e0152"
            ],
            [
             0.1,
             "#c51b7d"
            ],
            [
             0.2,
             "#de77ae"
            ],
            [
             0.3,
             "#f1b6da"
            ],
            [
             0.4,
             "#fde0ef"
            ],
            [
             0.5,
             "#f7f7f7"
            ],
            [
             0.6,
             "#e6f5d0"
            ],
            [
             0.7,
             "#b8e186"
            ],
            [
             0.8,
             "#7fbc41"
            ],
            [
             0.9,
             "#4d9221"
            ],
            [
             1,
             "#276419"
            ]
           ],
           "sequential": [
            [
             0,
             "#0d0887"
            ],
            [
             0.1111111111111111,
             "#46039f"
            ],
            [
             0.2222222222222222,
             "#7201a8"
            ],
            [
             0.3333333333333333,
             "#9c179e"
            ],
            [
             0.4444444444444444,
             "#bd3786"
            ],
            [
             0.5555555555555556,
             "#d8576b"
            ],
            [
             0.6666666666666666,
             "#ed7953"
            ],
            [
             0.7777777777777778,
             "#fb9f3a"
            ],
            [
             0.8888888888888888,
             "#fdca26"
            ],
            [
             1,
             "#f0f921"
            ]
           ],
           "sequentialminus": [
            [
             0,
             "#0d0887"
            ],
            [
             0.1111111111111111,
             "#46039f"
            ],
            [
             0.2222222222222222,
             "#7201a8"
            ],
            [
             0.3333333333333333,
             "#9c179e"
            ],
            [
             0.4444444444444444,
             "#bd3786"
            ],
            [
             0.5555555555555556,
             "#d8576b"
            ],
            [
             0.6666666666666666,
             "#ed7953"
            ],
            [
             0.7777777777777778,
             "#fb9f3a"
            ],
            [
             0.8888888888888888,
             "#fdca26"
            ],
            [
             1,
             "#f0f921"
            ]
           ]
          },
          "colorway": [
           "#636efa",
           "#EF553B",
           "#00cc96",
           "#ab63fa",
           "#FFA15A",
           "#19d3f3",
           "#FF6692",
           "#B6E880",
           "#FF97FF",
           "#FECB52"
          ],
          "font": {
           "color": "#2a3f5f"
          },
          "geo": {
           "bgcolor": "white",
           "lakecolor": "white",
           "landcolor": "#E5ECF6",
           "showlakes": true,
           "showland": true,
           "subunitcolor": "white"
          },
          "hoverlabel": {
           "align": "left"
          },
          "hovermode": "closest",
          "mapbox": {
           "style": "light"
          },
          "paper_bgcolor": "white",
          "plot_bgcolor": "#E5ECF6",
          "polar": {
           "angularaxis": {
            "gridcolor": "white",
            "linecolor": "white",
            "ticks": ""
           },
           "bgcolor": "#E5ECF6",
           "radialaxis": {
            "gridcolor": "white",
            "linecolor": "white",
            "ticks": ""
           }
          },
          "scene": {
           "xaxis": {
            "backgroundcolor": "#E5ECF6",
            "gridcolor": "white",
            "gridwidth": 2,
            "linecolor": "white",
            "showbackground": true,
            "ticks": "",
            "zerolinecolor": "white"
           },
           "yaxis": {
            "backgroundcolor": "#E5ECF6",
            "gridcolor": "white",
            "gridwidth": 2,
            "linecolor": "white",
            "showbackground": true,
            "ticks": "",
            "zerolinecolor": "white"
           },
           "zaxis": {
            "backgroundcolor": "#E5ECF6",
            "gridcolor": "white",
            "gridwidth": 2,
            "linecolor": "white",
            "showbackground": true,
            "ticks": "",
            "zerolinecolor": "white"
           }
          },
          "shapedefaults": {
           "line": {
            "color": "#2a3f5f"
           }
          },
          "ternary": {
           "aaxis": {
            "gridcolor": "white",
            "linecolor": "white",
            "ticks": ""
           },
           "baxis": {
            "gridcolor": "white",
            "linecolor": "white",
            "ticks": ""
           },
           "bgcolor": "#E5ECF6",
           "caxis": {
            "gridcolor": "white",
            "linecolor": "white",
            "ticks": ""
           }
          },
          "title": {
           "x": 0.05
          },
          "xaxis": {
           "automargin": true,
           "gridcolor": "white",
           "linecolor": "white",
           "ticks": "",
           "title": {
            "standoff": 15
           },
           "zerolinecolor": "white",
           "zerolinewidth": 2
          },
          "yaxis": {
           "automargin": true,
           "gridcolor": "white",
           "linecolor": "white",
           "ticks": "",
           "title": {
            "standoff": 15
           },
           "zerolinecolor": "white",
           "zerolinewidth": 2
          }
         }
        },
        "updatemenus": [
         {
          "buttons": [
           {
            "args": [
             {
              "y": [
               [
                0.44182029366493225,
                0.3120461404323578
               ],
               [
                0.44182029366493225,
                0.3120461404323578
               ],
               [
                2469538,
                1475378
               ],
               [
                0.3932854337075872,
                0.3932854337075872
               ]
              ]
             },
             {
              "xaxis": {
               "showticklabels": false,
               "tickmode": "array",
               "ticktext": [
                "(-inf, 2819.5000]",
                "(2819.5000, +inf)"
               ],
               "tickvals": [
                0,
                1
               ],
               "title": {
                "text": "Bins"
               }
              }
             }
            ],
            "label": "Flight_Number_Operating_Airline",
            "method": "update"
           },
           {
            "args": [
             {
              "y": [
               [
                0.40884384512901306,
                0.3916504681110382
               ],
               [
                0.40884384512901306,
                0.3916504681110382
               ],
               [
                375131,
                3569785
               ],
               [
                0.3932854337075872,
                0.3932854337075872
               ]
              ]
             },
             {
              "xaxis": {
               "showticklabels": false,
               "tickmode": "array",
               "ticktext": [
                "(-inf, 3.5000]",
                "(3.5000, +inf)"
               ],
               "tickvals": [
                0,
                1
               ],
               "title": {
                "text": "Bins"
               }
              }
             }
            ],
            "label": "DayofMonth",
            "method": "update"
           },
           {
            "args": [
             {
              "y": [
               [
                0.24678517878055573,
                0.2517869174480438,
                0.30141469836235046,
                0.29775890707969666,
                0.43117237091064453,
                0.5104461908340454
               ],
               [
                0.24678517878055573,
                0.2517869174480438,
                0.30141469836235046,
                0.29775890707969666,
                0.43117237091064453,
                0.5104461908340454
               ],
               [
                834183,
                7415,
                18025,
                139932,
                2608683,
                336678
               ],
               [
                0.3932854337075872,
                0.3932854337075872,
                0.3932854337075872,
                0.3932854337075872,
                0.3932854337075872,
                0.3932854337075872
               ]
              ]
             },
             {
              "xaxis": {
               "showticklabels": false,
               "tickmode": "array",
               "ticktext": [
                "(-inf, 835.5000]",
                "(835.5000, 839.5000]",
                "(839.5000, 843.5000]",
                "(843.5000, 915.5000]",
                "(915.5000, 2030.5000]",
                "(2030.5000, +inf)"
               ],
               "tickvals": [
                0,
                1,
                2,
                3,
                4,
                5
               ],
               "title": {
                "text": "Bins"
               }
              }
             }
            ],
            "label": "CRSDepTime",
            "method": "update"
           },
           {
            "args": [
             {
              "y": [
               [
                0.3726828694343567,
                0.5872712731361389
               ],
               [
                0.3726828694343567,
                0.5872712731361389
               ],
               [
                3566166,
                378750
               ],
               [
                0.3932854337075872,
                0.3932854337075872
               ]
              ]
             },
             {
              "xaxis": {
               "showticklabels": false,
               "tickmode": "array",
               "ticktext": [
                "(-inf, 2033.5000]",
                "(2033.5000, +inf)"
               ],
               "tickvals": [
                0,
                1
               ],
               "title": {
                "text": "Bins"
               }
              }
             }
            ],
            "label": "DepTime",
            "method": "update"
           },
           {
            "args": [
             {
              "y": [
               [
                0.3948826789855957,
                0.39228296279907227,
                0.3834388256072998,
                0.2802419364452362,
                0.3694835901260376,
                0.3386276960372925,
                0.3497975766658783,
                0.25504031777381897,
                0.3958183228969574
               ],
               [
                0.3948826789855957,
                0.39228296279907227,
                0.3834388256072998,
                0.2802419364452362,
                0.3694835901260376,
                0.3386276960372925,
                0.3497975766658783,
                0.25504031777381897,
                0.3958183228969574
               ],
               [
                2670112,
                2488,
                9480,
                1488,
                260201,
                1574,
                2470,
                992,
                996111
               ],
               [
                0.3932854337075872,
                0.3932854337075872,
                0.3932854337075872,
                0.3932854337075872,
                0.3932854337075872,
                0.3932854337075872,
                0.3932854337075872,
                0.3932854337075872,
                0.3932854337075872
               ]
              ]
             },
             {
              "xaxis": {
               "showticklabels": false,
               "tickmode": "array",
               "ticktext": [
                "(-inf, 13498.5000]",
                "(13498.5000, 13559.0000]",
                "(13559.0000, 13686.0000]",
                "(13686.0000, 13795.5000]",
                "(13795.5000, 13932.0000]",
                "(13932.0000, 13993.5000]",
                "(13993.5000, 14005.0000]",
                "(14005.0000, 14026.0000]",
                "(14026.0000, +inf)"
               ],
               "tickvals": [
                0,
                1,
                2,
                3,
                4,
                5,
                6,
                7,
                8
               ],
               "title": {
                "text": "Bins"
               }
              }
             }
            ],
            "label": "DestAirportID",
            "method": "update"
           },
           {
            "args": [
             {
              "y": [
               [
                0,
                1
               ],
               [
                0,
                1
               ],
               [
                2393438,
                1551478
               ],
               [
                0,
                1
               ]
              ]
             },
             {
              "xaxis": {
               "showticklabels": false,
               "tickmode": "array",
               "ticktext": [
                "(-inf, 0.5000]",
                "(0.5000, +inf)"
               ],
               "tickvals": [
                0,
                1
               ],
               "title": {
                "text": "Bins"
               }
              }
             }
            ],
            "label": "DepDelayMinutes",
            "method": "update"
           }
          ],
          "direction": "down",
          "pad": {
           "r": 10,
           "t": 10
          },
          "showactive": true,
          "x": 0.25,
          "xanchor": "left",
          "y": 1.09,
          "yanchor": "top"
         }
        ],
        "xaxis": {
         "showticklabels": false,
         "tickmode": "array",
         "ticktext": [
          "(-inf, 2819.5000]",
          "(2819.5000, +inf)"
         ],
         "tickvals": [
          0,
          1
         ],
         "title": {
          "text": "Bins"
         }
        },
        "yaxis": {
         "overlaying": "y2",
         "side": "left",
         "title": {
          "text": "Prediction and target"
         }
        },
        "yaxis2": {
         "position": 1,
         "side": "right",
         "title": {
          "text": "Objects per bin"
         }
        }
       }
      },
      "text/html": [
       "<div>                            <div id=\"6151d72b-5833-4be6-992a-314bf7fd9dfc\" class=\"plotly-graph-div\" style=\"height:525px; width:100%;\"></div>            <script type=\"text/javascript\">                require([\"plotly\"], function(Plotly) {                    window.PLOTLYENV=window.PLOTLYENV || {};                                    if (document.getElementById(\"6151d72b-5833-4be6-992a-314bf7fd9dfc\")) {                    Plotly.newPlot(                        \"6151d72b-5833-4be6-992a-314bf7fd9dfc\",                        [{\"mode\":\"lines+markers\",\"name\":\"Mean target\",\"xaxis\":\"x\",\"y\":[0.44182029366493225,0.3120461404323578],\"yaxis\":\"y\",\"type\":\"scatter\"},{\"line\":{\"dash\":\"dash\"},\"mode\":\"lines+markers\",\"name\":\"Mean prediction on each segment of feature values\",\"xaxis\":\"x\",\"y\":[0.44182029366493225,0.3120461404323578],\"yaxis\":\"y\",\"type\":\"scatter\"},{\"marker\":{\"color\":\"rgba(30, 150, 30, 0.4)\"},\"name\":\"Objects per bin\",\"width\":0.8,\"xaxis\":\"x\",\"y\":[2469538,1475378],\"yaxis\":\"y2\",\"type\":\"bar\"},{\"line\":{\"dash\":\"dashdot\"},\"mode\":\"lines+markers\",\"name\":\"Mean prediction with substituted feature\",\"xaxis\":\"x\",\"y\":[0.3932854337075872,0.3932854337075872],\"yaxis\":\"y\",\"type\":\"scatter\"}],                        {\"annotations\":[{\"align\":\"left\",\"showarrow\":false,\"text\":\"Statistics for feature\",\"x\":0,\"xref\":\"paper\",\"y\":1.05,\"yref\":\"paper\"}],\"legend\":{\"bgcolor\":\"rgba(0,0,0,0)\",\"x\":1.07},\"template\":{\"data\":{\"barpolar\":[{\"marker\":{\"line\":{\"color\":\"#E5ECF6\",\"width\":0.5},\"pattern\":{\"fillmode\":\"overlay\",\"size\":10,\"solidity\":0.2}},\"type\":\"barpolar\"}],\"bar\":[{\"error_x\":{\"color\":\"#2a3f5f\"},\"error_y\":{\"color\":\"#2a3f5f\"},\"marker\":{\"line\":{\"color\":\"#E5ECF6\",\"width\":0.5},\"pattern\":{\"fillmode\":\"overlay\",\"size\":10,\"solidity\":0.2}},\"type\":\"bar\"}],\"carpet\":[{\"aaxis\":{\"endlinecolor\":\"#2a3f5f\",\"gridcolor\":\"white\",\"linecolor\":\"white\",\"minorgridcolor\":\"white\",\"startlinecolor\":\"#2a3f5f\"},\"baxis\":{\"endlinecolor\":\"#2a3f5f\",\"gridcolor\":\"white\",\"linecolor\":\"white\",\"minorgridcolor\":\"white\",\"startlinecolor\":\"#2a3f5f\"},\"type\":\"carpet\"}],\"choropleth\":[{\"colorbar\":{\"outlinewidth\":0,\"ticks\":\"\"},\"type\":\"choropleth\"}],\"contourcarpet\":[{\"colorbar\":{\"outlinewidth\":0,\"ticks\":\"\"},\"type\":\"contourcarpet\"}],\"contour\":[{\"colorbar\":{\"outlinewidth\":0,\"ticks\":\"\"},\"colorscale\":[[0.0,\"#0d0887\"],[0.1111111111111111,\"#46039f\"],[0.2222222222222222,\"#7201a8\"],[0.3333333333333333,\"#9c179e\"],[0.4444444444444444,\"#bd3786\"],[0.5555555555555556,\"#d8576b\"],[0.6666666666666666,\"#ed7953\"],[0.7777777777777778,\"#fb9f3a\"],[0.8888888888888888,\"#fdca26\"],[1.0,\"#f0f921\"]],\"type\":\"contour\"}],\"heatmapgl\":[{\"colorbar\":{\"outlinewidth\":0,\"ticks\":\"\"},\"colorscale\":[[0.0,\"#0d0887\"],[0.1111111111111111,\"#46039f\"],[0.2222222222222222,\"#7201a8\"],[0.3333333333333333,\"#9c179e\"],[0.4444444444444444,\"#bd3786\"],[0.5555555555555556,\"#d8576b\"],[0.6666666666666666,\"#ed7953\"],[0.7777777777777778,\"#fb9f3a\"],[0.8888888888888888,\"#fdca26\"],[1.0,\"#f0f921\"]],\"type\":\"heatmapgl\"}],\"heatmap\":[{\"colorbar\":{\"outlinewidth\":0,\"ticks\":\"\"},\"colorscale\":[[0.0,\"#0d0887\"],[0.1111111111111111,\"#46039f\"],[0.2222222222222222,\"#7201a8\"],[0.3333333333333333,\"#9c179e\"],[0.4444444444444444,\"#bd3786\"],[0.5555555555555556,\"#d8576b\"],[0.6666666666666666,\"#ed7953\"],[0.7777777777777778,\"#fb9f3a\"],[0.8888888888888888,\"#fdca26\"],[1.0,\"#f0f921\"]],\"type\":\"heatmap\"}],\"histogram2dcontour\":[{\"colorbar\":{\"outlinewidth\":0,\"ticks\":\"\"},\"colorscale\":[[0.0,\"#0d0887\"],[0.1111111111111111,\"#46039f\"],[0.2222222222222222,\"#7201a8\"],[0.3333333333333333,\"#9c179e\"],[0.4444444444444444,\"#bd3786\"],[0.5555555555555556,\"#d8576b\"],[0.6666666666666666,\"#ed7953\"],[0.7777777777777778,\"#fb9f3a\"],[0.8888888888888888,\"#fdca26\"],[1.0,\"#f0f921\"]],\"type\":\"histogram2dcontour\"}],\"histogram2d\":[{\"colorbar\":{\"outlinewidth\":0,\"ticks\":\"\"},\"colorscale\":[[0.0,\"#0d0887\"],[0.1111111111111111,\"#46039f\"],[0.2222222222222222,\"#7201a8\"],[0.3333333333333333,\"#9c179e\"],[0.4444444444444444,\"#bd3786\"],[0.5555555555555556,\"#d8576b\"],[0.6666666666666666,\"#ed7953\"],[0.7777777777777778,\"#fb9f3a\"],[0.8888888888888888,\"#fdca26\"],[1.0,\"#f0f921\"]],\"type\":\"histogram2d\"}],\"histogram\":[{\"marker\":{\"pattern\":{\"fillmode\":\"overlay\",\"size\":10,\"solidity\":0.2}},\"type\":\"histogram\"}],\"mesh3d\":[{\"colorbar\":{\"outlinewidth\":0,\"ticks\":\"\"},\"type\":\"mesh3d\"}],\"parcoords\":[{\"line\":{\"colorbar\":{\"outlinewidth\":0,\"ticks\":\"\"}},\"type\":\"parcoords\"}],\"pie\":[{\"automargin\":true,\"type\":\"pie\"}],\"scatter3d\":[{\"line\":{\"colorbar\":{\"outlinewidth\":0,\"ticks\":\"\"}},\"marker\":{\"colorbar\":{\"outlinewidth\":0,\"ticks\":\"\"}},\"type\":\"scatter3d\"}],\"scattercarpet\":[{\"marker\":{\"colorbar\":{\"outlinewidth\":0,\"ticks\":\"\"}},\"type\":\"scattercarpet\"}],\"scattergeo\":[{\"marker\":{\"colorbar\":{\"outlinewidth\":0,\"ticks\":\"\"}},\"type\":\"scattergeo\"}],\"scattergl\":[{\"marker\":{\"colorbar\":{\"outlinewidth\":0,\"ticks\":\"\"}},\"type\":\"scattergl\"}],\"scattermapbox\":[{\"marker\":{\"colorbar\":{\"outlinewidth\":0,\"ticks\":\"\"}},\"type\":\"scattermapbox\"}],\"scatterpolargl\":[{\"marker\":{\"colorbar\":{\"outlinewidth\":0,\"ticks\":\"\"}},\"type\":\"scatterpolargl\"}],\"scatterpolar\":[{\"marker\":{\"colorbar\":{\"outlinewidth\":0,\"ticks\":\"\"}},\"type\":\"scatterpolar\"}],\"scatter\":[{\"fillpattern\":{\"fillmode\":\"overlay\",\"size\":10,\"solidity\":0.2},\"type\":\"scatter\"}],\"scatterternary\":[{\"marker\":{\"colorbar\":{\"outlinewidth\":0,\"ticks\":\"\"}},\"type\":\"scatterternary\"}],\"surface\":[{\"colorbar\":{\"outlinewidth\":0,\"ticks\":\"\"},\"colorscale\":[[0.0,\"#0d0887\"],[0.1111111111111111,\"#46039f\"],[0.2222222222222222,\"#7201a8\"],[0.3333333333333333,\"#9c179e\"],[0.4444444444444444,\"#bd3786\"],[0.5555555555555556,\"#d8576b\"],[0.6666666666666666,\"#ed7953\"],[0.7777777777777778,\"#fb9f3a\"],[0.8888888888888888,\"#fdca26\"],[1.0,\"#f0f921\"]],\"type\":\"surface\"}],\"table\":[{\"cells\":{\"fill\":{\"color\":\"#EBF0F8\"},\"line\":{\"color\":\"white\"}},\"header\":{\"fill\":{\"color\":\"#C8D4E3\"},\"line\":{\"color\":\"white\"}},\"type\":\"table\"}]},\"layout\":{\"annotationdefaults\":{\"arrowcolor\":\"#2a3f5f\",\"arrowhead\":0,\"arrowwidth\":1},\"autotypenumbers\":\"strict\",\"coloraxis\":{\"colorbar\":{\"outlinewidth\":0,\"ticks\":\"\"}},\"colorscale\":{\"diverging\":[[0,\"#8e0152\"],[0.1,\"#c51b7d\"],[0.2,\"#de77ae\"],[0.3,\"#f1b6da\"],[0.4,\"#fde0ef\"],[0.5,\"#f7f7f7\"],[0.6,\"#e6f5d0\"],[0.7,\"#b8e186\"],[0.8,\"#7fbc41\"],[0.9,\"#4d9221\"],[1,\"#276419\"]],\"sequential\":[[0.0,\"#0d0887\"],[0.1111111111111111,\"#46039f\"],[0.2222222222222222,\"#7201a8\"],[0.3333333333333333,\"#9c179e\"],[0.4444444444444444,\"#bd3786\"],[0.5555555555555556,\"#d8576b\"],[0.6666666666666666,\"#ed7953\"],[0.7777777777777778,\"#fb9f3a\"],[0.8888888888888888,\"#fdca26\"],[1.0,\"#f0f921\"]],\"sequentialminus\":[[0.0,\"#0d0887\"],[0.1111111111111111,\"#46039f\"],[0.2222222222222222,\"#7201a8\"],[0.3333333333333333,\"#9c179e\"],[0.4444444444444444,\"#bd3786\"],[0.5555555555555556,\"#d8576b\"],[0.6666666666666666,\"#ed7953\"],[0.7777777777777778,\"#fb9f3a\"],[0.8888888888888888,\"#fdca26\"],[1.0,\"#f0f921\"]]},\"colorway\":[\"#636efa\",\"#EF553B\",\"#00cc96\",\"#ab63fa\",\"#FFA15A\",\"#19d3f3\",\"#FF6692\",\"#B6E880\",\"#FF97FF\",\"#FECB52\"],\"font\":{\"color\":\"#2a3f5f\"},\"geo\":{\"bgcolor\":\"white\",\"lakecolor\":\"white\",\"landcolor\":\"#E5ECF6\",\"showlakes\":true,\"showland\":true,\"subunitcolor\":\"white\"},\"hoverlabel\":{\"align\":\"left\"},\"hovermode\":\"closest\",\"mapbox\":{\"style\":\"light\"},\"paper_bgcolor\":\"white\",\"plot_bgcolor\":\"#E5ECF6\",\"polar\":{\"angularaxis\":{\"gridcolor\":\"white\",\"linecolor\":\"white\",\"ticks\":\"\"},\"bgcolor\":\"#E5ECF6\",\"radialaxis\":{\"gridcolor\":\"white\",\"linecolor\":\"white\",\"ticks\":\"\"}},\"scene\":{\"xaxis\":{\"backgroundcolor\":\"#E5ECF6\",\"gridcolor\":\"white\",\"gridwidth\":2,\"linecolor\":\"white\",\"showbackground\":true,\"ticks\":\"\",\"zerolinecolor\":\"white\"},\"yaxis\":{\"backgroundcolor\":\"#E5ECF6\",\"gridcolor\":\"white\",\"gridwidth\":2,\"linecolor\":\"white\",\"showbackground\":true,\"ticks\":\"\",\"zerolinecolor\":\"white\"},\"zaxis\":{\"backgroundcolor\":\"#E5ECF6\",\"gridcolor\":\"white\",\"gridwidth\":2,\"linecolor\":\"white\",\"showbackground\":true,\"ticks\":\"\",\"zerolinecolor\":\"white\"}},\"shapedefaults\":{\"line\":{\"color\":\"#2a3f5f\"}},\"ternary\":{\"aaxis\":{\"gridcolor\":\"white\",\"linecolor\":\"white\",\"ticks\":\"\"},\"baxis\":{\"gridcolor\":\"white\",\"linecolor\":\"white\",\"ticks\":\"\"},\"bgcolor\":\"#E5ECF6\",\"caxis\":{\"gridcolor\":\"white\",\"linecolor\":\"white\",\"ticks\":\"\"}},\"title\":{\"x\":0.05},\"xaxis\":{\"automargin\":true,\"gridcolor\":\"white\",\"linecolor\":\"white\",\"ticks\":\"\",\"title\":{\"standoff\":15},\"zerolinecolor\":\"white\",\"zerolinewidth\":2},\"yaxis\":{\"automargin\":true,\"gridcolor\":\"white\",\"linecolor\":\"white\",\"ticks\":\"\",\"title\":{\"standoff\":15},\"zerolinecolor\":\"white\",\"zerolinewidth\":2}}},\"updatemenus\":[{\"buttons\":[{\"args\":[{\"y\":[[0.44182029366493225,0.3120461404323578],[0.44182029366493225,0.3120461404323578],[2469538,1475378],[0.3932854337075872,0.3932854337075872]]},{\"xaxis\":{\"showticklabels\":false,\"tickmode\":\"array\",\"ticktext\":[\"(-inf, 2819.5000]\",\"(2819.5000, +inf)\"],\"tickvals\":[0,1],\"title\":{\"text\":\"Bins\"}}}],\"label\":\"Flight_Number_Operating_Airline\",\"method\":\"update\"},{\"args\":[{\"y\":[[0.40884384512901306,0.3916504681110382],[0.40884384512901306,0.3916504681110382],[375131,3569785],[0.3932854337075872,0.3932854337075872]]},{\"xaxis\":{\"showticklabels\":false,\"tickmode\":\"array\",\"ticktext\":[\"(-inf, 3.5000]\",\"(3.5000, +inf)\"],\"tickvals\":[0,1],\"title\":{\"text\":\"Bins\"}}}],\"label\":\"DayofMonth\",\"method\":\"update\"},{\"args\":[{\"y\":[[0.24678517878055573,0.2517869174480438,0.30141469836235046,0.29775890707969666,0.43117237091064453,0.5104461908340454],[0.24678517878055573,0.2517869174480438,0.30141469836235046,0.29775890707969666,0.43117237091064453,0.5104461908340454],[834183,7415,18025,139932,2608683,336678],[0.3932854337075872,0.3932854337075872,0.3932854337075872,0.3932854337075872,0.3932854337075872,0.3932854337075872]]},{\"xaxis\":{\"showticklabels\":false,\"tickmode\":\"array\",\"ticktext\":[\"(-inf, 835.5000]\",\"(835.5000, 839.5000]\",\"(839.5000, 843.5000]\",\"(843.5000, 915.5000]\",\"(915.5000, 2030.5000]\",\"(2030.5000, +inf)\"],\"tickvals\":[0,1,2,3,4,5],\"title\":{\"text\":\"Bins\"}}}],\"label\":\"CRSDepTime\",\"method\":\"update\"},{\"args\":[{\"y\":[[0.3726828694343567,0.5872712731361389],[0.3726828694343567,0.5872712731361389],[3566166,378750],[0.3932854337075872,0.3932854337075872]]},{\"xaxis\":{\"showticklabels\":false,\"tickmode\":\"array\",\"ticktext\":[\"(-inf, 2033.5000]\",\"(2033.5000, +inf)\"],\"tickvals\":[0,1],\"title\":{\"text\":\"Bins\"}}}],\"label\":\"DepTime\",\"method\":\"update\"},{\"args\":[{\"y\":[[0.3948826789855957,0.39228296279907227,0.3834388256072998,0.2802419364452362,0.3694835901260376,0.3386276960372925,0.3497975766658783,0.25504031777381897,0.3958183228969574],[0.3948826789855957,0.39228296279907227,0.3834388256072998,0.2802419364452362,0.3694835901260376,0.3386276960372925,0.3497975766658783,0.25504031777381897,0.3958183228969574],[2670112,2488,9480,1488,260201,1574,2470,992,996111],[0.3932854337075872,0.3932854337075872,0.3932854337075872,0.3932854337075872,0.3932854337075872,0.3932854337075872,0.3932854337075872,0.3932854337075872,0.3932854337075872]]},{\"xaxis\":{\"showticklabels\":false,\"tickmode\":\"array\",\"ticktext\":[\"(-inf, 13498.5000]\",\"(13498.5000, 13559.0000]\",\"(13559.0000, 13686.0000]\",\"(13686.0000, 13795.5000]\",\"(13795.5000, 13932.0000]\",\"(13932.0000, 13993.5000]\",\"(13993.5000, 14005.0000]\",\"(14005.0000, 14026.0000]\",\"(14026.0000, +inf)\"],\"tickvals\":[0,1,2,3,4,5,6,7,8],\"title\":{\"text\":\"Bins\"}}}],\"label\":\"DestAirportID\",\"method\":\"update\"},{\"args\":[{\"y\":[[0.0,1.0],[0.0,1.0],[2393438,1551478],[0.0,1.0]]},{\"xaxis\":{\"showticklabels\":false,\"tickmode\":\"array\",\"ticktext\":[\"(-inf, 0.5000]\",\"(0.5000, +inf)\"],\"tickvals\":[0,1],\"title\":{\"text\":\"Bins\"}}}],\"label\":\"DepDelayMinutes\",\"method\":\"update\"}],\"direction\":\"down\",\"pad\":{\"r\":10,\"t\":10},\"showactive\":true,\"x\":0.25,\"xanchor\":\"left\",\"y\":1.09,\"yanchor\":\"top\"}],\"xaxis\":{\"showticklabels\":false,\"tickmode\":\"array\",\"ticktext\":[\"(-inf, 2819.5000]\",\"(2819.5000, +inf)\"],\"tickvals\":[0,1],\"title\":{\"text\":\"Bins\"}},\"yaxis\":{\"overlaying\":\"y2\",\"side\":\"left\",\"title\":{\"text\":\"Prediction and target\"}},\"yaxis2\":{\"position\":1.0,\"side\":\"right\",\"title\":{\"text\":\"Objects per bin\"}}},                        {\"responsive\": true}                    ).then(function(){\n",
       "                            \n",
       "var gd = document.getElementById('6151d72b-5833-4be6-992a-314bf7fd9dfc');\n",
       "var x = new MutationObserver(function (mutations, observer) {{\n",
       "        var display = window.getComputedStyle(gd).display;\n",
       "        if (!display || display === 'none') {{\n",
       "            console.log([gd, 'removed!']);\n",
       "            Plotly.purge(gd);\n",
       "            observer.disconnect();\n",
       "        }}\n",
       "}});\n",
       "\n",
       "// Listen for the removal of the full notebook cells\n",
       "var notebookContainer = gd.closest('#notebook-container');\n",
       "if (notebookContainer) {{\n",
       "    x.observe(notebookContainer, {childList: true});\n",
       "}}\n",
       "\n",
       "// Listen for the clearing of the current output cell\n",
       "var outputEl = gd.closest('.output');\n",
       "if (outputEl) {{\n",
       "    x.observe(outputEl, {childList: true});\n",
       "}}\n",
       "\n",
       "                        })                };                });            </script>        </div>"
      ]
     },
     "metadata": {},
     "output_type": "display_data"
    }
   ],
   "source": [
    "# Calculate and plot a set of statistics for the chosen feature.\n",
    "\n",
    "plot = cb_model.calc_feature_statistics(df_clean,\n",
    "                        target=train_labels,\n",
    "                        feature=train_data,\n",
    "                        prediction_type='Class',\n",
    "                        cat_feature_values=None,\n",
    "                        plot=True,\n",
    "                        max_cat_features_on_plot=10,\n",
    "                        thread_count=-1,\n",
    "                        plot_file=None)"
   ]
  }
 ],
 "metadata": {
  "kernelspec": {
   "display_name": "base",
   "language": "python",
   "name": "python3"
  },
  "language_info": {
   "codemirror_mode": {
    "name": "ipython",
    "version": 3
   },
   "file_extension": ".py",
   "mimetype": "text/x-python",
   "name": "python",
   "nbconvert_exporter": "python",
   "pygments_lexer": "ipython3",
   "version": "3.9.13"
  },
  "orig_nbformat": 4
 },
 "nbformat": 4,
 "nbformat_minor": 2
}
