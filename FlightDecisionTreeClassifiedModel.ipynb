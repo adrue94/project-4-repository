{
  "nbformat": 4,
  "nbformat_minor": 0,
  "metadata": {
    "colab": {
      "provenance": []
    },
    "kernelspec": {
      "name": "python3",
      "display_name": "Python 3"
    },
    "language_info": {
      "name": "python"
    }
  },
  "cells": [
    {
      "cell_type": "code",
      "execution_count": 20,
      "metadata": {
        "colab": {
          "base_uri": "https://localhost:8080/"
        },
        "id": "N1blQI47Jkw8",
        "outputId": "b6a35f35-d824-477f-bd0f-0d13819b4b98"
      },
      "outputs": [
        {
          "output_type": "stream",
          "name": "stdout",
          "text": [
            "\r0% [Working]\r            \rHit:1 http://security.ubuntu.com/ubuntu jammy-security InRelease\n",
            "\r0% [Connecting to archive.ubuntu.com] [Waiting for headers] [Connecting to ppa.\r                                                                               \rHit:2 https://cloud.r-project.org/bin/linux/ubuntu jammy-cran40/ InRelease\n",
            "Hit:3 https://developer.download.nvidia.com/compute/cuda/repos/ubuntu2204/x86_64  InRelease\n",
            "Hit:4 http://archive.ubuntu.com/ubuntu jammy InRelease\n",
            "Hit:5 http://archive.ubuntu.com/ubuntu jammy-updates InRelease\n",
            "Hit:6 http://archive.ubuntu.com/ubuntu jammy-backports InRelease\n",
            "Hit:7 https://ppa.launchpadcontent.net/c2d4u.team/c2d4u4.0+/ubuntu jammy InRelease\n",
            "Hit:8 https://ppa.launchpadcontent.net/deadsnakes/ppa/ubuntu jammy InRelease\n",
            "Hit:9 https://ppa.launchpadcontent.net/graphics-drivers/ppa/ubuntu jammy InRelease\n",
            "Hit:10 https://ppa.launchpadcontent.net/ubuntugis/ppa/ubuntu jammy InRelease\n",
            "Reading package lists... Done\n"
          ]
        }
      ],
      "source": [
        "import os\n",
        "# Find the latest version of spark 3.x  from http://www.apache.org/dist/spark/ and enter as the spark version\n",
        "# For example:\n",
        "# spark_version = 'spark-3.4.0'\n",
        "spark_version = 'spark-3.4.0'\n",
        "os.environ['SPARK_VERSION']=spark_version\n",
        "\n",
        "# Install Spark and Java\n",
        "!apt-get update\n",
        "!apt-get install openjdk-11-jdk-headless -qq > /dev/null\n",
        "!wget -q http://www.apache.org/dist/spark/$SPARK_VERSION/$SPARK_VERSION-bin-hadoop3.tgz\n",
        "!tar xf $SPARK_VERSION-bin-hadoop3.tgz\n",
        "!pip install -q findspark\n",
        "\n",
        "# Set Environment Variables\n",
        "os.environ[\"JAVA_HOME\"] = \"/usr/lib/jvm/java-11-openjdk-amd64\"\n",
        "os.environ[\"SPARK_HOME\"] = f\"/content/{spark_version}-bin-hadoop3\"\n",
        "\n",
        "# Start a SparkSession\n",
        "import findspark\n",
        "findspark.init()"
      ]
    },
    {
      "cell_type": "code",
      "source": [
        "# Import packages\n",
        "from pyspark.sql import SparkSession\n",
        "from pyspark.sql.functions import round\n",
        "from pyspark.ml.feature import StringIndexer\n",
        "from pyspark.sql.functions import col\n",
        "from pyspark.ml.feature import VectorAssembler\n",
        "# Import the DecisionTreeClassifier\n",
        "from pyspark.ml.classification import DecisionTreeClassifier\n",
        "from pyspark.ml.evaluation import MulticlassClassificationEvaluator\n",
        "\n",
        "import time\n",
        "\n",
        "# Create a SparkSession\n",
        "spark = SparkSession.builder.appName(\"SparkSQL\").getOrCreate()"
      ],
      "metadata": {
        "id": "5NH6-k-JJqqB"
      },
      "execution_count": 22,
      "outputs": []
    },
    {
      "cell_type": "code",
      "source": [
        "from google.colab import drive\n",
        "drive.mount('/content/drive')\n"
      ],
      "metadata": {
        "colab": {
          "base_uri": "https://localhost:8080/"
        },
        "id": "TnNHqPtvMprR",
        "outputId": "fc342e1e-e8eb-4150-ceac-17a1803d0f39"
      },
      "execution_count": 23,
      "outputs": [
        {
          "output_type": "stream",
          "name": "stdout",
          "text": [
            "Drive already mounted at /content/drive; to attempt to forcibly remount, call drive.mount(\"/content/drive\", force_remount=True).\n"
          ]
        }
      ]
    },
    {
      "cell_type": "code",
      "source": [
        "# Create a SparkSession\n",
        "spark = SparkSession.builder.appName(\"LocalCSVToDataFrame\").getOrCreate()\n",
        "\n",
        "# Define the path to your local CSV file\n",
        "drive_csv_path = \"drive/MyDrive/Data/Combined_Flights_2022.csv\"\n",
        "\n",
        "# Read the local CSV file into a DataFrame\n",
        "flights_df = spark.read.csv(drive_csv_path, sep=\",\", header=True)\n",
        "flightdata1 = flights_df.limit(1000001)\n",
        "\n",
        "# Show the DataFrame\n",
        "flightdata1\n",
        "\n"
      ],
      "metadata": {
        "colab": {
          "base_uri": "https://localhost:8080/"
        },
        "id": "LrY086jjJqt-",
        "outputId": "9995b75a-cfdc-46ed-f9fe-4f0cd1376d40"
      },
      "execution_count": 24,
      "outputs": [
        {
          "output_type": "execute_result",
          "data": {
            "text/plain": [
              "DataFrame[FlightDate: string, Airline: string, Origin: string, Dest: string, Cancelled: string, Diverted: string, CRSDepTime: string, DepTime: string, DepDelayMinutes: string, DepDelay: string, ArrTime: string, ArrDelayMinutes: string, AirTime: string, CRSElapsedTime: string, ActualElapsedTime: string, Distance: string, Year: string, Quarter: string, Month: string, DayofMonth: string, DayOfWeek: string, Marketing_Airline_Network: string, Operated_or_Branded_Code_Share_Partners: string, DOT_ID_Marketing_Airline: string, IATA_Code_Marketing_Airline: string, Flight_Number_Marketing_Airline: string, Operating_Airline: string, DOT_ID_Operating_Airline: string, IATA_Code_Operating_Airline: string, Tail_Number: string, Flight_Number_Operating_Airline: string, OriginAirportID: string, OriginAirportSeqID: string, OriginCityMarketID: string, OriginCityName: string, OriginState: string, OriginStateFips: string, OriginStateName: string, OriginWac: string, DestAirportID: string, DestAirportSeqID: string, DestCityMarketID: string, DestCityName: string, DestState: string, DestStateFips: string, DestStateName: string, DestWac: string, DepDel15: string, DepartureDelayGroups: string, DepTimeBlk: string, TaxiOut: string, WheelsOff: string, WheelsOn: string, TaxiIn: string, CRSArrTime: string, ArrDelay: string, ArrDel15: string, ArrivalDelayGroups: string, ArrTimeBlk: string, DistanceGroup: string, DivAirportLandings: string]"
            ]
          },
          "metadata": {},
          "execution_count": 24
        }
      ]
    },
    {
      "cell_type": "markdown",
      "source": [
        "Pre Processing\n"
      ],
      "metadata": {
        "id": "NzPTkOyytfGq"
      }
    },
    {
      "cell_type": "code",
      "source": [
        "# Fill NAN values with '0'\n",
        "flights_df = flightdata1.fillna(0)\n",
        "flights_df"
      ],
      "metadata": {
        "colab": {
          "base_uri": "https://localhost:8080/"
        },
        "id": "kwewJl9Tg3Hs",
        "outputId": "c170c1e9-411f-46f4-db10-cee8fe3dfcac"
      },
      "execution_count": 25,
      "outputs": [
        {
          "output_type": "execute_result",
          "data": {
            "text/plain": [
              "DataFrame[FlightDate: string, Airline: string, Origin: string, Dest: string, Cancelled: string, Diverted: string, CRSDepTime: string, DepTime: string, DepDelayMinutes: string, DepDelay: string, ArrTime: string, ArrDelayMinutes: string, AirTime: string, CRSElapsedTime: string, ActualElapsedTime: string, Distance: string, Year: string, Quarter: string, Month: string, DayofMonth: string, DayOfWeek: string, Marketing_Airline_Network: string, Operated_or_Branded_Code_Share_Partners: string, DOT_ID_Marketing_Airline: string, IATA_Code_Marketing_Airline: string, Flight_Number_Marketing_Airline: string, Operating_Airline: string, DOT_ID_Operating_Airline: string, IATA_Code_Operating_Airline: string, Tail_Number: string, Flight_Number_Operating_Airline: string, OriginAirportID: string, OriginAirportSeqID: string, OriginCityMarketID: string, OriginCityName: string, OriginState: string, OriginStateFips: string, OriginStateName: string, OriginWac: string, DestAirportID: string, DestAirportSeqID: string, DestCityMarketID: string, DestCityName: string, DestState: string, DestStateFips: string, DestStateName: string, DestWac: string, DepDel15: string, DepartureDelayGroups: string, DepTimeBlk: string, TaxiOut: string, WheelsOff: string, WheelsOn: string, TaxiIn: string, CRSArrTime: string, ArrDelay: string, ArrDel15: string, ArrivalDelayGroups: string, ArrTimeBlk: string, DistanceGroup: string, DivAirportLandings: string]"
            ]
          },
          "metadata": {},
          "execution_count": 25
        }
      ]
    },
    {
      "cell_type": "code",
      "source": [
        "# Dropping non-beneficial columns\n",
        "\n",
        "columns_to_drop = ['FlightDate', 'Year', 'Quarter', 'Month', 'DayofMonth', 'DayOfWeek', 'Marketing_Airline_Network', 'Operated_or_Branded_Code_Share_Partners', 'DOT_ID_Marketing_Airline', 'IATA_Code_Marketing_Airline', 'Operating_Airline', 'DOT_ID_Operating_Airline', 'IATA_Code_Operating_Airline', 'Tail_Number', 'Flight_Number_Operating_Airline', 'OriginAirportID', 'OriginAirportSeqID', 'OriginCityMarketID', 'OriginCityName', 'OriginState', 'OriginStateFips', 'OriginStateName', 'OriginWac', 'DestAirportID', 'DestAirportSeqID', 'DestCityMarketID', 'DestCityName', 'DestState', 'DestStateFips', 'DestStateName', 'DestWac', 'ArrDel15', 'ArrivalDelayGroups', 'DivAirportLandings', 'DepTimeBlk', 'TaxiOut', 'WheelsOff', 'WheelsOn', 'TaxiIn', 'ArrTimeBlk', 'DistanceGroup', 'DepartureDelayGroups', 'Diverted', 'CRSElapsedTime', 'ActualElapsedTime']\n",
        "\n",
        "df = flights_df.drop(*columns_to_drop)\n"
      ],
      "metadata": {
        "id": "_jEuHuBLisgC"
      },
      "execution_count": 26,
      "outputs": []
    },
    {
      "cell_type": "code",
      "source": [
        "# Remove the 'flight number' column\n",
        "flights_df =  flights_df.drop('Flight_Number_Marketing_Airline', 'Flight_Number_Operating_Airline')\n",
        "\n",
        "# Remove records with missing 'delay' values\n",
        "#flights_valid_delay = flight_drop_column.filter('delay IS NOT NULL')\n",
        "\n",
        "# Remove records with missing values\n",
        "flights_df = flights_df.dropna()\n",
        "print(flights_df.count())"
      ],
      "metadata": {
        "colab": {
          "base_uri": "https://localhost:8080/"
        },
        "id": "6EiXW6relrKT",
        "outputId": "1128dd40-53f9-40de-f41d-eaff67493ca2"
      },
      "execution_count": 27,
      "outputs": [
        {
          "output_type": "stream",
          "name": "stdout",
          "text": [
            "966404\n"
          ]
        }
      ]
    },
    {
      "cell_type": "code",
      "source": [
        "# Convert miles to kilometers and drop the 'Distance' column\n",
        "flights_km = flights_df.withColumn('Distance_km', round(flights_df.Distance * 1.60934, 2)).drop('Distance')\n",
        "\n",
        "# Create 'label' column indicating whether a flight is delayed or not\n",
        "flights_km = flights_km.withColumn('label', (flights_km.ArrDel15 >= 15).cast('integer'))\n",
        "\n",
        "# Show the first five records\n",
        "flights_km.show(5)\n"
      ],
      "metadata": {
        "colab": {
          "base_uri": "https://localhost:8080/"
        },
        "id": "j0lOyZwkQVdi",
        "outputId": "81c71d18-ce89-4dd1-f40c-54420a48f611"
      },
      "execution_count": 28,
      "outputs": [
        {
          "output_type": "stream",
          "name": "stdout",
          "text": [
            "+----------+--------------------+------+----+---------+--------+----------+-------+---------------+--------+-------+---------------+-------+--------------+-----------------+----+-------+-----+----------+---------+-------------------------+---------------------------------------+------------------------+---------------------------+-----------------+------------------------+---------------------------+-----------+---------------+------------------+------------------+--------------------+-----------+---------------+---------------+---------+-------------+----------------+----------------+-------------------+---------+-------------+-------------+-------+--------+--------------------+----------+-------+---------+--------+------+----------+--------+--------+------------------+----------+-------------+------------------+-----------+-----+\n",
            "|FlightDate|             Airline|Origin|Dest|Cancelled|Diverted|CRSDepTime|DepTime|DepDelayMinutes|DepDelay|ArrTime|ArrDelayMinutes|AirTime|CRSElapsedTime|ActualElapsedTime|Year|Quarter|Month|DayofMonth|DayOfWeek|Marketing_Airline_Network|Operated_or_Branded_Code_Share_Partners|DOT_ID_Marketing_Airline|IATA_Code_Marketing_Airline|Operating_Airline|DOT_ID_Operating_Airline|IATA_Code_Operating_Airline|Tail_Number|OriginAirportID|OriginAirportSeqID|OriginCityMarketID|      OriginCityName|OriginState|OriginStateFips|OriginStateName|OriginWac|DestAirportID|DestAirportSeqID|DestCityMarketID|       DestCityName|DestState|DestStateFips|DestStateName|DestWac|DepDel15|DepartureDelayGroups|DepTimeBlk|TaxiOut|WheelsOff|WheelsOn|TaxiIn|CRSArrTime|ArrDelay|ArrDel15|ArrivalDelayGroups|ArrTimeBlk|DistanceGroup|DivAirportLandings|Distance_km|label|\n",
            "+----------+--------------------+------+----+---------+--------+----------+-------+---------------+--------+-------+---------------+-------+--------------+-----------------+----+-------+-----+----------+---------+-------------------------+---------------------------------------+------------------------+---------------------------+-----------------+------------------------+---------------------------+-----------+---------------+------------------+------------------+--------------------+-----------+---------------+---------------+---------+-------------+----------------+----------------+-------------------+---------+-------------+-------------+-------+--------+--------------------+----------+-------+---------+--------+------+----------+--------+--------+------------------+----------+-------------+------------------+-----------+-----+\n",
            "|2022-04-04|Commutair Aka Cha...|   GJT| DEN|    False|   False|      1133| 1123.0|            0.0|   -10.0| 1228.0|            0.0|   40.0|          72.0|             65.0|2022|      2|    4|         4|        1|                       UA|                           UA_CODESHARE|                   19977|                         UA|               C5|                   20445|                         C5|     N21144|          11921|           1192102|             31921|  Grand Junction, CO|         CO|              8|       Colorado|       82|        11292|         1129202|           30325|         Denver, CO|       CO|            8|     Colorado|     82|     0.0|                -1.0| 1100-1159|   17.0|   1140.0|  1220.0|   8.0|      1245|   -17.0|     0.0|              -2.0| 1200-1259|            1|                 0|     341.18|    0|\n",
            "|2022-04-04|Commutair Aka Cha...|   HRL| IAH|    False|   False|       732|  728.0|            0.0|    -4.0|  848.0|            0.0|   55.0|          77.0|             80.0|2022|      2|    4|         4|        1|                       UA|                           UA_CODESHARE|                   19977|                         UA|               C5|                   20445|                         C5|     N16170|          12206|           1220605|             32206|Harlingen/San Ben...|         TX|             48|          Texas|       74|        12266|         1226603|           31453|        Houston, TX|       TX|           48|        Texas|     74|     0.0|                -1.0| 0700-0759|   16.0|    744.0|   839.0|   9.0|       849|    -1.0|     0.0|              -1.0| 0800-0859|            2|                 0|     474.76|    0|\n",
            "|2022-04-04|Commutair Aka Cha...|   DRO| DEN|    False|   False|      1529| 1514.0|            0.0|   -15.0| 1636.0|            0.0|   47.0|          70.0|             82.0|2022|      2|    4|         4|        1|                       UA|                           UA_CODESHARE|                   19977|                         UA|               C5|                   20445|                         C5|     N21144|          11413|           1141307|             30285|         Durango, CO|         CO|              8|       Colorado|       82|        11292|         1129202|           30325|         Denver, CO|       CO|            8|     Colorado|     82|     0.0|                -1.0| 1500-1559|   21.0|   1535.0|  1622.0|  14.0|      1639|    -3.0|     0.0|              -1.0| 1600-1659|            2|                 0|     403.94|    0|\n",
            "|2022-04-04|Commutair Aka Cha...|   IAH| GPT|    False|   False|      1435| 1430.0|            0.0|    -5.0| 1547.0|            0.0|   57.0|          90.0|             77.0|2022|      2|    4|         4|        1|                       UA|                           UA_CODESHARE|                   19977|                         UA|               C5|                   20445|                         C5|     N11184|          12266|           1226603|             31453|         Houston, TX|         TX|             48|          Texas|       74|        11973|         1197302|           31973|Gulfport/Biloxi, MS|       MS|           28|  Mississippi|     53|     0.0|                -1.0| 1400-1459|   16.0|   1446.0|  1543.0|   4.0|      1605|   -18.0|     0.0|              -2.0| 1600-1659|            2|                 0|     605.11|    0|\n",
            "|2022-04-04|Commutair Aka Cha...|   DRO| DEN|    False|   False|      1135| 1135.0|            0.0|     0.0| 1251.0|            6.0|   49.0|          70.0|             76.0|2022|      2|    4|         4|        1|                       UA|                           UA_CODESHARE|                   19977|                         UA|               C5|                   20445|                         C5|     N17146|          11413|           1141307|             30285|         Durango, CO|         CO|              8|       Colorado|       82|        11292|         1129202|           30325|         Denver, CO|       CO|            8|     Colorado|     82|     0.0|                 0.0| 1100-1159|   19.0|   1154.0|  1243.0|   8.0|      1245|     6.0|     0.0|               0.0| 1200-1259|            2|                 0|     403.94|    0|\n",
            "+----------+--------------------+------+----+---------+--------+----------+-------+---------------+--------+-------+---------------+-------+--------------+-----------------+----+-------+-----+----------+---------+-------------------------+---------------------------------------+------------------------+---------------------------+-----------------+------------------------+---------------------------+-----------+---------------+------------------+------------------+--------------------+-----------+---------------+---------------+---------+-------------+----------------+----------------+-------------------+---------+-------------+-------------+-------+--------+--------------------+----------+-------+---------+--------+------+----------+--------+--------+------------------+----------+-------------+------------------+-----------+-----+\n",
            "only showing top 5 rows\n",
            "\n"
          ]
        }
      ]
    },
    {
      "cell_type": "code",
      "source": [
        "# Index 'Origin' column\n",
        "try:\n",
        "    flights_indexed = StringIndexer(inputCol='Origin', outputCol='Origin_idx').fit(flights_km).transform(flights_km)\n",
        "except Exception as e:\n",
        "    print(\"Error:\", e)\n",
        "\n",
        "# Check the first few records of the DataFrame\n",
        "flights_indexed.show(5)\n",
        "\n"
      ],
      "metadata": {
        "colab": {
          "base_uri": "https://localhost:8080/"
        },
        "id": "u3Wc6fdRU91x",
        "outputId": "d2d0a6eb-0afa-4b45-d28a-53b7338fea72"
      },
      "execution_count": 29,
      "outputs": [
        {
          "output_type": "stream",
          "name": "stdout",
          "text": [
            "+----------+--------------------+------+----+---------+--------+----------+-------+---------------+--------+-------+---------------+-------+--------------+-----------------+----+-------+-----+----------+---------+-------------------------+---------------------------------------+------------------------+---------------------------+-----------------+------------------------+---------------------------+-----------+---------------+------------------+------------------+--------------------+-----------+---------------+---------------+---------+-------------+----------------+----------------+-------------------+---------+-------------+-------------+-------+--------+--------------------+----------+-------+---------+--------+------+----------+--------+--------+------------------+----------+-------------+------------------+-----------+-----+----------+\n",
            "|FlightDate|             Airline|Origin|Dest|Cancelled|Diverted|CRSDepTime|DepTime|DepDelayMinutes|DepDelay|ArrTime|ArrDelayMinutes|AirTime|CRSElapsedTime|ActualElapsedTime|Year|Quarter|Month|DayofMonth|DayOfWeek|Marketing_Airline_Network|Operated_or_Branded_Code_Share_Partners|DOT_ID_Marketing_Airline|IATA_Code_Marketing_Airline|Operating_Airline|DOT_ID_Operating_Airline|IATA_Code_Operating_Airline|Tail_Number|OriginAirportID|OriginAirportSeqID|OriginCityMarketID|      OriginCityName|OriginState|OriginStateFips|OriginStateName|OriginWac|DestAirportID|DestAirportSeqID|DestCityMarketID|       DestCityName|DestState|DestStateFips|DestStateName|DestWac|DepDel15|DepartureDelayGroups|DepTimeBlk|TaxiOut|WheelsOff|WheelsOn|TaxiIn|CRSArrTime|ArrDelay|ArrDel15|ArrivalDelayGroups|ArrTimeBlk|DistanceGroup|DivAirportLandings|Distance_km|label|Origin_idx|\n",
            "+----------+--------------------+------+----+---------+--------+----------+-------+---------------+--------+-------+---------------+-------+--------------+-----------------+----+-------+-----+----------+---------+-------------------------+---------------------------------------+------------------------+---------------------------+-----------------+------------------------+---------------------------+-----------+---------------+------------------+------------------+--------------------+-----------+---------------+---------------+---------+-------------+----------------+----------------+-------------------+---------+-------------+-------------+-------+--------+--------------------+----------+-------+---------+--------+------+----------+--------+--------+------------------+----------+-------------+------------------+-----------+-----+----------+\n",
            "|2022-04-04|Commutair Aka Cha...|   GJT| DEN|    False|   False|      1133| 1123.0|            0.0|   -10.0| 1228.0|            0.0|   40.0|          72.0|             65.0|2022|      2|    4|         4|        1|                       UA|                           UA_CODESHARE|                   19977|                         UA|               C5|                   20445|                         C5|     N21144|          11921|           1192102|             31921|  Grand Junction, CO|         CO|              8|       Colorado|       82|        11292|         1129202|           30325|         Denver, CO|       CO|            8|     Colorado|     82|     0.0|                -1.0| 1100-1159|   17.0|   1140.0|  1220.0|   8.0|      1245|   -17.0|     0.0|              -2.0| 1200-1259|            1|                 0|     341.18|    0|     161.0|\n",
            "|2022-04-04|Commutair Aka Cha...|   HRL| IAH|    False|   False|       732|  728.0|            0.0|    -4.0|  848.0|            0.0|   55.0|          77.0|             80.0|2022|      2|    4|         4|        1|                       UA|                           UA_CODESHARE|                   19977|                         UA|               C5|                   20445|                         C5|     N16170|          12206|           1220605|             32206|Harlingen/San Ben...|         TX|             48|          Texas|       74|        12266|         1226603|           31453|        Houston, TX|       TX|           48|        Texas|     74|     0.0|                -1.0| 0700-0759|   16.0|    744.0|   839.0|   9.0|       849|    -1.0|     0.0|              -1.0| 0800-0859|            2|                 0|     474.76|    0|     159.0|\n",
            "|2022-04-04|Commutair Aka Cha...|   DRO| DEN|    False|   False|      1529| 1514.0|            0.0|   -15.0| 1636.0|            0.0|   47.0|          70.0|             82.0|2022|      2|    4|         4|        1|                       UA|                           UA_CODESHARE|                   19977|                         UA|               C5|                   20445|                         C5|     N21144|          11413|           1141307|             30285|         Durango, CO|         CO|              8|       Colorado|       82|        11292|         1129202|           30325|         Denver, CO|       CO|            8|     Colorado|     82|     0.0|                -1.0| 1500-1559|   21.0|   1535.0|  1622.0|  14.0|      1639|    -3.0|     0.0|              -1.0| 1600-1659|            2|                 0|     403.94|    0|     165.0|\n",
            "|2022-04-04|Commutair Aka Cha...|   IAH| GPT|    False|   False|      1435| 1430.0|            0.0|    -5.0| 1547.0|            0.0|   57.0|          90.0|             77.0|2022|      2|    4|         4|        1|                       UA|                           UA_CODESHARE|                   19977|                         UA|               C5|                   20445|                         C5|     N11184|          12266|           1226603|             31453|         Houston, TX|         TX|             48|          Texas|       74|        11973|         1197302|           31973|Gulfport/Biloxi, MS|       MS|           28|  Mississippi|     53|     0.0|                -1.0| 1400-1459|   16.0|   1446.0|  1543.0|   4.0|      1605|   -18.0|     0.0|              -2.0| 1600-1659|            2|                 0|     605.11|    0|      16.0|\n",
            "|2022-04-04|Commutair Aka Cha...|   DRO| DEN|    False|   False|      1135| 1135.0|            0.0|     0.0| 1251.0|            6.0|   49.0|          70.0|             76.0|2022|      2|    4|         4|        1|                       UA|                           UA_CODESHARE|                   19977|                         UA|               C5|                   20445|                         C5|     N17146|          11413|           1141307|             30285|         Durango, CO|         CO|              8|       Colorado|       82|        11292|         1129202|           30325|         Denver, CO|       CO|            8|     Colorado|     82|     0.0|                 0.0| 1100-1159|   19.0|   1154.0|  1243.0|   8.0|      1245|     6.0|     0.0|               0.0| 1200-1259|            2|                 0|     403.94|    0|     165.0|\n",
            "+----------+--------------------+------+----+---------+--------+----------+-------+---------------+--------+-------+---------------+-------+--------------+-----------------+----+-------+-----+----------+---------+-------------------------+---------------------------------------+------------------------+---------------------------+-----------------+------------------------+---------------------------+-----------+---------------+------------------+------------------+--------------------+-----------+---------------+---------------+---------+-------------+----------------+----------------+-------------------+---------+-------------+-------------+-------+--------+--------------------+----------+-------+---------+--------+------+----------+--------+--------+------------------+----------+-------------+------------------+-----------+-----+----------+\n",
            "only showing top 5 rows\n",
            "\n"
          ]
        }
      ]
    },
    {
      "cell_type": "code",
      "source": [
        "# Convert relevant columns to the appropriate data types\n",
        "flights_indexed = flights_indexed.withColumn(\"DepDelayMinutes\", col(\"DepDelayMinutes\").cast(\"double\"))\n",
        "flights_indexed = flights_indexed.withColumn(\"AirTime\", col(\"AirTime\").cast(\"double\"))\n",
        "flights_indexed = flights_indexed.withColumn(\"Distance_km\", col(\"Distance_km\").cast(\"double\"))\n",
        "flights_indexed = flights_indexed.withColumn(\"DepDel15\", col(\"DepDel15\").cast(\"integer\"))\n",
        "flights_indexed = flights_indexed.withColumn(\"ArrDel15\", col(\"ArrDel15\").cast(\"integer\"))\n",
        "\n",
        "# Define the columns to include in the feature vector\n",
        "input_columns = [\n",
        "    'DepDelayMinutes', 'AirTime', 'Distance_km', 'DepDel15'\n",
        "]\n",
        "\n",
        "# Create a VectorAssembler object\n",
        "assembler = VectorAssembler(inputCols=input_columns, outputCol='features')\n",
        "\n",
        "# Consolidate predictor columns\n",
        "flights_assembled = assembler.transform(flights_indexed)\n",
        "\n",
        "# Check the resulting column\n",
        "flights_assembled.select('features', 'ArrDel15').show(5, truncate=False)\n",
        "\n"
      ],
      "metadata": {
        "colab": {
          "base_uri": "https://localhost:8080/"
        },
        "id": "T0KnO2itQVky",
        "outputId": "b6a53b89-fea9-4c4a-934f-8e57c3d93a4c"
      },
      "execution_count": 30,
      "outputs": [
        {
          "output_type": "stream",
          "name": "stdout",
          "text": [
            "+---------------------+--------+\n",
            "|features             |ArrDel15|\n",
            "+---------------------+--------+\n",
            "|[0.0,40.0,341.18,0.0]|0       |\n",
            "|[0.0,55.0,474.76,0.0]|0       |\n",
            "|[0.0,47.0,403.94,0.0]|0       |\n",
            "|[0.0,57.0,605.11,0.0]|0       |\n",
            "|[0.0,49.0,403.94,0.0]|0       |\n",
            "+---------------------+--------+\n",
            "only showing top 5 rows\n",
            "\n"
          ]
        }
      ]
    },
    {
      "cell_type": "code",
      "source": [
        "# Convert relevant columns to the appropriate data types\n",
        "flights_indexed = flights_indexed.withColumn(\"DepDelayMinutes\", col(\"DepDelayMinutes\").cast(\"double\"))\n",
        "flights_indexed = flights_indexed.withColumn(\"AirTime\", col(\"AirTime\").cast(\"double\"))\n",
        "flights_indexed = flights_indexed.withColumn(\"Distance_km\", col(\"Distance_km\").cast(\"double\"))\n",
        "flights_indexed = flights_indexed.withColumn(\"DepDel15\", col(\"DepDel15\").cast(\"integer\"))\n",
        "flights_indexed = flights_indexed.withColumn(\"ArrDel15\", col(\"ArrDel15\").cast(\"integer\"))\n",
        "\n",
        "# # Define the columns to include in the feature vector\n",
        "# input_columns = [\n",
        "#     'DepDelayMinutes', 'AirTime', 'Distance_km', 'DepDel15'\n",
        "# ]\n",
        "\n",
        "X = flights_assembled.select('DepDelayMinutes', 'AirTime', 'Distance_km', 'DepDel15')\n",
        "y = flights_assembled.select('label')\n",
        "\n",
        "# Create a VectorAssembler object\n",
        "assembler = VectorAssembler(inputCols=input_columns, outputCol='features')\n",
        "\n",
        "# Consolidate predictor columns\n",
        "flights_assembled = assembler.transform(flights_indexed)\n",
        "\n",
        "# Check the resulting column\n",
        "flights_assembled.select('features', 'ArrDel15').show(5, truncate=False)\n"
      ],
      "metadata": {
        "colab": {
          "base_uri": "https://localhost:8080/"
        },
        "id": "XGWiRy1AuiGN",
        "outputId": "c23c6a19-ebb8-4173-bd95-40742d2cacdd"
      },
      "execution_count": 31,
      "outputs": [
        {
          "output_type": "stream",
          "name": "stdout",
          "text": [
            "+---------------------+--------+\n",
            "|features             |ArrDel15|\n",
            "+---------------------+--------+\n",
            "|[0.0,40.0,341.18,0.0]|0       |\n",
            "|[0.0,55.0,474.76,0.0]|0       |\n",
            "|[0.0,47.0,403.94,0.0]|0       |\n",
            "|[0.0,57.0,605.11,0.0]|0       |\n",
            "|[0.0,49.0,403.94,0.0]|0       |\n",
            "+---------------------+--------+\n",
            "only showing top 5 rows\n",
            "\n"
          ]
        }
      ]
    },
    {
      "cell_type": "markdown",
      "source": [
        "Machine Learning Models Markdown"
      ],
      "metadata": {
        "id": "xOjtiC-xVedc"
      }
    },
    {
      "cell_type": "code",
      "source": [
        "# Split into training and testing sets in a 80:20 ratio\n",
        "flights_train, flights_test = flights_assembled.randomSplit([0.8, 0.2], seed=42)\n",
        "\n",
        "# Check that training set has around 80% of records\n",
        "training_ratio = flights_train.count() / flights_assembled.count()\n",
        "print(training_ratio)"
      ],
      "metadata": {
        "colab": {
          "base_uri": "https://localhost:8080/"
        },
        "id": "7r0bLlrLbiWS",
        "outputId": "78a6c82c-765d-4ea4-d4f5-66c26fb76fdd"
      },
      "execution_count": 32,
      "outputs": [
        {
          "output_type": "stream",
          "name": "stdout",
          "text": [
            "0.8003319522684095\n"
          ]
        }
      ]
    },
    {
      "cell_type": "code",
      "source": [
        "# Create a Decision Tree classifier object and fit it to the training data\n",
        "tree = DecisionTreeClassifier()\n",
        "tree_model = tree.fit(flights_train)\n",
        "\n",
        "# Make predictions on the test data\n",
        "predictions = tree_model.transform(flights_test)\n",
        "\n",
        "# Select and display relevant columns from the prediction DataFrame\n",
        "predictions.select('label', 'prediction', 'probability').show(5, False)\n",
        "\n"
      ],
      "metadata": {
        "colab": {
          "base_uri": "https://localhost:8080/"
        },
        "id": "iINv9mPDbwVd",
        "outputId": "1d74400e-23bb-4210-bd66-cbc247526827"
      },
      "execution_count": 33,
      "outputs": [
        {
          "output_type": "stream",
          "name": "stdout",
          "text": [
            "+-----+----------+-----------+\n",
            "|label|prediction|probability|\n",
            "+-----+----------+-----------+\n",
            "|0    |0.0       |[1.0]      |\n",
            "|0    |0.0       |[1.0]      |\n",
            "|0    |0.0       |[1.0]      |\n",
            "|0    |0.0       |[1.0]      |\n",
            "|0    |0.0       |[1.0]      |\n",
            "+-----+----------+-----------+\n",
            "only showing top 5 rows\n",
            "\n"
          ]
        }
      ]
    },
    {
      "cell_type": "code",
      "source": [],
      "metadata": {
        "id": "MQRfS-EggY7D"
      },
      "execution_count": null,
      "outputs": []
    },
    {
      "cell_type": "markdown",
      "source": [
        "Prediction for Decision Tree classifier model:\n",
        "\n",
        "label:This column shows,   where 0 typically represents that a flight was not delayed.\n",
        "\n",
        "Prediction: This column contains the predicted labels and it appears that the model has predicted 0.0 for all of these rows,\n",
        "indicating that the model predicts that these flights were not delayed.\n",
        "\n",
        "probability: This column contains the probability scores associated with each prediction.\n",
        "The probability score in each row indicates that the probability score is [1.0] for all rows, which suggests that the model is very confident in predicting that\n",
        "these flights were not delayed\n",
        "\n",
        "These results indicate that, for the first few rows of test dataset, the model predicted that the flights were not delayed,\n",
        "and it did so with high confidence (probability of 1.0). However, it's important to evaluate the model's performance on a larger portion of the test dataset\n",
        "and to furter evaluate metrics to assess its accuracy and reliability.\n",
        "\n",
        "\n",
        "\n",
        "\n",
        "\n"
      ],
      "metadata": {
        "id": "36m8NPfbbwZt"
      }
    },
    {
      "cell_type": "code",
      "source": [
        "flights_train.show(5)\n",
        "flights_test.show(5)\n"
      ],
      "metadata": {
        "colab": {
          "base_uri": "https://localhost:8080/"
        },
        "id": "wmV_Knj2kYDm",
        "outputId": "682e4e3e-69ce-4d4a-af99-804407c5b3f2"
      },
      "execution_count": 34,
      "outputs": [
        {
          "output_type": "stream",
          "name": "stdout",
          "text": [
            "+----------+--------------------+------+----+---------+--------+----------+-------+---------------+--------+-------+---------------+-------+--------------+-----------------+----+-------+-----+----------+---------+-------------------------+---------------------------------------+------------------------+---------------------------+-----------------+------------------------+---------------------------+-----------+---------------+------------------+------------------+---------------+-----------+---------------+---------------+---------+-------------+----------------+----------------+-------------+---------+-------------+-------------+-------+--------+--------------------+----------+-------+---------+--------+------+----------+--------+--------+------------------+----------+-------------+------------------+-----------+-----+----------+--------------------+\n",
            "|FlightDate|             Airline|Origin|Dest|Cancelled|Diverted|CRSDepTime|DepTime|DepDelayMinutes|DepDelay|ArrTime|ArrDelayMinutes|AirTime|CRSElapsedTime|ActualElapsedTime|Year|Quarter|Month|DayofMonth|DayOfWeek|Marketing_Airline_Network|Operated_or_Branded_Code_Share_Partners|DOT_ID_Marketing_Airline|IATA_Code_Marketing_Airline|Operating_Airline|DOT_ID_Operating_Airline|IATA_Code_Operating_Airline|Tail_Number|OriginAirportID|OriginAirportSeqID|OriginCityMarketID| OriginCityName|OriginState|OriginStateFips|OriginStateName|OriginWac|DestAirportID|DestAirportSeqID|DestCityMarketID| DestCityName|DestState|DestStateFips|DestStateName|DestWac|DepDel15|DepartureDelayGroups|DepTimeBlk|TaxiOut|WheelsOff|WheelsOn|TaxiIn|CRSArrTime|ArrDelay|ArrDel15|ArrivalDelayGroups|ArrTimeBlk|DistanceGroup|DivAirportLandings|Distance_km|label|Origin_idx|            features|\n",
            "+----------+--------------------+------+----+---------+--------+----------+-------+---------------+--------+-------+---------------+-------+--------------+-----------------+----+-------+-----+----------+---------+-------------------------+---------------------------------------+------------------------+---------------------------+-----------------+------------------------+---------------------------+-----------+---------------+------------------+------------------+---------------+-----------+---------------+---------------+---------+-------------+----------------+----------------+-------------+---------+-------------+-------------+-------+--------+--------------------+----------+-------+---------+--------+------+----------+--------+--------+------------------+----------+-------------+------------------+-----------+-----+----------+--------------------+\n",
            "|2022-02-01|Alaska Airlines Inc.|   ABQ| SEA|    False|   False|       920|  908.0|            0.0|   -12.0| 1119.0|            0.0|  169.0|         195.0|            191.0|2022|      1|    2|         1|        2|                       AS|                                     AS|                   19930|                         AS|               AS|                   19930|                         AS|     N280AK|          10140|           1014005|             30140|Albuquerque, NM|         NM|             35|     New Mexico|       86|        14747|         1474703|           30559|  Seattle, WA|       WA|           53|   Washington|     93|       0|                -1.0| 0900-0959|   14.0|    922.0|  1111.0|   8.0|      1135|   -16.0|       0|              -2.0| 1100-1159|            5|                 0|    1899.02|    0|      65.0|[0.0,169.0,1899.0...|\n",
            "|2022-02-01|Alaska Airlines Inc.|   ADQ| ANC|    False|   False|      1200| 1148.0|            0.0|   -12.0| 1259.0|            4.0|   44.0|          55.0|             71.0|2022|      1|    2|         1|        2|                       AS|                                     AS|                   19930|                         AS|               AS|                   19930|                         AS|     N622AS|          10170|           1017004|             30070|     Kodiak, AK|         AK|              2|         Alaska|        1|        10299|         1029906|           30299|Anchorage, AK|       AK|            2|       Alaska|      1|       0|                -1.0| 1200-1259|   22.0|   1210.0|  1254.0|   5.0|      1255|     4.0|       0|               0.0| 1200-1259|            2|                 0|     407.16|    0|     266.0|[0.0,44.0,407.16,...|\n",
            "|2022-02-01|Alaska Airlines Inc.|   ANC| ADQ|    False|   False|      1005| 1008.0|            3.0|     3.0| 1112.0|            2.0|   45.0|          65.0|             64.0|2022|      1|    2|         1|        2|                       AS|                                     AS|                   19930|                         AS|               AS|                   19930|                         AS|     N622AS|          10299|           1029906|             30299|  Anchorage, AK|         AK|              2|         Alaska|        1|        10170|         1017004|           30070|   Kodiak, AK|       AK|            2|       Alaska|      1|       0|                 0.0| 1000-1059|   11.0|   1019.0|  1104.0|   8.0|      1110|     2.0|       0|               0.0| 1100-1159|            2|                 0|     407.16|    0|      71.0|[3.0,45.0,407.16,...|\n",
            "|2022-02-01|Alaska Airlines Inc.|   ANC| ADQ|    False|   False|      1725| 1716.0|            0.0|    -9.0| 1831.0|            1.0|   45.0|          65.0|             75.0|2022|      1|    2|         1|        2|                       AS|                                     AS|                   19930|                         AS|               AS|                   19930|                         AS|     N619AS|          10299|           1029906|             30299|  Anchorage, AK|         AK|              2|         Alaska|        1|        10170|         1017004|           30070|   Kodiak, AK|       AK|            2|       Alaska|      1|       0|                -1.0| 1700-1759|   27.0|   1743.0|  1828.0|   3.0|      1830|     1.0|       0|               0.0| 1800-1859|            2|                 0|     407.16|    0|      71.0|[0.0,45.0,407.16,...|\n",
            "|2022-02-01|Alaska Airlines Inc.|   ANC| BET|    False|   False|      1045| 1037.0|            0.0|    -8.0| 1204.0|            0.0|   61.0|          82.0|             87.0|2022|      1|    2|         1|        2|                       AS|                                     AS|                   19930|                         AS|               AS|                   19930|                         AS|     N590AS|          10299|           1029906|             30299|  Anchorage, AK|         AK|              2|         Alaska|        1|        10551|         1055102|           30113|   Bethel, AK|       AK|            2|       Alaska|      1|       0|                -1.0| 1000-1059|   22.0|   1059.0|  1200.0|   4.0|      1207|    -3.0|       0|              -1.0| 1200-1259|            2|                 0|     642.13|    0|      71.0|[0.0,61.0,642.13,...|\n",
            "+----------+--------------------+------+----+---------+--------+----------+-------+---------------+--------+-------+---------------+-------+--------------+-----------------+----+-------+-----+----------+---------+-------------------------+---------------------------------------+------------------------+---------------------------+-----------------+------------------------+---------------------------+-----------+---------------+------------------+------------------+---------------+-----------+---------------+---------------+---------+-------------+----------------+----------------+-------------+---------+-------------+-------------+-------+--------+--------------------+----------+-------+---------+--------+------+----------+--------+--------+------------------+----------+-------------+------------------+-----------+-----+----------+--------------------+\n",
            "only showing top 5 rows\n",
            "\n",
            "+----------+--------------------+------+----+---------+--------+----------+-------+---------------+--------+-------+---------------+-------+--------------+-----------------+----+-------+-----+----------+---------+-------------------------+---------------------------------------+------------------------+---------------------------+-----------------+------------------------+---------------------------+-----------+---------------+------------------+------------------+--------------+-----------+---------------+---------------+---------+-------------+----------------+----------------+-------------+---------+-------------+-------------+-------+--------+--------------------+----------+-------+---------+--------+------+----------+--------+--------+------------------+----------+-------------+------------------+-----------+-----+----------+--------------------+\n",
            "|FlightDate|             Airline|Origin|Dest|Cancelled|Diverted|CRSDepTime|DepTime|DepDelayMinutes|DepDelay|ArrTime|ArrDelayMinutes|AirTime|CRSElapsedTime|ActualElapsedTime|Year|Quarter|Month|DayofMonth|DayOfWeek|Marketing_Airline_Network|Operated_or_Branded_Code_Share_Partners|DOT_ID_Marketing_Airline|IATA_Code_Marketing_Airline|Operating_Airline|DOT_ID_Operating_Airline|IATA_Code_Operating_Airline|Tail_Number|OriginAirportID|OriginAirportSeqID|OriginCityMarketID|OriginCityName|OriginState|OriginStateFips|OriginStateName|OriginWac|DestAirportID|DestAirportSeqID|DestCityMarketID| DestCityName|DestState|DestStateFips|DestStateName|DestWac|DepDel15|DepartureDelayGroups|DepTimeBlk|TaxiOut|WheelsOff|WheelsOn|TaxiIn|CRSArrTime|ArrDelay|ArrDel15|ArrivalDelayGroups|ArrTimeBlk|DistanceGroup|DivAirportLandings|Distance_km|label|Origin_idx|            features|\n",
            "+----------+--------------------+------+----+---------+--------+----------+-------+---------------+--------+-------+---------------+-------+--------------+-----------------+----+-------+-----+----------+---------+-------------------------+---------------------------------------+------------------------+---------------------------+-----------------+------------------------+---------------------------+-----------+---------------+------------------+------------------+--------------+-----------+---------------+---------------+---------+-------------+----------------+----------------+-------------+---------+-------------+-------------+-------+--------+--------------------+----------+-------+---------+--------+------+----------+--------+--------+------------------+----------+-------------+------------------+-----------+-----+----------+--------------------+\n",
            "|2022-02-01|Alaska Airlines Inc.|   ADQ| ANC|    False|   False|       700|  915.0|          135.0|   135.0| 1031.0|          157.0|   37.0|          54.0|             76.0|2022|      1|    2|         1|        2|                       AS|                                     AS|                   19930|                         AS|               AS|                   19930|                         AS|     N609AS|          10170|           1017004|             30070|    Kodiak, AK|         AK|              2|         Alaska|        1|        10299|         1029906|           30299|Anchorage, AK|       AK|            2|       Alaska|      1|       1|                 9.0| 0700-0759|   34.0|    949.0|  1026.0|   5.0|       754|   157.0|       1|              10.0| 0700-0759|            2|                 0|     407.16|    0|     266.0|[135.0,37.0,407.1...|\n",
            "|2022-02-01|Alaska Airlines Inc.|   ANC| BET|    False|   False|      1740| 1756.0|           16.0|    16.0| 1931.0|           28.0|   59.0|          83.0|             95.0|2022|      1|    2|         1|        2|                       AS|                                     AS|                   19930|                         AS|               AS|                   19930|                         AS|     N570AS|          10299|           1029906|             30299| Anchorage, AK|         AK|              2|         Alaska|        1|        10551|         1055102|           30113|   Bethel, AK|       AK|            2|       Alaska|      1|       1|                 1.0| 1700-1759|   32.0|   1828.0|  1927.0|   4.0|      1903|    28.0|       1|               1.0| 1900-1959|            2|                 0|     642.13|    0|      71.0|[16.0,59.0,642.13...|\n",
            "|2022-02-01|Alaska Airlines Inc.|   ANC| CDV|    False|   False|      1345| 1334.0|            0.0|   -11.0| 1439.0|            0.0|   34.0|          55.0|             65.0|2022|      1|    2|         1|        2|                       AS|                                     AS|                   19930|                         AS|               AS|                   19930|                         AS|     N622AS|          10299|           1029906|             30299| Anchorage, AK|         AK|              2|         Alaska|        1|        10926|         1092603|           30913|  Cordova, AK|       AK|            2|       Alaska|      1|       0|                -1.0| 1300-1359|   29.0|   1403.0|  1437.0|   2.0|      1440|    -1.0|       0|              -1.0| 1400-1459|            1|                 0|     257.49|    0|      71.0|[0.0,34.0,257.49,...|\n",
            "|2022-02-01|Alaska Airlines Inc.|   ANC| JNU|    False|   False|      1935| 1936.0|            1.0|     1.0| 2120.0|            7.0|   76.0|          98.0|            104.0|2022|      1|    2|         1|        2|                       AS|                                     AS|                   19930|                         AS|               AS|                   19930|                         AS|     N609AS|          10299|           1029906|             30299| Anchorage, AK|         AK|              2|         Alaska|        1|        12523|         1252306|           32523|   Juneau, AK|       AK|            2|       Alaska|      1|       0|                 0.0| 1900-1959|   22.0|   1958.0|  2114.0|   6.0|      2113|     7.0|       0|               0.0| 2100-2159|            3|                 0|     918.93|    0|      71.0|[1.0,76.0,918.93,...|\n",
            "|2022-02-01|Alaska Airlines Inc.|   ANC| OTZ|    False|   False|       905| 1102.0|          117.0|   117.0| 1237.0|          115.0|   75.0|          97.0|             95.0|2022|      1|    2|         1|        2|                       AS|                                     AS|                   19930|                         AS|               AS|                   19930|                         AS|     N609AS|          10299|           1029906|             30299| Anchorage, AK|         AK|              2|         Alaska|        1|        13970|         1397005|           33970| Kotzebue, AK|       AK|            2|       Alaska|      1|       1|                 7.0| 0900-0959|   17.0|   1119.0|  1234.0|   3.0|      1042|   115.0|       1|               7.0| 1000-1059|            3|                 0|     881.92|    0|      71.0|[117.0,75.0,881.9...|\n",
            "+----------+--------------------+------+----+---------+--------+----------+-------+---------------+--------+-------+---------------+-------+--------------+-----------------+----+-------+-----+----------+---------+-------------------------+---------------------------------------+------------------------+---------------------------+-----------------+------------------------+---------------------------+-----------+---------------+------------------+------------------+--------------+-----------+---------------+---------------+---------+-------------+----------------+----------------+-------------+---------+-------------+-------------+-------+--------+--------------------+----------+-------+---------+--------+------+----------+--------+--------+------------------+----------+-------------+------------------+-----------+-----+----------+--------------------+\n",
            "only showing top 5 rows\n",
            "\n"
          ]
        }
      ]
    },
    {
      "cell_type": "code",
      "source": [
        "# Create a DT classifier object with appropriate parameters\n",
        "tree = DecisionTreeClassifier(featuresCol=\"features\", labelCol=\"label\")\n",
        "tree_model = tree.fit(flights_train)\n"
      ],
      "metadata": {
        "id": "7Z22geY8gaBk"
      },
      "execution_count": 35,
      "outputs": []
    },
    {
      "cell_type": "code",
      "source": [
        "# Create a DT classifier object and fit to the training data\n",
        "tree = DecisionTreeClassifier()\n",
        "tree_model = tree.fit(flights_train)\n",
        "\n",
        "# Create predictions on test data\n",
        "prediction = tree_model.transform(flights_test)\n",
        "\n",
        "# Calculate accuracy\n",
        "evaluator = MulticlassClassificationEvaluator(metricName='accuracy')\n",
        "accuracy = evaluator.evaluate(prediction)\n",
        "print(f\"Accuracy: {accuracy * 100:.2f}%\")\n",
        "\n",
        "# Display selected columns for the first 5 rows\n",
        "prediction.select('label', 'prediction', 'probability').show(5, truncate=False)\n"
      ],
      "metadata": {
        "colab": {
          "base_uri": "https://localhost:8080/"
        },
        "id": "yPVExy5xp7l1",
        "outputId": "6d535181-25c1-4fe0-d606-590738c30659"
      },
      "execution_count": 36,
      "outputs": [
        {
          "output_type": "stream",
          "name": "stdout",
          "text": [
            "Accuracy: 100.00%\n",
            "+-----+----------+-----------+\n",
            "|label|prediction|probability|\n",
            "+-----+----------+-----------+\n",
            "|0    |0.0       |[1.0]      |\n",
            "|0    |0.0       |[1.0]      |\n",
            "|0    |0.0       |[1.0]      |\n",
            "|0    |0.0       |[1.0]      |\n",
            "|0    |0.0       |[1.0]      |\n",
            "+-----+----------+-----------+\n",
            "only showing top 5 rows\n",
            "\n"
          ]
        }
      ]
    },
    {
      "cell_type": "code",
      "source": [],
      "metadata": {
        "id": "u6GlJFKwtEAX"
      },
      "execution_count": null,
      "outputs": []
    },
    {
      "cell_type": "code",
      "source": [],
      "metadata": {
        "id": "rDFbCdxTveLM"
      },
      "execution_count": null,
      "outputs": []
    }
  ]
}