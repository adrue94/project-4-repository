{
  "nbformat": 4,
  "nbformat_minor": 0,
  "metadata": {
    "colab": {
      "provenance": []
    },
    "kernelspec": {
      "name": "python3",
      "display_name": "Python 3"
    },
    "language_info": {
      "name": "python"
    }
  },
  "cells": [
    {
      "cell_type": "code",
      "source": [
        "!pip install pyspark"
      ],
      "metadata": {
        "id": "Zy3XSYxD6SZV",
        "colab": {
          "base_uri": "https://localhost:8080/"
        },
        "outputId": "e9c2adbb-3cd2-421f-b730-13ed628dcb1c"
      },
      "execution_count": 1,
      "outputs": [
        {
          "output_type": "stream",
          "name": "stdout",
          "text": [
            "Requirement already satisfied: pyspark in /usr/local/lib/python3.10/dist-packages (3.4.1)\n",
            "Requirement already satisfied: py4j==0.10.9.7 in /usr/local/lib/python3.10/dist-packages (from pyspark) (0.10.9.7)\n"
          ]
        }
      ]
    },
    {
      "cell_type": "code",
      "execution_count": 2,
      "metadata": {
        "colab": {
          "base_uri": "https://localhost:8080/"
        },
        "id": "wZUPvEL5elOl",
        "outputId": "59789c0d-9678-487b-c7fe-358482b62706"
      },
      "outputs": [
        {
          "output_type": "stream",
          "name": "stdout",
          "text": [
            "\r0% [Working]\r            \rGet:1 http://security.ubuntu.com/ubuntu jammy-security InRelease [110 kB]\n",
            "\r0% [Waiting for headers] [1 InRelease 0 B/110 kB 0%] [Connected to cloud.r-proj\r                                                                               \rHit:2 http://archive.ubuntu.com/ubuntu jammy InRelease\n",
            "\r0% [1 InRelease 43.1 kB/110 kB 39%] [Connected to cloud.r-project.org (108.157.\r                                                                               \rGet:3 http://archive.ubuntu.com/ubuntu jammy-updates InRelease [119 kB]\n",
            "Hit:4 https://cloud.r-project.org/bin/linux/ubuntu jammy-cran40/ InRelease\n",
            "Hit:5 https://developer.download.nvidia.com/compute/cuda/repos/ubuntu2204/x86_64  InRelease\n",
            "Get:6 http://archive.ubuntu.com/ubuntu jammy-backports InRelease [109 kB]\n",
            "Hit:7 https://ppa.launchpadcontent.net/c2d4u.team/c2d4u4.0+/ubuntu jammy InRelease\n",
            "Hit:8 https://ppa.launchpadcontent.net/deadsnakes/ppa/ubuntu jammy InRelease\n",
            "Hit:9 https://ppa.launchpadcontent.net/graphics-drivers/ppa/ubuntu jammy InRelease\n",
            "Hit:10 https://ppa.launchpadcontent.net/ubuntugis/ppa/ubuntu jammy InRelease\n",
            "Fetched 338 kB in 4s (88.5 kB/s)\n",
            "Reading package lists... Done\n"
          ]
        }
      ],
      "source": [
        "import os\n",
        "# Find the latest version of spark 3.x  from http://www.apache.org/dist/spark/ and enter as the spark version\n",
        "# For example:\n",
        "# spark_version = 'spark-3.4.0'\n",
        "spark_version = 'spark-3.4.0'\n",
        "os.environ['SPARK_VERSION']=spark_version\n",
        "\n",
        "# Install Spark and Java\n",
        "!apt-get update\n",
        "!apt-get install openjdk-11-jdk-headless -qq > /dev/null\n",
        "!wget -q http://www.apache.org/dist/spark/$SPARK_VERSION/$SPARK_VERSION-bin-hadoop3.tgz\n",
        "!tar xf $SPARK_VERSION-bin-hadoop3.tgz\n",
        "!pip install -q findspark\n",
        "\n",
        "# Set Environment Variables\n",
        "os.environ[\"JAVA_HOME\"] = \"/usr/lib/jvm/java-11-openjdk-amd64\"\n",
        "os.environ[\"SPARK_HOME\"] = f\"/content/{spark_version}-bin-hadoop3\"\n",
        "\n",
        "# Start a SparkSession\n",
        "import findspark\n",
        "findspark.init()"
      ]
    },
    {
      "cell_type": "code",
      "source": [
        "# Import packages\n",
        "import os\n",
        "from pyspark.sql import SparkSession\n",
        "from pyspark.ml.feature import VectorAssembler\n",
        "from pyspark.sql.functions import col\n",
        "from pyspark.sql import DataFrame\n",
        "import time\n",
        "from pyspark.sql.functions import col, count\n",
        "from pyspark.sql.functions import col, sum\n",
        "from pyspark.sql.types import DoubleType\n",
        "from pyspark.sql.functions import when, col\n",
        "from pyspark.sql.functions import col, lit\n",
        "\n",
        "from pyspark.ml.classification import MultilayerPerceptronClassifier\n",
        "from pyspark.ml.evaluation import MulticlassClassificationEvaluator\n",
        "from pyspark.ml.feature import VectorAssembler\n",
        "from pyspark.sql import SparkSession\n",
        "from pyspark.ml import Pipeline\n",
        "\n",
        "\n",
        "\n"
      ],
      "metadata": {
        "id": "9VK89n2DetQv"
      },
      "execution_count": 3,
      "outputs": []
    },
    {
      "cell_type": "code",
      "source": [
        "from google.colab import drive\n",
        "drive.mount('/content/drive')"
      ],
      "metadata": {
        "colab": {
          "base_uri": "https://localhost:8080/"
        },
        "id": "OJiByw47etVK",
        "outputId": "7a2e8ae2-9d05-4e49-d4f9-1a5330b241ff"
      },
      "execution_count": 4,
      "outputs": [
        {
          "output_type": "stream",
          "name": "stdout",
          "text": [
            "Drive already mounted at /content/drive; to attempt to forcibly remount, call drive.mount(\"/content/drive\", force_remount=True).\n"
          ]
        }
      ]
    },
    {
      "cell_type": "code",
      "source": [
        "\n",
        "# Create a SparkSession\n",
        "spark = SparkSession.builder.appName(\"LocalCSVToDataFrame\").getOrCreate()\n",
        "\n",
        "# Define the path to your local CSV file\n",
        "drive_csv_path = \"drive/MyDrive/Data/Combined_Flights_2022.csv\"\n",
        "\n",
        "# Read the local CSV file into a DataFrame\n",
        "df = spark.read.csv(drive_csv_path, sep=\",\", header=True)\n",
        "\n",
        "# Show the DataFrame\n",
        "df.show()"
      ],
      "metadata": {
        "colab": {
          "base_uri": "https://localhost:8080/"
        },
        "id": "EkF5u4LsetY2",
        "outputId": "a54b7dce-d368-486b-865b-31726e054468"
      },
      "execution_count": 5,
      "outputs": [
        {
          "output_type": "stream",
          "name": "stdout",
          "text": [
            "+----------+--------------------+------+----+---------+--------+----------+-------+---------------+--------+-------+---------------+-------+--------------+-----------------+--------+----+-------+-----+----------+---------+-------------------------+---------------------------------------+------------------------+---------------------------+-------------------------------+-----------------+------------------------+---------------------------+-----------+-------------------------------+---------------+------------------+------------------+--------------------+-----------+---------------+---------------+---------+-------------+----------------+----------------+-------------------+---------+-------------+-------------+-------+--------+--------------------+----------+-------+---------+--------+------+----------+--------+--------+------------------+----------+-------------+------------------+\n",
            "|FlightDate|             Airline|Origin|Dest|Cancelled|Diverted|CRSDepTime|DepTime|DepDelayMinutes|DepDelay|ArrTime|ArrDelayMinutes|AirTime|CRSElapsedTime|ActualElapsedTime|Distance|Year|Quarter|Month|DayofMonth|DayOfWeek|Marketing_Airline_Network|Operated_or_Branded_Code_Share_Partners|DOT_ID_Marketing_Airline|IATA_Code_Marketing_Airline|Flight_Number_Marketing_Airline|Operating_Airline|DOT_ID_Operating_Airline|IATA_Code_Operating_Airline|Tail_Number|Flight_Number_Operating_Airline|OriginAirportID|OriginAirportSeqID|OriginCityMarketID|      OriginCityName|OriginState|OriginStateFips|OriginStateName|OriginWac|DestAirportID|DestAirportSeqID|DestCityMarketID|       DestCityName|DestState|DestStateFips|DestStateName|DestWac|DepDel15|DepartureDelayGroups|DepTimeBlk|TaxiOut|WheelsOff|WheelsOn|TaxiIn|CRSArrTime|ArrDelay|ArrDel15|ArrivalDelayGroups|ArrTimeBlk|DistanceGroup|DivAirportLandings|\n",
            "+----------+--------------------+------+----+---------+--------+----------+-------+---------------+--------+-------+---------------+-------+--------------+-----------------+--------+----+-------+-----+----------+---------+-------------------------+---------------------------------------+------------------------+---------------------------+-------------------------------+-----------------+------------------------+---------------------------+-----------+-------------------------------+---------------+------------------+------------------+--------------------+-----------+---------------+---------------+---------+-------------+----------------+----------------+-------------------+---------+-------------+-------------+-------+--------+--------------------+----------+-------+---------+--------+------+----------+--------+--------+------------------+----------+-------------+------------------+\n",
            "|2022-04-04|Commutair Aka Cha...|   GJT| DEN|    False|   False|      1133| 1123.0|            0.0|   -10.0| 1228.0|            0.0|   40.0|          72.0|             65.0|   212.0|2022|      2|    4|         4|        1|                       UA|                           UA_CODESHARE|                   19977|                         UA|                           4301|               C5|                   20445|                         C5|     N21144|                           4301|          11921|           1192102|             31921|  Grand Junction, CO|         CO|              8|       Colorado|       82|        11292|         1129202|           30325|         Denver, CO|       CO|            8|     Colorado|     82|     0.0|                -1.0| 1100-1159|   17.0|   1140.0|  1220.0|   8.0|      1245|   -17.0|     0.0|              -2.0| 1200-1259|            1|                 0|\n",
            "|2022-04-04|Commutair Aka Cha...|   HRL| IAH|    False|   False|       732|  728.0|            0.0|    -4.0|  848.0|            0.0|   55.0|          77.0|             80.0|   295.0|2022|      2|    4|         4|        1|                       UA|                           UA_CODESHARE|                   19977|                         UA|                           4299|               C5|                   20445|                         C5|     N16170|                           4299|          12206|           1220605|             32206|Harlingen/San Ben...|         TX|             48|          Texas|       74|        12266|         1226603|           31453|        Houston, TX|       TX|           48|        Texas|     74|     0.0|                -1.0| 0700-0759|   16.0|    744.0|   839.0|   9.0|       849|    -1.0|     0.0|              -1.0| 0800-0859|            2|                 0|\n",
            "|2022-04-04|Commutair Aka Cha...|   DRO| DEN|    False|   False|      1529| 1514.0|            0.0|   -15.0| 1636.0|            0.0|   47.0|          70.0|             82.0|   251.0|2022|      2|    4|         4|        1|                       UA|                           UA_CODESHARE|                   19977|                         UA|                           4298|               C5|                   20445|                         C5|     N21144|                           4298|          11413|           1141307|             30285|         Durango, CO|         CO|              8|       Colorado|       82|        11292|         1129202|           30325|         Denver, CO|       CO|            8|     Colorado|     82|     0.0|                -1.0| 1500-1559|   21.0|   1535.0|  1622.0|  14.0|      1639|    -3.0|     0.0|              -1.0| 1600-1659|            2|                 0|\n",
            "|2022-04-04|Commutair Aka Cha...|   IAH| GPT|    False|   False|      1435| 1430.0|            0.0|    -5.0| 1547.0|            0.0|   57.0|          90.0|             77.0|   376.0|2022|      2|    4|         4|        1|                       UA|                           UA_CODESHARE|                   19977|                         UA|                           4296|               C5|                   20445|                         C5|     N11184|                           4296|          12266|           1226603|             31453|         Houston, TX|         TX|             48|          Texas|       74|        11973|         1197302|           31973|Gulfport/Biloxi, MS|       MS|           28|  Mississippi|     53|     0.0|                -1.0| 1400-1459|   16.0|   1446.0|  1543.0|   4.0|      1605|   -18.0|     0.0|              -2.0| 1600-1659|            2|                 0|\n",
            "|2022-04-04|Commutair Aka Cha...|   DRO| DEN|    False|   False|      1135| 1135.0|            0.0|     0.0| 1251.0|            6.0|   49.0|          70.0|             76.0|   251.0|2022|      2|    4|         4|        1|                       UA|                           UA_CODESHARE|                   19977|                         UA|                           4295|               C5|                   20445|                         C5|     N17146|                           4295|          11413|           1141307|             30285|         Durango, CO|         CO|              8|       Colorado|       82|        11292|         1129202|           30325|         Denver, CO|       CO|            8|     Colorado|     82|     0.0|                 0.0| 1100-1159|   19.0|   1154.0|  1243.0|   8.0|      1245|     6.0|     0.0|               0.0| 1200-1259|            2|                 0|\n",
            "|2022-04-04|Commutair Aka Cha...|   DEN| TUL|    False|   False|       955|  952.0|            0.0|    -3.0| 1238.0|            0.0|   77.0|         105.0|            106.0|   541.0|2022|      2|    4|         4|        1|                       UA|                           UA_CODESHARE|                   19977|                         UA|                           4294|               C5|                   20445|                         C5|     N11191|                           4294|          11292|           1129202|             30325|          Denver, CO|         CO|              8|       Colorado|       82|        15370|         1537002|           34653|          Tulsa, OK|       OK|           40|     Oklahoma|     73|     0.0|                -1.0| 0900-0959|   25.0|   1017.0|  1234.0|   4.0|      1240|    -2.0|     0.0|              -1.0| 1200-1259|            3|                 0|\n",
            "|2022-04-04|Commutair Aka Cha...|   IAH| LCH|    False|   False|      2139| 2136.0|            0.0|    -3.0| 2218.0|            0.0|   26.0|          52.0|             42.0|   127.0|2022|      2|    4|         4|        1|                       UA|                           UA_CODESHARE|                   19977|                         UA|                           4293|               C5|                   20445|                         C5|     N14143|                           4293|          12266|           1226603|             31453|         Houston, TX|         TX|             48|          Texas|       74|        12915|         1291503|           31205|   Lake Charles, LA|       LA|           22|    Louisiana|     72|     0.0|                -1.0| 2100-2159|   11.0|   2147.0|  2213.0|   5.0|      2231|   -13.0|     0.0|              -1.0| 2200-2259|            1|                 0|\n",
            "|2022-04-04|Commutair Aka Cha...|   TYS| IAH|    False|   False|      1129| 1117.0|            0.0|   -12.0| 1311.0|            5.0|  136.0|         157.0|            174.0|   771.0|2022|      2|    4|         4|        1|                       UA|                           UA_CODESHARE|                   19977|                         UA|                           4292|               C5|                   20445|                         C5|     N13124|                           4292|          15412|           1541205|             35412|       Knoxville, TN|         TN|             47|      Tennessee|       54|        12266|         1226603|           31453|        Houston, TX|       TX|           48|        Texas|     74|     0.0|                -1.0| 1100-1159|   22.0|   1139.0|  1255.0|  16.0|      1306|     5.0|     0.0|               0.0| 1300-1359|            4|                 0|\n",
            "|2022-04-04|Commutair Aka Cha...|   IAH| AEX|    False|   False|      1424| 1414.0|            0.0|   -10.0| 1513.0|            0.0|   37.0|          60.0|             59.0|   190.0|2022|      2|    4|         4|        1|                       UA|                           UA_CODESHARE|                   19977|                         UA|                           4291|               C5|                   20445|                         C5|     N33182|                           4291|          12266|           1226603|             31453|         Houston, TX|         TX|             48|          Texas|       74|        10185|         1018502|           30185|     Alexandria, LA|       LA|           22|    Louisiana|     72|     0.0|                -1.0| 1400-1459|   16.0|   1430.0|  1507.0|   6.0|      1524|   -11.0|     0.0|              -1.0| 1500-1559|            1|                 0|\n",
            "|2022-04-04|Commutair Aka Cha...|   IAH| MOB|    False|   False|       954|  947.0|            0.0|    -7.0| 1110.0|            0.0|   60.0|          87.0|             83.0|   427.0|2022|      2|    4|         4|        1|                       UA|                           UA_CODESHARE|                   19977|                         UA|                           4290|               C5|                   20445|                         C5|     N21154|                           4290|          12266|           1226603|             31453|         Houston, TX|         TX|             48|          Texas|       74|        13422|         1342202|           30562|         Mobile, AL|       AL|            1|      Alabama|     51|     0.0|                -1.0| 0900-0959|   17.0|   1004.0|  1104.0|   6.0|      1121|   -11.0|     0.0|              -1.0| 1100-1159|            2|                 0|\n",
            "|2022-04-04|Commutair Aka Cha...|   DEN| CPR|    False|   False|      1540| 1546.0|            6.0|     6.0| 1650.0|            0.0|   45.0|          70.0|             64.0|   230.0|2022|      2|    4|         4|        1|                       UA|                           UA_CODESHARE|                   19977|                         UA|                           4288|               C5|                   20445|                         C5|     N14177|                           4288|          11292|           1129202|             30325|          Denver, CO|         CO|              8|       Colorado|       82|        11122|         1112205|           31122|         Casper, WY|       WY|           56|      Wyoming|     88|     0.0|                 0.0| 1500-1559|   13.0|   1559.0|  1644.0|   6.0|      1650|     0.0|     0.0|               0.0| 1600-1659|            1|                 0|\n",
            "|2022-04-04|Commutair Aka Cha...|   MOB| IAH|    False|   False|       705|  704.0|            0.0|    -1.0|  858.0|            6.0|   84.0|         107.0|            114.0|   427.0|2022|      2|    4|         4|        1|                       UA|                           UA_CODESHARE|                   19977|                         UA|                           4287|               C5|                   20445|                         C5|     N11184|                           4287|          13422|           1342202|             30562|          Mobile, AL|         AL|              1|        Alabama|       51|        12266|         1226603|           31453|        Houston, TX|       TX|           48|        Texas|     74|     0.0|                -1.0| 0700-0759|   18.0|    722.0|   846.0|  12.0|       852|     6.0|     0.0|               0.0| 0800-0859|            2|                 0|\n",
            "|2022-04-04|Commutair Aka Cha...|   LNK| DEN|    False|   False|      1403| 1358.0|            0.0|    -5.0| 1425.0|            0.0|   69.0|         100.0|             87.0|   423.0|2022|      2|    4|         4|        1|                       UA|                           UA_CODESHARE|                   19977|                         UA|                           4286|               C5|                   20445|                         C5|     N14177|                           4286|          13029|           1302902|             33029|         Lincoln, NE|         NE|             31|       Nebraska|       65|        11292|         1129202|           30325|         Denver, CO|       CO|            8|     Colorado|     82|     0.0|                -1.0| 1400-1459|   11.0|   1409.0|  1418.0|   7.0|      1443|   -18.0|     0.0|              -2.0| 1400-1459|            2|                 0|\n",
            "|2022-04-04|Commutair Aka Cha...|   IAH| OKC|    False|   False|      1014| 1008.0|            0.0|    -6.0| 1148.0|            0.0|   59.0|          95.0|            100.0|   395.0|2022|      2|    4|         4|        1|                       UA|                           UA_CODESHARE|                   19977|                         UA|                           4281|               C5|                   20445|                         C5|     N11193|                           4281|          12266|           1226603|             31453|         Houston, TX|         TX|             48|          Texas|       74|        13851|         1385103|           33851|  Oklahoma City, OK|       OK|           40|     Oklahoma|     73|     0.0|                -1.0| 1000-1059|   33.0|   1041.0|  1140.0|   8.0|      1149|    -1.0|     0.0|              -1.0| 1100-1159|            2|                 0|\n",
            "|2022-04-04|Commutair Aka Cha...|   BHM| IAH|    False|   False|      1258| 1255.0|            0.0|    -3.0| 1505.0|            0.0|  103.0|         131.0|            130.0|   562.0|2022|      2|    4|         4|        1|                       UA|                           UA_CODESHARE|                   19977|                         UA|                           4280|               C5|                   20445|                         C5|     N12160|                           4280|          10599|           1059904|             30599|      Birmingham, AL|         AL|              1|        Alabama|       51|        12266|         1226603|           31453|        Houston, TX|       TX|           48|        Texas|     74|     0.0|                -1.0| 1200-1259|   17.0|   1312.0|  1455.0|  10.0|      1509|    -4.0|     0.0|              -1.0| 1500-1559|            3|                 0|\n",
            "|2022-04-04|Commutair Aka Cha...|   DEN| GJT|    False|   False|       941|  937.0|            0.0|    -4.0| 1031.0|            0.0|   39.0|          68.0|             54.0|   212.0|2022|      2|    4|         4|        1|                       UA|                           UA_CODESHARE|                   19977|                         UA|                           4273|               C5|                   20445|                         C5|     N21144|                           4273|          11292|           1129202|             30325|          Denver, CO|         CO|              8|       Colorado|       82|        11921|         1192102|           31921| Grand Junction, CO|       CO|            8|     Colorado|     82|     0.0|                -1.0| 0900-0959|   12.0|    949.0|  1028.0|   3.0|      1049|   -18.0|     0.0|              -2.0| 1000-1059|            1|                 0|\n",
            "|2022-04-04|Commutair Aka Cha...|   DEN| DRO|    False|   False|      1330| 1322.0|            0.0|    -8.0| 1427.0|            0.0|   45.0|          74.0|             65.0|   251.0|2022|      2|    4|         4|        1|                       UA|                           UA_CODESHARE|                   19977|                         UA|                           4271|               C5|                   20445|                         C5|     N21144|                           4271|          11292|           1129202|             30325|          Denver, CO|         CO|              8|       Colorado|       82|        11413|         1141307|           30285|        Durango, CO|       CO|            8|     Colorado|     82|     0.0|                -1.0| 1300-1359|   18.0|   1340.0|  1425.0|   2.0|      1444|   -17.0|     0.0|              -2.0| 1400-1459|            2|                 0|\n",
            "|2022-04-04|Commutair Aka Cha...|   DEN| SAF|    False|   False|      1122| 1112.0|            0.0|   -10.0| 1213.0|            0.0|   45.0|          79.0|             61.0|   303.0|2022|      2|    4|         4|        1|                       UA|                           UA_CODESHARE|                   19977|                         UA|                           4270|               C5|                   20445|                         C5|     N14158|                           4270|          11292|           1129202|             30325|          Denver, CO|         CO|              8|       Colorado|       82|        14674|         1467402|           34674|       Santa Fe, NM|       NM|           35|   New Mexico|     86|     0.0|                -1.0| 1100-1159|   12.0|   1124.0|  1209.0|   4.0|      1241|   -28.0|     0.0|              -2.0| 1200-1259|            2|                 0|\n",
            "|2022-04-04|Commutair Aka Cha...|   DEN| SHV|    False|   False|      1731| 1800.0|           29.0|    29.0| 2141.0|           45.0|  119.0|         145.0|            161.0|   792.0|2022|      2|    4|         4|        1|                       UA|                           UA_CODESHARE|                   19977|                         UA|                           4268|               C5|                   20445|                         C5|     N21144|                           4268|          11292|           1129202|             30325|          Denver, CO|         CO|              8|       Colorado|       82|        14814|         1481402|           30476|     Shreveport, LA|       LA|           22|    Louisiana|     72|     1.0|                 1.0| 1700-1759|   19.0|   1819.0|  2118.0|  23.0|      2056|    45.0|     1.0|               3.0| 2000-2059|            4|                 0|\n",
            "|2022-04-04|Commutair Aka Cha...|   IAH| MOB|    False|   False|      1940| 1954.0|           14.0|    14.0| 2105.0|            0.0|   54.0|          86.0|             71.0|   427.0|2022|      2|    4|         4|        1|                       UA|                           UA_CODESHARE|                   19977|                         UA|                           4267|               C5|                   20445|                         C5|     N14173|                           4267|          12266|           1226603|             31453|         Houston, TX|         TX|             48|          Texas|       74|        13422|         1342202|           30562|         Mobile, AL|       AL|            1|      Alabama|     51|     0.0|                 0.0| 1900-1959|   14.0|   2008.0|  2102.0|   3.0|      2106|    -1.0|     0.0|              -1.0| 2100-2159|            2|                 0|\n",
            "+----------+--------------------+------+----+---------+--------+----------+-------+---------------+--------+-------+---------------+-------+--------------+-----------------+--------+----+-------+-----+----------+---------+-------------------------+---------------------------------------+------------------------+---------------------------+-------------------------------+-----------------+------------------------+---------------------------+-----------+-------------------------------+---------------+------------------+------------------+--------------------+-----------+---------------+---------------+---------+-------------+----------------+----------------+-------------------+---------+-------------+-------------+-------+--------+--------------------+----------+-------+---------+--------+------+----------+--------+--------+------------------+----------+-------------+------------------+\n",
            "only showing top 20 rows\n",
            "\n"
          ]
        }
      ]
    },
    {
      "cell_type": "code",
      "source": [
        "# Create a temporary view of the DataFrame.\n",
        "df.createOrReplaceTempView('flights')"
      ],
      "metadata": {
        "id": "aPL42HGHetb8"
      },
      "execution_count": 6,
      "outputs": []
    },
    {
      "cell_type": "code",
      "source": [
        " # Get total number of records in dataset\n",
        "print(\"The data contain %d records.\" % df.count())\n",
        "\n",
        "# View the dataframe\n",
        "df"
      ],
      "metadata": {
        "colab": {
          "base_uri": "https://localhost:8080/"
        },
        "id": "9yl1kX_zetfJ",
        "outputId": "1bd7e106-77cd-45fa-e140-5dbc34ac3e4a"
      },
      "execution_count": 7,
      "outputs": [
        {
          "output_type": "stream",
          "name": "stdout",
          "text": [
            "The data contain 4078318 records.\n"
          ]
        },
        {
          "output_type": "execute_result",
          "data": {
            "text/plain": [
              "DataFrame[FlightDate: string, Airline: string, Origin: string, Dest: string, Cancelled: string, Diverted: string, CRSDepTime: string, DepTime: string, DepDelayMinutes: string, DepDelay: string, ArrTime: string, ArrDelayMinutes: string, AirTime: string, CRSElapsedTime: string, ActualElapsedTime: string, Distance: string, Year: string, Quarter: string, Month: string, DayofMonth: string, DayOfWeek: string, Marketing_Airline_Network: string, Operated_or_Branded_Code_Share_Partners: string, DOT_ID_Marketing_Airline: string, IATA_Code_Marketing_Airline: string, Flight_Number_Marketing_Airline: string, Operating_Airline: string, DOT_ID_Operating_Airline: string, IATA_Code_Operating_Airline: string, Tail_Number: string, Flight_Number_Operating_Airline: string, OriginAirportID: string, OriginAirportSeqID: string, OriginCityMarketID: string, OriginCityName: string, OriginState: string, OriginStateFips: string, OriginStateName: string, OriginWac: string, DestAirportID: string, DestAirportSeqID: string, DestCityMarketID: string, DestCityName: string, DestState: string, DestStateFips: string, DestStateName: string, DestWac: string, DepDel15: string, DepartureDelayGroups: string, DepTimeBlk: string, TaxiOut: string, WheelsOff: string, WheelsOn: string, TaxiIn: string, CRSArrTime: string, ArrDelay: string, ArrDel15: string, ArrivalDelayGroups: string, ArrTimeBlk: string, DistanceGroup: string, DivAirportLandings: string]"
            ]
          },
          "metadata": {},
          "execution_count": 7
        }
      ]
    },
    {
      "cell_type": "code",
      "source": [
        "#sort values by flight\n",
        "sorted_df = df.orderBy(\"FlightDate\")\n"
      ],
      "metadata": {
        "id": "x3dGOB96etiR"
      },
      "execution_count": 8,
      "outputs": []
    },
    {
      "cell_type": "code",
      "source": [
        "# How many null values in each column?\n",
        "# df.isnull().sum()\n",
        "null_counts = df.select([sum(when(col(c).isNull(), 1).otherwise(0)).alias(c) for c in df.columns])\n",
        "null_counts.show()\n"
      ],
      "metadata": {
        "colab": {
          "base_uri": "https://localhost:8080/"
        },
        "id": "dVQfMdwPfZ1S",
        "outputId": "e61eb5dc-07c5-4812-d7f1-474b2729c837"
      },
      "execution_count": 9,
      "outputs": [
        {
          "output_type": "stream",
          "name": "stdout",
          "text": [
            "+----------+-------+------+----+---------+--------+----------+-------+---------------+--------+-------+---------------+-------+--------------+-----------------+--------+----+-------+-----+----------+---------+-------------------------+---------------------------------------+------------------------+---------------------------+-------------------------------+-----------------+------------------------+---------------------------+-----------+-------------------------------+---------------+------------------+------------------+--------------+-----------+---------------+---------------+---------+-------------+----------------+----------------+------------+---------+-------------+-------------+-------+--------+--------------------+----------+-------+---------+--------+------+----------+--------+--------+------------------+----------+-------------+------------------+\n",
            "|FlightDate|Airline|Origin|Dest|Cancelled|Diverted|CRSDepTime|DepTime|DepDelayMinutes|DepDelay|ArrTime|ArrDelayMinutes|AirTime|CRSElapsedTime|ActualElapsedTime|Distance|Year|Quarter|Month|DayofMonth|DayOfWeek|Marketing_Airline_Network|Operated_or_Branded_Code_Share_Partners|DOT_ID_Marketing_Airline|IATA_Code_Marketing_Airline|Flight_Number_Marketing_Airline|Operating_Airline|DOT_ID_Operating_Airline|IATA_Code_Operating_Airline|Tail_Number|Flight_Number_Operating_Airline|OriginAirportID|OriginAirportSeqID|OriginCityMarketID|OriginCityName|OriginState|OriginStateFips|OriginStateName|OriginWac|DestAirportID|DestAirportSeqID|DestCityMarketID|DestCityName|DestState|DestStateFips|DestStateName|DestWac|DepDel15|DepartureDelayGroups|DepTimeBlk|TaxiOut|WheelsOff|WheelsOn|TaxiIn|CRSArrTime|ArrDelay|ArrDel15|ArrivalDelayGroups|ArrTimeBlk|DistanceGroup|DivAirportLandings|\n",
            "+----------+-------+------+----+---------+--------+----------+-------+---------------+--------+-------+---------------+-------+--------------+-----------------+--------+----+-------+-----+----------+---------+-------------------------+---------------------------------------+------------------------+---------------------------+-------------------------------+-----------------+------------------------+---------------------------+-----------+-------------------------------+---------------+------------------+------------------+--------------+-----------+---------------+---------------+---------+-------------+----------------+----------------+------------+---------+-------------+-------------+-------+--------+--------------------+----------+-------+---------+--------+------+----------+--------+--------+------------------+----------+-------------+------------------+\n",
            "|         0|      0|     0|   0|        0|       0|         0| 120433|         120495|  120495| 124239|         133402| 133402|             0|           133402|       0|   0|      0|    0|         0|        0|                        0|                                      0|                       0|                          0|                              0|                0|                       0|                          0|      26795|                              0|              0|                 0|                 0|             0|          0|              0|              0|        0|            0|               0|               0|           0|        0|            0|            0|      0|  120495|              120495|         0| 122666|   122666|  124242|124242|         0|  133402|  133402|            133402|         0|            0|                 0|\n",
            "+----------+-------+------+----+---------+--------+----------+-------+---------------+--------+-------+---------------+-------+--------------+-----------------+--------+----+-------+-----+----------+---------+-------------------------+---------------------------------------+------------------------+---------------------------+-------------------------------+-----------------+------------------------+---------------------------+-----------+-------------------------------+---------------+------------------+------------------+--------------+-----------+---------------+---------------+---------+-------------+----------------+----------------+------------+---------+-------------+-------------+-------+--------+--------------------+----------+-------+---------+--------+------+----------+--------+--------+------------------+----------+-------------+------------------+\n",
            "\n"
          ]
        }
      ]
    },
    {
      "cell_type": "code",
      "source": [
        "# Only proceed with the following columns\n",
        "essential_column_list = [\n",
        "    'Flight_Number_Operating_Airline',\n",
        "    'Month',\n",
        "    'DayofMonth',\n",
        "    'DayOfWeek',\n",
        "    'OriginAirportID',\n",
        "    'CRSDepTime',\n",
        "    'DepTime',\n",
        "    'DestAirportID',\n",
        "    'CRSArrTime',\n",
        "    'ArrTime',\n",
        "    'ArrDelayMinutes',\n",
        "    'DepDelayMinutes',\n",
        "    'Cancelled',\n",
        "    ]\n",
        "essential_df = df[essential_column_list]\n",
        "essential_df.head(10)"
      ],
      "metadata": {
        "colab": {
          "base_uri": "https://localhost:8080/"
        },
        "id": "4F50ZvjBfkcv",
        "outputId": "50159615-5fdf-4cc6-a587-2fe257826be8"
      },
      "execution_count": 10,
      "outputs": [
        {
          "output_type": "execute_result",
          "data": {
            "text/plain": [
              "[Row(Flight_Number_Operating_Airline='4301', Month='4', DayofMonth='4', DayOfWeek='1', OriginAirportID='11921', CRSDepTime='1133', DepTime='1123.0', DestAirportID='11292', CRSArrTime='1245', ArrTime='1228.0', ArrDelayMinutes='0.0', DepDelayMinutes='0.0', Cancelled='False'),\n",
              " Row(Flight_Number_Operating_Airline='4299', Month='4', DayofMonth='4', DayOfWeek='1', OriginAirportID='12206', CRSDepTime='732', DepTime='728.0', DestAirportID='12266', CRSArrTime='849', ArrTime='848.0', ArrDelayMinutes='0.0', DepDelayMinutes='0.0', Cancelled='False'),\n",
              " Row(Flight_Number_Operating_Airline='4298', Month='4', DayofMonth='4', DayOfWeek='1', OriginAirportID='11413', CRSDepTime='1529', DepTime='1514.0', DestAirportID='11292', CRSArrTime='1639', ArrTime='1636.0', ArrDelayMinutes='0.0', DepDelayMinutes='0.0', Cancelled='False'),\n",
              " Row(Flight_Number_Operating_Airline='4296', Month='4', DayofMonth='4', DayOfWeek='1', OriginAirportID='12266', CRSDepTime='1435', DepTime='1430.0', DestAirportID='11973', CRSArrTime='1605', ArrTime='1547.0', ArrDelayMinutes='0.0', DepDelayMinutes='0.0', Cancelled='False'),\n",
              " Row(Flight_Number_Operating_Airline='4295', Month='4', DayofMonth='4', DayOfWeek='1', OriginAirportID='11413', CRSDepTime='1135', DepTime='1135.0', DestAirportID='11292', CRSArrTime='1245', ArrTime='1251.0', ArrDelayMinutes='6.0', DepDelayMinutes='0.0', Cancelled='False'),\n",
              " Row(Flight_Number_Operating_Airline='4294', Month='4', DayofMonth='4', DayOfWeek='1', OriginAirportID='11292', CRSDepTime='955', DepTime='952.0', DestAirportID='15370', CRSArrTime='1240', ArrTime='1238.0', ArrDelayMinutes='0.0', DepDelayMinutes='0.0', Cancelled='False'),\n",
              " Row(Flight_Number_Operating_Airline='4293', Month='4', DayofMonth='4', DayOfWeek='1', OriginAirportID='12266', CRSDepTime='2139', DepTime='2136.0', DestAirportID='12915', CRSArrTime='2231', ArrTime='2218.0', ArrDelayMinutes='0.0', DepDelayMinutes='0.0', Cancelled='False'),\n",
              " Row(Flight_Number_Operating_Airline='4292', Month='4', DayofMonth='4', DayOfWeek='1', OriginAirportID='15412', CRSDepTime='1129', DepTime='1117.0', DestAirportID='12266', CRSArrTime='1306', ArrTime='1311.0', ArrDelayMinutes='5.0', DepDelayMinutes='0.0', Cancelled='False'),\n",
              " Row(Flight_Number_Operating_Airline='4291', Month='4', DayofMonth='4', DayOfWeek='1', OriginAirportID='12266', CRSDepTime='1424', DepTime='1414.0', DestAirportID='10185', CRSArrTime='1524', ArrTime='1513.0', ArrDelayMinutes='0.0', DepDelayMinutes='0.0', Cancelled='False'),\n",
              " Row(Flight_Number_Operating_Airline='4290', Month='4', DayofMonth='4', DayOfWeek='1', OriginAirportID='12266', CRSDepTime='954', DepTime='947.0', DestAirportID='13422', CRSArrTime='1121', ArrTime='1110.0', ArrDelayMinutes='0.0', DepDelayMinutes='0.0', Cancelled='False')]"
            ]
          },
          "metadata": {},
          "execution_count": 10
        }
      ]
    },
    {
      "cell_type": "code",
      "source": [
        "# Count the number of cancelled flights\n",
        "cancelled_count = df.filter(col(\"Cancelled\") == 1).agg(count(\"*\").alias(\"CancelledFlights\"))\n",
        "cancelled_count.show()"
      ],
      "metadata": {
        "colab": {
          "base_uri": "https://localhost:8080/"
        },
        "id": "DSvpKwDWfkgi",
        "outputId": "585aae06-7aa8-4886-88e3-55d3dff9cdb5"
      },
      "execution_count": 11,
      "outputs": [
        {
          "output_type": "stream",
          "name": "stdout",
          "text": [
            "+----------------+\n",
            "|CancelledFlights|\n",
            "+----------------+\n",
            "|               0|\n",
            "+----------------+\n",
            "\n"
          ]
        }
      ]
    },
    {
      "cell_type": "code",
      "source": [
        "# Define conditions and corresponding values\n",
        "cancelled_condition = col(\"Cancelled\") == \"True\"\n",
        "delayed_condition = col(\"DepDelayMinutes\") > 0\n",
        "ontime_condition = col(\"DepDelayMinutes\") == 0\n",
        "\n",
        "# Create a new 'Status' column based on conditions\n",
        "df = essential_df.withColumn(\"Status\",\n",
        "                   when(cancelled_condition, lit(2))\n",
        "                   .when(delayed_condition, lit(1))\n",
        "                   .when(ontime_condition, lit(0))\n",
        "                   .otherwise(\"Unknown\"))\n",
        "df.show()"
      ],
      "metadata": {
        "colab": {
          "base_uri": "https://localhost:8080/"
        },
        "id": "AnLRP1V9l6oe",
        "outputId": "f2dbc2e1-535f-494e-e7f9-f5c99dd0f10f"
      },
      "execution_count": 12,
      "outputs": [
        {
          "output_type": "stream",
          "name": "stdout",
          "text": [
            "+-------------------------------+-----+----------+---------+---------------+----------+-------+-------------+----------+-------+---------------+---------------+---------+------+\n",
            "|Flight_Number_Operating_Airline|Month|DayofMonth|DayOfWeek|OriginAirportID|CRSDepTime|DepTime|DestAirportID|CRSArrTime|ArrTime|ArrDelayMinutes|DepDelayMinutes|Cancelled|Status|\n",
            "+-------------------------------+-----+----------+---------+---------------+----------+-------+-------------+----------+-------+---------------+---------------+---------+------+\n",
            "|                           4301|    4|         4|        1|          11921|      1133| 1123.0|        11292|      1245| 1228.0|            0.0|            0.0|    False|     0|\n",
            "|                           4299|    4|         4|        1|          12206|       732|  728.0|        12266|       849|  848.0|            0.0|            0.0|    False|     0|\n",
            "|                           4298|    4|         4|        1|          11413|      1529| 1514.0|        11292|      1639| 1636.0|            0.0|            0.0|    False|     0|\n",
            "|                           4296|    4|         4|        1|          12266|      1435| 1430.0|        11973|      1605| 1547.0|            0.0|            0.0|    False|     0|\n",
            "|                           4295|    4|         4|        1|          11413|      1135| 1135.0|        11292|      1245| 1251.0|            6.0|            0.0|    False|     0|\n",
            "|                           4294|    4|         4|        1|          11292|       955|  952.0|        15370|      1240| 1238.0|            0.0|            0.0|    False|     0|\n",
            "|                           4293|    4|         4|        1|          12266|      2139| 2136.0|        12915|      2231| 2218.0|            0.0|            0.0|    False|     0|\n",
            "|                           4292|    4|         4|        1|          15412|      1129| 1117.0|        12266|      1306| 1311.0|            5.0|            0.0|    False|     0|\n",
            "|                           4291|    4|         4|        1|          12266|      1424| 1414.0|        10185|      1524| 1513.0|            0.0|            0.0|    False|     0|\n",
            "|                           4290|    4|         4|        1|          12266|       954|  947.0|        13422|      1121| 1110.0|            0.0|            0.0|    False|     0|\n",
            "|                           4288|    4|         4|        1|          11292|      1540| 1546.0|        11122|      1650| 1650.0|            0.0|            6.0|    False|     1|\n",
            "|                           4287|    4|         4|        1|          13422|       705|  704.0|        12266|       852|  858.0|            6.0|            0.0|    False|     0|\n",
            "|                           4286|    4|         4|        1|          13029|      1403| 1358.0|        11292|      1443| 1425.0|            0.0|            0.0|    False|     0|\n",
            "|                           4281|    4|         4|        1|          12266|      1014| 1008.0|        13851|      1149| 1148.0|            0.0|            0.0|    False|     0|\n",
            "|                           4280|    4|         4|        1|          10599|      1258| 1255.0|        12266|      1509| 1505.0|            0.0|            0.0|    False|     0|\n",
            "|                           4273|    4|         4|        1|          11292|       941|  937.0|        11921|      1049| 1031.0|            0.0|            0.0|    False|     0|\n",
            "|                           4271|    4|         4|        1|          11292|      1330| 1322.0|        11413|      1444| 1427.0|            0.0|            0.0|    False|     0|\n",
            "|                           4270|    4|         4|        1|          11292|      1122| 1112.0|        14674|      1241| 1213.0|            0.0|            0.0|    False|     0|\n",
            "|                           4268|    4|         4|        1|          11292|      1731| 1800.0|        14814|      2056| 2141.0|           45.0|           29.0|    False|     1|\n",
            "|                           4267|    4|         4|        1|          12266|      1940| 1954.0|        13422|      2106| 2105.0|            0.0|           14.0|    False|     1|\n",
            "+-------------------------------+-----+----------+---------+---------------+----------+-------+-------------+----------+-------+---------------+---------------+---------+------+\n",
            "only showing top 20 rows\n",
            "\n"
          ]
        }
      ]
    },
    {
      "cell_type": "code",
      "source": [
        "# Remove the specified columns\n",
        "# columns_to_drop = ['Cancelled', 'ArrDelayMinutes', 'DepDelayMinutes', 'ArrTime', 'DepTime']\n",
        "columns_to_drop = ['Cancelled','ArrTime', 'DepTime']\n",
        "df_clean = df.drop(*columns_to_drop)"
      ],
      "metadata": {
        "id": "7_mKIOTW8mbT"
      },
      "execution_count": 13,
      "outputs": []
    },
    {
      "cell_type": "code",
      "source": [
        "# Convert the 'Status' column to float\n",
        "df_clean = df_clean.withColumn(\"Status\", col(\"Status\").cast(\"float\"))\n",
        "\n",
        "# Display data types for each column\n",
        "df_clean.printSchema()"
      ],
      "metadata": {
        "colab": {
          "base_uri": "https://localhost:8080/"
        },
        "id": "d9FbHcAX8tLm",
        "outputId": "3c894f43-aee7-44e7-931b-ceece0b34622"
      },
      "execution_count": 14,
      "outputs": [
        {
          "output_type": "stream",
          "name": "stdout",
          "text": [
            "root\n",
            " |-- Flight_Number_Operating_Airline: string (nullable = true)\n",
            " |-- Month: string (nullable = true)\n",
            " |-- DayofMonth: string (nullable = true)\n",
            " |-- DayOfWeek: string (nullable = true)\n",
            " |-- OriginAirportID: string (nullable = true)\n",
            " |-- CRSDepTime: string (nullable = true)\n",
            " |-- DestAirportID: string (nullable = true)\n",
            " |-- CRSArrTime: string (nullable = true)\n",
            " |-- ArrDelayMinutes: string (nullable = true)\n",
            " |-- DepDelayMinutes: string (nullable = true)\n",
            " |-- Status: float (nullable = true)\n",
            "\n"
          ]
        }
      ]
    },
    {
      "cell_type": "code",
      "source": [
        "# Group by 'Status' column and count occurrences\n",
        "status_counts = df_clean.groupBy(\"Status\").count()\n",
        "status_counts.show()"
      ],
      "metadata": {
        "colab": {
          "base_uri": "https://localhost:8080/"
        },
        "id": "-FwhXTly80to",
        "outputId": "dbd327d9-922b-4460-f82f-740af8b002db"
      },
      "execution_count": 15,
      "outputs": [
        {
          "output_type": "stream",
          "name": "stdout",
          "text": [
            "+------+-------+\n",
            "|Status|  count|\n",
            "+------+-------+\n",
            "|   2.0| 123192|\n",
            "|   1.0|1557028|\n",
            "|   0.0|2398098|\n",
            "+------+-------+\n",
            "\n"
          ]
        }
      ]
    },
    {
      "cell_type": "code",
      "source": [
        "# Look at the value counts for binning\n",
        "# Group by 'Flight_Number_Operating_Airline' column and count occurrences\n",
        "flight_no_airline_count = df_clean.groupBy(\"Flight_Number_Operating_Airline\").agg(count(\"*\").alias(\"Count\"))\n",
        "flight_no_airline_count.show()"
      ],
      "metadata": {
        "colab": {
          "base_uri": "https://localhost:8080/"
        },
        "id": "9636alBG8-Ks",
        "outputId": "079f689f-d9c2-4d1f-d3e0-810fb4e54d1a"
      },
      "execution_count": 16,
      "outputs": [
        {
          "output_type": "stream",
          "name": "stdout",
          "text": [
            "+-------------------------------+-----+\n",
            "|Flight_Number_Operating_Airline|Count|\n",
            "+-------------------------------+-----+\n",
            "|                           3959|  367|\n",
            "|                           4821|  529|\n",
            "|                            675| 1326|\n",
            "|                           1090|  587|\n",
            "|                            467| 1166|\n",
            "|                           1572|  792|\n",
            "|                            296| 1055|\n",
            "|                           4032|  238|\n",
            "|                            829|  672|\n",
            "|                           2136| 1347|\n",
            "|                           2088| 1078|\n",
            "|                           3606|  779|\n",
            "|                           3414|  451|\n",
            "|                           2162|  736|\n",
            "|                           2904|  686|\n",
            "|                           2294| 1049|\n",
            "|                           3210|  411|\n",
            "|                           1436|  945|\n",
            "|                           2069| 1322|\n",
            "|                           1159| 1004|\n",
            "+-------------------------------+-----+\n",
            "only showing top 20 rows\n",
            "\n"
          ]
        }
      ]
    },
    {
      "cell_type": "code",
      "source": [
        "\n",
        "# Filter for flight numbers with value counts > 1000\n",
        "cutoff_value = 1000\n",
        "flight_no_over_1 = flight_no_airline_count.filter(col(\"Count\") > cutoff_value)\n",
        "flight_no_over_1.show()"
      ],
      "metadata": {
        "colab": {
          "base_uri": "https://localhost:8080/"
        },
        "id": "lTOq7V2F9cVR",
        "outputId": "9eaaa83b-af0d-4e2a-fffb-f0a1fc665270"
      },
      "execution_count": 17,
      "outputs": [
        {
          "output_type": "stream",
          "name": "stdout",
          "text": [
            "+-------------------------------+-----+\n",
            "|Flight_Number_Operating_Airline|Count|\n",
            "+-------------------------------+-----+\n",
            "|                            675| 1326|\n",
            "|                            467| 1166|\n",
            "|                            296| 1055|\n",
            "|                           2136| 1347|\n",
            "|                           2088| 1078|\n",
            "|                           2294| 1049|\n",
            "|                           2069| 1322|\n",
            "|                           1159| 1004|\n",
            "|                            691| 1010|\n",
            "|                           2110| 1136|\n",
            "|                            451| 1018|\n",
            "|                           2275| 1325|\n",
            "|                           1280| 1041|\n",
            "|                           2530| 1059|\n",
            "|                             51| 1084|\n",
            "|                            591| 1071|\n",
            "|                            475| 1351|\n",
            "|                           1445| 1059|\n",
            "|                           1500| 1445|\n",
            "|                            574| 1222|\n",
            "+-------------------------------+-----+\n",
            "only showing top 20 rows\n",
            "\n"
          ]
        }
      ]
    },
    {
      "cell_type": "code",
      "source": [
        "# Define the cutoff value\n",
        "cutoff_value = 600\n",
        "\n",
        "# Calculate value counts\n",
        "flight_number_counts = df_clean.groupBy(\"Flight_Number_Operating_Airline\").count()\n",
        "\n",
        "# Replace flight numbers with value counts over the cutoff with \"0\"\n",
        "df_clean = df_clean.join(\n",
        "    flight_number_counts,\n",
        "    \"Flight_Number_Operating_Airline\",\n",
        "    \"left\"\n",
        ").withColumn(\n",
        "    \"Flight_Number_Operating_Airline\",\n",
        "    when(col(\"Count\") > cutoff_value, \"0\").otherwise(col(\"Flight_Number_Operating_Airline\"))\n",
        ").drop(\"Count\")\n",
        "\n",
        "# Show the updated DataFrame\n",
        "df_clean.show()"
      ],
      "metadata": {
        "colab": {
          "base_uri": "https://localhost:8080/"
        },
        "id": "u0phodycowTw",
        "outputId": "8ed32647-431d-421f-ebd6-0bd1d5112c17"
      },
      "execution_count": 18,
      "outputs": [
        {
          "output_type": "stream",
          "name": "stdout",
          "text": [
            "+-------------------------------+-----+----------+---------+---------------+----------+-------------+----------+---------------+---------------+------+\n",
            "|Flight_Number_Operating_Airline|Month|DayofMonth|DayOfWeek|OriginAirportID|CRSDepTime|DestAirportID|CRSArrTime|ArrDelayMinutes|DepDelayMinutes|Status|\n",
            "+-------------------------------+-----+----------+---------+---------------+----------+-------------+----------+---------------+---------------+------+\n",
            "|                           4271|    4|         4|        1|          11292|      1330|        11413|      1444|            0.0|            0.0|   0.0|\n",
            "|                           4266|    4|         4|        1|          12266|      1810|        13256|      1932|            0.0|            0.0|   0.0|\n",
            "|                              0|    4|         4|        1|          12266|      1940|        13422|      2106|            0.0|           14.0|   1.0|\n",
            "|                           4291|    4|         4|        1|          12266|      1424|        10185|      1524|            0.0|            0.0|   0.0|\n",
            "|                           4280|    4|         4|        1|          10599|      1258|        12266|      1509|            0.0|            0.0|   0.0|\n",
            "|                           4296|    4|         4|        1|          12266|      1435|        11973|      1605|            0.0|            0.0|   0.0|\n",
            "|                           4295|    4|         4|        1|          11413|      1135|        11292|      1245|            6.0|            0.0|   0.0|\n",
            "|                           4273|    4|         4|        1|          11292|       941|        11921|      1049|            0.0|            0.0|   0.0|\n",
            "|                           4286|    4|         4|        1|          13029|      1403|        11292|      1443|            0.0|            0.0|   0.0|\n",
            "|                           4290|    4|         4|        1|          12266|       954|        13422|      1121|            0.0|            0.0|   0.0|\n",
            "|                           4301|    4|         4|        1|          11921|      1133|        11292|      1245|            0.0|            0.0|   0.0|\n",
            "|                           4288|    4|         4|        1|          11292|      1540|        11122|      1650|            0.0|            6.0|   1.0|\n",
            "|                           4299|    4|         4|        1|          12206|       732|        12266|       849|            0.0|            0.0|   0.0|\n",
            "|                           4298|    4|         4|        1|          11413|      1529|        11292|      1639|            0.0|            0.0|   0.0|\n",
            "|                           4294|    4|         4|        1|          11292|       955|        15370|      1240|            0.0|            0.0|   0.0|\n",
            "|                           4293|    4|         4|        1|          12266|      2139|        12915|      2231|            0.0|            0.0|   0.0|\n",
            "|                           4287|    4|         4|        1|          13422|       705|        12266|       852|            6.0|            0.0|   0.0|\n",
            "|                           4292|    4|         4|        1|          15412|      1129|        12266|      1306|            5.0|            0.0|   0.0|\n",
            "|                           4270|    4|         4|        1|          11292|      1122|        14674|      1241|            0.0|            0.0|   0.0|\n",
            "|                           4281|    4|         4|        1|          12266|      1014|        13851|      1149|            0.0|            0.0|   0.0|\n",
            "+-------------------------------+-----+----------+---------+---------------+----------+-------------+----------+---------------+---------------+------+\n",
            "only showing top 20 rows\n",
            "\n"
          ]
        }
      ]
    },
    {
      "cell_type": "code",
      "source": [
        "# Replace non-finite values with a placeholder (e.g., 0)\n",
        "df_clean = df_clean.fillna(0)\n"
      ],
      "metadata": {
        "id": "4VZ5QSZIfaDD"
      },
      "execution_count": 19,
      "outputs": []
    },
    {
      "cell_type": "code",
      "source": [
        "# Convert columns to int\n",
        "for col_name in df_clean.columns:\n",
        "    df_clean = df_clean.withColumn(col_name, col(col_name).cast(\"int\"))\n",
        "\n",
        "# Show the updated DataFrame\n",
        "df_clean.show()"
      ],
      "metadata": {
        "colab": {
          "base_uri": "https://localhost:8080/"
        },
        "id": "weZzjt_fetlY",
        "outputId": "09386aa0-3452-4118-b10a-a9d78a7b3e45"
      },
      "execution_count": 20,
      "outputs": [
        {
          "output_type": "stream",
          "name": "stdout",
          "text": [
            "+-------------------------------+-----+----------+---------+---------------+----------+-------------+----------+---------------+---------------+------+\n",
            "|Flight_Number_Operating_Airline|Month|DayofMonth|DayOfWeek|OriginAirportID|CRSDepTime|DestAirportID|CRSArrTime|ArrDelayMinutes|DepDelayMinutes|Status|\n",
            "+-------------------------------+-----+----------+---------+---------------+----------+-------------+----------+---------------+---------------+------+\n",
            "|                           4271|    4|         4|        1|          11292|      1330|        11413|      1444|              0|              0|     0|\n",
            "|                           4266|    4|         4|        1|          12266|      1810|        13256|      1932|              0|              0|     0|\n",
            "|                              0|    4|         4|        1|          12266|      1940|        13422|      2106|              0|             14|     1|\n",
            "|                           4291|    4|         4|        1|          12266|      1424|        10185|      1524|              0|              0|     0|\n",
            "|                           4280|    4|         4|        1|          10599|      1258|        12266|      1509|              0|              0|     0|\n",
            "|                           4296|    4|         4|        1|          12266|      1435|        11973|      1605|              0|              0|     0|\n",
            "|                           4295|    4|         4|        1|          11413|      1135|        11292|      1245|              6|              0|     0|\n",
            "|                           4273|    4|         4|        1|          11292|       941|        11921|      1049|              0|              0|     0|\n",
            "|                           4286|    4|         4|        1|          13029|      1403|        11292|      1443|              0|              0|     0|\n",
            "|                           4290|    4|         4|        1|          12266|       954|        13422|      1121|              0|              0|     0|\n",
            "|                           4301|    4|         4|        1|          11921|      1133|        11292|      1245|              0|              0|     0|\n",
            "|                           4288|    4|         4|        1|          11292|      1540|        11122|      1650|              0|              6|     1|\n",
            "|                           4299|    4|         4|        1|          12206|       732|        12266|       849|              0|              0|     0|\n",
            "|                           4298|    4|         4|        1|          11413|      1529|        11292|      1639|              0|              0|     0|\n",
            "|                           4294|    4|         4|        1|          11292|       955|        15370|      1240|              0|              0|     0|\n",
            "|                           4293|    4|         4|        1|          12266|      2139|        12915|      2231|              0|              0|     0|\n",
            "|                           4287|    4|         4|        1|          13422|       705|        12266|       852|              6|              0|     0|\n",
            "|                           4292|    4|         4|        1|          15412|      1129|        12266|      1306|              5|              0|     0|\n",
            "|                           4270|    4|         4|        1|          11292|      1122|        14674|      1241|              0|              0|     0|\n",
            "|                           4281|    4|         4|        1|          12266|      1014|        13851|      1149|              0|              0|     0|\n",
            "+-------------------------------+-----+----------+---------+---------------+----------+-------------+----------+---------------+---------------+------+\n",
            "only showing top 20 rows\n",
            "\n"
          ]
        }
      ]
    },
    {
      "cell_type": "code",
      "source": [
        "# Check the data types\n",
        "df_clean.dtypes"
      ],
      "metadata": {
        "colab": {
          "base_uri": "https://localhost:8080/"
        },
        "id": "2cDV-B8tgItk",
        "outputId": "32e970f3-7af7-49d1-86c8-25a484d8e19c"
      },
      "execution_count": 21,
      "outputs": [
        {
          "output_type": "execute_result",
          "data": {
            "text/plain": [
              "[('Flight_Number_Operating_Airline', 'int'),\n",
              " ('Month', 'int'),\n",
              " ('DayofMonth', 'int'),\n",
              " ('DayOfWeek', 'int'),\n",
              " ('OriginAirportID', 'int'),\n",
              " ('CRSDepTime', 'int'),\n",
              " ('DestAirportID', 'int'),\n",
              " ('CRSArrTime', 'int'),\n",
              " ('ArrDelayMinutes', 'int'),\n",
              " ('DepDelayMinutes', 'int'),\n",
              " ('Status', 'int')]"
            ]
          },
          "metadata": {},
          "execution_count": 21
        }
      ]
    },
    {
      "cell_type": "code",
      "source": [
        "from pyspark.ml import Pipeline\n",
        "\n",
        "\n",
        "# Initialize Spark session\n",
        "spark = SparkSession.builder \\\n",
        "    .appName(\"MultiClassClassification\") \\\n",
        "    .config(\"spark.driver.memory\", \"4g\") \\\n",
        "    .config(\"spark.executor.memory\", \"2g\") \\\n",
        "    .getOrCreate()\n",
        "\n",
        "# Define features and label columns\n",
        "feature_columns = df_clean.columns\n",
        "feature_columns.remove(\"Status\")\n",
        "\n",
        "# Create a VectorAssembler to combine feature columns into a single feature vector\n",
        "assembler = VectorAssembler(inputCols=feature_columns, outputCol=\"features\", handleInvalid=\"skip\")\n",
        "\n",
        "# Ensure that the input layer size matches the number of features\n",
        "input_layer_size = len(feature_columns)\n",
        "\n",
        "# Specify the layers for the MultilayerPerceptronClassifier\n",
        "#layers = [input_layer_size, 48, 24, 12, 3]\n",
        "layers = [input_layer_size, 60, 20, 10, 4]\n",
        "\n",
        "# Create the MultilayerPerceptronClassifier model\n",
        "mlp = MultilayerPerceptronClassifier(\n",
        "    featuresCol=\"features\",\n",
        "    labelCol=\"Status\",\n",
        "    layers=layers,\n",
        "    maxIter=5,\n",
        "    seed=42\n",
        ")\n",
        "\n",
        "# Create a pipeline that combines the VectorAssembler and MultilayerPerceptronClassifier\n",
        "pipeline = Pipeline(stages=[assembler, mlp])\n",
        "\n",
        "# Split the data into training and testing sets\n",
        "train_data, test_data = df_clean.randomSplit([0.8, 0.2], seed=42)\n",
        "\n",
        "# Fit the model on the training data\n",
        "model = pipeline.fit(train_data)\n"
      ],
      "metadata": {
        "id": "O7cXVgazGS0C"
      },
      "execution_count": 23,
      "outputs": []
    },
    {
      "cell_type": "code",
      "source": [
        "# Make predictions on the test data\n",
        "predictions = model.transform(test_data)\n",
        "\n",
        "# Evaluate the model\n",
        "evaluator = MulticlassClassificationEvaluator(labelCol=\"Status\", predictionCol=\"prediction\", metricName=\"accuracy\")\n",
        "accuracy = evaluator.evaluate(predictions)\n",
        "print(\"Accuracy:\", accuracy)"
      ],
      "metadata": {
        "id": "aZpLLDEjDjQ8",
        "colab": {
          "base_uri": "https://localhost:8080/"
        },
        "outputId": "e1fdf496-d735-4793-ed72-5865313132a9"
      },
      "execution_count": 24,
      "outputs": [
        {
          "output_type": "stream",
          "name": "stdout",
          "text": [
            "Accuracy: 0.6068069112589088\n"
          ]
        }
      ]
    }
  ]
}